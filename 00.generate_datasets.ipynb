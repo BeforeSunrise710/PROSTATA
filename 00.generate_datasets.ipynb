{
 "cells": [
  {
   "cell_type": "code",
   "execution_count": 1,
   "id": "2cf37bb5",
   "metadata": {},
   "outputs": [],
   "source": [
    "import pypdb\n",
    "import os\n",
    "import pandas as pd\n",
    "import pickle\n",
    "from pypdb.clients.pdb import pdb_client\n",
    "import tqdm\n",
    "from tqdm import tqdm\n",
    "\n",
    "import gzip\n",
    "import numpy as np\n",
    "from Bio.PDB import *\n",
    "from Bio.PDB.Polypeptide import three_to_one, is_aa\n",
    "\n",
    "import warnings\n",
    "from Bio.PDB.PDBExceptions import PDBConstructionWarning\n",
    "warnings.simplefilter('ignore', PDBConstructionWarning)"
   ]
  },
  {
   "cell_type": "code",
   "execution_count": null,
   "id": "93357e68",
   "metadata": {},
   "outputs": [],
   "source": []
  },
  {
   "cell_type": "code",
   "execution_count": 2,
   "id": "af83f889",
   "metadata": {},
   "outputs": [],
   "source": [
    "## This code for pdb file manipulation is taken is taken from https://github.com/compbiomed-unito/acdc-nn/blob/master/acdc_nn/util.py\n",
    "\n",
    "def magic_open(path):\n",
    "    return (gzip.open if path.endswith('.gz') else open)(path, 'rt')\n",
    "\n",
    "def pdb2seq(pp):\n",
    "    ''' pdb2seq(pp) takes a pdb_structure_chain \n",
    "    and return its sequence '''\n",
    "    seq = [] # pp.get_sequence()\n",
    "    reslist = []\n",
    "    for ppc  in pp:\n",
    "        reslist += [res for res in ppc]\n",
    "        seq += [str(ppc.get_sequence())]\n",
    "    return \"\".join(seq)\n",
    "\n",
    "def map_pdb_pos(pp):\n",
    "    ''' map_pdb_pos\n",
    "    Returns two dicts seq2pdb[seq_pos], pdb2seq[pdb_pos]'''\n",
    "    reslist = []\n",
    "    for ppc  in pp:\n",
    "        reslist += [res for res in ppc]\n",
    "    seq2pdb = dict(zip( map(str,range(1,len(reslist)+1)), [str(r.get_id()[1])+r.get_id()[2].strip() for r in reslist]))\n",
    "    pdb2seq = dict(zip( [str(r.get_id()[1])+r.get_id()[2].strip() for r in reslist], map(str,range(1,len(reslist)+1)) ))\n",
    "    return seq2pdb, pdb2seq\n",
    "\n",
    "def pdb2info(pdb_file, chain):\n",
    "    ''' pdb2info(pdb_file) \n",
    "    Returns structure, polypeptide '''\n",
    "    parser=PDBParser(QUIET=True)\n",
    "    with magic_open(pdb_file) as f:\n",
    "        structure = parser.get_structure('X', f)\n",
    "    pchain=structure[0][chain]\n",
    "    ppb=PPBuilder()\n",
    "    pp = ppb.build_peptides(pchain, aa_only=False) #[0]\n",
    "    return (structure, pchain, pdb2seq(pp), *map_pdb_pos(pp)) "
   ]
  },
  {
   "cell_type": "markdown",
   "id": "86e36f0a",
   "metadata": {},
   "source": [
    "# S2648"
   ]
  },
  {
   "cell_type": "code",
   "execution_count": 3,
   "id": "e12146e6",
   "metadata": {},
   "outputs": [],
   "source": [
    "df_S2648 = pd.read_csv('DATA/S2648.csv')"
   ]
  },
  {
   "cell_type": "code",
   "execution_count": 4,
   "id": "86a16815",
   "metadata": {},
   "outputs": [
    {
     "name": "stdout",
     "output_type": "stream",
     "text": [
      "Total dataset length 2648\n",
      "Total number of different chains in dataset 132\n"
     ]
    }
   ],
   "source": [
    "print('Total dataset length', len(df_S2648))\n",
    "pdb_ids = list(set([t.split()[0].upper() for t in df_S2648.PDB_CHAIN.to_list()]))\n",
    "print('Total number of different chains in dataset', len(pdb_ids))"
   ]
  },
  {
   "cell_type": "code",
   "execution_count": 5,
   "id": "0a257eb9",
   "metadata": {
    "scrolled": true
   },
   "outputs": [],
   "source": [
    "for pdb_id in pdb_ids:\n",
    "    if not os.path.isfile(f\"PDB/{pdb_id[:4]}.pdb\"):\n",
    "        with open(f\"PDB/{pdb_id[:4]}.pdb\", \"w\") as fh:\n",
    "            fh.write(pdb_client.get_pdb_file(f\"{pdb_id[:4]}\", compression=False))"
   ]
  },
  {
   "cell_type": "code",
   "execution_count": 6,
   "id": "4f512fe3",
   "metadata": {},
   "outputs": [
    {
     "name": "stdout",
     "output_type": "stream",
     "text": [
      "Processing s2648\n"
     ]
    },
    {
     "name": "stderr",
     "output_type": "stream",
     "text": [
      " 41%|████████████████████████████████████████████████████████████████▋                                                                                             | 1084/2648 [01:31<01:03, 24.70it/s]/ayb/vol2/home/dumerenkov/anaconda3/lib/python3.9/site-packages/Bio/PDB/Polypeptide.py:342: UserWarning: Assuming residue  CA is an unknown modified amino acid\n",
      "  warnings.warn(\n",
      "/ayb/vol2/home/dumerenkov/anaconda3/lib/python3.9/site-packages/Bio/PDB/Polypeptide.py:342: UserWarning: Assuming residue  CA is an unknown modified amino acid\n",
      "  warnings.warn(\n",
      "/ayb/vol2/home/dumerenkov/anaconda3/lib/python3.9/site-packages/Bio/PDB/Polypeptide.py:342: UserWarning: Assuming residue  CA is an unknown modified amino acid\n",
      "  warnings.warn(\n",
      " 41%|████████████████████████████████████████████████████████████████▊                                                                                             | 1087/2648 [01:31<01:01, 25.43it/s]/ayb/vol2/home/dumerenkov/anaconda3/lib/python3.9/site-packages/Bio/PDB/Polypeptide.py:342: UserWarning: Assuming residue  CA is an unknown modified amino acid\n",
      "  warnings.warn(\n",
      "/ayb/vol2/home/dumerenkov/anaconda3/lib/python3.9/site-packages/Bio/PDB/Polypeptide.py:342: UserWarning: Assuming residue  CA is an unknown modified amino acid\n",
      "  warnings.warn(\n",
      "/ayb/vol2/home/dumerenkov/anaconda3/lib/python3.9/site-packages/Bio/PDB/Polypeptide.py:342: UserWarning: Assuming residue  CA is an unknown modified amino acid\n",
      "  warnings.warn(\n",
      " 41%|█████████████████████████████████████████████████████████████████                                                                                             | 1090/2648 [01:31<00:59, 26.26it/s]/ayb/vol2/home/dumerenkov/anaconda3/lib/python3.9/site-packages/Bio/PDB/Polypeptide.py:342: UserWarning: Assuming residue  CA is an unknown modified amino acid\n",
      "  warnings.warn(\n",
      "/ayb/vol2/home/dumerenkov/anaconda3/lib/python3.9/site-packages/Bio/PDB/Polypeptide.py:342: UserWarning: Assuming residue  CA is an unknown modified amino acid\n",
      "  warnings.warn(\n",
      "/ayb/vol2/home/dumerenkov/anaconda3/lib/python3.9/site-packages/Bio/PDB/Polypeptide.py:342: UserWarning: Assuming residue  CA is an unknown modified amino acid\n",
      "  warnings.warn(\n",
      " 42%|██████████████████████████████████████████████████████████████████▌                                                                                           | 1115/2648 [01:32<00:42, 35.98it/s]/ayb/vol2/home/dumerenkov/anaconda3/lib/python3.9/site-packages/Bio/PDB/Polypeptide.py:342: UserWarning: Assuming residue  CA is an unknown modified amino acid\n",
      "  warnings.warn(\n",
      " 42%|██████████████████████████████████████████████████████████████████▉                                                                                           | 1121/2648 [01:32<00:38, 39.40it/s]/ayb/vol2/home/dumerenkov/anaconda3/lib/python3.9/site-packages/Bio/PDB/Polypeptide.py:342: UserWarning: Assuming residue  CA is an unknown modified amino acid\n",
      "  warnings.warn(\n",
      "/ayb/vol2/home/dumerenkov/anaconda3/lib/python3.9/site-packages/Bio/PDB/Polypeptide.py:342: UserWarning: Assuming residue  CA is an unknown modified amino acid\n",
      "  warnings.warn(\n",
      "/ayb/vol2/home/dumerenkov/anaconda3/lib/python3.9/site-packages/Bio/PDB/Polypeptide.py:342: UserWarning: Assuming residue  CA is an unknown modified amino acid\n",
      "  warnings.warn(\n",
      "/ayb/vol2/home/dumerenkov/anaconda3/lib/python3.9/site-packages/Bio/PDB/Polypeptide.py:342: UserWarning: Assuming residue  CA is an unknown modified amino acid\n",
      "  warnings.warn(\n",
      "/ayb/vol2/home/dumerenkov/anaconda3/lib/python3.9/site-packages/Bio/PDB/Polypeptide.py:342: UserWarning: Assuming residue  CA is an unknown modified amino acid\n",
      "  warnings.warn(\n",
      " 43%|███████████████████████████████████████████████████████████████████▏                                                                                          | 1126/2648 [01:33<01:03, 23.88it/s]/ayb/vol2/home/dumerenkov/anaconda3/lib/python3.9/site-packages/Bio/PDB/Polypeptide.py:342: UserWarning: Assuming residue  CA is an unknown modified amino acid\n",
      "  warnings.warn(\n",
      "/ayb/vol2/home/dumerenkov/anaconda3/lib/python3.9/site-packages/Bio/PDB/Polypeptide.py:342: UserWarning: Assuming residue  CA is an unknown modified amino acid\n",
      "  warnings.warn(\n",
      "/ayb/vol2/home/dumerenkov/anaconda3/lib/python3.9/site-packages/Bio/PDB/Polypeptide.py:342: UserWarning: Assuming residue  CA is an unknown modified amino acid\n",
      "  warnings.warn(\n",
      "/ayb/vol2/home/dumerenkov/anaconda3/lib/python3.9/site-packages/Bio/PDB/Polypeptide.py:342: UserWarning: Assuming residue  CA is an unknown modified amino acid\n",
      "  warnings.warn(\n",
      " 43%|███████████████████████████████████████████████████████████████████▍                                                                                          | 1130/2648 [01:33<01:12, 20.81it/s]/ayb/vol2/home/dumerenkov/anaconda3/lib/python3.9/site-packages/Bio/PDB/Polypeptide.py:342: UserWarning: Assuming residue  CA is an unknown modified amino acid\n",
      "  warnings.warn(\n",
      "/ayb/vol2/home/dumerenkov/anaconda3/lib/python3.9/site-packages/Bio/PDB/Polypeptide.py:342: UserWarning: Assuming residue  CA is an unknown modified amino acid\n",
      "  warnings.warn(\n",
      "/ayb/vol2/home/dumerenkov/anaconda3/lib/python3.9/site-packages/Bio/PDB/Polypeptide.py:342: UserWarning: Assuming residue  CA is an unknown modified amino acid\n",
      "  warnings.warn(\n",
      " 43%|███████████████████████████████████████████████████████████████████▌                                                                                          | 1133/2648 [01:33<01:23, 18.21it/s]/ayb/vol2/home/dumerenkov/anaconda3/lib/python3.9/site-packages/Bio/PDB/Polypeptide.py:342: UserWarning: Assuming residue  CA is an unknown modified amino acid\n",
      "  warnings.warn(\n",
      "/ayb/vol2/home/dumerenkov/anaconda3/lib/python3.9/site-packages/Bio/PDB/Polypeptide.py:342: UserWarning: Assuming residue  CA is an unknown modified amino acid\n",
      "  warnings.warn(\n",
      "/ayb/vol2/home/dumerenkov/anaconda3/lib/python3.9/site-packages/Bio/PDB/Polypeptide.py:342: UserWarning: Assuming residue  CA is an unknown modified amino acid\n",
      "  warnings.warn(\n",
      " 43%|███████████████████████████████████████████████████████████████████▊                                                                                          | 1136/2648 [01:33<01:28, 17.16it/s]/ayb/vol2/home/dumerenkov/anaconda3/lib/python3.9/site-packages/Bio/PDB/Polypeptide.py:342: UserWarning: Assuming residue  CA is an unknown modified amino acid\n",
      "  warnings.warn(\n",
      "/ayb/vol2/home/dumerenkov/anaconda3/lib/python3.9/site-packages/Bio/PDB/Polypeptide.py:342: UserWarning: Assuming residue  CA is an unknown modified amino acid\n",
      "  warnings.warn(\n",
      "/ayb/vol2/home/dumerenkov/anaconda3/lib/python3.9/site-packages/Bio/PDB/Polypeptide.py:342: UserWarning: Assuming residue  CA is an unknown modified amino acid\n",
      "  warnings.warn(\n",
      " 43%|███████████████████████████████████████████████████████████████████▉                                                                                          | 1139/2648 [01:34<01:22, 18.19it/s]/ayb/vol2/home/dumerenkov/anaconda3/lib/python3.9/site-packages/Bio/PDB/Polypeptide.py:342: UserWarning: Assuming residue  CA is an unknown modified amino acid\n",
      "  warnings.warn(\n",
      "/ayb/vol2/home/dumerenkov/anaconda3/lib/python3.9/site-packages/Bio/PDB/Polypeptide.py:342: UserWarning: Assuming residue  CA is an unknown modified amino acid\n",
      "  warnings.warn(\n",
      "/ayb/vol2/home/dumerenkov/anaconda3/lib/python3.9/site-packages/Bio/PDB/Polypeptide.py:342: UserWarning: Assuming residue  CA is an unknown modified amino acid\n",
      "  warnings.warn(\n",
      " 43%|████████████████████████████████████████████████████████████████████▋                                                                                         | 1151/2648 [01:34<01:37, 15.36it/s]/ayb/vol2/home/dumerenkov/anaconda3/lib/python3.9/site-packages/Bio/PDB/Polypeptide.py:342: UserWarning: Assuming residue  CA is an unknown modified amino acid\n",
      "  warnings.warn(\n",
      "/ayb/vol2/home/dumerenkov/anaconda3/lib/python3.9/site-packages/Bio/PDB/Polypeptide.py:342: UserWarning: Assuming residue  CA is an unknown modified amino acid\n",
      "  warnings.warn(\n"
     ]
    },
    {
     "name": "stderr",
     "output_type": "stream",
     "text": [
      " 44%|█████████████████████████████████████████████████████████████████████                                                                                         | 1157/2648 [01:35<01:04, 23.10it/s]/ayb/vol2/home/dumerenkov/anaconda3/lib/python3.9/site-packages/Bio/PDB/Polypeptide.py:342: UserWarning: Assuming residue  CA is an unknown modified amino acid\n",
      "  warnings.warn(\n",
      "/ayb/vol2/home/dumerenkov/anaconda3/lib/python3.9/site-packages/Bio/PDB/Polypeptide.py:342: UserWarning: Assuming residue  CA is an unknown modified amino acid\n",
      "  warnings.warn(\n",
      "/ayb/vol2/home/dumerenkov/anaconda3/lib/python3.9/site-packages/Bio/PDB/Polypeptide.py:342: UserWarning: Assuming residue  CA is an unknown modified amino acid\n",
      "  warnings.warn(\n",
      "/ayb/vol2/home/dumerenkov/anaconda3/lib/python3.9/site-packages/Bio/PDB/Polypeptide.py:342: UserWarning: Assuming residue  CA is an unknown modified amino acid\n",
      "  warnings.warn(\n",
      " 44%|█████████████████████████████████████████████████████████████████████▎                                                                                        | 1161/2648 [01:35<01:01, 24.25it/s]/ayb/vol2/home/dumerenkov/anaconda3/lib/python3.9/site-packages/Bio/PDB/Polypeptide.py:342: UserWarning: Assuming residue  CA is an unknown modified amino acid\n",
      "  warnings.warn(\n",
      "/ayb/vol2/home/dumerenkov/anaconda3/lib/python3.9/site-packages/Bio/PDB/Polypeptide.py:342: UserWarning: Assuming residue  CA is an unknown modified amino acid\n",
      "  warnings.warn(\n",
      "/ayb/vol2/home/dumerenkov/anaconda3/lib/python3.9/site-packages/Bio/PDB/Polypeptide.py:342: UserWarning: Assuming residue  CA is an unknown modified amino acid\n",
      "  warnings.warn(\n",
      "/ayb/vol2/home/dumerenkov/anaconda3/lib/python3.9/site-packages/Bio/PDB/Polypeptide.py:342: UserWarning: Assuming residue  CA is an unknown modified amino acid\n",
      "  warnings.warn(\n",
      "/ayb/vol2/home/dumerenkov/anaconda3/lib/python3.9/site-packages/Bio/PDB/Polypeptide.py:342: UserWarning: Assuming residue  CA is an unknown modified amino acid\n",
      "  warnings.warn(\n",
      "/ayb/vol2/home/dumerenkov/anaconda3/lib/python3.9/site-packages/Bio/PDB/Polypeptide.py:342: UserWarning: Assuming residue  CA is an unknown modified amino acid\n",
      "  warnings.warn(\n",
      "/ayb/vol2/home/dumerenkov/anaconda3/lib/python3.9/site-packages/Bio/PDB/Polypeptide.py:342: UserWarning: Assuming residue  CA is an unknown modified amino acid\n",
      "  warnings.warn(\n",
      " 44%|█████████████████████████████████████████████████████████████████████▋                                                                                        | 1168/2648 [01:35<00:45, 32.65it/s]/ayb/vol2/home/dumerenkov/anaconda3/lib/python3.9/site-packages/Bio/PDB/Polypeptide.py:342: UserWarning: Assuming residue  CA is an unknown modified amino acid\n",
      "  warnings.warn(\n",
      "/ayb/vol2/home/dumerenkov/anaconda3/lib/python3.9/site-packages/Bio/PDB/Polypeptide.py:342: UserWarning: Assuming residue  CA is an unknown modified amino acid\n",
      "  warnings.warn(\n",
      "/ayb/vol2/home/dumerenkov/anaconda3/lib/python3.9/site-packages/Bio/PDB/Polypeptide.py:342: UserWarning: Assuming residue  CA is an unknown modified amino acid\n",
      "  warnings.warn(\n",
      "/ayb/vol2/home/dumerenkov/anaconda3/lib/python3.9/site-packages/Bio/PDB/Polypeptide.py:342: UserWarning: Assuming residue  CA is an unknown modified amino acid\n",
      "  warnings.warn(\n",
      "/ayb/vol2/home/dumerenkov/anaconda3/lib/python3.9/site-packages/Bio/PDB/Polypeptide.py:342: UserWarning: Assuming residue  CA is an unknown modified amino acid\n",
      "  warnings.warn(\n",
      " 44%|█████████████████████████████████████████████████████████████████████▉                                                                                        | 1173/2648 [01:35<00:46, 31.78it/s]/ayb/vol2/home/dumerenkov/anaconda3/lib/python3.9/site-packages/Bio/PDB/Polypeptide.py:342: UserWarning: Assuming residue  CA is an unknown modified amino acid\n",
      "  warnings.warn(\n",
      "/ayb/vol2/home/dumerenkov/anaconda3/lib/python3.9/site-packages/Bio/PDB/Polypeptide.py:342: UserWarning: Assuming residue  CA is an unknown modified amino acid\n",
      "  warnings.warn(\n",
      "/ayb/vol2/home/dumerenkov/anaconda3/lib/python3.9/site-packages/Bio/PDB/Polypeptide.py:342: UserWarning: Assuming residue  CA is an unknown modified amino acid\n",
      "  warnings.warn(\n",
      "/ayb/vol2/home/dumerenkov/anaconda3/lib/python3.9/site-packages/Bio/PDB/Polypeptide.py:342: UserWarning: Assuming residue  CA is an unknown modified amino acid\n",
      "  warnings.warn(\n",
      "/ayb/vol2/home/dumerenkov/anaconda3/lib/python3.9/site-packages/Bio/PDB/Polypeptide.py:342: UserWarning: Assuming residue  CA is an unknown modified amino acid\n",
      "  warnings.warn(\n",
      "/ayb/vol2/home/dumerenkov/anaconda3/lib/python3.9/site-packages/Bio/PDB/Polypeptide.py:342: UserWarning: Assuming residue  CA is an unknown modified amino acid\n",
      "  warnings.warn(\n",
      " 45%|██████████████████████████████████████████████████████████████████████▎                                                                                       | 1179/2648 [01:35<00:39, 36.94it/s]/ayb/vol2/home/dumerenkov/anaconda3/lib/python3.9/site-packages/Bio/PDB/Polypeptide.py:342: UserWarning: Assuming residue  CA is an unknown modified amino acid\n",
      "  warnings.warn(\n",
      " 56%|█████████████████████████████████████████████████████████████████████████████████████████▏                                                                    | 1494/2648 [01:52<05:37,  3.42it/s]/ayb/vol2/home/dumerenkov/anaconda3/lib/python3.9/site-packages/Bio/PDB/Polypeptide.py:342: UserWarning: Assuming residue  CA is an unknown modified amino acid\n",
      "  warnings.warn(\n",
      " 56%|█████████████████████████████████████████████████████████████████████████████████████████▎                                                                    | 1496/2648 [01:53<05:33,  3.45it/s]/ayb/vol2/home/dumerenkov/anaconda3/lib/python3.9/site-packages/Bio/PDB/Polypeptide.py:342: UserWarning: Assuming residue  CA is an unknown modified amino acid\n",
      "  warnings.warn(\n",
      "/ayb/vol2/home/dumerenkov/anaconda3/lib/python3.9/site-packages/Bio/PDB/Polypeptide.py:342: UserWarning: Assuming residue  CA is an unknown modified amino acid\n",
      "  warnings.warn(\n",
      " 59%|█████████████████████████████████████████████████████████████████████████████████████████████▋                                                                | 1570/2648 [01:56<01:09, 15.41it/s]/ayb/vol2/home/dumerenkov/anaconda3/lib/python3.9/site-packages/Bio/PDB/Polypeptide.py:342: UserWarning: Assuming residue AMB is an unknown modified amino acid\n",
      "  warnings.warn(\n",
      " 64%|█████████████████████████████████████████████████████████████████████████████████████████████████████▍                                                        | 1699/2648 [02:02<00:26, 35.88it/s]/ayb/vol2/home/dumerenkov/anaconda3/lib/python3.9/site-packages/Bio/PDB/Polypeptide.py:342: UserWarning: Assuming residue  CA is an unknown modified amino acid\n",
      "  warnings.warn(\n",
      " 67%|█████████████████████████████████████████████████████████████████████████████████████████████████████████▊                                                    | 1773/2648 [02:05<00:19, 43.86it/s]/ayb/vol2/home/dumerenkov/anaconda3/lib/python3.9/site-packages/Bio/PDB/Polypeptide.py:342: UserWarning: Assuming residue  CA is an unknown modified amino acid\n",
      "  warnings.warn(\n",
      "/ayb/vol2/home/dumerenkov/anaconda3/lib/python3.9/site-packages/Bio/PDB/Polypeptide.py:342: UserWarning: Assuming residue  CA is an unknown modified amino acid\n",
      "  warnings.warn(\n",
      "/ayb/vol2/home/dumerenkov/anaconda3/lib/python3.9/site-packages/Bio/PDB/Polypeptide.py:342: UserWarning: Assuming residue  CA is an unknown modified amino acid\n",
      "  warnings.warn(\n",
      "/ayb/vol2/home/dumerenkov/anaconda3/lib/python3.9/site-packages/Bio/PDB/Polypeptide.py:342: UserWarning: Assuming residue  CA is an unknown modified amino acid\n",
      "  warnings.warn(\n",
      "/ayb/vol2/home/dumerenkov/anaconda3/lib/python3.9/site-packages/Bio/PDB/Polypeptide.py:342: UserWarning: Assuming residue  CA is an unknown modified amino acid\n",
      "  warnings.warn(\n",
      " 67%|██████████████████████████████████████████████████████████████████████████████████████████████████████████                                                    | 1778/2648 [02:05<00:22, 38.47it/s]/ayb/vol2/home/dumerenkov/anaconda3/lib/python3.9/site-packages/Bio/PDB/Polypeptide.py:342: UserWarning: Assuming residue  CA is an unknown modified amino acid\n",
      "  warnings.warn(\n"
     ]
    },
    {
     "name": "stderr",
     "output_type": "stream",
     "text": [
      " 83%|██████████████████████████████████████████████████████████████████████████████████████████████████████████████████████████████████▌                           | 2188/2648 [03:03<00:10, 42.87it/s]/ayb/vol2/home/dumerenkov/anaconda3/lib/python3.9/site-packages/Bio/PDB/Polypeptide.py:342: UserWarning: Assuming residue  CA is an unknown modified amino acid\n",
      "  warnings.warn(\n",
      "/ayb/vol2/home/dumerenkov/anaconda3/lib/python3.9/site-packages/Bio/PDB/Polypeptide.py:342: UserWarning: Assuming residue  CA is an unknown modified amino acid\n",
      "  warnings.warn(\n",
      "/ayb/vol2/home/dumerenkov/anaconda3/lib/python3.9/site-packages/Bio/PDB/Polypeptide.py:342: UserWarning: Assuming residue  CA is an unknown modified amino acid\n",
      "  warnings.warn(\n",
      "/ayb/vol2/home/dumerenkov/anaconda3/lib/python3.9/site-packages/Bio/PDB/Polypeptide.py:342: UserWarning: Assuming residue  CA is an unknown modified amino acid\n",
      "  warnings.warn(\n",
      " 83%|██████████████████████████████████████████████████████████████████████████████████████████████████████████████████████████████████▊                           | 2193/2648 [03:03<00:18, 24.71it/s]/ayb/vol2/home/dumerenkov/anaconda3/lib/python3.9/site-packages/Bio/PDB/Polypeptide.py:342: UserWarning: Assuming residue  CA is an unknown modified amino acid\n",
      "  warnings.warn(\n",
      "100%|██████████████████████████████████████████████████████████████████████████████████████████████████████████████████████████████████████████████████████████████| 2648/2648 [03:20<00:00, 13.20it/s]\n"
     ]
    }
   ],
   "source": [
    "wt = []\n",
    "mut = []\n",
    "ddg = []\n",
    "pdb_ids = []\n",
    "mut_infos = []\n",
    "poss = []\n",
    "\n",
    "verbatim_pdb_ids = {'1LVEA'}\n",
    "\n",
    "\n",
    "print('Processing s2648')\n",
    "\n",
    "for idx in tqdm(range(len(df_S2648))):\n",
    "    pdb_id = df_S2648.iloc[idx]['PDB_CHAIN'].upper()\n",
    "    wild_aa = df_S2648.iloc[idx]['WILD_RES']\n",
    "    pos = str(df_S2648.iloc[idx]['POSITION'])\n",
    "    mutant_aa = df_S2648.iloc[idx]['MUTANT_RES']\n",
    "    exp_ddg = df_S2648.iloc[idx]['EXP_DDG']\n",
    "        \n",
    "    _, _, sequence, pdb2seq_pos, seq2pdb_pos = pdb2info(f'PDB/{pdb_id[:4]}.pdb', pdb_id[-1])\n",
    "    \n",
    "    if pdb_id in verbatim_pdb_ids:\n",
    "        seq2pdb_pos = {str(i):str(i) for i in range(len(sequence))}\n",
    "    \n",
    "    if pos not in seq2pdb_pos:\n",
    "        print(f'Indexing error for {pdb_id} position {pos} not present in mapping {seq2pdb_pos}')\n",
    "        \n",
    "    else:\n",
    "        if sequence[int(seq2pdb_pos[pos])-1]!=wild_aa:\n",
    "            print(f'Error for {pdb_id} expected {wild_aa} at position {pos} ')\n",
    "            print(f'Sequence is {sequence}')\n",
    "            print(f'Mapping is {seq2pdb_pos}')\n",
    "        \n",
    "        else:\n",
    "            wt.append(sequence)\n",
    "            tt = list(sequence)\n",
    "            tt[int(seq2pdb_pos[pos])-1] = mutant_aa\n",
    "            poss.append(int(seq2pdb_pos[pos])-1)\n",
    "            mut.append(''.join(tt))\n",
    "            ddg.append(exp_ddg)\n",
    "            pdb_ids.append(pdb_id)\n",
    "            mut_infos.append(str(wild_aa) + pos + str(mutant_aa))"
   ]
  },
  {
   "cell_type": "code",
   "execution_count": 7,
   "id": "1a36cc2d",
   "metadata": {},
   "outputs": [],
   "source": [
    "pd.DataFrame({'wt_seq': wt, \n",
    "              'mut_seq': mut ,\n",
    "              'ddg': ddg, \n",
    "              'pdb_id': pdb_ids, \n",
    "              'mut_info': mut_infos,\n",
    "              'pos': poss}).to_csv('DATASETS/S2648.csv')"
   ]
  },
  {
   "cell_type": "code",
   "execution_count": null,
   "id": "277500e8",
   "metadata": {},
   "outputs": [],
   "source": []
  },
  {
   "cell_type": "markdown",
   "id": "49a7a64a",
   "metadata": {},
   "source": [
    "# S3488"
   ]
  },
  {
   "cell_type": "code",
   "execution_count": 8,
   "id": "6c3f1359",
   "metadata": {},
   "outputs": [],
   "source": [
    "df_1744 = pd.read_csv('DATA/Q1744.txt', sep = ' ', names = ['PDB_CHAIN', 'POSITION', 'WILD_RES', 'MUTANT_RES', 'EXP_DDG'])"
   ]
  },
  {
   "cell_type": "code",
   "execution_count": 9,
   "id": "3917321c",
   "metadata": {},
   "outputs": [
    {
     "name": "stdout",
     "output_type": "stream",
     "text": [
      "Total dataset length 1744\n",
      "Total number of different chains in dataset 127\n"
     ]
    }
   ],
   "source": [
    "print('Total dataset length', len(df_1744))\n",
    "pdb_ids = list(set([t.split()[0].upper() for t in df_1744.PDB_CHAIN.to_list()]))\n",
    "print('Total number of different chains in dataset', len(pdb_ids))"
   ]
  },
  {
   "cell_type": "code",
   "execution_count": 10,
   "id": "546ab418",
   "metadata": {
    "scrolled": true
   },
   "outputs": [],
   "source": [
    "for pdb_id in pdb_ids:\n",
    "    if not os.path.isfile(f\"PDB/{pdb_id[:4]}.pdb\"):\n",
    "        with open(f\"PDB/{pdb_id[:4]}.pdb\", \"w\") as fh:\n",
    "            fh.write(pdb_client.get_pdb_file(f\"{pdb_id[:4]}\", compression=False))"
   ]
  },
  {
   "cell_type": "code",
   "execution_count": 11,
   "id": "3c716243",
   "metadata": {},
   "outputs": [
    {
     "name": "stdout",
     "output_type": "stream",
     "text": [
      "Processing S3488\n"
     ]
    },
    {
     "name": "stderr",
     "output_type": "stream",
     "text": [
      "  1%|█▌                                                                                                                                                              | 17/1744 [00:01<02:07, 13.60it/s]/ayb/vol2/home/dumerenkov/anaconda3/lib/python3.9/site-packages/Bio/PDB/Polypeptide.py:342: UserWarning: Assuming residue DDF is an unknown modified amino acid\n",
      "  warnings.warn(\n",
      "/ayb/vol2/home/dumerenkov/anaconda3/lib/python3.9/site-packages/Bio/PDB/Polypeptide.py:342: UserWarning: Assuming residue DDF is an unknown modified amino acid\n",
      "  warnings.warn(\n",
      "  1%|█▉                                                                                                                                                              | 21/1744 [00:01<02:07, 13.52it/s]/ayb/vol2/home/dumerenkov/anaconda3/lib/python3.9/site-packages/Bio/PDB/Polypeptide.py:342: UserWarning: Assuming residue DDF is an unknown modified amino acid\n",
      "  warnings.warn(\n",
      "  4%|██████▋                                                                                                                                                         | 73/1744 [00:06<02:42, 10.31it/s]/ayb/vol2/home/dumerenkov/anaconda3/lib/python3.9/site-packages/Bio/PDB/Polypeptide.py:342: UserWarning: Assuming residue DDF is an unknown modified amino acid\n",
      "  warnings.warn(\n",
      "  5%|███████▌                                                                                                                                                        | 83/1744 [00:06<01:55, 14.37it/s]/ayb/vol2/home/dumerenkov/anaconda3/lib/python3.9/site-packages/Bio/PDB/Polypeptide.py:342: UserWarning: Assuming residue DDF is an unknown modified amino acid\n",
      "  warnings.warn(\n",
      "  5%|███████▉                                                                                                                                                        | 87/1744 [00:06<01:33, 17.72it/s]/ayb/vol2/home/dumerenkov/anaconda3/lib/python3.9/site-packages/Bio/PDB/Polypeptide.py:342: UserWarning: Assuming residue DDF is an unknown modified amino acid\n",
      "  warnings.warn(\n",
      "  6%|█████████                                                                                                                                                      | 100/1744 [00:08<03:38,  7.53it/s]/ayb/vol2/home/dumerenkov/anaconda3/lib/python3.9/site-packages/Bio/PDB/Polypeptide.py:342: UserWarning: Assuming residue DDF is an unknown modified amino acid\n",
      "  warnings.warn(\n",
      "  6%|█████████▌                                                                                                                                                     | 105/1744 [00:08<02:23, 11.42it/s]/ayb/vol2/home/dumerenkov/anaconda3/lib/python3.9/site-packages/Bio/PDB/Polypeptide.py:342: UserWarning: Assuming residue  CA is an unknown modified amino acid\n",
      "  warnings.warn(\n",
      "/ayb/vol2/home/dumerenkov/anaconda3/lib/python3.9/site-packages/Bio/PDB/Polypeptide.py:342: UserWarning: Assuming residue DDF is an unknown modified amino acid\n",
      "  warnings.warn(\n",
      "  7%|██████████▊                                                                                                                                                    | 119/1744 [00:10<03:28,  7.78it/s]/ayb/vol2/home/dumerenkov/anaconda3/lib/python3.9/site-packages/Bio/PDB/Polypeptide.py:342: UserWarning: Assuming residue DDF is an unknown modified amino acid\n",
      "  warnings.warn(\n",
      "/ayb/vol2/home/dumerenkov/anaconda3/lib/python3.9/site-packages/Bio/PDB/Polypeptide.py:342: UserWarning: Assuming residue PLM is an unknown modified amino acid\n",
      "  warnings.warn(\n",
      "  7%|███████████▌                                                                                                                                                   | 127/1744 [00:11<02:44,  9.81it/s]/ayb/vol2/home/dumerenkov/anaconda3/lib/python3.9/site-packages/Bio/PDB/Polypeptide.py:342: UserWarning: Assuming residue PLM is an unknown modified amino acid\n",
      "  warnings.warn(\n",
      "  8%|████████████▋                                                                                                                                                  | 139/1744 [00:11<02:14, 11.96it/s]/ayb/vol2/home/dumerenkov/anaconda3/lib/python3.9/site-packages/Bio/PDB/Polypeptide.py:342: UserWarning: Assuming residue PLM is an unknown modified amino acid\n",
      "  warnings.warn(\n",
      " 10%|███████████████▏                                                                                                                                               | 167/1744 [00:13<01:24, 18.75it/s]/ayb/vol2/home/dumerenkov/anaconda3/lib/python3.9/site-packages/Bio/PDB/Polypeptide.py:342: UserWarning: Assuming residue DDF is an unknown modified amino acid\n",
      "  warnings.warn(\n",
      " 10%|███████████████▍                                                                                                                                               | 170/1744 [00:13<01:19, 19.88it/s]/ayb/vol2/home/dumerenkov/anaconda3/lib/python3.9/site-packages/Bio/PDB/Polypeptide.py:342: UserWarning: Assuming residue  CA is an unknown modified amino acid\n",
      "  warnings.warn(\n",
      " 11%|█████████████████▏                                                                                                                                             | 189/1744 [00:15<02:50,  9.13it/s]/ayb/vol2/home/dumerenkov/anaconda3/lib/python3.9/site-packages/Bio/PDB/Polypeptide.py:342: UserWarning: Assuming residue DDF is an unknown modified amino acid\n",
      "  warnings.warn(\n",
      " 12%|██████████████████▌                                                                                                                                            | 204/1744 [00:16<01:33, 16.39it/s]/ayb/vol2/home/dumerenkov/anaconda3/lib/python3.9/site-packages/Bio/PDB/Polypeptide.py:342: UserWarning: Assuming residue DDF is an unknown modified amino acid\n",
      "  warnings.warn(\n",
      " 12%|███████████████████                                                                                                                                            | 209/1744 [00:16<01:08, 22.28it/s]/ayb/vol2/home/dumerenkov/anaconda3/lib/python3.9/site-packages/Bio/PDB/Polypeptide.py:342: UserWarning: Assuming residue PLM is an unknown modified amino acid\n",
      "  warnings.warn(\n",
      "/ayb/vol2/home/dumerenkov/anaconda3/lib/python3.9/site-packages/Bio/PDB/Polypeptide.py:342: UserWarning: Assuming residue PLM is an unknown modified amino acid\n",
      "  warnings.warn(\n",
      " 12%|███████████████████▊                                                                                                                                           | 217/1744 [00:17<01:49, 14.00it/s]/ayb/vol2/home/dumerenkov/anaconda3/lib/python3.9/site-packages/Bio/PDB/Polypeptide.py:342: UserWarning: Assuming residue DDF is an unknown modified amino acid\n",
      "  warnings.warn(\n",
      " 13%|████████████████████▍                                                                                                                                          | 224/1744 [00:17<01:26, 17.53it/s]/ayb/vol2/home/dumerenkov/anaconda3/lib/python3.9/site-packages/Bio/PDB/Polypeptide.py:342: UserWarning: Assuming residue DDF is an unknown modified amino acid\n",
      "  warnings.warn(\n",
      " 15%|████████████████████████▎                                                                                                                                      | 266/1744 [00:21<02:27, 10.03it/s]/ayb/vol2/home/dumerenkov/anaconda3/lib/python3.9/site-packages/Bio/PDB/Polypeptide.py:342: UserWarning: Assuming residue DDF is an unknown modified amino acid\n",
      "  warnings.warn(\n",
      " 17%|██████████████████████████▋                                                                                                                                    | 293/1744 [00:22<01:25, 16.94it/s]/ayb/vol2/home/dumerenkov/anaconda3/lib/python3.9/site-packages/Bio/PDB/Polypeptide.py:342: UserWarning: Assuming residue  CA is an unknown modified amino acid\n",
      "  warnings.warn(\n",
      " 18%|████████████████████████████▏                                                                                                                                  | 309/1744 [00:24<01:52, 12.75it/s]/ayb/vol2/home/dumerenkov/anaconda3/lib/python3.9/site-packages/Bio/PDB/Polypeptide.py:342: UserWarning: Assuming residue DDF is an unknown modified amino acid\n",
      "  warnings.warn(\n"
     ]
    },
    {
     "name": "stderr",
     "output_type": "stream",
     "text": [
      " 21%|█████████████████████████████████▏                                                                                                                             | 364/1744 [00:28<01:37, 14.14it/s]/ayb/vol2/home/dumerenkov/anaconda3/lib/python3.9/site-packages/Bio/PDB/Polypeptide.py:342: UserWarning: Assuming residue DDF is an unknown modified amino acid\n",
      "  warnings.warn(\n",
      " 21%|██████████████████████████████████                                                                                                                             | 373/1744 [00:28<01:18, 17.38it/s]/ayb/vol2/home/dumerenkov/anaconda3/lib/python3.9/site-packages/Bio/PDB/Polypeptide.py:342: UserWarning: Assuming residue DDF is an unknown modified amino acid\n",
      "  warnings.warn(\n",
      " 23%|████████████████████████████████████▌                                                                                                                          | 401/1744 [00:31<02:56,  7.60it/s]/ayb/vol2/home/dumerenkov/anaconda3/lib/python3.9/site-packages/Bio/PDB/Polypeptide.py:342: UserWarning: Assuming residue PLM is an unknown modified amino acid\n",
      "  warnings.warn(\n",
      " 24%|██████████████████████████████████████                                                                                                                         | 418/1744 [00:35<05:12,  4.24it/s]/ayb/vol2/home/dumerenkov/anaconda3/lib/python3.9/site-packages/Bio/PDB/Polypeptide.py:342: UserWarning: Assuming residue DDF is an unknown modified amino acid\n",
      "  warnings.warn(\n",
      " 24%|██████████████████████████████████████▌                                                                                                                        | 423/1744 [00:35<03:18,  6.66it/s]/ayb/vol2/home/dumerenkov/anaconda3/lib/python3.9/site-packages/Bio/PDB/Polypeptide.py:342: UserWarning: Assuming residue DDF is an unknown modified amino acid\n",
      "  warnings.warn(\n",
      " 25%|████████████████████████████████████████                                                                                                                       | 439/1744 [00:36<01:46, 12.29it/s]/ayb/vol2/home/dumerenkov/anaconda3/lib/python3.9/site-packages/Bio/PDB/Polypeptide.py:342: UserWarning: Assuming residue DDF is an unknown modified amino acid\n",
      "  warnings.warn(\n",
      " 26%|████████████████████████████████████████▋                                                                                                                      | 446/1744 [00:37<01:17, 16.65it/s]/ayb/vol2/home/dumerenkov/anaconda3/lib/python3.9/site-packages/Bio/PDB/Polypeptide.py:342: UserWarning: Assuming residue DDF is an unknown modified amino acid\n",
      "  warnings.warn(\n",
      " 26%|█████████████████████████████████████████                                                                                                                      | 450/1744 [00:37<01:14, 17.37it/s]/ayb/vol2/home/dumerenkov/anaconda3/lib/python3.9/site-packages/Bio/PDB/Polypeptide.py:342: UserWarning: Assuming residue DDF is an unknown modified amino acid\n",
      "  warnings.warn(\n",
      " 26%|█████████████████████████████████████████▉                                                                                                                     | 460/1744 [00:37<01:24, 15.27it/s]/ayb/vol2/home/dumerenkov/anaconda3/lib/python3.9/site-packages/Bio/PDB/Polypeptide.py:342: UserWarning: Assuming residue DDF is an unknown modified amino acid\n",
      "  warnings.warn(\n",
      " 27%|██████████████████████████████████████████▏                                                                                                                    | 463/1744 [00:38<01:21, 15.74it/s]/ayb/vol2/home/dumerenkov/anaconda3/lib/python3.9/site-packages/Bio/PDB/Polypeptide.py:342: UserWarning: Assuming residue DDF is an unknown modified amino acid\n",
      "  warnings.warn(\n",
      "/ayb/vol2/home/dumerenkov/anaconda3/lib/python3.9/site-packages/Bio/PDB/Polypeptide.py:342: UserWarning: Assuming residue  CA is an unknown modified amino acid\n",
      "  warnings.warn(\n",
      " 27%|██████████████████████████████████████████▋                                                                                                                    | 468/1744 [00:38<01:02, 20.30it/s]/ayb/vol2/home/dumerenkov/anaconda3/lib/python3.9/site-packages/Bio/PDB/Polypeptide.py:342: UserWarning: Assuming residue DDF is an unknown modified amino acid\n",
      "  warnings.warn(\n",
      " 27%|███████████████████████████████████████████▌                                                                                                                   | 478/1744 [00:38<00:48, 25.85it/s]/ayb/vol2/home/dumerenkov/anaconda3/lib/python3.9/site-packages/Bio/PDB/Polypeptide.py:342: UserWarning: Assuming residue DDF is an unknown modified amino acid\n",
      "  warnings.warn(\n",
      "/ayb/vol2/home/dumerenkov/anaconda3/lib/python3.9/site-packages/Bio/PDB/Polypeptide.py:342: UserWarning: Assuming residue DDF is an unknown modified amino acid\n",
      "  warnings.warn(\n",
      " 28%|█████████████████████████████████████████████                                                                                                                  | 494/1744 [00:39<01:49, 11.39it/s]/ayb/vol2/home/dumerenkov/anaconda3/lib/python3.9/site-packages/Bio/PDB/Polypeptide.py:342: UserWarning: Assuming residue  CA is an unknown modified amino acid\n",
      "  warnings.warn(\n",
      " 29%|██████████████████████████████████████████████▏                                                                                                                | 506/1744 [00:40<01:06, 18.59it/s]/ayb/vol2/home/dumerenkov/anaconda3/lib/python3.9/site-packages/Bio/PDB/Polypeptide.py:342: UserWarning: Assuming residue PLM is an unknown modified amino acid\n",
      "  warnings.warn(\n",
      " 30%|███████████████████████████████████████████████▋                                                                                                               | 523/1744 [00:40<00:42, 28.76it/s]/ayb/vol2/home/dumerenkov/anaconda3/lib/python3.9/site-packages/Bio/PDB/Polypeptide.py:342: UserWarning: Assuming residue PLM is an unknown modified amino acid\n",
      "  warnings.warn(\n",
      " 32%|██████████████████████████████████████████████████▏                                                                                                            | 551/1744 [00:44<02:04,  9.56it/s]/ayb/vol2/home/dumerenkov/anaconda3/lib/python3.9/site-packages/Bio/PDB/Polypeptide.py:342: UserWarning: Assuming residue PLM is an unknown modified amino acid\n",
      "  warnings.warn(\n",
      "/ayb/vol2/home/dumerenkov/anaconda3/lib/python3.9/site-packages/Bio/PDB/Polypeptide.py:342: UserWarning: Assuming residue DDF is an unknown modified amino acid\n",
      "  warnings.warn(\n",
      " 32%|██████████████████████████████████████████████████▋                                                                                                            | 556/1744 [00:44<01:21, 14.60it/s]/ayb/vol2/home/dumerenkov/anaconda3/lib/python3.9/site-packages/Bio/PDB/Polypeptide.py:342: UserWarning: Assuming residue DDF is an unknown modified amino acid\n",
      "  warnings.warn(\n",
      " 32%|██████████████████████████████████████████████████▉                                                                                                            | 559/1744 [00:44<02:06,  9.38it/s]/ayb/vol2/home/dumerenkov/anaconda3/lib/python3.9/site-packages/Bio/PDB/Polypeptide.py:342: UserWarning: Assuming residue DDF is an unknown modified amino acid\n",
      "  warnings.warn(\n",
      " 32%|███████████████████████████████████████████████████▎                                                                                                           | 563/1744 [00:44<01:33, 12.64it/s]/ayb/vol2/home/dumerenkov/anaconda3/lib/python3.9/site-packages/Bio/PDB/Polypeptide.py:342: UserWarning: Assuming residue PLM is an unknown modified amino acid\n",
      "  warnings.warn(\n",
      " 32%|███████████████████████████████████████████████████▌                                                                                                           | 566/1744 [00:45<02:08,  9.14it/s]/ayb/vol2/home/dumerenkov/anaconda3/lib/python3.9/site-packages/Bio/PDB/Polypeptide.py:342: UserWarning: Assuming residue DDF is an unknown modified amino acid\n",
      "  warnings.warn(\n",
      "/ayb/vol2/home/dumerenkov/anaconda3/lib/python3.9/site-packages/Bio/PDB/Polypeptide.py:342: UserWarning: Assuming residue DDF is an unknown modified amino acid\n",
      "  warnings.warn(\n",
      "/ayb/vol2/home/dumerenkov/anaconda3/lib/python3.9/site-packages/Bio/PDB/Polypeptide.py:342: UserWarning: Assuming residue DDF is an unknown modified amino acid\n",
      "  warnings.warn(\n",
      "/ayb/vol2/home/dumerenkov/anaconda3/lib/python3.9/site-packages/Bio/PDB/Polypeptide.py:342: UserWarning: Assuming residue DDF is an unknown modified amino acid\n",
      "  warnings.warn(\n"
     ]
    },
    {
     "name": "stderr",
     "output_type": "stream",
     "text": [
      " 33%|████████████████████████████████████████████████████                                                                                                           | 571/1744 [00:45<01:29, 13.10it/s]/ayb/vol2/home/dumerenkov/anaconda3/lib/python3.9/site-packages/Bio/PDB/Polypeptide.py:342: UserWarning: Assuming residue DDF is an unknown modified amino acid\n",
      "  warnings.warn(\n",
      " 33%|█████████████████████████████████████████████████████▏                                                                                                         | 583/1744 [00:47<03:16,  5.90it/s]/ayb/vol2/home/dumerenkov/anaconda3/lib/python3.9/site-packages/Bio/PDB/Polypeptide.py:342: UserWarning: Assuming residue  CA is an unknown modified amino acid\n",
      "  warnings.warn(\n",
      " 34%|█████████████████████████████████████████████████████▉                                                                                                         | 592/1744 [00:47<01:30, 12.75it/s]/ayb/vol2/home/dumerenkov/anaconda3/lib/python3.9/site-packages/Bio/PDB/Polypeptide.py:342: UserWarning: Assuming residue DDF is an unknown modified amino acid\n",
      "  warnings.warn(\n",
      " 35%|███████████████████████████████████████████████████████▍                                                                                                       | 608/1744 [00:49<01:32, 12.22it/s]/ayb/vol2/home/dumerenkov/anaconda3/lib/python3.9/site-packages/Bio/PDB/Polypeptide.py:342: UserWarning: Assuming residue  CA is an unknown modified amino acid\n",
      "  warnings.warn(\n",
      " 36%|█████████████████████████████████████████████████████████▉                                                                                                     | 636/1744 [00:51<01:56,  9.54it/s]/ayb/vol2/home/dumerenkov/anaconda3/lib/python3.9/site-packages/Bio/PDB/Polypeptide.py:342: UserWarning: Assuming residue  CA is an unknown modified amino acid\n",
      "  warnings.warn(\n",
      " 37%|██████████████████████████████████████████████████████████▌                                                                                                    | 643/1744 [00:52<02:07,  8.62it/s]/ayb/vol2/home/dumerenkov/anaconda3/lib/python3.9/site-packages/Bio/PDB/Polypeptide.py:342: UserWarning: Assuming residue DDF is an unknown modified amino acid\n",
      "  warnings.warn(\n",
      " 37%|███████████████████████████████████████████████████████████                                                                                                    | 648/1744 [00:52<01:27, 12.57it/s]/ayb/vol2/home/dumerenkov/anaconda3/lib/python3.9/site-packages/Bio/PDB/Polypeptide.py:342: UserWarning: Assuming residue DDF is an unknown modified amino acid\n",
      "  warnings.warn(\n",
      " 38%|█████████████████████████████████████████████████████████████                                                                                                  | 670/1744 [00:54<01:55,  9.28it/s]/ayb/vol2/home/dumerenkov/anaconda3/lib/python3.9/site-packages/Bio/PDB/Polypeptide.py:342: UserWarning: Assuming residue DDF is an unknown modified amino acid\n",
      "  warnings.warn(\n",
      " 40%|██████████████████████████████████████████████████████████████▊                                                                                                | 689/1744 [00:56<01:33, 11.29it/s]/ayb/vol2/home/dumerenkov/anaconda3/lib/python3.9/site-packages/Bio/PDB/Polypeptide.py:342: UserWarning: Assuming residue DDF is an unknown modified amino acid\n",
      "  warnings.warn(\n",
      " 40%|████████████████████████████████████████████████████████████████▎                                                                                              | 706/1744 [00:58<02:06,  8.23it/s]/ayb/vol2/home/dumerenkov/anaconda3/lib/python3.9/site-packages/Bio/PDB/Polypeptide.py:342: UserWarning: Assuming residue DDF is an unknown modified amino acid\n",
      "  warnings.warn(\n",
      "/ayb/vol2/home/dumerenkov/anaconda3/lib/python3.9/site-packages/Bio/PDB/Polypeptide.py:342: UserWarning: Assuming residue DDF is an unknown modified amino acid\n",
      "  warnings.warn(\n",
      " 41%|████████████████████████████████████████████████████████████████▋                                                                                              | 710/1744 [00:58<01:32, 11.21it/s]/ayb/vol2/home/dumerenkov/anaconda3/lib/python3.9/site-packages/Bio/PDB/Polypeptide.py:342: UserWarning: Assuming residue DDF is an unknown modified amino acid\n",
      "  warnings.warn(\n",
      " 41%|█████████████████████████████████████████████████████████████████▋                                                                                             | 721/1744 [01:00<02:33,  6.67it/s]/ayb/vol2/home/dumerenkov/anaconda3/lib/python3.9/site-packages/Bio/PDB/Polypeptide.py:342: UserWarning: Assuming residue DDF is an unknown modified amino acid\n",
      "  warnings.warn(\n",
      " 42%|███████████████████████████████████████████████████████████████████▎                                                                                           | 738/1744 [01:02<01:33, 10.71it/s]/ayb/vol2/home/dumerenkov/anaconda3/lib/python3.9/site-packages/Bio/PDB/Polypeptide.py:342: UserWarning: Assuming residue PLM is an unknown modified amino acid\n",
      "  warnings.warn(\n",
      " 43%|████████████████████████████████████████████████████████████████████▋                                                                                          | 753/1744 [01:02<00:49, 20.06it/s]/ayb/vol2/home/dumerenkov/anaconda3/lib/python3.9/site-packages/Bio/PDB/Polypeptide.py:342: UserWarning: Assuming residue  CA is an unknown modified amino acid\n",
      "  warnings.warn(\n",
      " 44%|██████████████████████████████████████████████████████████████████████▎                                                                                        | 771/1744 [01:04<01:34, 10.27it/s]/ayb/vol2/home/dumerenkov/anaconda3/lib/python3.9/site-packages/Bio/PDB/Polypeptide.py:342: UserWarning: Assuming residue DDF is an unknown modified amino acid\n",
      "  warnings.warn(\n",
      " 46%|████████████████████████████████████████████████████████████████████████▊                                                                                      | 799/1744 [01:09<03:17,  4.77it/s]/ayb/vol2/home/dumerenkov/anaconda3/lib/python3.9/site-packages/Bio/PDB/Polypeptide.py:342: UserWarning: Assuming residue DDF is an unknown modified amino acid\n",
      "  warnings.warn(\n",
      " 47%|██████████████████████████████████████████████████████████████████████████▍                                                                                    | 816/1744 [01:11<01:52,  8.25it/s]/ayb/vol2/home/dumerenkov/anaconda3/lib/python3.9/site-packages/Bio/PDB/Polypeptide.py:342: UserWarning: Assuming residue DDF is an unknown modified amino acid\n",
      "  warnings.warn(\n",
      " 47%|███████████████████████████████████████████████████████████████████████████                                                                                    | 824/1744 [01:11<01:14, 12.39it/s]/ayb/vol2/home/dumerenkov/anaconda3/lib/python3.9/site-packages/Bio/PDB/Polypeptide.py:342: UserWarning: Assuming residue DDF is an unknown modified amino acid\n",
      "  warnings.warn(\n",
      " 48%|███████████████████████████████████████████████████████████████████████████▉                                                                                   | 833/1744 [01:11<00:51, 17.53it/s]/ayb/vol2/home/dumerenkov/anaconda3/lib/python3.9/site-packages/Bio/PDB/Polypeptide.py:342: UserWarning: Assuming residue  CA is an unknown modified amino acid\n",
      "  warnings.warn(\n",
      " 48%|████████████████████████████████████████████████████████████████████████████▎                                                                                  | 837/1744 [01:11<00:43, 20.70it/s]/ayb/vol2/home/dumerenkov/anaconda3/lib/python3.9/site-packages/Bio/PDB/Polypeptide.py:342: UserWarning: Assuming residue DDF is an unknown modified amino acid\n",
      "  warnings.warn(\n",
      " 48%|████████████████████████████████████████████████████████████████████████████▌                                                                                  | 840/1744 [01:11<00:46, 19.43it/s]/ayb/vol2/home/dumerenkov/anaconda3/lib/python3.9/site-packages/Bio/PDB/Polypeptide.py:342: UserWarning: Assuming residue DDF is an unknown modified amino acid\n",
      "  warnings.warn(\n"
     ]
    },
    {
     "name": "stderr",
     "output_type": "stream",
     "text": [
      " 49%|█████████████████████████████████████████████████████████████████████████████▏                                                                                 | 847/1744 [01:12<00:57, 15.49it/s]/ayb/vol2/home/dumerenkov/anaconda3/lib/python3.9/site-packages/Bio/PDB/Polypeptide.py:342: UserWarning: Assuming residue DDF is an unknown modified amino acid\n",
      "  warnings.warn(\n",
      "/ayb/vol2/home/dumerenkov/anaconda3/lib/python3.9/site-packages/Bio/PDB/Polypeptide.py:342: UserWarning: Assuming residue  CA is an unknown modified amino acid\n",
      "  warnings.warn(\n",
      " 49%|██████████████████████████████████████████████████████████████████████████████▏                                                                                | 857/1744 [01:12<00:40, 21.96it/s]/ayb/vol2/home/dumerenkov/anaconda3/lib/python3.9/site-packages/Bio/PDB/Polypeptide.py:342: UserWarning: Assuming residue DDF is an unknown modified amino acid\n",
      "  warnings.warn(\n",
      " 51%|█████████████████████████████████████████████████████████████████████████████████▌                                                                             | 895/1744 [01:15<00:56, 15.16it/s]/ayb/vol2/home/dumerenkov/anaconda3/lib/python3.9/site-packages/Bio/PDB/Polypeptide.py:342: UserWarning: Assuming residue DDF is an unknown modified amino acid\n",
      "  warnings.warn(\n",
      " 52%|██████████████████████████████████████████████████████████████████████████████████▏                                                                            | 902/1744 [01:15<00:50, 16.52it/s]/ayb/vol2/home/dumerenkov/anaconda3/lib/python3.9/site-packages/Bio/PDB/Polypeptide.py:342: UserWarning: Assuming residue DDF is an unknown modified amino acid\n",
      "  warnings.warn(\n",
      " 52%|███████████████████████████████████████████████████████████████████████████████████▏                                                                           | 913/1744 [01:18<03:02,  4.54it/s]/ayb/vol2/home/dumerenkov/anaconda3/lib/python3.9/site-packages/Bio/PDB/Polypeptide.py:342: UserWarning: Assuming residue DDF is an unknown modified amino acid\n",
      "  warnings.warn(\n",
      " 53%|███████████████████████████████████████████████████████████████████████████████████▌                                                                           | 917/1744 [01:18<02:01,  6.78it/s]/ayb/vol2/home/dumerenkov/anaconda3/lib/python3.9/site-packages/Bio/PDB/Polypeptide.py:342: UserWarning: Assuming residue PLM is an unknown modified amino acid\n",
      "  warnings.warn(\n",
      " 53%|█████████████████████████████████████████████████████████████████████████████████████                                                                          | 933/1744 [01:20<01:29,  9.01it/s]/ayb/vol2/home/dumerenkov/anaconda3/lib/python3.9/site-packages/Bio/PDB/Polypeptide.py:342: UserWarning: Assuming residue DDF is an unknown modified amino acid\n",
      "  warnings.warn(\n",
      " 56%|████████████████████████████████████████████████████████████████████████████████████████▎                                                                      | 968/1744 [01:23<01:13, 10.58it/s]/ayb/vol2/home/dumerenkov/anaconda3/lib/python3.9/site-packages/Bio/PDB/Polypeptide.py:342: UserWarning: Assuming residue  CA is an unknown modified amino acid\n",
      "  warnings.warn(\n",
      "/ayb/vol2/home/dumerenkov/anaconda3/lib/python3.9/site-packages/Bio/PDB/Polypeptide.py:342: UserWarning: Assuming residue DDF is an unknown modified amino acid\n",
      "  warnings.warn(\n",
      " 57%|██████████████████████████████████████████████████████████████████████████████████████████▏                                                                    | 989/1744 [01:25<01:02, 12.13it/s]/ayb/vol2/home/dumerenkov/anaconda3/lib/python3.9/site-packages/Bio/PDB/Polypeptide.py:342: UserWarning: Assuming residue DDF is an unknown modified amino acid\n",
      "  warnings.warn(\n",
      " 57%|██████████████████████████████████████████████████████████████████████████████████████████▌                                                                    | 994/1744 [01:26<01:16,  9.76it/s]/ayb/vol2/home/dumerenkov/anaconda3/lib/python3.9/site-packages/Bio/PDB/Polypeptide.py:342: UserWarning: Assuming residue DDF is an unknown modified amino acid\n",
      "  warnings.warn(\n",
      " 58%|███████████████████████████████████████████████████████████████████████████████████████████                                                                   | 1005/1744 [01:27<01:14,  9.98it/s]/ayb/vol2/home/dumerenkov/anaconda3/lib/python3.9/site-packages/Bio/PDB/Polypeptide.py:342: UserWarning: Assuming residue DDF is an unknown modified amino acid\n",
      "  warnings.warn(\n",
      " 59%|█████████████████████████████████████████████████████████████████████████████████████████████▉                                                                | 1037/1744 [01:28<00:50, 13.96it/s]/ayb/vol2/home/dumerenkov/anaconda3/lib/python3.9/site-packages/Bio/PDB/Polypeptide.py:342: UserWarning: Assuming residue DDF is an unknown modified amino acid\n",
      "  warnings.warn(\n",
      " 61%|████████████████████████████████████████████████████████████████████████████████████████████████▏                                                             | 1062/1744 [01:30<00:52, 13.10it/s]/ayb/vol2/home/dumerenkov/anaconda3/lib/python3.9/site-packages/Bio/PDB/Polypeptide.py:342: UserWarning: Assuming residue DDF is an unknown modified amino acid\n",
      "  warnings.warn(\n",
      " 61%|█████████████████████████████████████████████████████████████████████████████████████████████████                                                             | 1072/1744 [01:32<01:23,  8.09it/s]/ayb/vol2/home/dumerenkov/anaconda3/lib/python3.9/site-packages/Bio/PDB/Polypeptide.py:342: UserWarning: Assuming residue DDF is an unknown modified amino acid\n",
      "  warnings.warn(\n",
      "/ayb/vol2/home/dumerenkov/anaconda3/lib/python3.9/site-packages/Bio/PDB/Polypeptide.py:342: UserWarning: Assuming residue DDF is an unknown modified amino acid\n",
      "  warnings.warn(\n",
      " 62%|█████████████████████████████████████████████████████████████████████████████████████████████████▊                                                            | 1080/1744 [01:33<01:25,  7.78it/s]/ayb/vol2/home/dumerenkov/anaconda3/lib/python3.9/site-packages/Bio/PDB/Polypeptide.py:342: UserWarning: Assuming residue PLM is an unknown modified amino acid\n",
      "  warnings.warn(\n",
      " 63%|████████████████████████████████████████████████████████████████████████████████████████████████████                                                          | 1105/1744 [01:35<01:14,  8.58it/s]/ayb/vol2/home/dumerenkov/anaconda3/lib/python3.9/site-packages/Bio/PDB/Polypeptide.py:342: UserWarning: Assuming residue DDF is an unknown modified amino acid\n",
      "  warnings.warn(\n",
      " 64%|████████████████████████████████████████████████████████████████████████████████████████████████████▋                                                         | 1112/1744 [01:35<00:57, 10.95it/s]/ayb/vol2/home/dumerenkov/anaconda3/lib/python3.9/site-packages/Bio/PDB/Polypeptide.py:342: UserWarning: Assuming residue DDF is an unknown modified amino acid\n",
      "  warnings.warn(\n",
      " 65%|███████████████████████████████████████████████████████████████████████████████████████████████████████                                                       | 1138/1744 [01:39<02:01,  4.99it/s]/ayb/vol2/home/dumerenkov/anaconda3/lib/python3.9/site-packages/Bio/PDB/Polypeptide.py:342: UserWarning: Assuming residue DDF is an unknown modified amino acid\n",
      "  warnings.warn(\n",
      " 66%|████████████████████████████████████████████████████████████████████████████████████████████████████████                                                      | 1148/1744 [01:40<01:26,  6.91it/s]/ayb/vol2/home/dumerenkov/anaconda3/lib/python3.9/site-packages/Bio/PDB/Polypeptide.py:342: UserWarning: Assuming residue DDF is an unknown modified amino acid\n",
      "  warnings.warn(\n",
      " 69%|█████████████████████████████████████████████████████████████████████████████████████████████████████████████▎                                                | 1207/1744 [01:47<00:44, 12.15it/s]/ayb/vol2/home/dumerenkov/anaconda3/lib/python3.9/site-packages/Bio/PDB/Polypeptide.py:342: UserWarning: Assuming residue DDF is an unknown modified amino acid\n",
      "  warnings.warn(\n"
     ]
    },
    {
     "name": "stderr",
     "output_type": "stream",
     "text": [
      " 71%|████████████████████████████████████████████████████████████████████████████████████████████████████████████████▏                                             | 1239/1744 [01:51<00:56,  8.89it/s]/ayb/vol2/home/dumerenkov/anaconda3/lib/python3.9/site-packages/Bio/PDB/Polypeptide.py:342: UserWarning: Assuming residue DDF is an unknown modified amino acid\n",
      "  warnings.warn(\n",
      " 72%|████████████████████████████████████████████████████████████████████████████████████████████████████████████████▉                                             | 1247/1744 [01:51<00:47, 10.52it/s]/ayb/vol2/home/dumerenkov/anaconda3/lib/python3.9/site-packages/Bio/PDB/Polypeptide.py:342: UserWarning: Assuming residue PLM is an unknown modified amino acid\n",
      "  warnings.warn(\n",
      "/ayb/vol2/home/dumerenkov/anaconda3/lib/python3.9/site-packages/Bio/PDB/Polypeptide.py:342: UserWarning: Assuming residue  CA is an unknown modified amino acid\n",
      "  warnings.warn(\n",
      " 72%|█████████████████████████████████████████████████████████████████████████████████████████████████████████████████▌                                            | 1254/1744 [01:52<00:36, 13.30it/s]/ayb/vol2/home/dumerenkov/anaconda3/lib/python3.9/site-packages/Bio/PDB/Polypeptide.py:342: UserWarning: Assuming residue PLM is an unknown modified amino acid\n",
      "  warnings.warn(\n",
      " 72%|█████████████████████████████████████████████████████████████████████████████████████████████████████████████████▉                                            | 1257/1744 [01:53<01:12,  6.72it/s]/ayb/vol2/home/dumerenkov/anaconda3/lib/python3.9/site-packages/Bio/PDB/Polypeptide.py:342: UserWarning: Assuming residue DDF is an unknown modified amino acid\n",
      "  warnings.warn(\n",
      " 73%|██████████████████████████████████████████████████████████████████████████████████████████████████████████████████▉                                           | 1268/1744 [01:54<00:46, 10.18it/s]/ayb/vol2/home/dumerenkov/anaconda3/lib/python3.9/site-packages/Bio/PDB/Polypeptide.py:342: UserWarning: Assuming residue DDF is an unknown modified amino acid\n",
      "  warnings.warn(\n",
      " 74%|█████████████████████████████████████████████████████████████████████████████████████████████████████████████████████▎                                        | 1295/1744 [01:56<00:28, 15.59it/s]/ayb/vol2/home/dumerenkov/anaconda3/lib/python3.9/site-packages/Bio/PDB/Polypeptide.py:342: UserWarning: Assuming residue DDF is an unknown modified amino acid\n",
      "  warnings.warn(\n",
      " 76%|███████████████████████████████████████████████████████████████████████████████████████████████████████████████████████▊                                      | 1323/1744 [01:59<00:31, 13.51it/s]/ayb/vol2/home/dumerenkov/anaconda3/lib/python3.9/site-packages/Bio/PDB/Polypeptide.py:342: UserWarning: Assuming residue DDF is an unknown modified amino acid\n",
      "  warnings.warn(\n",
      " 77%|█████████████████████████████████████████████████████████████████████████████████████████████████████████████████████████▍                                    | 1341/1744 [02:00<00:38, 10.56it/s]/ayb/vol2/home/dumerenkov/anaconda3/lib/python3.9/site-packages/Bio/PDB/Polypeptide.py:342: UserWarning: Assuming residue DDF is an unknown modified amino acid\n",
      "  warnings.warn(\n",
      " 78%|███████████████████████████████████████████████████████████████████████████████████████████████████████████████████████████▍                                  | 1362/1744 [02:03<00:32, 11.76it/s]/ayb/vol2/home/dumerenkov/anaconda3/lib/python3.9/site-packages/Bio/PDB/Polypeptide.py:342: UserWarning: Assuming residue DDF is an unknown modified amino acid\n",
      "  warnings.warn(\n",
      " 79%|████████████████████████████████████████████████████████████████████████████████████████████████████████████████████████████▍                                 | 1374/1744 [02:04<00:29, 12.72it/s]/ayb/vol2/home/dumerenkov/anaconda3/lib/python3.9/site-packages/Bio/PDB/Polypeptide.py:342: UserWarning: Assuming residue DDF is an unknown modified amino acid\n",
      "  warnings.warn(\n",
      " 79%|█████████████████████████████████████████████████████████████████████████████████████████████████████████████████████████████▏                                | 1382/1744 [02:04<00:19, 18.32it/s]/ayb/vol2/home/dumerenkov/anaconda3/lib/python3.9/site-packages/Bio/PDB/Polypeptide.py:342: UserWarning: Assuming residue  CA is an unknown modified amino acid\n",
      "  warnings.warn(\n",
      " 81%|████████████████████████████████████████████████████████████████████████████████████████████████████████████████████████████████▎                             | 1416/1744 [02:07<00:24, 13.47it/s]/ayb/vol2/home/dumerenkov/anaconda3/lib/python3.9/site-packages/Bio/PDB/Polypeptide.py:342: UserWarning: Assuming residue DDF is an unknown modified amino acid\n",
      "  warnings.warn(\n",
      " 82%|█████████████████████████████████████████████████████████████████████████████████████████████████████████████████████████████████                             | 1424/1744 [02:07<00:17, 18.72it/s]/ayb/vol2/home/dumerenkov/anaconda3/lib/python3.9/site-packages/Bio/PDB/Polypeptide.py:342: UserWarning: Assuming residue PLM is an unknown modified amino acid\n",
      "  warnings.warn(\n",
      " 82%|█████████████████████████████████████████████████████████████████████████████████████████████████████████████████████████████████▋                            | 1432/1744 [02:07<00:14, 20.81it/s]/ayb/vol2/home/dumerenkov/anaconda3/lib/python3.9/site-packages/Bio/PDB/Polypeptide.py:342: UserWarning: Assuming residue PLM is an unknown modified amino acid\n",
      "  warnings.warn(\n",
      " 83%|███████████████████████████████████████████████████████████████████████████████████████████████████████████████████████████████████▍                          | 1451/1744 [02:10<00:55,  5.26it/s]/ayb/vol2/home/dumerenkov/anaconda3/lib/python3.9/site-packages/Bio/PDB/Polypeptide.py:342: UserWarning: Assuming residue  CA is an unknown modified amino acid\n",
      "  warnings.warn(\n",
      " 85%|█████████████████████████████████████████████████████████████████████████████████████████████████████████████████████████████████████▋                        | 1476/1744 [02:12<00:26, 10.23it/s]/ayb/vol2/home/dumerenkov/anaconda3/lib/python3.9/site-packages/Bio/PDB/Polypeptide.py:342: UserWarning: Assuming residue  CA is an unknown modified amino acid\n",
      "  warnings.warn(\n",
      " 86%|████████████████████████████████████████████████████████████████████████████████████████████████████████████████████████████████████████▍                     | 1506/1744 [02:15<00:19, 11.96it/s]/ayb/vol2/home/dumerenkov/anaconda3/lib/python3.9/site-packages/Bio/PDB/Polypeptide.py:342: UserWarning: Assuming residue PLM is an unknown modified amino acid\n",
      "  warnings.warn(\n",
      " 87%|█████████████████████████████████████████████████████████████████████████████████████████████████████████████████████████████████████████                     | 1513/1744 [02:16<00:21, 10.95it/s]/ayb/vol2/home/dumerenkov/anaconda3/lib/python3.9/site-packages/Bio/PDB/Polypeptide.py:342: UserWarning: Assuming residue DDF is an unknown modified amino acid\n",
      "  warnings.warn(\n",
      " 88%|██████████████████████████████████████████████████████████████████████████████████████████████████████████████████████████████████████████▍                   | 1528/1744 [02:17<00:11, 19.57it/s]/ayb/vol2/home/dumerenkov/anaconda3/lib/python3.9/site-packages/Bio/PDB/Polypeptide.py:342: UserWarning: Assuming residue DDF is an unknown modified amino acid\n",
      "  warnings.warn(\n",
      " 88%|███████████████████████████████████████████████████████████████████████████████████████████████████████████████████████████████████████████▏                  | 1537/1744 [02:18<00:15, 13.40it/s]/ayb/vol2/home/dumerenkov/anaconda3/lib/python3.9/site-packages/Bio/PDB/Polypeptide.py:342: UserWarning: Assuming residue  CA is an unknown modified amino acid\n",
      "  warnings.warn(\n",
      "/ayb/vol2/home/dumerenkov/anaconda3/lib/python3.9/site-packages/Bio/PDB/Polypeptide.py:342: UserWarning: Assuming residue DDF is an unknown modified amino acid\n",
      "  warnings.warn(\n",
      " 88%|███████████████████████████████████████████████████████████████████████████████████████████████████████████████████████████████████████████▌                  | 1541/1744 [02:18<00:14, 14.28it/s]/ayb/vol2/home/dumerenkov/anaconda3/lib/python3.9/site-packages/Bio/PDB/Polypeptide.py:342: UserWarning: Assuming residue DDF is an unknown modified amino acid\n",
      "  warnings.warn(\n"
     ]
    },
    {
     "name": "stderr",
     "output_type": "stream",
     "text": [
      " 89%|████████████████████████████████████████████████████████████████████████████████████████████████████████████████████████████████████████████                  | 1546/1744 [02:18<00:16, 12.16it/s]/ayb/vol2/home/dumerenkov/anaconda3/lib/python3.9/site-packages/Bio/PDB/Polypeptide.py:342: UserWarning: Assuming residue  CA is an unknown modified amino acid\n",
      "  warnings.warn(\n",
      " 91%|███████████████████████████████████████████████████████████████████████████████████████████████████████████████████████████████████████████████▍              | 1583/1744 [02:24<00:33,  4.74it/s]/ayb/vol2/home/dumerenkov/anaconda3/lib/python3.9/site-packages/Bio/PDB/Polypeptide.py:342: UserWarning: Assuming residue DDF is an unknown modified amino acid\n",
      "  warnings.warn(\n",
      " 92%|████████████████████████████████████████████████████████████████████████████████████████████████████████████████████████████████████████████████▌             | 1596/1744 [02:26<00:35,  4.21it/s]/ayb/vol2/home/dumerenkov/anaconda3/lib/python3.9/site-packages/Bio/PDB/Polypeptide.py:342: UserWarning: Assuming residue DDF is an unknown modified amino acid\n",
      "  warnings.warn(\n",
      " 92%|████████████████████████████████████████████████████████████████████████████████████████████████████████████████████████████████████████████████▊             | 1598/1744 [02:27<00:35,  4.13it/s]/ayb/vol2/home/dumerenkov/anaconda3/lib/python3.9/site-packages/Bio/PDB/Polypeptide.py:342: UserWarning: Assuming residue  CA is an unknown modified amino acid\n",
      "  warnings.warn(\n",
      "/ayb/vol2/home/dumerenkov/anaconda3/lib/python3.9/site-packages/Bio/PDB/Polypeptide.py:342: UserWarning: Assuming residue DDF is an unknown modified amino acid\n",
      "  warnings.warn(\n",
      " 93%|███████████████████████████████████████████████████████████████████████████████████████████████████████████████████████████████████████████████████▌          | 1629/1744 [02:29<00:15,  7.62it/s]/ayb/vol2/home/dumerenkov/anaconda3/lib/python3.9/site-packages/Bio/PDB/Polypeptide.py:342: UserWarning: Assuming residue DDF is an unknown modified amino acid\n",
      "  warnings.warn(\n",
      " 94%|████████████████████████████████████████████████████████████████████████████████████████████████████████████████████████████████████████████████████▊         | 1642/1744 [02:30<00:10, 10.17it/s]/ayb/vol2/home/dumerenkov/anaconda3/lib/python3.9/site-packages/Bio/PDB/Polypeptide.py:342: UserWarning: Assuming residue DDF is an unknown modified amino acid\n",
      "  warnings.warn(\n",
      " 95%|█████████████████████████████████████████████████████████████████████████████████████████████████████████████████████████████████████████████████████▊        | 1653/1744 [02:31<00:09,  9.62it/s]/ayb/vol2/home/dumerenkov/anaconda3/lib/python3.9/site-packages/Bio/PDB/Polypeptide.py:342: UserWarning: Assuming residue DDF is an unknown modified amino acid\n",
      "  warnings.warn(\n",
      " 96%|███████████████████████████████████████████████████████████████████████████████████████████████████████████████████████████████████████████████████████▎      | 1670/1744 [02:32<00:04, 14.96it/s]/ayb/vol2/home/dumerenkov/anaconda3/lib/python3.9/site-packages/Bio/PDB/Polypeptide.py:342: UserWarning: Assuming residue DDF is an unknown modified amino acid\n",
      "  warnings.warn(\n",
      " 96%|████████████████████████████████████████████████████████████████████████████████████████████████████████████████████████████████████████████████████████      | 1679/1744 [02:33<00:03, 16.78it/s]/ayb/vol2/home/dumerenkov/anaconda3/lib/python3.9/site-packages/Bio/PDB/Polypeptide.py:342: UserWarning: Assuming residue PLM is an unknown modified amino acid\n",
      "  warnings.warn(\n",
      " 97%|████████████████████████████████████████████████████████████████████████████████████████████████████████████████████████████████████████████████████████▋     | 1686/1744 [02:33<00:04, 13.98it/s]/ayb/vol2/home/dumerenkov/anaconda3/lib/python3.9/site-packages/Bio/PDB/Polypeptide.py:342: UserWarning: Assuming residue DDF is an unknown modified amino acid\n",
      "  warnings.warn(\n",
      " 98%|██████████████████████████████████████████████████████████████████████████████████████████████████████████████████████████████████████████████████████████▍   | 1705/1744 [02:36<00:03, 10.52it/s]/ayb/vol2/home/dumerenkov/anaconda3/lib/python3.9/site-packages/Bio/PDB/Polypeptide.py:342: UserWarning: Assuming residue DDF is an unknown modified amino acid\n",
      "  warnings.warn(\n",
      " 98%|███████████████████████████████████████████████████████████████████████████████████████████████████████████████████████████████████████████████████████████▏  | 1713/1744 [02:36<00:01, 16.16it/s]/ayb/vol2/home/dumerenkov/anaconda3/lib/python3.9/site-packages/Bio/PDB/Polypeptide.py:342: UserWarning: Assuming residue DDF is an unknown modified amino acid\n",
      "  warnings.warn(\n",
      " 99%|███████████████████████████████████████████████████████████████████████████████████████████████████████████████████████████████████████████████████████████▋  | 1718/1744 [02:36<00:01, 21.44it/s]/ayb/vol2/home/dumerenkov/anaconda3/lib/python3.9/site-packages/Bio/PDB/Polypeptide.py:342: UserWarning: Assuming residue  CA is an unknown modified amino acid\n",
      "  warnings.warn(\n",
      " 99%|███████████████████████████████████████████████████████████████████████████████████████████████████████████████████████████████████████████████████████████▉  | 1721/1744 [02:36<00:01, 19.07it/s]/ayb/vol2/home/dumerenkov/anaconda3/lib/python3.9/site-packages/Bio/PDB/Polypeptide.py:342: UserWarning: Assuming residue PLM is an unknown modified amino acid\n",
      "  warnings.warn(\n",
      " 99%|████████████████████████████████████████████████████████████████████████████████████████████████████████████████████████████████████████████████████████████▎ | 1726/1744 [02:37<00:00, 23.98it/s]/ayb/vol2/home/dumerenkov/anaconda3/lib/python3.9/site-packages/Bio/PDB/Polypeptide.py:342: UserWarning: Assuming residue DDF is an unknown modified amino acid\n",
      "  warnings.warn(\n",
      " 99%|█████████████████████████████████████████████████████████████████████████████████████████████████████████████████████████████████████████████████████████████ | 1734/1744 [02:38<00:00, 11.72it/s]/ayb/vol2/home/dumerenkov/anaconda3/lib/python3.9/site-packages/Bio/PDB/Polypeptide.py:342: UserWarning: Assuming residue DDF is an unknown modified amino acid\n",
      "  warnings.warn(\n",
      "100%|██████████████████████████████████████████████████████████████████████████████████████████████████████████████████████████████████████████████████████████████| 1744/1744 [02:38<00:00, 10.97it/s]\n"
     ]
    }
   ],
   "source": [
    "wt = []\n",
    "mut = []\n",
    "ddg = []\n",
    "pdb_ids = []\n",
    "mut_infos = []\n",
    "poss = []\n",
    "\n",
    "verbatim_pdb_ids = {'1LVEA'}\n",
    "\n",
    "\n",
    "print('Processing S3488')\n",
    "\n",
    "for idx in tqdm(range(len(df_1744))):\n",
    "    pdb_id = df_1744.iloc[idx]['PDB_CHAIN']\n",
    "    wild_aa = df_1744.iloc[idx]['WILD_RES']\n",
    "    pos = str(df_1744.iloc[idx]['POSITION'])\n",
    "    mutant_aa = df_1744.iloc[idx]['MUTANT_RES']\n",
    "    exp_ddg = df_1744.iloc[idx]['EXP_DDG']\n",
    "        \n",
    "    _, _, sequence, pdb2seq_pos, seq2pdb_pos = pdb2info(f'PDB/{pdb_id[:4]}.pdb', pdb_id[-1])\n",
    "    \n",
    "    if pdb_id in verbatim_pdb_ids:\n",
    "        seq2pdb_pos = {str(i):str(i) for i in range(len(sequence))}\n",
    "    \n",
    "    if pos not in seq2pdb_pos:\n",
    "        print(f'Indexing error for {pdb_id} position {pos} not present in mapping {seq2pdb_pos}')\n",
    "        \n",
    "    else:\n",
    "        if sequence[int(seq2pdb_pos[pos])-1]!=wild_aa:\n",
    "            print(f'Error for {pdb_id} expected {wild_aa} at position {pos} ')\n",
    "            print(f'Sequence is {sequence}')\n",
    "            print(f'Mapping is {seq2pdb_pos}')\n",
    "        \n",
    "        else:\n",
    "            wt.append(sequence)\n",
    "            tt = list(sequence)\n",
    "            tt[int(seq2pdb_pos[pos])-1] = mutant_aa\n",
    "            poss.append(int(seq2pdb_pos[pos])-1)\n",
    "            mut.append(''.join(tt))\n",
    "            ddg.append(-1*exp_ddg)\n",
    "            pdb_ids.append(pdb_id)\n",
    "            mut_infos.append(str(wild_aa) + pos + str(mutant_aa))\n",
    "            \n",
    "            mut.append(sequence)\n",
    "            tt = list(sequence)\n",
    "            tt[int(seq2pdb_pos[pos])-1] = mutant_aa\n",
    "            poss.append(int(seq2pdb_pos[pos])-1)\n",
    "            wt.append(''.join(tt))\n",
    "            ddg.append(exp_ddg)\n",
    "            pdb_ids.append(pdb_id)\n",
    "            mut_infos.append(str(wild_aa) + pos + str(mutant_aa))"
   ]
  },
  {
   "cell_type": "code",
   "execution_count": 12,
   "id": "f7c63e26",
   "metadata": {},
   "outputs": [],
   "source": [
    "pd.DataFrame({'wt_seq': wt, \n",
    "              'mut_seq': mut ,\n",
    "              'ddg': ddg, \n",
    "              'pdb_id': pdb_ids, \n",
    "              'mut_info': mut_infos,\n",
    "              'pos': poss}).to_csv('DATASETS/S3488.csv')"
   ]
  },
  {
   "cell_type": "markdown",
   "id": "9e0501e5",
   "metadata": {},
   "source": [
    "# S3421"
   ]
  },
  {
   "cell_type": "code",
   "execution_count": 13,
   "id": "a1176540",
   "metadata": {
    "scrolled": true
   },
   "outputs": [
    {
     "name": "stderr",
     "output_type": "stream",
     "text": [
      "/tmp/ipykernel_10906/2764013025.py:1: ParserWarning: Length of header or names does not match length of data. This leads to a loss of data with index_col=False.\n",
      "  df_3421 = pd.read_csv('DATA/Q3421.txt', sep = '\\t', skiprows = 2, index_col=False,\n"
     ]
    }
   ],
   "source": [
    "df_3421 = pd.read_csv('DATA/Q3421.txt', sep = '\\t', skiprows = 2, index_col=False,\n",
    "                      names = ['PDB_ID', 'PDB_CHAIN', 'POSITION', 'WILD_RES', 'MUTANT_RES', 'EXP_DDG', 'T', 'PH', 'POS2'])"
   ]
  },
  {
   "cell_type": "code",
   "execution_count": 14,
   "id": "f27fa5bf",
   "metadata": {},
   "outputs": [
    {
     "name": "stdout",
     "output_type": "stream",
     "text": [
      "Total dataset length 3421\n",
      "Total number of different chains in dataset 148\n"
     ]
    }
   ],
   "source": [
    "print('Total dataset length', len(df_3421))\n",
    "pdb_ids = list(set([t.split()[0].upper() for t in df_3421.PDB_ID.to_list()]))\n",
    "print('Total number of different chains in dataset', len(pdb_ids))"
   ]
  },
  {
   "cell_type": "code",
   "execution_count": 15,
   "id": "d80a2c00",
   "metadata": {
    "scrolled": true
   },
   "outputs": [],
   "source": [
    "for pdb_id in pdb_ids:\n",
    "    if not os.path.isfile(f\"PDB/{pdb_id[:4]}.pdb\"):\n",
    "        with open(f\"PDB/{pdb_id[:4]}.pdb\", \"w\") as fh:\n",
    "            fh.write(pdb_client.get_pdb_file(f\"{pdb_id[:4]}\", compression=False))"
   ]
  },
  {
   "cell_type": "code",
   "execution_count": 16,
   "id": "de585b1a",
   "metadata": {},
   "outputs": [
    {
     "name": "stdout",
     "output_type": "stream",
     "text": [
      "Processing S3421\n"
     ]
    },
    {
     "name": "stderr",
     "output_type": "stream",
     "text": [
      "  7%|███████████                                                                                                                                                    | 237/3421 [00:44<01:49, 29.14it/s]/ayb/vol2/home/dumerenkov/anaconda3/lib/python3.9/site-packages/Bio/PDB/Polypeptide.py:342: UserWarning: Assuming residue PLM is an unknown modified amino acid\n",
      "  warnings.warn(\n",
      " 12%|███████████████████▎                                                                                                                                           | 416/3421 [00:54<03:12, 15.63it/s]/ayb/vol2/home/dumerenkov/anaconda3/lib/python3.9/site-packages/Bio/PDB/Polypeptide.py:342: UserWarning: Assuming residue  CA is an unknown modified amino acid\n",
      "  warnings.warn(\n",
      "/ayb/vol2/home/dumerenkov/anaconda3/lib/python3.9/site-packages/Bio/PDB/Polypeptide.py:342: UserWarning: Assuming residue  CA is an unknown modified amino acid\n",
      "  warnings.warn(\n",
      "/ayb/vol2/home/dumerenkov/anaconda3/lib/python3.9/site-packages/Bio/PDB/Polypeptide.py:342: UserWarning: Assuming residue  CA is an unknown modified amino acid\n",
      "  warnings.warn(\n",
      "/ayb/vol2/home/dumerenkov/anaconda3/lib/python3.9/site-packages/Bio/PDB/Polypeptide.py:342: UserWarning: Assuming residue  CA is an unknown modified amino acid\n",
      "  warnings.warn(\n",
      " 12%|███████████████████▌                                                                                                                                           | 421/3421 [00:54<02:14, 22.35it/s]/ayb/vol2/home/dumerenkov/anaconda3/lib/python3.9/site-packages/Bio/PDB/Polypeptide.py:342: UserWarning: Assuming residue  CA is an unknown modified amino acid\n",
      "  warnings.warn(\n",
      "/ayb/vol2/home/dumerenkov/anaconda3/lib/python3.9/site-packages/Bio/PDB/Polypeptide.py:342: UserWarning: Assuming residue  CA is an unknown modified amino acid\n",
      "  warnings.warn(\n",
      "/ayb/vol2/home/dumerenkov/anaconda3/lib/python3.9/site-packages/Bio/PDB/Polypeptide.py:342: UserWarning: Assuming residue  CA is an unknown modified amino acid\n",
      "  warnings.warn(\n",
      "/ayb/vol2/home/dumerenkov/anaconda3/lib/python3.9/site-packages/Bio/PDB/Polypeptide.py:342: UserWarning: Assuming residue  CA is an unknown modified amino acid\n",
      "  warnings.warn(\n",
      " 12%|███████████████████▊                                                                                                                                           | 425/3421 [00:55<02:17, 21.82it/s]/ayb/vol2/home/dumerenkov/anaconda3/lib/python3.9/site-packages/Bio/PDB/Polypeptide.py:342: UserWarning: Assuming residue  CA is an unknown modified amino acid\n",
      "  warnings.warn(\n",
      " 22%|███████████████████████████████████▍                                                                                                                           | 762/3421 [01:26<01:18, 33.95it/s]/ayb/vol2/home/dumerenkov/anaconda3/lib/python3.9/site-packages/Bio/PDB/Polypeptide.py:342: UserWarning: Assuming residue  CA is an unknown modified amino acid\n",
      "  warnings.warn(\n",
      "/ayb/vol2/home/dumerenkov/anaconda3/lib/python3.9/site-packages/Bio/PDB/Polypeptide.py:342: UserWarning: Assuming residue  CA is an unknown modified amino acid\n",
      "  warnings.warn(\n",
      " 22%|███████████████████████████████████▌                                                                                                                           | 766/3421 [01:26<01:39, 26.66it/s]/ayb/vol2/home/dumerenkov/anaconda3/lib/python3.9/site-packages/Bio/PDB/Polypeptide.py:342: UserWarning: Assuming residue  CA is an unknown modified amino acid\n",
      "  warnings.warn(\n",
      "/ayb/vol2/home/dumerenkov/anaconda3/lib/python3.9/site-packages/Bio/PDB/Polypeptide.py:342: UserWarning: Assuming residue  CA is an unknown modified amino acid\n",
      "  warnings.warn(\n",
      " 26%|█████████████████████████████████████████▋                                                                                                                     | 898/3421 [01:31<01:14, 34.00it/s]/ayb/vol2/home/dumerenkov/anaconda3/lib/python3.9/site-packages/Bio/PDB/Polypeptide.py:342: UserWarning: Assuming residue  CA is an unknown modified amino acid\n",
      "  warnings.warn(\n",
      "/ayb/vol2/home/dumerenkov/anaconda3/lib/python3.9/site-packages/Bio/PDB/Polypeptide.py:342: UserWarning: Assuming residue  CA is an unknown modified amino acid\n",
      "  warnings.warn(\n",
      "/ayb/vol2/home/dumerenkov/anaconda3/lib/python3.9/site-packages/Bio/PDB/Polypeptide.py:342: UserWarning: Assuming residue  CA is an unknown modified amino acid\n",
      "  warnings.warn(\n",
      " 26%|█████████████████████████████████████████▉                                                                                                                     | 902/3421 [01:31<01:12, 34.59it/s]/ayb/vol2/home/dumerenkov/anaconda3/lib/python3.9/site-packages/Bio/PDB/Polypeptide.py:342: UserWarning: Assuming residue  CA is an unknown modified amino acid\n",
      "  warnings.warn(\n",
      "/ayb/vol2/home/dumerenkov/anaconda3/lib/python3.9/site-packages/Bio/PDB/Polypeptide.py:342: UserWarning: Assuming residue  CA is an unknown modified amino acid\n",
      "  warnings.warn(\n",
      "/ayb/vol2/home/dumerenkov/anaconda3/lib/python3.9/site-packages/Bio/PDB/Polypeptide.py:342: UserWarning: Assuming residue  CA is an unknown modified amino acid\n",
      "  warnings.warn(\n",
      "/ayb/vol2/home/dumerenkov/anaconda3/lib/python3.9/site-packages/Bio/PDB/Polypeptide.py:342: UserWarning: Assuming residue  CA is an unknown modified amino acid\n",
      "  warnings.warn(\n",
      " 26%|██████████████████████████████████████████                                                                                                                     | 906/3421 [01:31<01:28, 28.54it/s]/ayb/vol2/home/dumerenkov/anaconda3/lib/python3.9/site-packages/Bio/PDB/Polypeptide.py:342: UserWarning: Assuming residue  CA is an unknown modified amino acid\n",
      "  warnings.warn(\n",
      "/ayb/vol2/home/dumerenkov/anaconda3/lib/python3.9/site-packages/Bio/PDB/Polypeptide.py:342: UserWarning: Assuming residue  CA is an unknown modified amino acid\n",
      "  warnings.warn(\n",
      "/ayb/vol2/home/dumerenkov/anaconda3/lib/python3.9/site-packages/Bio/PDB/Polypeptide.py:342: UserWarning: Assuming residue  CA is an unknown modified amino acid\n",
      "  warnings.warn(\n",
      " 31%|████████████████████████████████████████████████▍                                                                                                             | 1048/3421 [01:40<06:16,  6.30it/s]"
     ]
    },
    {
     "name": "stdout",
     "output_type": "stream",
     "text": [
      "Error for 1LVEA expected Q at position 89 \n",
      "Sequence is DIVMTQSPDSLAVSLGERATINCKSSQSVLYSSNSKNYLAWYQQKPGQPPKLLIYWASTRESGVPDRFSGSGSGTDFTLTISSLQAEDVAVYYCQQYYSTPYSFGQGTKLEIKR\n",
      "Mapping is {'0': '0', '1': '1', '2': '2', '3': '3', '4': '4', '5': '5', '6': '6', '7': '7', '8': '8', '9': '9', '10': '10', '11': '11', '12': '12', '13': '13', '14': '14', '15': '15', '16': '16', '17': '17', '18': '18', '19': '19', '20': '20', '21': '21', '22': '22', '23': '23', '24': '24', '25': '25', '26': '26', '27': '27', '28': '28', '29': '29', '30': '30', '31': '31', '32': '32', '33': '33', '34': '34', '35': '35', '36': '36', '37': '37', '38': '38', '39': '39', '40': '40', '41': '41', '42': '42', '43': '43', '44': '44', '45': '45', '46': '46', '47': '47', '48': '48', '49': '49', '50': '50', '51': '51', '52': '52', '53': '53', '54': '54', '55': '55', '56': '56', '57': '57', '58': '58', '59': '59', '60': '60', '61': '61', '62': '62', '63': '63', '64': '64', '65': '65', '66': '66', '67': '67', '68': '68', '69': '69', '70': '70', '71': '71', '72': '72', '73': '73', '74': '74', '75': '75', '76': '76', '77': '77', '78': '78', '79': '79', '80': '80', '81': '81', '82': '82', '83': '83', '84': '84', '85': '85', '86': '86', '87': '87', '88': '88', '89': '89', '90': '90', '91': '91', '92': '92', '93': '93', '94': '94', '95': '95', '96': '96', '97': '97', '98': '98', '99': '99', '100': '100', '101': '101', '102': '102', '103': '103', '104': '104', '105': '105', '106': '106', '107': '107', '108': '108', '109': '109', '110': '110', '111': '111', '112': '112', '113': '113'}\n",
      "Error for 1LVEA expected Q at position 89 \n",
      "Sequence is DIVMTQSPDSLAVSLGERATINCKSSQSVLYSSNSKNYLAWYQQKPGQPPKLLIYWASTRESGVPDRFSGSGSGTDFTLTISSLQAEDVAVYYCQQYYSTPYSFGQGTKLEIKR\n",
      "Mapping is {'0': '0', '1': '1', '2': '2', '3': '3', '4': '4', '5': '5', '6': '6', '7': '7', '8': '8', '9': '9', '10': '10', '11': '11', '12': '12', '13': '13', '14': '14', '15': '15', '16': '16', '17': '17', '18': '18', '19': '19', '20': '20', '21': '21', '22': '22', '23': '23', '24': '24', '25': '25', '26': '26', '27': '27', '28': '28', '29': '29', '30': '30', '31': '31', '32': '32', '33': '33', '34': '34', '35': '35', '36': '36', '37': '37', '38': '38', '39': '39', '40': '40', '41': '41', '42': '42', '43': '43', '44': '44', '45': '45', '46': '46', '47': '47', '48': '48', '49': '49', '50': '50', '51': '51', '52': '52', '53': '53', '54': '54', '55': '55', '56': '56', '57': '57', '58': '58', '59': '59', '60': '60', '61': '61', '62': '62', '63': '63', '64': '64', '65': '65', '66': '66', '67': '67', '68': '68', '69': '69', '70': '70', '71': '71', '72': '72', '73': '73', '74': '74', '75': '75', '76': '76', '77': '77', '78': '78', '79': '79', '80': '80', '81': '81', '82': '82', '83': '83', '84': '84', '85': '85', '86': '86', '87': '87', '88': '88', '89': '89', '90': '90', '91': '91', '92': '92', '93': '93', '94': '94', '95': '95', '96': '96', '97': '97', '98': '98', '99': '99', '100': '100', '101': '101', '102': '102', '103': '103', '104': '104', '105': '105', '106': '106', '107': '107', '108': '108', '109': '109', '110': '110', '111': '111', '112': '112', '113': '113'}\n",
      "Error for 1LVEA expected Q at position 38 \n",
      "Sequence is DIVMTQSPDSLAVSLGERATINCKSSQSVLYSSNSKNYLAWYQQKPGQPPKLLIYWASTRESGVPDRFSGSGSGTDFTLTISSLQAEDVAVYYCQQYYSTPYSFGQGTKLEIKR\n",
      "Mapping is {'0': '0', '1': '1', '2': '2', '3': '3', '4': '4', '5': '5', '6': '6', '7': '7', '8': '8', '9': '9', '10': '10', '11': '11', '12': '12', '13': '13', '14': '14', '15': '15', '16': '16', '17': '17', '18': '18', '19': '19', '20': '20', '21': '21', '22': '22', '23': '23', '24': '24', '25': '25', '26': '26', '27': '27', '28': '28', '29': '29', '30': '30', '31': '31', '32': '32', '33': '33', '34': '34', '35': '35', '36': '36', '37': '37', '38': '38', '39': '39', '40': '40', '41': '41', '42': '42', '43': '43', '44': '44', '45': '45', '46': '46', '47': '47', '48': '48', '49': '49', '50': '50', '51': '51', '52': '52', '53': '53', '54': '54', '55': '55', '56': '56', '57': '57', '58': '58', '59': '59', '60': '60', '61': '61', '62': '62', '63': '63', '64': '64', '65': '65', '66': '66', '67': '67', '68': '68', '69': '69', '70': '70', '71': '71', '72': '72', '73': '73', '74': '74', '75': '75', '76': '76', '77': '77', '78': '78', '79': '79', '80': '80', '81': '81', '82': '82', '83': '83', '84': '84', '85': '85', '86': '86', '87': '87', '88': '88', '89': '89', '90': '90', '91': '91', '92': '92', '93': '93', '94': '94', '95': '95', '96': '96', '97': '97', '98': '98', '99': '99', '100': '100', '101': '101', '102': '102', '103': '103', '104': '104', '105': '105', '106': '106', '107': '107', '108': '108', '109': '109', '110': '110', '111': '111', '112': '112', '113': '113'}\n",
      "Error for 1LVEA expected S at position 97 \n",
      "Sequence is DIVMTQSPDSLAVSLGERATINCKSSQSVLYSSNSKNYLAWYQQKPGQPPKLLIYWASTRESGVPDRFSGSGSGTDFTLTISSLQAEDVAVYYCQQYYSTPYSFGQGTKLEIKR\n",
      "Mapping is {'0': '0', '1': '1', '2': '2', '3': '3', '4': '4', '5': '5', '6': '6', '7': '7', '8': '8', '9': '9', '10': '10', '11': '11', '12': '12', '13': '13', '14': '14', '15': '15', '16': '16', '17': '17', '18': '18', '19': '19', '20': '20', '21': '21', '22': '22', '23': '23', '24': '24', '25': '25', '26': '26', '27': '27', '28': '28', '29': '29', '30': '30', '31': '31', '32': '32', '33': '33', '34': '34', '35': '35', '36': '36', '37': '37', '38': '38', '39': '39', '40': '40', '41': '41', '42': '42', '43': '43', '44': '44', '45': '45', '46': '46', '47': '47', '48': '48', '49': '49', '50': '50', '51': '51', '52': '52', '53': '53', '54': '54', '55': '55', '56': '56', '57': '57', '58': '58', '59': '59', '60': '60', '61': '61', '62': '62', '63': '63', '64': '64', '65': '65', '66': '66', '67': '67', '68': '68', '69': '69', '70': '70', '71': '71', '72': '72', '73': '73', '74': '74', '75': '75', '76': '76', '77': '77', '78': '78', '79': '79', '80': '80', '81': '81', '82': '82', '83': '83', '84': '84', '85': '85', '86': '86', '87': '87', '88': '88', '89': '89', '90': '90', '91': '91', '92': '92', '93': '93', '94': '94', '95': '95', '96': '96', '97': '97', '98': '98', '99': '99', '100': '100', '101': '101', '102': '102', '103': '103', '104': '104', '105': '105', '106': '106', '107': '107', '108': '108', '109': '109', '110': '110', '111': '111', '112': '112', '113': '113'}\n",
      "Error for 1LVEA expected I at position 106 \n",
      "Sequence is DIVMTQSPDSLAVSLGERATINCKSSQSVLYSSNSKNYLAWYQQKPGQPPKLLIYWASTRESGVPDRFSGSGSGTDFTLTISSLQAEDVAVYYCQQYYSTPYSFGQGTKLEIKR\n",
      "Mapping is {'0': '0', '1': '1', '2': '2', '3': '3', '4': '4', '5': '5', '6': '6', '7': '7', '8': '8', '9': '9', '10': '10', '11': '11', '12': '12', '13': '13', '14': '14', '15': '15', '16': '16', '17': '17', '18': '18', '19': '19', '20': '20', '21': '21', '22': '22', '23': '23', '24': '24', '25': '25', '26': '26', '27': '27', '28': '28', '29': '29', '30': '30', '31': '31', '32': '32', '33': '33', '34': '34', '35': '35', '36': '36', '37': '37', '38': '38', '39': '39', '40': '40', '41': '41', '42': '42', '43': '43', '44': '44', '45': '45', '46': '46', '47': '47', '48': '48', '49': '49', '50': '50', '51': '51', '52': '52', '53': '53', '54': '54', '55': '55', '56': '56', '57': '57', '58': '58', '59': '59', '60': '60', '61': '61', '62': '62', '63': '63', '64': '64', '65': '65', '66': '66', '67': '67', '68': '68', '69': '69', '70': '70', '71': '71', '72': '72', '73': '73', '74': '74', '75': '75', '76': '76', '77': '77', '78': '78', '79': '79', '80': '80', '81': '81', '82': '82', '83': '83', '84': '84', '85': '85', '86': '86', '87': '87', '88': '88', '89': '89', '90': '90', '91': '91', '92': '92', '93': '93', '94': '94', '95': '95', '96': '96', '97': '97', '98': '98', '99': '99', '100': '100', '101': '101', '102': '102', '103': '103', '104': '104', '105': '105', '106': '106', '107': '107', '108': '108', '109': '109', '110': '110', '111': '111', '112': '112', '113': '113'}\n",
      "Error for 1LVEA expected N at position 28 \n",
      "Sequence is DIVMTQSPDSLAVSLGERATINCKSSQSVLYSSNSKNYLAWYQQKPGQPPKLLIYWASTRESGVPDRFSGSGSGTDFTLTISSLQAEDVAVYYCQQYYSTPYSFGQGTKLEIKR\n",
      "Mapping is {'0': '0', '1': '1', '2': '2', '3': '3', '4': '4', '5': '5', '6': '6', '7': '7', '8': '8', '9': '9', '10': '10', '11': '11', '12': '12', '13': '13', '14': '14', '15': '15', '16': '16', '17': '17', '18': '18', '19': '19', '20': '20', '21': '21', '22': '22', '23': '23', '24': '24', '25': '25', '26': '26', '27': '27', '28': '28', '29': '29', '30': '30', '31': '31', '32': '32', '33': '33', '34': '34', '35': '35', '36': '36', '37': '37', '38': '38', '39': '39', '40': '40', '41': '41', '42': '42', '43': '43', '44': '44', '45': '45', '46': '46', '47': '47', '48': '48', '49': '49', '50': '50', '51': '51', '52': '52', '53': '53', '54': '54', '55': '55', '56': '56', '57': '57', '58': '58', '59': '59', '60': '60', '61': '61', '62': '62', '63': '63', '64': '64', '65': '65', '66': '66', '67': '67', '68': '68', '69': '69', '70': '70', '71': '71', '72': '72', '73': '73', '74': '74', '75': '75', '76': '76', '77': '77', '78': '78', '79': '79', '80': '80', '81': '81', '82': '82', '83': '83', '84': '84', '85': '85', '86': '86', '87': '87', '88': '88', '89': '89', '90': '90', '91': '91', '92': '92', '93': '93', '94': '94', '95': '95', '96': '96', '97': '97', '98': '98', '99': '99', '100': '100', '101': '101', '102': '102', '103': '103', '104': '104', '105': '105', '106': '106', '107': '107', '108': '108', '109': '109', '110': '110', '111': '111', '112': '112', '113': '113'}\n",
      "Error for 1LVEA expected K at position 39 \n",
      "Sequence is DIVMTQSPDSLAVSLGERATINCKSSQSVLYSSNSKNYLAWYQQKPGQPPKLLIYWASTRESGVPDRFSGSGSGTDFTLTISSLQAEDVAVYYCQQYYSTPYSFGQGTKLEIKR\n",
      "Mapping is {'0': '0', '1': '1', '2': '2', '3': '3', '4': '4', '5': '5', '6': '6', '7': '7', '8': '8', '9': '9', '10': '10', '11': '11', '12': '12', '13': '13', '14': '14', '15': '15', '16': '16', '17': '17', '18': '18', '19': '19', '20': '20', '21': '21', '22': '22', '23': '23', '24': '24', '25': '25', '26': '26', '27': '27', '28': '28', '29': '29', '30': '30', '31': '31', '32': '32', '33': '33', '34': '34', '35': '35', '36': '36', '37': '37', '38': '38', '39': '39', '40': '40', '41': '41', '42': '42', '43': '43', '44': '44', '45': '45', '46': '46', '47': '47', '48': '48', '49': '49', '50': '50', '51': '51', '52': '52', '53': '53', '54': '54', '55': '55', '56': '56', '57': '57', '58': '58', '59': '59', '60': '60', '61': '61', '62': '62', '63': '63', '64': '64', '65': '65', '66': '66', '67': '67', '68': '68', '69': '69', '70': '70', '71': '71', '72': '72', '73': '73', '74': '74', '75': '75', '76': '76', '77': '77', '78': '78', '79': '79', '80': '80', '81': '81', '82': '82', '83': '83', '84': '84', '85': '85', '86': '86', '87': '87', '88': '88', '89': '89', '90': '90', '91': '91', '92': '92', '93': '93', '94': '94', '95': '95', '96': '96', '97': '97', '98': '98', '99': '99', '100': '100', '101': '101', '102': '102', '103': '103', '104': '104', '105': '105', '106': '106', '107': '107', '108': '108', '109': '109', '110': '110', '111': '111', '112': '112', '113': '113'}\n",
      "Error for 1LVEA expected K at position 30 \n",
      "Sequence is DIVMTQSPDSLAVSLGERATINCKSSQSVLYSSNSKNYLAWYQQKPGQPPKLLIYWASTRESGVPDRFSGSGSGTDFTLTISSLQAEDVAVYYCQQYYSTPYSFGQGTKLEIKR\n",
      "Mapping is {'0': '0', '1': '1', '2': '2', '3': '3', '4': '4', '5': '5', '6': '6', '7': '7', '8': '8', '9': '9', '10': '10', '11': '11', '12': '12', '13': '13', '14': '14', '15': '15', '16': '16', '17': '17', '18': '18', '19': '19', '20': '20', '21': '21', '22': '22', '23': '23', '24': '24', '25': '25', '26': '26', '27': '27', '28': '28', '29': '29', '30': '30', '31': '31', '32': '32', '33': '33', '34': '34', '35': '35', '36': '36', '37': '37', '38': '38', '39': '39', '40': '40', '41': '41', '42': '42', '43': '43', '44': '44', '45': '45', '46': '46', '47': '47', '48': '48', '49': '49', '50': '50', '51': '51', '52': '52', '53': '53', '54': '54', '55': '55', '56': '56', '57': '57', '58': '58', '59': '59', '60': '60', '61': '61', '62': '62', '63': '63', '64': '64', '65': '65', '66': '66', '67': '67', '68': '68', '69': '69', '70': '70', '71': '71', '72': '72', '73': '73', '74': '74', '75': '75', '76': '76', '77': '77', '78': '78', '79': '79', '80': '80', '81': '81', '82': '82', '83': '83', '84': '84', '85': '85', '86': '86', '87': '87', '88': '88', '89': '89', '90': '90', '91': '91', '92': '92', '93': '93', '94': '94', '95': '95', '96': '96', '97': '97', '98': '98', '99': '99', '100': '100', '101': '101', '102': '102', '103': '103', '104': '104', '105': '105', '106': '106', '107': '107', '108': '108', '109': '109', '110': '110', '111': '111', '112': '112', '113': '113'}\n",
      "Error for 1LVEA expected K at position 30 \n",
      "Sequence is DIVMTQSPDSLAVSLGERATINCKSSQSVLYSSNSKNYLAWYQQKPGQPPKLLIYWASTRESGVPDRFSGSGSGTDFTLTISSLQAEDVAVYYCQQYYSTPYSFGQGTKLEIKR\n",
      "Mapping is {'0': '0', '1': '1', '2': '2', '3': '3', '4': '4', '5': '5', '6': '6', '7': '7', '8': '8', '9': '9', '10': '10', '11': '11', '12': '12', '13': '13', '14': '14', '15': '15', '16': '16', '17': '17', '18': '18', '19': '19', '20': '20', '21': '21', '22': '22', '23': '23', '24': '24', '25': '25', '26': '26', '27': '27', '28': '28', '29': '29', '30': '30', '31': '31', '32': '32', '33': '33', '34': '34', '35': '35', '36': '36', '37': '37', '38': '38', '39': '39', '40': '40', '41': '41', '42': '42', '43': '43', '44': '44', '45': '45', '46': '46', '47': '47', '48': '48', '49': '49', '50': '50', '51': '51', '52': '52', '53': '53', '54': '54', '55': '55', '56': '56', '57': '57', '58': '58', '59': '59', '60': '60', '61': '61', '62': '62', '63': '63', '64': '64', '65': '65', '66': '66', '67': '67', '68': '68', '69': '69', '70': '70', '71': '71', '72': '72', '73': '73', '74': '74', '75': '75', '76': '76', '77': '77', '78': '78', '79': '79', '80': '80', '81': '81', '82': '82', '83': '83', '84': '84', '85': '85', '86': '86', '87': '87', '88': '88', '89': '89', '90': '90', '91': '91', '92': '92', '93': '93', '94': '94', '95': '95', '96': '96', '97': '97', '98': '98', '99': '99', '100': '100', '101': '101', '102': '102', '103': '103', '104': '104', '105': '105', '106': '106', '107': '107', '108': '108', '109': '109', '110': '110', '111': '111', '112': '112', '113': '113'}\n"
     ]
    },
    {
     "name": "stderr",
     "output_type": "stream",
     "text": [
      " 31%|████████████████████████████████████████████████▊                                                                                                             | 1058/3421 [01:40<03:01, 12.99it/s]"
     ]
    },
    {
     "name": "stdout",
     "output_type": "stream",
     "text": [
      "Error for 1LVEA expected S at position 29 \n",
      "Sequence is DIVMTQSPDSLAVSLGERATINCKSSQSVLYSSNSKNYLAWYQQKPGQPPKLLIYWASTRESGVPDRFSGSGSGTDFTLTISSLQAEDVAVYYCQQYYSTPYSFGQGTKLEIKR\n",
      "Mapping is {'0': '0', '1': '1', '2': '2', '3': '3', '4': '4', '5': '5', '6': '6', '7': '7', '8': '8', '9': '9', '10': '10', '11': '11', '12': '12', '13': '13', '14': '14', '15': '15', '16': '16', '17': '17', '18': '18', '19': '19', '20': '20', '21': '21', '22': '22', '23': '23', '24': '24', '25': '25', '26': '26', '27': '27', '28': '28', '29': '29', '30': '30', '31': '31', '32': '32', '33': '33', '34': '34', '35': '35', '36': '36', '37': '37', '38': '38', '39': '39', '40': '40', '41': '41', '42': '42', '43': '43', '44': '44', '45': '45', '46': '46', '47': '47', '48': '48', '49': '49', '50': '50', '51': '51', '52': '52', '53': '53', '54': '54', '55': '55', '56': '56', '57': '57', '58': '58', '59': '59', '60': '60', '61': '61', '62': '62', '63': '63', '64': '64', '65': '65', '66': '66', '67': '67', '68': '68', '69': '69', '70': '70', '71': '71', '72': '72', '73': '73', '74': '74', '75': '75', '76': '76', '77': '77', '78': '78', '79': '79', '80': '80', '81': '81', '82': '82', '83': '83', '84': '84', '85': '85', '86': '86', '87': '87', '88': '88', '89': '89', '90': '90', '91': '91', '92': '92', '93': '93', '94': '94', '95': '95', '96': '96', '97': '97', '98': '98', '99': '99', '100': '100', '101': '101', '102': '102', '103': '103', '104': '104', '105': '105', '106': '106', '107': '107', '108': '108', '109': '109', '110': '110', '111': '111', '112': '112', '113': '113'}\n",
      "Error for 1LVEA expected T at position 94 \n",
      "Sequence is DIVMTQSPDSLAVSLGERATINCKSSQSVLYSSNSKNYLAWYQQKPGQPPKLLIYWASTRESGVPDRFSGSGSGTDFTLTISSLQAEDVAVYYCQQYYSTPYSFGQGTKLEIKR\n",
      "Mapping is {'0': '0', '1': '1', '2': '2', '3': '3', '4': '4', '5': '5', '6': '6', '7': '7', '8': '8', '9': '9', '10': '10', '11': '11', '12': '12', '13': '13', '14': '14', '15': '15', '16': '16', '17': '17', '18': '18', '19': '19', '20': '20', '21': '21', '22': '22', '23': '23', '24': '24', '25': '25', '26': '26', '27': '27', '28': '28', '29': '29', '30': '30', '31': '31', '32': '32', '33': '33', '34': '34', '35': '35', '36': '36', '37': '37', '38': '38', '39': '39', '40': '40', '41': '41', '42': '42', '43': '43', '44': '44', '45': '45', '46': '46', '47': '47', '48': '48', '49': '49', '50': '50', '51': '51', '52': '52', '53': '53', '54': '54', '55': '55', '56': '56', '57': '57', '58': '58', '59': '59', '60': '60', '61': '61', '62': '62', '63': '63', '64': '64', '65': '65', '66': '66', '67': '67', '68': '68', '69': '69', '70': '70', '71': '71', '72': '72', '73': '73', '74': '74', '75': '75', '76': '76', '77': '77', '78': '78', '79': '79', '80': '80', '81': '81', '82': '82', '83': '83', '84': '84', '85': '85', '86': '86', '87': '87', '88': '88', '89': '89', '90': '90', '91': '91', '92': '92', '93': '93', '94': '94', '95': '95', '96': '96', '97': '97', '98': '98', '99': '99', '100': '100', '101': '101', '102': '102', '103': '103', '104': '104', '105': '105', '106': '106', '107': '107', '108': '108', '109': '109', '110': '110', '111': '111', '112': '112', '113': '113'}\n",
      "Error for 1LVEA expected Y at position 96 \n",
      "Sequence is DIVMTQSPDSLAVSLGERATINCKSSQSVLYSSNSKNYLAWYQQKPGQPPKLLIYWASTRESGVPDRFSGSGSGTDFTLTISSLQAEDVAVYYCQQYYSTPYSFGQGTKLEIKR\n",
      "Mapping is {'0': '0', '1': '1', '2': '2', '3': '3', '4': '4', '5': '5', '6': '6', '7': '7', '8': '8', '9': '9', '10': '10', '11': '11', '12': '12', '13': '13', '14': '14', '15': '15', '16': '16', '17': '17', '18': '18', '19': '19', '20': '20', '21': '21', '22': '22', '23': '23', '24': '24', '25': '25', '26': '26', '27': '27', '28': '28', '29': '29', '30': '30', '31': '31', '32': '32', '33': '33', '34': '34', '35': '35', '36': '36', '37': '37', '38': '38', '39': '39', '40': '40', '41': '41', '42': '42', '43': '43', '44': '44', '45': '45', '46': '46', '47': '47', '48': '48', '49': '49', '50': '50', '51': '51', '52': '52', '53': '53', '54': '54', '55': '55', '56': '56', '57': '57', '58': '58', '59': '59', '60': '60', '61': '61', '62': '62', '63': '63', '64': '64', '65': '65', '66': '66', '67': '67', '68': '68', '69': '69', '70': '70', '71': '71', '72': '72', '73': '73', '74': '74', '75': '75', '76': '76', '77': '77', '78': '78', '79': '79', '80': '80', '81': '81', '82': '82', '83': '83', '84': '84', '85': '85', '86': '86', '87': '87', '88': '88', '89': '89', '90': '90', '91': '91', '92': '92', '93': '93', '94': '94', '95': '95', '96': '96', '97': '97', '98': '98', '99': '99', '100': '100', '101': '101', '102': '102', '103': '103', '104': '104', '105': '105', '106': '106', '107': '107', '108': '108', '109': '109', '110': '110', '111': '111', '112': '112', '113': '113'}\n",
      "Error for 1LVEA expected Y at position 96 \n",
      "Sequence is DIVMTQSPDSLAVSLGERATINCKSSQSVLYSSNSKNYLAWYQQKPGQPPKLLIYWASTRESGVPDRFSGSGSGTDFTLTISSLQAEDVAVYYCQQYYSTPYSFGQGTKLEIKR\n",
      "Mapping is {'0': '0', '1': '1', '2': '2', '3': '3', '4': '4', '5': '5', '6': '6', '7': '7', '8': '8', '9': '9', '10': '10', '11': '11', '12': '12', '13': '13', '14': '14', '15': '15', '16': '16', '17': '17', '18': '18', '19': '19', '20': '20', '21': '21', '22': '22', '23': '23', '24': '24', '25': '25', '26': '26', '27': '27', '28': '28', '29': '29', '30': '30', '31': '31', '32': '32', '33': '33', '34': '34', '35': '35', '36': '36', '37': '37', '38': '38', '39': '39', '40': '40', '41': '41', '42': '42', '43': '43', '44': '44', '45': '45', '46': '46', '47': '47', '48': '48', '49': '49', '50': '50', '51': '51', '52': '52', '53': '53', '54': '54', '55': '55', '56': '56', '57': '57', '58': '58', '59': '59', '60': '60', '61': '61', '62': '62', '63': '63', '64': '64', '65': '65', '66': '66', '67': '67', '68': '68', '69': '69', '70': '70', '71': '71', '72': '72', '73': '73', '74': '74', '75': '75', '76': '76', '77': '77', '78': '78', '79': '79', '80': '80', '81': '81', '82': '82', '83': '83', '84': '84', '85': '85', '86': '86', '87': '87', '88': '88', '89': '89', '90': '90', '91': '91', '92': '92', '93': '93', '94': '94', '95': '95', '96': '96', '97': '97', '98': '98', '99': '99', '100': '100', '101': '101', '102': '102', '103': '103', '104': '104', '105': '105', '106': '106', '107': '107', '108': '108', '109': '109', '110': '110', '111': '111', '112': '112', '113': '113'}\n",
      "Error for 1LVEA expected P at position 40 \n",
      "Sequence is DIVMTQSPDSLAVSLGERATINCKSSQSVLYSSNSKNYLAWYQQKPGQPPKLLIYWASTRESGVPDRFSGSGSGTDFTLTISSLQAEDVAVYYCQQYYSTPYSFGQGTKLEIKR\n",
      "Mapping is {'0': '0', '1': '1', '2': '2', '3': '3', '4': '4', '5': '5', '6': '6', '7': '7', '8': '8', '9': '9', '10': '10', '11': '11', '12': '12', '13': '13', '14': '14', '15': '15', '16': '16', '17': '17', '18': '18', '19': '19', '20': '20', '21': '21', '22': '22', '23': '23', '24': '24', '25': '25', '26': '26', '27': '27', '28': '28', '29': '29', '30': '30', '31': '31', '32': '32', '33': '33', '34': '34', '35': '35', '36': '36', '37': '37', '38': '38', '39': '39', '40': '40', '41': '41', '42': '42', '43': '43', '44': '44', '45': '45', '46': '46', '47': '47', '48': '48', '49': '49', '50': '50', '51': '51', '52': '52', '53': '53', '54': '54', '55': '55', '56': '56', '57': '57', '58': '58', '59': '59', '60': '60', '61': '61', '62': '62', '63': '63', '64': '64', '65': '65', '66': '66', '67': '67', '68': '68', '69': '69', '70': '70', '71': '71', '72': '72', '73': '73', '74': '74', '75': '75', '76': '76', '77': '77', '78': '78', '79': '79', '80': '80', '81': '81', '82': '82', '83': '83', '84': '84', '85': '85', '86': '86', '87': '87', '88': '88', '89': '89', '90': '90', '91': '91', '92': '92', '93': '93', '94': '94', '95': '95', '96': '96', '97': '97', '98': '98', '99': '99', '100': '100', '101': '101', '102': '102', '103': '103', '104': '104', '105': '105', '106': '106', '107': '107', '108': '108', '109': '109', '110': '110', '111': '111', '112': '112', '113': '113'}\n"
     ]
    },
    {
     "name": "stderr",
     "output_type": "stream",
     "text": [
      " 44%|████████████████████████████████████████████████████████████████████▊                                                                                         | 1491/3421 [02:18<00:58, 32.83it/s]/ayb/vol2/home/dumerenkov/anaconda3/lib/python3.9/site-packages/Bio/PDB/Polypeptide.py:342: UserWarning: Assuming residue  CA is an unknown modified amino acid\n",
      "  warnings.warn(\n",
      "/ayb/vol2/home/dumerenkov/anaconda3/lib/python3.9/site-packages/Bio/PDB/Polypeptide.py:342: UserWarning: Assuming residue  CA is an unknown modified amino acid\n",
      "  warnings.warn(\n",
      " 45%|███████████████████████████████████████████████████████████████████████▎                                                                                      | 1543/3421 [02:20<00:58, 31.91it/s]/ayb/vol2/home/dumerenkov/anaconda3/lib/python3.9/site-packages/Bio/PDB/Polypeptide.py:342: UserWarning: Assuming residue  CA is an unknown modified amino acid\n",
      "  warnings.warn(\n",
      " 45%|███████████████████████████████████████████████████████████████████████▍                                                                                      | 1547/3421 [02:20<00:56, 33.03it/s]/ayb/vol2/home/dumerenkov/anaconda3/lib/python3.9/site-packages/Bio/PDB/Polypeptide.py:342: UserWarning: Assuming residue  CA is an unknown modified amino acid\n",
      "  warnings.warn(\n",
      "/ayb/vol2/home/dumerenkov/anaconda3/lib/python3.9/site-packages/Bio/PDB/Polypeptide.py:342: UserWarning: Assuming residue  CA is an unknown modified amino acid\n",
      "  warnings.warn(\n",
      "/ayb/vol2/home/dumerenkov/anaconda3/lib/python3.9/site-packages/Bio/PDB/Polypeptide.py:342: UserWarning: Assuming residue DDF is an unknown modified amino acid\n",
      "  warnings.warn(\n",
      "/ayb/vol2/home/dumerenkov/anaconda3/lib/python3.9/site-packages/Bio/PDB/Polypeptide.py:342: UserWarning: Assuming residue DDF is an unknown modified amino acid\n",
      "  warnings.warn(\n",
      " 45%|███████████████████████████████████████████████████████████████████████▋                                                                                      | 1551/3421 [02:20<01:04, 28.87it/s]/ayb/vol2/home/dumerenkov/anaconda3/lib/python3.9/site-packages/Bio/PDB/Polypeptide.py:342: UserWarning: Assuming residue DDF is an unknown modified amino acid\n",
      "  warnings.warn(\n",
      "/ayb/vol2/home/dumerenkov/anaconda3/lib/python3.9/site-packages/Bio/PDB/Polypeptide.py:342: UserWarning: Assuming residue DDF is an unknown modified amino acid\n",
      "  warnings.warn(\n",
      "/ayb/vol2/home/dumerenkov/anaconda3/lib/python3.9/site-packages/Bio/PDB/Polypeptide.py:342: UserWarning: Assuming residue DDF is an unknown modified amino acid\n",
      "  warnings.warn(\n",
      "/ayb/vol2/home/dumerenkov/anaconda3/lib/python3.9/site-packages/Bio/PDB/Polypeptide.py:342: UserWarning: Assuming residue DDF is an unknown modified amino acid\n",
      "  warnings.warn(\n",
      " 45%|███████████████████████████████████████████████████████████████████████▊                                                                                      | 1555/3421 [02:20<01:00, 30.85it/s]/ayb/vol2/home/dumerenkov/anaconda3/lib/python3.9/site-packages/Bio/PDB/Polypeptide.py:342: UserWarning: Assuming residue DDF is an unknown modified amino acid\n",
      "  warnings.warn(\n",
      "/ayb/vol2/home/dumerenkov/anaconda3/lib/python3.9/site-packages/Bio/PDB/Polypeptide.py:342: UserWarning: Assuming residue DDF is an unknown modified amino acid\n",
      "  warnings.warn(\n",
      "/ayb/vol2/home/dumerenkov/anaconda3/lib/python3.9/site-packages/Bio/PDB/Polypeptide.py:342: UserWarning: Assuming residue DDF is an unknown modified amino acid\n",
      "  warnings.warn(\n",
      "/ayb/vol2/home/dumerenkov/anaconda3/lib/python3.9/site-packages/Bio/PDB/Polypeptide.py:342: UserWarning: Assuming residue DDF is an unknown modified amino acid\n",
      "  warnings.warn(\n",
      " 46%|████████████████████████████████████████████████████████████████████████                                                                                      | 1559/3421 [02:20<01:10, 26.47it/s]/ayb/vol2/home/dumerenkov/anaconda3/lib/python3.9/site-packages/Bio/PDB/Polypeptide.py:342: UserWarning: Assuming residue DDF is an unknown modified amino acid\n",
      "  warnings.warn(\n",
      "/ayb/vol2/home/dumerenkov/anaconda3/lib/python3.9/site-packages/Bio/PDB/Polypeptide.py:342: UserWarning: Assuming residue DDF is an unknown modified amino acid\n",
      "  warnings.warn(\n",
      "/ayb/vol2/home/dumerenkov/anaconda3/lib/python3.9/site-packages/Bio/PDB/Polypeptide.py:342: UserWarning: Assuming residue DDF is an unknown modified amino acid\n",
      "  warnings.warn(\n",
      "/ayb/vol2/home/dumerenkov/anaconda3/lib/python3.9/site-packages/Bio/PDB/Polypeptide.py:342: UserWarning: Assuming residue DDF is an unknown modified amino acid\n",
      "  warnings.warn(\n",
      " 46%|████████████████████████████████████████████████████████████████████████▏                                                                                     | 1563/3421 [02:20<01:04, 28.72it/s]/ayb/vol2/home/dumerenkov/anaconda3/lib/python3.9/site-packages/Bio/PDB/Polypeptide.py:342: UserWarning: Assuming residue DDF is an unknown modified amino acid\n",
      "  warnings.warn(\n",
      "/ayb/vol2/home/dumerenkov/anaconda3/lib/python3.9/site-packages/Bio/PDB/Polypeptide.py:342: UserWarning: Assuming residue DDF is an unknown modified amino acid\n",
      "  warnings.warn(\n",
      "/ayb/vol2/home/dumerenkov/anaconda3/lib/python3.9/site-packages/Bio/PDB/Polypeptide.py:342: UserWarning: Assuming residue DDF is an unknown modified amino acid\n",
      "  warnings.warn(\n",
      "/ayb/vol2/home/dumerenkov/anaconda3/lib/python3.9/site-packages/Bio/PDB/Polypeptide.py:342: UserWarning: Assuming residue DDF is an unknown modified amino acid\n",
      "  warnings.warn(\n",
      " 46%|████████████████████████████████████████████████████████████████████████▎                                                                                     | 1567/3421 [02:21<01:11, 25.77it/s]/ayb/vol2/home/dumerenkov/anaconda3/lib/python3.9/site-packages/Bio/PDB/Polypeptide.py:342: UserWarning: Assuming residue DDF is an unknown modified amino acid\n",
      "  warnings.warn(\n",
      "/ayb/vol2/home/dumerenkov/anaconda3/lib/python3.9/site-packages/Bio/PDB/Polypeptide.py:342: UserWarning: Assuming residue DDF is an unknown modified amino acid\n",
      "  warnings.warn(\n",
      "/ayb/vol2/home/dumerenkov/anaconda3/lib/python3.9/site-packages/Bio/PDB/Polypeptide.py:342: UserWarning: Assuming residue DDF is an unknown modified amino acid\n",
      "  warnings.warn(\n",
      "/ayb/vol2/home/dumerenkov/anaconda3/lib/python3.9/site-packages/Bio/PDB/Polypeptide.py:342: UserWarning: Assuming residue DDF is an unknown modified amino acid\n",
      "  warnings.warn(\n",
      " 46%|████████████████████████████████████████████████████████████████████████▌                                                                                     | 1571/3421 [02:21<01:04, 28.80it/s]/ayb/vol2/home/dumerenkov/anaconda3/lib/python3.9/site-packages/Bio/PDB/Polypeptide.py:342: UserWarning: Assuming residue DDF is an unknown modified amino acid\n",
      "  warnings.warn(\n",
      "/ayb/vol2/home/dumerenkov/anaconda3/lib/python3.9/site-packages/Bio/PDB/Polypeptide.py:342: UserWarning: Assuming residue DDF is an unknown modified amino acid\n",
      "  warnings.warn(\n",
      "/ayb/vol2/home/dumerenkov/anaconda3/lib/python3.9/site-packages/Bio/PDB/Polypeptide.py:342: UserWarning: Assuming residue DDF is an unknown modified amino acid\n",
      "  warnings.warn(\n",
      "/ayb/vol2/home/dumerenkov/anaconda3/lib/python3.9/site-packages/Bio/PDB/Polypeptide.py:342: UserWarning: Assuming residue DDF is an unknown modified amino acid\n",
      "  warnings.warn(\n",
      " 46%|████████████████████████████████████████████████████████████████████████▋                                                                                     | 1575/3421 [02:21<01:10, 26.21it/s]/ayb/vol2/home/dumerenkov/anaconda3/lib/python3.9/site-packages/Bio/PDB/Polypeptide.py:342: UserWarning: Assuming residue DDF is an unknown modified amino acid\n",
      "  warnings.warn(\n",
      "/ayb/vol2/home/dumerenkov/anaconda3/lib/python3.9/site-packages/Bio/PDB/Polypeptide.py:342: UserWarning: Assuming residue DDF is an unknown modified amino acid\n",
      "  warnings.warn(\n",
      "/ayb/vol2/home/dumerenkov/anaconda3/lib/python3.9/site-packages/Bio/PDB/Polypeptide.py:342: UserWarning: Assuming residue DDF is an unknown modified amino acid\n",
      "  warnings.warn(\n",
      "/ayb/vol2/home/dumerenkov/anaconda3/lib/python3.9/site-packages/Bio/PDB/Polypeptide.py:342: UserWarning: Assuming residue DDF is an unknown modified amino acid\n",
      "  warnings.warn(\n"
     ]
    },
    {
     "name": "stderr",
     "output_type": "stream",
     "text": [
      " 46%|████████████████████████████████████████████████████████████████████████▉                                                                                     | 1579/3421 [02:21<01:04, 28.55it/s]/ayb/vol2/home/dumerenkov/anaconda3/lib/python3.9/site-packages/Bio/PDB/Polypeptide.py:342: UserWarning: Assuming residue DDF is an unknown modified amino acid\n",
      "  warnings.warn(\n",
      "/ayb/vol2/home/dumerenkov/anaconda3/lib/python3.9/site-packages/Bio/PDB/Polypeptide.py:342: UserWarning: Assuming residue DDF is an unknown modified amino acid\n",
      "  warnings.warn(\n",
      "/ayb/vol2/home/dumerenkov/anaconda3/lib/python3.9/site-packages/Bio/PDB/Polypeptide.py:342: UserWarning: Assuming residue DDF is an unknown modified amino acid\n",
      "  warnings.warn(\n",
      "/ayb/vol2/home/dumerenkov/anaconda3/lib/python3.9/site-packages/Bio/PDB/Polypeptide.py:342: UserWarning: Assuming residue DDF is an unknown modified amino acid\n",
      "  warnings.warn(\n",
      "/ayb/vol2/home/dumerenkov/anaconda3/lib/python3.9/site-packages/Bio/PDB/Polypeptide.py:342: UserWarning: Assuming residue DDF is an unknown modified amino acid\n",
      "  warnings.warn(\n",
      " 46%|█████████████████████████████████████████████████████████████████████████▏                                                                                    | 1584/3421 [02:21<00:56, 32.72it/s]/ayb/vol2/home/dumerenkov/anaconda3/lib/python3.9/site-packages/Bio/PDB/Polypeptide.py:342: UserWarning: Assuming residue DDF is an unknown modified amino acid\n",
      "  warnings.warn(\n",
      "/ayb/vol2/home/dumerenkov/anaconda3/lib/python3.9/site-packages/Bio/PDB/Polypeptide.py:342: UserWarning: Assuming residue DDF is an unknown modified amino acid\n",
      "  warnings.warn(\n",
      "/ayb/vol2/home/dumerenkov/anaconda3/lib/python3.9/site-packages/Bio/PDB/Polypeptide.py:342: UserWarning: Assuming residue DDF is an unknown modified amino acid\n",
      "  warnings.warn(\n",
      "/ayb/vol2/home/dumerenkov/anaconda3/lib/python3.9/site-packages/Bio/PDB/Polypeptide.py:342: UserWarning: Assuming residue DDF is an unknown modified amino acid\n",
      "  warnings.warn(\n",
      " 46%|█████████████████████████████████████████████████████████████████████████▎                                                                                    | 1588/3421 [02:21<01:05, 27.88it/s]/ayb/vol2/home/dumerenkov/anaconda3/lib/python3.9/site-packages/Bio/PDB/Polypeptide.py:342: UserWarning: Assuming residue DDF is an unknown modified amino acid\n",
      "  warnings.warn(\n",
      "/ayb/vol2/home/dumerenkov/anaconda3/lib/python3.9/site-packages/Bio/PDB/Polypeptide.py:342: UserWarning: Assuming residue DDF is an unknown modified amino acid\n",
      "  warnings.warn(\n",
      "/ayb/vol2/home/dumerenkov/anaconda3/lib/python3.9/site-packages/Bio/PDB/Polypeptide.py:342: UserWarning: Assuming residue DDF is an unknown modified amino acid\n",
      "  warnings.warn(\n",
      "/ayb/vol2/home/dumerenkov/anaconda3/lib/python3.9/site-packages/Bio/PDB/Polypeptide.py:342: UserWarning: Assuming residue DDF is an unknown modified amino acid\n",
      "  warnings.warn(\n",
      " 47%|█████████████████████████████████████████████████████████████████████████▌                                                                                    | 1592/3421 [02:21<01:01, 29.84it/s]/ayb/vol2/home/dumerenkov/anaconda3/lib/python3.9/site-packages/Bio/PDB/Polypeptide.py:342: UserWarning: Assuming residue DDF is an unknown modified amino acid\n",
      "  warnings.warn(\n",
      "/ayb/vol2/home/dumerenkov/anaconda3/lib/python3.9/site-packages/Bio/PDB/Polypeptide.py:342: UserWarning: Assuming residue DDF is an unknown modified amino acid\n",
      "  warnings.warn(\n",
      "/ayb/vol2/home/dumerenkov/anaconda3/lib/python3.9/site-packages/Bio/PDB/Polypeptide.py:342: UserWarning: Assuming residue DDF is an unknown modified amino acid\n",
      "  warnings.warn(\n",
      "/ayb/vol2/home/dumerenkov/anaconda3/lib/python3.9/site-packages/Bio/PDB/Polypeptide.py:342: UserWarning: Assuming residue DDF is an unknown modified amino acid\n",
      "  warnings.warn(\n",
      " 47%|█████████████████████████████████████████████████████████████████████████▋                                                                                    | 1596/3421 [02:22<01:09, 26.36it/s]/ayb/vol2/home/dumerenkov/anaconda3/lib/python3.9/site-packages/Bio/PDB/Polypeptide.py:342: UserWarning: Assuming residue DDF is an unknown modified amino acid\n",
      "  warnings.warn(\n",
      "/ayb/vol2/home/dumerenkov/anaconda3/lib/python3.9/site-packages/Bio/PDB/Polypeptide.py:342: UserWarning: Assuming residue DDF is an unknown modified amino acid\n",
      "  warnings.warn(\n",
      "/ayb/vol2/home/dumerenkov/anaconda3/lib/python3.9/site-packages/Bio/PDB/Polypeptide.py:342: UserWarning: Assuming residue DDF is an unknown modified amino acid\n",
      "  warnings.warn(\n",
      "/ayb/vol2/home/dumerenkov/anaconda3/lib/python3.9/site-packages/Bio/PDB/Polypeptide.py:342: UserWarning: Assuming residue DDF is an unknown modified amino acid\n",
      "  warnings.warn(\n",
      " 47%|█████████████████████████████████████████████████████████████████████████▉                                                                                    | 1600/3421 [02:22<01:03, 28.69it/s]/ayb/vol2/home/dumerenkov/anaconda3/lib/python3.9/site-packages/Bio/PDB/Polypeptide.py:342: UserWarning: Assuming residue DDF is an unknown modified amino acid\n",
      "  warnings.warn(\n",
      "/ayb/vol2/home/dumerenkov/anaconda3/lib/python3.9/site-packages/Bio/PDB/Polypeptide.py:342: UserWarning: Assuming residue DDF is an unknown modified amino acid\n",
      "  warnings.warn(\n",
      "/ayb/vol2/home/dumerenkov/anaconda3/lib/python3.9/site-packages/Bio/PDB/Polypeptide.py:342: UserWarning: Assuming residue DDF is an unknown modified amino acid\n",
      "  warnings.warn(\n",
      "/ayb/vol2/home/dumerenkov/anaconda3/lib/python3.9/site-packages/Bio/PDB/Polypeptide.py:342: UserWarning: Assuming residue DDF is an unknown modified amino acid\n",
      "  warnings.warn(\n",
      " 47%|██████████████████████████████████████████████████████████████████████████                                                                                    | 1604/3421 [02:22<01:11, 25.32it/s]/ayb/vol2/home/dumerenkov/anaconda3/lib/python3.9/site-packages/Bio/PDB/Polypeptide.py:342: UserWarning: Assuming residue DDF is an unknown modified amino acid\n",
      "  warnings.warn(\n",
      "/ayb/vol2/home/dumerenkov/anaconda3/lib/python3.9/site-packages/Bio/PDB/Polypeptide.py:342: UserWarning: Assuming residue DDF is an unknown modified amino acid\n",
      "  warnings.warn(\n",
      "/ayb/vol2/home/dumerenkov/anaconda3/lib/python3.9/site-packages/Bio/PDB/Polypeptide.py:342: UserWarning: Assuming residue DDF is an unknown modified amino acid\n",
      "  warnings.warn(\n",
      "/ayb/vol2/home/dumerenkov/anaconda3/lib/python3.9/site-packages/Bio/PDB/Polypeptide.py:342: UserWarning: Assuming residue DDF is an unknown modified amino acid\n",
      "  warnings.warn(\n",
      " 47%|██████████████████████████████████████████████████████████████████████████▎                                                                                   | 1608/3421 [02:22<01:05, 27.59it/s]/ayb/vol2/home/dumerenkov/anaconda3/lib/python3.9/site-packages/Bio/PDB/Polypeptide.py:342: UserWarning: Assuming residue DDF is an unknown modified amino acid\n",
      "  warnings.warn(\n",
      "/ayb/vol2/home/dumerenkov/anaconda3/lib/python3.9/site-packages/Bio/PDB/Polypeptide.py:342: UserWarning: Assuming residue DDF is an unknown modified amino acid\n",
      "  warnings.warn(\n",
      "/ayb/vol2/home/dumerenkov/anaconda3/lib/python3.9/site-packages/Bio/PDB/Polypeptide.py:342: UserWarning: Assuming residue DDF is an unknown modified amino acid\n",
      "  warnings.warn(\n",
      "/ayb/vol2/home/dumerenkov/anaconda3/lib/python3.9/site-packages/Bio/PDB/Polypeptide.py:342: UserWarning: Assuming residue DDF is an unknown modified amino acid\n",
      "  warnings.warn(\n",
      " 47%|██████████████████████████████████████████████████████████████████████████▍                                                                                   | 1612/3421 [02:22<01:00, 29.84it/s]/ayb/vol2/home/dumerenkov/anaconda3/lib/python3.9/site-packages/Bio/PDB/Polypeptide.py:342: UserWarning: Assuming residue DDF is an unknown modified amino acid\n",
      "  warnings.warn(\n",
      "/ayb/vol2/home/dumerenkov/anaconda3/lib/python3.9/site-packages/Bio/PDB/Polypeptide.py:342: UserWarning: Assuming residue DDF is an unknown modified amino acid\n",
      "  warnings.warn(\n",
      "/ayb/vol2/home/dumerenkov/anaconda3/lib/python3.9/site-packages/Bio/PDB/Polypeptide.py:342: UserWarning: Assuming residue DDF is an unknown modified amino acid\n",
      "  warnings.warn(\n",
      "/ayb/vol2/home/dumerenkov/anaconda3/lib/python3.9/site-packages/Bio/PDB/Polypeptide.py:342: UserWarning: Assuming residue DDF is an unknown modified amino acid\n",
      "  warnings.warn(\n"
     ]
    },
    {
     "name": "stderr",
     "output_type": "stream",
     "text": [
      " 47%|██████████████████████████████████████████████████████████████████████████▋                                                                                   | 1616/3421 [02:22<01:08, 26.43it/s]/ayb/vol2/home/dumerenkov/anaconda3/lib/python3.9/site-packages/Bio/PDB/Polypeptide.py:342: UserWarning: Assuming residue DDF is an unknown modified amino acid\n",
      "  warnings.warn(\n",
      "/ayb/vol2/home/dumerenkov/anaconda3/lib/python3.9/site-packages/Bio/PDB/Polypeptide.py:342: UserWarning: Assuming residue DDF is an unknown modified amino acid\n",
      "  warnings.warn(\n",
      "/ayb/vol2/home/dumerenkov/anaconda3/lib/python3.9/site-packages/Bio/PDB/Polypeptide.py:342: UserWarning: Assuming residue DDF is an unknown modified amino acid\n",
      "  warnings.warn(\n",
      "/ayb/vol2/home/dumerenkov/anaconda3/lib/python3.9/site-packages/Bio/PDB/Polypeptide.py:342: UserWarning: Assuming residue DDF is an unknown modified amino acid\n",
      "  warnings.warn(\n",
      "/ayb/vol2/home/dumerenkov/anaconda3/lib/python3.9/site-packages/Bio/PDB/Polypeptide.py:342: UserWarning: Assuming residue DDF is an unknown modified amino acid\n",
      "  warnings.warn(\n",
      " 47%|██████████████████████████████████████████████████████████████████████████▊                                                                                   | 1621/3421 [02:22<00:59, 30.27it/s]/ayb/vol2/home/dumerenkov/anaconda3/lib/python3.9/site-packages/Bio/PDB/Polypeptide.py:342: UserWarning: Assuming residue DDF is an unknown modified amino acid\n",
      "  warnings.warn(\n",
      "/ayb/vol2/home/dumerenkov/anaconda3/lib/python3.9/site-packages/Bio/PDB/Polypeptide.py:342: UserWarning: Assuming residue DDF is an unknown modified amino acid\n",
      "  warnings.warn(\n",
      "/ayb/vol2/home/dumerenkov/anaconda3/lib/python3.9/site-packages/Bio/PDB/Polypeptide.py:342: UserWarning: Assuming residue DDF is an unknown modified amino acid\n",
      "  warnings.warn(\n",
      "/ayb/vol2/home/dumerenkov/anaconda3/lib/python3.9/site-packages/Bio/PDB/Polypeptide.py:342: UserWarning: Assuming residue DDF is an unknown modified amino acid\n",
      "  warnings.warn(\n",
      " 48%|███████████████████████████████████████████████████████████████████████████                                                                                   | 1625/3421 [02:23<01:07, 26.67it/s]/ayb/vol2/home/dumerenkov/anaconda3/lib/python3.9/site-packages/Bio/PDB/Polypeptide.py:342: UserWarning: Assuming residue DDF is an unknown modified amino acid\n",
      "  warnings.warn(\n",
      "/ayb/vol2/home/dumerenkov/anaconda3/lib/python3.9/site-packages/Bio/PDB/Polypeptide.py:342: UserWarning: Assuming residue DDF is an unknown modified amino acid\n",
      "  warnings.warn(\n",
      "/ayb/vol2/home/dumerenkov/anaconda3/lib/python3.9/site-packages/Bio/PDB/Polypeptide.py:342: UserWarning: Assuming residue DDF is an unknown modified amino acid\n",
      "  warnings.warn(\n",
      "/ayb/vol2/home/dumerenkov/anaconda3/lib/python3.9/site-packages/Bio/PDB/Polypeptide.py:342: UserWarning: Assuming residue DDF is an unknown modified amino acid\n",
      "  warnings.warn(\n",
      " 48%|███████████████████████████████████████████████████████████████████████████▏                                                                                  | 1629/3421 [02:23<01:01, 29.06it/s]/ayb/vol2/home/dumerenkov/anaconda3/lib/python3.9/site-packages/Bio/PDB/Polypeptide.py:342: UserWarning: Assuming residue DDF is an unknown modified amino acid\n",
      "  warnings.warn(\n",
      "/ayb/vol2/home/dumerenkov/anaconda3/lib/python3.9/site-packages/Bio/PDB/Polypeptide.py:342: UserWarning: Assuming residue DDF is an unknown modified amino acid\n",
      "  warnings.warn(\n",
      "/ayb/vol2/home/dumerenkov/anaconda3/lib/python3.9/site-packages/Bio/PDB/Polypeptide.py:342: UserWarning: Assuming residue DDF is an unknown modified amino acid\n",
      "  warnings.warn(\n",
      "/ayb/vol2/home/dumerenkov/anaconda3/lib/python3.9/site-packages/Bio/PDB/Polypeptide.py:342: UserWarning: Assuming residue DDF is an unknown modified amino acid\n",
      "  warnings.warn(\n",
      " 48%|███████████████████████████████████████████████████████████████████████████▍                                                                                  | 1633/3421 [02:23<01:09, 25.89it/s]/ayb/vol2/home/dumerenkov/anaconda3/lib/python3.9/site-packages/Bio/PDB/Polypeptide.py:342: UserWarning: Assuming residue DDF is an unknown modified amino acid\n",
      "  warnings.warn(\n",
      "/ayb/vol2/home/dumerenkov/anaconda3/lib/python3.9/site-packages/Bio/PDB/Polypeptide.py:342: UserWarning: Assuming residue DDF is an unknown modified amino acid\n",
      "  warnings.warn(\n",
      "/ayb/vol2/home/dumerenkov/anaconda3/lib/python3.9/site-packages/Bio/PDB/Polypeptide.py:342: UserWarning: Assuming residue DDF is an unknown modified amino acid\n",
      "  warnings.warn(\n",
      "/ayb/vol2/home/dumerenkov/anaconda3/lib/python3.9/site-packages/Bio/PDB/Polypeptide.py:342: UserWarning: Assuming residue DDF is an unknown modified amino acid\n",
      "  warnings.warn(\n",
      " 48%|███████████████████████████████████████████████████████████████████████████▌                                                                                  | 1637/3421 [02:23<01:03, 28.03it/s]/ayb/vol2/home/dumerenkov/anaconda3/lib/python3.9/site-packages/Bio/PDB/Polypeptide.py:342: UserWarning: Assuming residue DDF is an unknown modified amino acid\n",
      "  warnings.warn(\n",
      "/ayb/vol2/home/dumerenkov/anaconda3/lib/python3.9/site-packages/Bio/PDB/Polypeptide.py:342: UserWarning: Assuming residue DDF is an unknown modified amino acid\n",
      "  warnings.warn(\n",
      "/ayb/vol2/home/dumerenkov/anaconda3/lib/python3.9/site-packages/Bio/PDB/Polypeptide.py:342: UserWarning: Assuming residue DDF is an unknown modified amino acid\n",
      "  warnings.warn(\n",
      "/ayb/vol2/home/dumerenkov/anaconda3/lib/python3.9/site-packages/Bio/PDB/Polypeptide.py:342: UserWarning: Assuming residue DDF is an unknown modified amino acid\n",
      "  warnings.warn(\n",
      " 48%|███████████████████████████████████████████████████████████████████████████▊                                                                                  | 1641/3421 [02:23<01:09, 25.53it/s]/ayb/vol2/home/dumerenkov/anaconda3/lib/python3.9/site-packages/Bio/PDB/Polypeptide.py:342: UserWarning: Assuming residue DDF is an unknown modified amino acid\n",
      "  warnings.warn(\n",
      "/ayb/vol2/home/dumerenkov/anaconda3/lib/python3.9/site-packages/Bio/PDB/Polypeptide.py:342: UserWarning: Assuming residue DDF is an unknown modified amino acid\n",
      "  warnings.warn(\n",
      "/ayb/vol2/home/dumerenkov/anaconda3/lib/python3.9/site-packages/Bio/PDB/Polypeptide.py:342: UserWarning: Assuming residue DDF is an unknown modified amino acid\n",
      "  warnings.warn(\n",
      " 67%|█████████████████████████████████████████████████████████████████████████████████████████████████████████                                                     | 2276/3421 [02:44<00:38, 29.80it/s]/ayb/vol2/home/dumerenkov/anaconda3/lib/python3.9/site-packages/Bio/PDB/Polypeptide.py:342: UserWarning: Assuming residue  CA is an unknown modified amino acid\n",
      "  warnings.warn(\n",
      "/ayb/vol2/home/dumerenkov/anaconda3/lib/python3.9/site-packages/Bio/PDB/Polypeptide.py:342: UserWarning: Assuming residue  CA is an unknown modified amino acid\n",
      "  warnings.warn(\n",
      "/ayb/vol2/home/dumerenkov/anaconda3/lib/python3.9/site-packages/Bio/PDB/Polypeptide.py:342: UserWarning: Assuming residue  CA is an unknown modified amino acid\n",
      "  warnings.warn(\n",
      "/ayb/vol2/home/dumerenkov/anaconda3/lib/python3.9/site-packages/Bio/PDB/Polypeptide.py:342: UserWarning: Assuming residue  CA is an unknown modified amino acid\n",
      "  warnings.warn(\n",
      " 67%|█████████████████████████████████████████████████████████████████████████████████████████████████████████▎                                                    | 2280/3421 [02:44<00:38, 29.60it/s]/ayb/vol2/home/dumerenkov/anaconda3/lib/python3.9/site-packages/Bio/PDB/Polypeptide.py:342: UserWarning: Assuming residue  CA is an unknown modified amino acid\n",
      "  warnings.warn(\n",
      "/ayb/vol2/home/dumerenkov/anaconda3/lib/python3.9/site-packages/Bio/PDB/Polypeptide.py:342: UserWarning: Assuming residue  CA is an unknown modified amino acid\n",
      "  warnings.warn(\n",
      " 83%|██████████████████████████████████████████████████████████████████████████████████████████████████████████████████████████████████▌                           | 2827/3421 [03:44<00:08, 68.30it/s]/ayb/vol2/home/dumerenkov/anaconda3/lib/python3.9/site-packages/Bio/PDB/Polypeptide.py:342: UserWarning: Assuming residue PLM is an unknown modified amino acid\n",
      "  warnings.warn(\n",
      "/ayb/vol2/home/dumerenkov/anaconda3/lib/python3.9/site-packages/Bio/PDB/Polypeptide.py:342: UserWarning: Assuming residue PLM is an unknown modified amino acid\n",
      "  warnings.warn(\n",
      "/ayb/vol2/home/dumerenkov/anaconda3/lib/python3.9/site-packages/Bio/PDB/Polypeptide.py:342: UserWarning: Assuming residue PLM is an unknown modified amino acid\n",
      "  warnings.warn(\n",
      "/ayb/vol2/home/dumerenkov/anaconda3/lib/python3.9/site-packages/Bio/PDB/Polypeptide.py:342: UserWarning: Assuming residue PLM is an unknown modified amino acid\n",
      "  warnings.warn(\n",
      "/ayb/vol2/home/dumerenkov/anaconda3/lib/python3.9/site-packages/Bio/PDB/Polypeptide.py:342: UserWarning: Assuming residue PLM is an unknown modified amino acid\n",
      "  warnings.warn(\n"
     ]
    },
    {
     "name": "stderr",
     "output_type": "stream",
     "text": [
      " 83%|██████████████████████████████████████████████████████████████████████████████████████████████████████████████████████████████████▉                           | 2835/3421 [03:44<00:11, 50.41it/s]/ayb/vol2/home/dumerenkov/anaconda3/lib/python3.9/site-packages/Bio/PDB/Polypeptide.py:342: UserWarning: Assuming residue PLM is an unknown modified amino acid\n",
      "  warnings.warn(\n",
      "/ayb/vol2/home/dumerenkov/anaconda3/lib/python3.9/site-packages/Bio/PDB/Polypeptide.py:342: UserWarning: Assuming residue PLM is an unknown modified amino acid\n",
      "  warnings.warn(\n",
      "/ayb/vol2/home/dumerenkov/anaconda3/lib/python3.9/site-packages/Bio/PDB/Polypeptide.py:342: UserWarning: Assuming residue PLM is an unknown modified amino acid\n",
      "  warnings.warn(\n",
      "/ayb/vol2/home/dumerenkov/anaconda3/lib/python3.9/site-packages/Bio/PDB/Polypeptide.py:342: UserWarning: Assuming residue PLM is an unknown modified amino acid\n",
      "  warnings.warn(\n",
      "/ayb/vol2/home/dumerenkov/anaconda3/lib/python3.9/site-packages/Bio/PDB/Polypeptide.py:342: UserWarning: Assuming residue PLM is an unknown modified amino acid\n",
      "  warnings.warn(\n",
      " 83%|███████████████████████████████████████████████████████████████████████████████████████████████████████████████████████████████████▏                          | 2841/3421 [03:44<00:12, 44.68it/s]/ayb/vol2/home/dumerenkov/anaconda3/lib/python3.9/site-packages/Bio/PDB/Polypeptide.py:342: UserWarning: Assuming residue PLM is an unknown modified amino acid\n",
      "  warnings.warn(\n",
      "/ayb/vol2/home/dumerenkov/anaconda3/lib/python3.9/site-packages/Bio/PDB/Polypeptide.py:342: UserWarning: Assuming residue PLM is an unknown modified amino acid\n",
      "  warnings.warn(\n",
      "/ayb/vol2/home/dumerenkov/anaconda3/lib/python3.9/site-packages/Bio/PDB/Polypeptide.py:342: UserWarning: Assuming residue PLM is an unknown modified amino acid\n",
      "  warnings.warn(\n",
      "/ayb/vol2/home/dumerenkov/anaconda3/lib/python3.9/site-packages/Bio/PDB/Polypeptide.py:342: UserWarning: Assuming residue PLM is an unknown modified amino acid\n",
      "  warnings.warn(\n",
      "/ayb/vol2/home/dumerenkov/anaconda3/lib/python3.9/site-packages/Bio/PDB/Polypeptide.py:342: UserWarning: Assuming residue PLM is an unknown modified amino acid\n",
      "  warnings.warn(\n",
      "/ayb/vol2/home/dumerenkov/anaconda3/lib/python3.9/site-packages/Bio/PDB/Polypeptide.py:342: UserWarning: Assuming residue PLM is an unknown modified amino acid\n",
      "  warnings.warn(\n",
      "/ayb/vol2/home/dumerenkov/anaconda3/lib/python3.9/site-packages/Bio/PDB/Polypeptide.py:342: UserWarning: Assuming residue PLM is an unknown modified amino acid\n",
      "  warnings.warn(\n",
      " 83%|███████████████████████████████████████████████████████████████████████████████████████████████████████████████████████████████████▌                          | 2848/3421 [03:45<00:11, 48.57it/s]/ayb/vol2/home/dumerenkov/anaconda3/lib/python3.9/site-packages/Bio/PDB/Polypeptide.py:342: UserWarning: Assuming residue PLM is an unknown modified amino acid\n",
      "  warnings.warn(\n",
      "/ayb/vol2/home/dumerenkov/anaconda3/lib/python3.9/site-packages/Bio/PDB/Polypeptide.py:342: UserWarning: Assuming residue PLM is an unknown modified amino acid\n",
      "  warnings.warn(\n",
      "100%|██████████████████████████████████████████████████████████████████████████████████████████████████████████████████████████████████████████████████████████████| 3421/3421 [04:07<00:00, 13.81it/s]\n"
     ]
    }
   ],
   "source": [
    "wt = []\n",
    "mut = []\n",
    "ddg = []\n",
    "pdb_ids = []\n",
    "mut_infos = []\n",
    "poss = []\n",
    "\n",
    "verbatim_pdb_ids = {'1LVEA'}\n",
    "\n",
    "\n",
    "print('Processing S3421')\n",
    "\n",
    "for idx in tqdm(range(len(df_3421))):\n",
    "    pdb_id = df_3421.iloc[idx]['PDB_ID'].upper() + df_3421.iloc[idx]['PDB_CHAIN'].upper()\n",
    "    wild_aa = df_3421.iloc[idx]['WILD_RES']\n",
    "    pos = str(df_3421.iloc[idx]['POSITION'])\n",
    "    mutant_aa = df_3421.iloc[idx]['MUTANT_RES']\n",
    "    exp_ddg = df_3421.iloc[idx]['EXP_DDG']\n",
    "        \n",
    "    _, _, sequence, pdb2seq_pos, seq2pdb_pos = pdb2info(f'PDB/{pdb_id[:4]}.pdb', pdb_id[-1])\n",
    "    \n",
    "    if pdb_id in verbatim_pdb_ids:\n",
    "        seq2pdb_pos = {str(i):str(i) for i in range(len(sequence))}\n",
    "    \n",
    "    if pos not in seq2pdb_pos:\n",
    "        print(f'Indexing error for {pdb_id} position {pos} not present in mapping {seq2pdb_pos}')\n",
    "        \n",
    "    else:\n",
    "        if sequence[int(seq2pdb_pos[pos])-1]!=wild_aa:\n",
    "            print(f'Error for {pdb_id} expected {wild_aa} at position {pos} ')\n",
    "            print(f'Sequence is {sequence}')\n",
    "            print(f'Mapping is {seq2pdb_pos}')\n",
    "        \n",
    "        else:\n",
    "            wt.append(sequence)\n",
    "            tt = list(sequence)\n",
    "            tt[int(seq2pdb_pos[pos])-1] = mutant_aa\n",
    "            poss.append(int(seq2pdb_pos[pos])-1)\n",
    "            mut.append(''.join(tt))\n",
    "            ddg.append(exp_ddg)\n",
    "            pdb_ids.append(pdb_id)\n",
    "            mut_infos.append(str(wild_aa) + pos + str(mutant_aa))"
   ]
  },
  {
   "cell_type": "code",
   "execution_count": 17,
   "id": "4b848c20",
   "metadata": {},
   "outputs": [],
   "source": [
    "pd.DataFrame({'wt_seq': wt, \n",
    "              'mut_seq': mut ,\n",
    "              'ddg': ddg, \n",
    "              'pdb_id': pdb_ids, \n",
    "              'mut_info': mut_infos,\n",
    "              'pos': poss}).to_csv('DATASETS/S3421.csv')"
   ]
  },
  {
   "cell_type": "code",
   "execution_count": null,
   "id": "10ba5826",
   "metadata": {},
   "outputs": [],
   "source": []
  },
  {
   "cell_type": "markdown",
   "id": "f285dc0c",
   "metadata": {},
   "source": [
    "# ACDC-varibench"
   ]
  },
  {
   "cell_type": "code",
   "execution_count": 18,
   "id": "74b70548",
   "metadata": {},
   "outputs": [],
   "source": [
    "df_acdc_varibench = pd.concat([pd.read_csv(os.path.join('DATA/varibench/', f), sep = ' ',\n",
    "            names = ['PDB_CHAIN', 'MUTATION', 'EXP_DDG']) for f in os.listdir('DATA/varibench/')]).drop_duplicates()"
   ]
  },
  {
   "cell_type": "code",
   "execution_count": 19,
   "id": "92d4871a",
   "metadata": {},
   "outputs": [
    {
     "name": "stdout",
     "output_type": "stream",
     "text": [
      "Total dataset length 1387\n",
      "Total number of different chains in dataset 78\n"
     ]
    }
   ],
   "source": [
    "print('Total dataset length', len(df_acdc_varibench))\n",
    "pdb_ids = list(set([t.split()[0].upper() for t in df_acdc_varibench.PDB_CHAIN.to_list()]))\n",
    "print('Total number of different chains in dataset', len(pdb_ids))"
   ]
  },
  {
   "cell_type": "code",
   "execution_count": 20,
   "id": "e54dd0f1",
   "metadata": {},
   "outputs": [],
   "source": [
    "for pdb_id in pdb_ids:\n",
    "    if not os.path.isfile(f\"PDB/{pdb_id[:4]}.pdb\"):\n",
    "        with open(f\"PDB/{pdb_id[:4]}.pdb\", \"w\") as fh:\n",
    "            fh.write(pdb_client.get_pdb_file(f\"{pdb_id[:4]}\", compression=False))"
   ]
  },
  {
   "cell_type": "code",
   "execution_count": 21,
   "id": "99bc4cbd",
   "metadata": {
    "scrolled": true
   },
   "outputs": [
    {
     "name": "stdout",
     "output_type": "stream",
     "text": [
      "Processing ACDC-varibench\n"
     ]
    },
    {
     "name": "stderr",
     "output_type": "stream",
     "text": [
      "  1%|█▍                                                                                                                                                              | 13/1387 [00:00<01:45, 12.97it/s]"
     ]
    },
    {
     "name": "stdout",
     "output_type": "stream",
     "text": [
      "Error for 1AM7A expected H at position 30 \n",
      "Sequence is MVEINNQRKAFLDMLAWSEGTDNGRQKTRNHGYDVIVGGELFTDYSDHPRKLVTLNPKLKSTGAGRYQLLSRWWDAYRKQLGLKDFSPKSQDAVALQQIKERGALPMIDRGDIRQAIDRCSNIWASLPGAGYGQFEHKADSLIAKFKEAGGTVR\n",
      "Mapping is {'0': '0', '1': '1', '2': '2', '3': '3', '4': '4', '5': '5', '6': '6', '7': '7', '8': '8', '9': '9', '10': '10', '11': '11', '12': '12', '13': '13', '14': '14', '15': '15', '16': '16', '17': '17', '18': '18', '19': '19', '20': '20', '21': '21', '22': '22', '23': '23', '24': '24', '25': '25', '26': '26', '27': '27', '28': '28', '29': '29', '30': '30', '31': '31', '32': '32', '33': '33', '34': '34', '35': '35', '36': '36', '37': '37', '38': '38', '39': '39', '40': '40', '41': '41', '42': '42', '43': '43', '44': '44', '45': '45', '46': '46', '47': '47', '48': '48', '49': '49', '50': '50', '51': '51', '52': '52', '53': '53', '54': '54', '55': '55', '56': '56', '57': '57', '58': '58', '59': '59', '60': '60', '61': '61', '62': '62', '63': '63', '64': '64', '65': '65', '66': '66', '67': '67', '68': '68', '69': '69', '70': '70', '71': '71', '72': '72', '73': '73', '74': '74', '75': '75', '76': '76', '77': '77', '78': '78', '79': '79', '80': '80', '81': '81', '82': '82', '83': '83', '84': '84', '85': '85', '86': '86', '87': '87', '88': '88', '89': '89', '90': '90', '91': '91', '92': '92', '93': '93', '94': '94', '95': '95', '96': '96', '97': '97', '98': '98', '99': '99', '100': '100', '101': '101', '102': '102', '103': '103', '104': '104', '105': '105', '106': '106', '107': '107', '108': '108', '109': '109', '110': '110', '111': '111', '112': '112', '113': '113', '114': '114', '115': '115', '116': '116', '117': '117', '118': '118', '119': '119', '120': '120', '121': '121', '122': '122', '123': '123', '124': '124', '125': '125', '126': '126', '127': '127', '128': '128', '129': '129', '130': '130', '131': '131', '132': '132', '133': '133', '134': '134', '135': '135', '136': '136', '137': '137', '138': '138', '139': '139', '140': '140', '141': '141', '142': '142', '143': '143', '144': '144', '145': '145', '146': '146', '147': '147', '148': '148', '149': '149', '150': '150', '151': '151', '152': '152', '153': '153'}\n",
      "Error for 1AM7A expected H at position 47 \n",
      "Sequence is MVEINNQRKAFLDMLAWSEGTDNGRQKTRNHGYDVIVGGELFTDYSDHPRKLVTLNPKLKSTGAGRYQLLSRWWDAYRKQLGLKDFSPKSQDAVALQQIKERGALPMIDRGDIRQAIDRCSNIWASLPGAGYGQFEHKADSLIAKFKEAGGTVR\n",
      "Mapping is {'0': '0', '1': '1', '2': '2', '3': '3', '4': '4', '5': '5', '6': '6', '7': '7', '8': '8', '9': '9', '10': '10', '11': '11', '12': '12', '13': '13', '14': '14', '15': '15', '16': '16', '17': '17', '18': '18', '19': '19', '20': '20', '21': '21', '22': '22', '23': '23', '24': '24', '25': '25', '26': '26', '27': '27', '28': '28', '29': '29', '30': '30', '31': '31', '32': '32', '33': '33', '34': '34', '35': '35', '36': '36', '37': '37', '38': '38', '39': '39', '40': '40', '41': '41', '42': '42', '43': '43', '44': '44', '45': '45', '46': '46', '47': '47', '48': '48', '49': '49', '50': '50', '51': '51', '52': '52', '53': '53', '54': '54', '55': '55', '56': '56', '57': '57', '58': '58', '59': '59', '60': '60', '61': '61', '62': '62', '63': '63', '64': '64', '65': '65', '66': '66', '67': '67', '68': '68', '69': '69', '70': '70', '71': '71', '72': '72', '73': '73', '74': '74', '75': '75', '76': '76', '77': '77', '78': '78', '79': '79', '80': '80', '81': '81', '82': '82', '83': '83', '84': '84', '85': '85', '86': '86', '87': '87', '88': '88', '89': '89', '90': '90', '91': '91', '92': '92', '93': '93', '94': '94', '95': '95', '96': '96', '97': '97', '98': '98', '99': '99', '100': '100', '101': '101', '102': '102', '103': '103', '104': '104', '105': '105', '106': '106', '107': '107', '108': '108', '109': '109', '110': '110', '111': '111', '112': '112', '113': '113', '114': '114', '115': '115', '116': '116', '117': '117', '118': '118', '119': '119', '120': '120', '121': '121', '122': '122', '123': '123', '124': '124', '125': '125', '126': '126', '127': '127', '128': '128', '129': '129', '130': '130', '131': '131', '132': '132', '133': '133', '134': '134', '135': '135', '136': '136', '137': '137', '138': '138', '139': '139', '140': '140', '141': '141', '142': '142', '143': '143', '144': '144', '145': '145', '146': '146', '147': '147', '148': '148', '149': '149', '150': '150', '151': '151', '152': '152', '153': '153'}\n"
     ]
    },
    {
     "name": "stderr",
     "output_type": "stream",
     "text": [
      " 15%|███████████████████████▌                                                                                                                                       | 205/1387 [00:07<00:21, 55.69it/s]/ayb/vol2/home/dumerenkov/anaconda3/lib/python3.9/site-packages/Bio/PDB/Polypeptide.py:342: UserWarning: Assuming residue  CA is an unknown modified amino acid\n",
      "  warnings.warn(\n",
      "/ayb/vol2/home/dumerenkov/anaconda3/lib/python3.9/site-packages/Bio/PDB/Polypeptide.py:342: UserWarning: Assuming residue  CA is an unknown modified amino acid\n",
      "  warnings.warn(\n",
      "/ayb/vol2/home/dumerenkov/anaconda3/lib/python3.9/site-packages/Bio/PDB/Polypeptide.py:342: UserWarning: Assuming residue  CA is an unknown modified amino acid\n",
      "  warnings.warn(\n",
      "/ayb/vol2/home/dumerenkov/anaconda3/lib/python3.9/site-packages/Bio/PDB/Polypeptide.py:342: UserWarning: Assuming residue  CA is an unknown modified amino acid\n",
      "  warnings.warn(\n",
      " 17%|██████████████████████████▍                                                                                                                                    | 231/1387 [00:08<00:48, 24.03it/s]/ayb/vol2/home/dumerenkov/anaconda3/lib/python3.9/site-packages/Bio/PDB/Polypeptide.py:342: UserWarning: Assuming residue  CA is an unknown modified amino acid\n",
      "  warnings.warn(\n",
      " 17%|███████████████████████████                                                                                                                                    | 236/1387 [00:08<00:45, 25.09it/s]/ayb/vol2/home/dumerenkov/anaconda3/lib/python3.9/site-packages/Bio/PDB/Polypeptide.py:342: UserWarning: Assuming residue  CA is an unknown modified amino acid\n",
      "  warnings.warn(\n",
      "/ayb/vol2/home/dumerenkov/anaconda3/lib/python3.9/site-packages/Bio/PDB/Polypeptide.py:342: UserWarning: Assuming residue  CA is an unknown modified amino acid\n",
      "  warnings.warn(\n",
      "/ayb/vol2/home/dumerenkov/anaconda3/lib/python3.9/site-packages/Bio/PDB/Polypeptide.py:342: UserWarning: Assuming residue  CA is an unknown modified amino acid\n",
      "  warnings.warn(\n",
      " 17%|███████████████████████████▍                                                                                                                                   | 239/1387 [00:09<00:44, 25.70it/s]/ayb/vol2/home/dumerenkov/anaconda3/lib/python3.9/site-packages/Bio/PDB/Polypeptide.py:342: UserWarning: Assuming residue  CA is an unknown modified amino acid\n",
      "  warnings.warn(\n",
      "/ayb/vol2/home/dumerenkov/anaconda3/lib/python3.9/site-packages/Bio/PDB/Polypeptide.py:342: UserWarning: Assuming residue  CA is an unknown modified amino acid\n",
      "  warnings.warn(\n",
      "/ayb/vol2/home/dumerenkov/anaconda3/lib/python3.9/site-packages/Bio/PDB/Polypeptide.py:342: UserWarning: Assuming residue  CA is an unknown modified amino acid\n",
      "  warnings.warn(\n",
      " 17%|███████████████████████████▋                                                                                                                                   | 242/1387 [00:09<00:55, 20.76it/s]/ayb/vol2/home/dumerenkov/anaconda3/lib/python3.9/site-packages/Bio/PDB/Polypeptide.py:342: UserWarning: Assuming residue  CA is an unknown modified amino acid\n",
      "  warnings.warn(\n",
      "/ayb/vol2/home/dumerenkov/anaconda3/lib/python3.9/site-packages/Bio/PDB/Polypeptide.py:342: UserWarning: Assuming residue  CA is an unknown modified amino acid\n",
      "  warnings.warn(\n",
      "/ayb/vol2/home/dumerenkov/anaconda3/lib/python3.9/site-packages/Bio/PDB/Polypeptide.py:342: UserWarning: Assuming residue  CA is an unknown modified amino acid\n",
      "  warnings.warn(\n",
      " 18%|████████████████████████████                                                                                                                                   | 245/1387 [00:09<01:03, 17.96it/s]/ayb/vol2/home/dumerenkov/anaconda3/lib/python3.9/site-packages/Bio/PDB/Polypeptide.py:342: UserWarning: Assuming residue  CA is an unknown modified amino acid\n",
      "  warnings.warn(\n",
      "/ayb/vol2/home/dumerenkov/anaconda3/lib/python3.9/site-packages/Bio/PDB/Polypeptide.py:342: UserWarning: Assuming residue  CA is an unknown modified amino acid\n",
      "  warnings.warn(\n",
      "/ayb/vol2/home/dumerenkov/anaconda3/lib/python3.9/site-packages/Bio/PDB/Polypeptide.py:342: UserWarning: Assuming residue  CA is an unknown modified amino acid\n",
      "  warnings.warn(\n",
      " 18%|████████████████████████████▍                                                                                                                                  | 248/1387 [00:09<01:21, 14.00it/s]/ayb/vol2/home/dumerenkov/anaconda3/lib/python3.9/site-packages/Bio/PDB/Polypeptide.py:342: UserWarning: Assuming residue  CA is an unknown modified amino acid\n",
      "  warnings.warn(\n",
      "/ayb/vol2/home/dumerenkov/anaconda3/lib/python3.9/site-packages/Bio/PDB/Polypeptide.py:342: UserWarning: Assuming residue  CA is an unknown modified amino acid\n",
      "  warnings.warn(\n",
      "/ayb/vol2/home/dumerenkov/anaconda3/lib/python3.9/site-packages/Bio/PDB/Polypeptide.py:342: UserWarning: Assuming residue  CA is an unknown modified amino acid\n",
      "  warnings.warn(\n",
      " 18%|████████████████████████████▊                                                                                                                                  | 251/1387 [00:10<01:24, 13.37it/s]/ayb/vol2/home/dumerenkov/anaconda3/lib/python3.9/site-packages/Bio/PDB/Polypeptide.py:342: UserWarning: Assuming residue  CA is an unknown modified amino acid\n",
      "  warnings.warn(\n",
      "/ayb/vol2/home/dumerenkov/anaconda3/lib/python3.9/site-packages/Bio/PDB/Polypeptide.py:342: UserWarning: Assuming residue  CA is an unknown modified amino acid\n",
      "  warnings.warn(\n",
      "/ayb/vol2/home/dumerenkov/anaconda3/lib/python3.9/site-packages/Bio/PDB/Polypeptide.py:342: UserWarning: Assuming residue  CA is an unknown modified amino acid\n",
      "  warnings.warn(\n",
      " 18%|█████████████████████████████                                                                                                                                  | 254/1387 [00:10<01:27, 12.95it/s]/ayb/vol2/home/dumerenkov/anaconda3/lib/python3.9/site-packages/Bio/PDB/Polypeptide.py:342: UserWarning: Assuming residue  CA is an unknown modified amino acid\n",
      "  warnings.warn(\n",
      "/ayb/vol2/home/dumerenkov/anaconda3/lib/python3.9/site-packages/Bio/PDB/Polypeptide.py:342: UserWarning: Assuming residue  CA is an unknown modified amino acid\n",
      "  warnings.warn(\n",
      "/ayb/vol2/home/dumerenkov/anaconda3/lib/python3.9/site-packages/Bio/PDB/Polypeptide.py:342: UserWarning: Assuming residue  CA is an unknown modified amino acid\n",
      "  warnings.warn(\n",
      " 19%|█████████████████████████████▍                                                                                                                                 | 257/1387 [00:10<01:17, 14.49it/s]/ayb/vol2/home/dumerenkov/anaconda3/lib/python3.9/site-packages/Bio/PDB/Polypeptide.py:342: UserWarning: Assuming residue  CA is an unknown modified amino acid\n",
      "  warnings.warn(\n",
      "/ayb/vol2/home/dumerenkov/anaconda3/lib/python3.9/site-packages/Bio/PDB/Polypeptide.py:342: UserWarning: Assuming residue  CA is an unknown modified amino acid\n",
      "  warnings.warn(\n",
      " 19%|█████████████████████████████▋                                                                                                                                 | 259/1387 [00:10<01:29, 12.65it/s]/ayb/vol2/home/dumerenkov/anaconda3/lib/python3.9/site-packages/Bio/PDB/Polypeptide.py:342: UserWarning: Assuming residue  CA is an unknown modified amino acid\n",
      "  warnings.warn(\n",
      "/ayb/vol2/home/dumerenkov/anaconda3/lib/python3.9/site-packages/Bio/PDB/Polypeptide.py:342: UserWarning: Assuming residue  CA is an unknown modified amino acid\n",
      "  warnings.warn(\n",
      " 22%|██████████████████████████████████▋                                                                                                                            | 303/1387 [00:12<00:46, 23.37it/s]"
     ]
    },
    {
     "name": "stdout",
     "output_type": "stream",
     "text": [
      "Error for 1ONCA expected M at position 22 \n",
      "Sequence is EDWLTFQKKHITNTRDVDCDNIMSTNLFHCKDKNTFIYSRPEPVKAICKGIIASKNVLTTSEFYLSDCNVTSRPCKYKLKKSTNKFCVTCENQAPVHFVGVGSC\n",
      "Mapping is {'0': '0', '1': '1', '2': '2', '3': '3', '4': '4', '5': '5', '6': '6', '7': '7', '8': '8', '9': '9', '10': '10', '11': '11', '12': '12', '13': '13', '14': '14', '15': '15', '16': '16', '17': '17', '18': '18', '19': '19', '20': '20', '21': '21', '22': '22', '23': '23', '24': '24', '25': '25', '26': '26', '27': '27', '28': '28', '29': '29', '30': '30', '31': '31', '32': '32', '33': '33', '34': '34', '35': '35', '36': '36', '37': '37', '38': '38', '39': '39', '40': '40', '41': '41', '42': '42', '43': '43', '44': '44', '45': '45', '46': '46', '47': '47', '48': '48', '49': '49', '50': '50', '51': '51', '52': '52', '53': '53', '54': '54', '55': '55', '56': '56', '57': '57', '58': '58', '59': '59', '60': '60', '61': '61', '62': '62', '63': '63', '64': '64', '65': '65', '66': '66', '67': '67', '68': '68', '69': '69', '70': '70', '71': '71', '72': '72', '73': '73', '74': '74', '75': '75', '76': '76', '77': '77', '78': '78', '79': '79', '80': '80', '81': '81', '82': '82', '83': '83', '84': '84', '85': '85', '86': '86', '87': '87', '88': '88', '89': '89', '90': '90', '91': '91', '92': '92', '93': '93', '94': '94', '95': '95', '96': '96', '97': '97', '98': '98', '99': '99', '100': '100', '101': '101', '102': '102', '103': '103'}\n"
     ]
    },
    {
     "name": "stderr",
     "output_type": "stream",
     "text": [
      " 37%|██████████████████████████████████████████████████████████▍                                                                                                    | 510/1387 [00:21<00:24, 35.09it/s]"
     ]
    },
    {
     "name": "stdout",
     "output_type": "stream",
     "text": [
      "Indexing error for 1STNA position 136 not present in mapping {'0': '0', '1': '1', '2': '2', '3': '3', '4': '4', '5': '5', '6': '6', '7': '7', '8': '8', '9': '9', '10': '10', '11': '11', '12': '12', '13': '13', '14': '14', '15': '15', '16': '16', '17': '17', '18': '18', '19': '19', '20': '20', '21': '21', '22': '22', '23': '23', '24': '24', '25': '25', '26': '26', '27': '27', '28': '28', '29': '29', '30': '30', '31': '31', '32': '32', '33': '33', '34': '34', '35': '35', '36': '36', '37': '37', '38': '38', '39': '39', '40': '40', '41': '41', '42': '42', '43': '43', '44': '44', '45': '45', '46': '46', '47': '47', '48': '48', '49': '49', '50': '50', '51': '51', '52': '52', '53': '53', '54': '54', '55': '55', '56': '56', '57': '57', '58': '58', '59': '59', '60': '60', '61': '61', '62': '62', '63': '63', '64': '64', '65': '65', '66': '66', '67': '67', '68': '68', '69': '69', '70': '70', '71': '71', '72': '72', '73': '73', '74': '74', '75': '75', '76': '76', '77': '77', '78': '78', '79': '79', '80': '80', '81': '81', '82': '82', '83': '83', '84': '84', '85': '85', '86': '86', '87': '87', '88': '88', '89': '89', '90': '90', '91': '91', '92': '92', '93': '93', '94': '94', '95': '95', '96': '96', '97': '97', '98': '98', '99': '99', '100': '100', '101': '101', '102': '102', '103': '103', '104': '104', '105': '105', '106': '106', '107': '107', '108': '108', '109': '109', '110': '110', '111': '111', '112': '112', '113': '113', '114': '114', '115': '115', '116': '116', '117': '117', '118': '118', '119': '119', '120': '120', '121': '121', '122': '122', '123': '123', '124': '124', '125': '125', '126': '126', '127': '127', '128': '128', '129': '129', '130': '130', '131': '131', '132': '132', '133': '133', '134': '134', '135': '135'}\n"
     ]
    },
    {
     "name": "stderr",
     "output_type": "stream",
     "text": [
      " 45%|███████████████████████████████████████████████████████████████████████▋                                                                                       | 625/1387 [00:24<00:17, 43.24it/s]"
     ]
    },
    {
     "name": "stdout",
     "output_type": "stream",
     "text": [
      "Error for 1YCCA expected C at position 106 \n",
      "Sequence is TEFKAGSAKKGATLFKTRCLQCHTVEKGGPHKVGPNLHGIFGRHSGQAEGYSYTDANIKKNVLWDENNMSEYLTNPKKYIPGTKMAFGGLKKEKDRNDLITYLKKACE\n",
      "Mapping is {'0': '0', '1': '1', '2': '2', '3': '3', '4': '4', '5': '5', '6': '6', '7': '7', '8': '8', '9': '9', '10': '10', '11': '11', '12': '12', '13': '13', '14': '14', '15': '15', '16': '16', '17': '17', '18': '18', '19': '19', '20': '20', '21': '21', '22': '22', '23': '23', '24': '24', '25': '25', '26': '26', '27': '27', '28': '28', '29': '29', '30': '30', '31': '31', '32': '32', '33': '33', '34': '34', '35': '35', '36': '36', '37': '37', '38': '38', '39': '39', '40': '40', '41': '41', '42': '42', '43': '43', '44': '44', '45': '45', '46': '46', '47': '47', '48': '48', '49': '49', '50': '50', '51': '51', '52': '52', '53': '53', '54': '54', '55': '55', '56': '56', '57': '57', '58': '58', '59': '59', '60': '60', '61': '61', '62': '62', '63': '63', '64': '64', '65': '65', '66': '66', '67': '67', '68': '68', '69': '69', '70': '70', '71': '71', '72': '72', '73': '73', '74': '74', '75': '75', '76': '76', '77': '77', '78': '78', '79': '79', '80': '80', '81': '81', '82': '82', '83': '83', '84': '84', '85': '85', '86': '86', '87': '87', '88': '88', '89': '89', '90': '90', '91': '91', '92': '92', '93': '93', '94': '94', '95': '95', '96': '96', '97': '97', '98': '98', '99': '99', '100': '100', '101': '101', '102': '102', '103': '103', '104': '104', '105': '105', '106': '106', '107': '107'}\n",
      "Error for 1YCCA expected C at position 106 \n",
      "Sequence is TEFKAGSAKKGATLFKTRCLQCHTVEKGGPHKVGPNLHGIFGRHSGQAEGYSYTDANIKKNVLWDENNMSEYLTNPKKYIPGTKMAFGGLKKEKDRNDLITYLKKACE\n",
      "Mapping is {'0': '0', '1': '1', '2': '2', '3': '3', '4': '4', '5': '5', '6': '6', '7': '7', '8': '8', '9': '9', '10': '10', '11': '11', '12': '12', '13': '13', '14': '14', '15': '15', '16': '16', '17': '17', '18': '18', '19': '19', '20': '20', '21': '21', '22': '22', '23': '23', '24': '24', '25': '25', '26': '26', '27': '27', '28': '28', '29': '29', '30': '30', '31': '31', '32': '32', '33': '33', '34': '34', '35': '35', '36': '36', '37': '37', '38': '38', '39': '39', '40': '40', '41': '41', '42': '42', '43': '43', '44': '44', '45': '45', '46': '46', '47': '47', '48': '48', '49': '49', '50': '50', '51': '51', '52': '52', '53': '53', '54': '54', '55': '55', '56': '56', '57': '57', '58': '58', '59': '59', '60': '60', '61': '61', '62': '62', '63': '63', '64': '64', '65': '65', '66': '66', '67': '67', '68': '68', '69': '69', '70': '70', '71': '71', '72': '72', '73': '73', '74': '74', '75': '75', '76': '76', '77': '77', '78': '78', '79': '79', '80': '80', '81': '81', '82': '82', '83': '83', '84': '84', '85': '85', '86': '86', '87': '87', '88': '88', '89': '89', '90': '90', '91': '91', '92': '92', '93': '93', '94': '94', '95': '95', '96': '96', '97': '97', '98': '98', '99': '99', '100': '100', '101': '101', '102': '102', '103': '103', '104': '104', '105': '105', '106': '106', '107': '107'}\n",
      "Error for 1YCCA expected C at position 106 \n",
      "Sequence is TEFKAGSAKKGATLFKTRCLQCHTVEKGGPHKVGPNLHGIFGRHSGQAEGYSYTDANIKKNVLWDENNMSEYLTNPKKYIPGTKMAFGGLKKEKDRNDLITYLKKACE\n",
      "Mapping is {'0': '0', '1': '1', '2': '2', '3': '3', '4': '4', '5': '5', '6': '6', '7': '7', '8': '8', '9': '9', '10': '10', '11': '11', '12': '12', '13': '13', '14': '14', '15': '15', '16': '16', '17': '17', '18': '18', '19': '19', '20': '20', '21': '21', '22': '22', '23': '23', '24': '24', '25': '25', '26': '26', '27': '27', '28': '28', '29': '29', '30': '30', '31': '31', '32': '32', '33': '33', '34': '34', '35': '35', '36': '36', '37': '37', '38': '38', '39': '39', '40': '40', '41': '41', '42': '42', '43': '43', '44': '44', '45': '45', '46': '46', '47': '47', '48': '48', '49': '49', '50': '50', '51': '51', '52': '52', '53': '53', '54': '54', '55': '55', '56': '56', '57': '57', '58': '58', '59': '59', '60': '60', '61': '61', '62': '62', '63': '63', '64': '64', '65': '65', '66': '66', '67': '67', '68': '68', '69': '69', '70': '70', '71': '71', '72': '72', '73': '73', '74': '74', '75': '75', '76': '76', '77': '77', '78': '78', '79': '79', '80': '80', '81': '81', '82': '82', '83': '83', '84': '84', '85': '85', '86': '86', '87': '87', '88': '88', '89': '89', '90': '90', '91': '91', '92': '92', '93': '93', '94': '94', '95': '95', '96': '96', '97': '97', '98': '98', '99': '99', '100': '100', '101': '101', '102': '102', '103': '103', '104': '104', '105': '105', '106': '106', '107': '107'}\n",
      "Error for 1YCCA expected F at position 86 \n",
      "Sequence is TEFKAGSAKKGATLFKTRCLQCHTVEKGGPHKVGPNLHGIFGRHSGQAEGYSYTDANIKKNVLWDENNMSEYLTNPKKYIPGTKMAFGGLKKEKDRNDLITYLKKACE\n",
      "Mapping is {'0': '0', '1': '1', '2': '2', '3': '3', '4': '4', '5': '5', '6': '6', '7': '7', '8': '8', '9': '9', '10': '10', '11': '11', '12': '12', '13': '13', '14': '14', '15': '15', '16': '16', '17': '17', '18': '18', '19': '19', '20': '20', '21': '21', '22': '22', '23': '23', '24': '24', '25': '25', '26': '26', '27': '27', '28': '28', '29': '29', '30': '30', '31': '31', '32': '32', '33': '33', '34': '34', '35': '35', '36': '36', '37': '37', '38': '38', '39': '39', '40': '40', '41': '41', '42': '42', '43': '43', '44': '44', '45': '45', '46': '46', '47': '47', '48': '48', '49': '49', '50': '50', '51': '51', '52': '52', '53': '53', '54': '54', '55': '55', '56': '56', '57': '57', '58': '58', '59': '59', '60': '60', '61': '61', '62': '62', '63': '63', '64': '64', '65': '65', '66': '66', '67': '67', '68': '68', '69': '69', '70': '70', '71': '71', '72': '72', '73': '73', '74': '74', '75': '75', '76': '76', '77': '77', '78': '78', '79': '79', '80': '80', '81': '81', '82': '82', '83': '83', '84': '84', '85': '85', '86': '86', '87': '87', '88': '88', '89': '89', '90': '90', '91': '91', '92': '92', '93': '93', '94': '94', '95': '95', '96': '96', '97': '97', '98': '98', '99': '99', '100': '100', '101': '101', '102': '102', '103': '103', '104': '104', '105': '105', '106': '106', '107': '107'}\n"
     ]
    },
    {
     "name": "stderr",
     "output_type": "stream",
     "text": [
      "\r\n",
      " 45%|████████████████████████████████████████████████████████████████████████▎                                                                                      | 631/1387 [00:24<00:16, 46.64it/s]"
     ]
    },
    {
     "name": "stdout",
     "output_type": "stream",
     "text": [
      "Error for 1YCCA expected L at position 89 \n",
      "Sequence is TEFKAGSAKKGATLFKTRCLQCHTVEKGGPHKVGPNLHGIFGRHSGQAEGYSYTDANIKKNVLWDENNMSEYLTNPKKYIPGTKMAFGGLKKEKDRNDLITYLKKACE\n",
      "Mapping is {'0': '0', '1': '1', '2': '2', '3': '3', '4': '4', '5': '5', '6': '6', '7': '7', '8': '8', '9': '9', '10': '10', '11': '11', '12': '12', '13': '13', '14': '14', '15': '15', '16': '16', '17': '17', '18': '18', '19': '19', '20': '20', '21': '21', '22': '22', '23': '23', '24': '24', '25': '25', '26': '26', '27': '27', '28': '28', '29': '29', '30': '30', '31': '31', '32': '32', '33': '33', '34': '34', '35': '35', '36': '36', '37': '37', '38': '38', '39': '39', '40': '40', '41': '41', '42': '42', '43': '43', '44': '44', '45': '45', '46': '46', '47': '47', '48': '48', '49': '49', '50': '50', '51': '51', '52': '52', '53': '53', '54': '54', '55': '55', '56': '56', '57': '57', '58': '58', '59': '59', '60': '60', '61': '61', '62': '62', '63': '63', '64': '64', '65': '65', '66': '66', '67': '67', '68': '68', '69': '69', '70': '70', '71': '71', '72': '72', '73': '73', '74': '74', '75': '75', '76': '76', '77': '77', '78': '78', '79': '79', '80': '80', '81': '81', '82': '82', '83': '83', '84': '84', '85': '85', '86': '86', '87': '87', '88': '88', '89': '89', '90': '90', '91': '91', '92': '92', '93': '93', '94': '94', '95': '95', '96': '96', '97': '97', '98': '98', '99': '99', '100': '100', '101': '101', '102': '102', '103': '103', '104': '104', '105': '105', '106': '106', '107': '107'}\n"
     ]
    },
    {
     "name": "stderr",
     "output_type": "stream",
     "text": [
      " 46%|█████████████████████████████████████████████████████████████████████████▌                                                                                     | 642/1387 [00:24<00:17, 42.04it/s]"
     ]
    },
    {
     "name": "stdout",
     "output_type": "stream",
     "text": [
      "Error for 1YCCA expected P at position 80 \n",
      "Sequence is TEFKAGSAKKGATLFKTRCLQCHTVEKGGPHKVGPNLHGIFGRHSGQAEGYSYTDANIKKNVLWDENNMSEYLTNPKKYIPGTKMAFGGLKKEKDRNDLITYLKKACE\n",
      "Mapping is {'0': '0', '1': '1', '2': '2', '3': '3', '4': '4', '5': '5', '6': '6', '7': '7', '8': '8', '9': '9', '10': '10', '11': '11', '12': '12', '13': '13', '14': '14', '15': '15', '16': '16', '17': '17', '18': '18', '19': '19', '20': '20', '21': '21', '22': '22', '23': '23', '24': '24', '25': '25', '26': '26', '27': '27', '28': '28', '29': '29', '30': '30', '31': '31', '32': '32', '33': '33', '34': '34', '35': '35', '36': '36', '37': '37', '38': '38', '39': '39', '40': '40', '41': '41', '42': '42', '43': '43', '44': '44', '45': '45', '46': '46', '47': '47', '48': '48', '49': '49', '50': '50', '51': '51', '52': '52', '53': '53', '54': '54', '55': '55', '56': '56', '57': '57', '58': '58', '59': '59', '60': '60', '61': '61', '62': '62', '63': '63', '64': '64', '65': '65', '66': '66', '67': '67', '68': '68', '69': '69', '70': '70', '71': '71', '72': '72', '73': '73', '74': '74', '75': '75', '76': '76', '77': '77', '78': '78', '79': '79', '80': '80', '81': '81', '82': '82', '83': '83', '84': '84', '85': '85', '86': '86', '87': '87', '88': '88', '89': '89', '90': '90', '91': '91', '92': '92', '93': '93', '94': '94', '95': '95', '96': '96', '97': '97', '98': '98', '99': '99', '100': '100', '101': '101', '102': '102', '103': '103', '104': '104', '105': '105', '106': '106', '107': '107'}\n",
      "Error for 1YCCA expected P at position 80 \n",
      "Sequence is TEFKAGSAKKGATLFKTRCLQCHTVEKGGPHKVGPNLHGIFGRHSGQAEGYSYTDANIKKNVLWDENNMSEYLTNPKKYIPGTKMAFGGLKKEKDRNDLITYLKKACE\n",
      "Mapping is {'0': '0', '1': '1', '2': '2', '3': '3', '4': '4', '5': '5', '6': '6', '7': '7', '8': '8', '9': '9', '10': '10', '11': '11', '12': '12', '13': '13', '14': '14', '15': '15', '16': '16', '17': '17', '18': '18', '19': '19', '20': '20', '21': '21', '22': '22', '23': '23', '24': '24', '25': '25', '26': '26', '27': '27', '28': '28', '29': '29', '30': '30', '31': '31', '32': '32', '33': '33', '34': '34', '35': '35', '36': '36', '37': '37', '38': '38', '39': '39', '40': '40', '41': '41', '42': '42', '43': '43', '44': '44', '45': '45', '46': '46', '47': '47', '48': '48', '49': '49', '50': '50', '51': '51', '52': '52', '53': '53', '54': '54', '55': '55', '56': '56', '57': '57', '58': '58', '59': '59', '60': '60', '61': '61', '62': '62', '63': '63', '64': '64', '65': '65', '66': '66', '67': '67', '68': '68', '69': '69', '70': '70', '71': '71', '72': '72', '73': '73', '74': '74', '75': '75', '76': '76', '77': '77', '78': '78', '79': '79', '80': '80', '81': '81', '82': '82', '83': '83', '84': '84', '85': '85', '86': '86', '87': '87', '88': '88', '89': '89', '90': '90', '91': '91', '92': '92', '93': '93', '94': '94', '95': '95', '96': '96', '97': '97', '98': '98', '99': '99', '100': '100', '101': '101', '102': '102', '103': '103', '104': '104', '105': '105', '106': '106', '107': '107'}\n",
      "Error for 1YCCA expected P at position 80 \n",
      "Sequence is TEFKAGSAKKGATLFKTRCLQCHTVEKGGPHKVGPNLHGIFGRHSGQAEGYSYTDANIKKNVLWDENNMSEYLTNPKKYIPGTKMAFGGLKKEKDRNDLITYLKKACE\n",
      "Mapping is {'0': '0', '1': '1', '2': '2', '3': '3', '4': '4', '5': '5', '6': '6', '7': '7', '8': '8', '9': '9', '10': '10', '11': '11', '12': '12', '13': '13', '14': '14', '15': '15', '16': '16', '17': '17', '18': '18', '19': '19', '20': '20', '21': '21', '22': '22', '23': '23', '24': '24', '25': '25', '26': '26', '27': '27', '28': '28', '29': '29', '30': '30', '31': '31', '32': '32', '33': '33', '34': '34', '35': '35', '36': '36', '37': '37', '38': '38', '39': '39', '40': '40', '41': '41', '42': '42', '43': '43', '44': '44', '45': '45', '46': '46', '47': '47', '48': '48', '49': '49', '50': '50', '51': '51', '52': '52', '53': '53', '54': '54', '55': '55', '56': '56', '57': '57', '58': '58', '59': '59', '60': '60', '61': '61', '62': '62', '63': '63', '64': '64', '65': '65', '66': '66', '67': '67', '68': '68', '69': '69', '70': '70', '71': '71', '72': '72', '73': '73', '74': '74', '75': '75', '76': '76', '77': '77', '78': '78', '79': '79', '80': '80', '81': '81', '82': '82', '83': '83', '84': '84', '85': '85', '86': '86', '87': '87', '88': '88', '89': '89', '90': '90', '91': '91', '92': '92', '93': '93', '94': '94', '95': '95', '96': '96', '97': '97', '98': '98', '99': '99', '100': '100', '101': '101', '102': '102', '103': '103', '104': '104', '105': '105', '106': '106', '107': '107'}\n",
      "Error for 1YCCA expected P at position 80 \n",
      "Sequence is TEFKAGSAKKGATLFKTRCLQCHTVEKGGPHKVGPNLHGIFGRHSGQAEGYSYTDANIKKNVLWDENNMSEYLTNPKKYIPGTKMAFGGLKKEKDRNDLITYLKKACE\n",
      "Mapping is {'0': '0', '1': '1', '2': '2', '3': '3', '4': '4', '5': '5', '6': '6', '7': '7', '8': '8', '9': '9', '10': '10', '11': '11', '12': '12', '13': '13', '14': '14', '15': '15', '16': '16', '17': '17', '18': '18', '19': '19', '20': '20', '21': '21', '22': '22', '23': '23', '24': '24', '25': '25', '26': '26', '27': '27', '28': '28', '29': '29', '30': '30', '31': '31', '32': '32', '33': '33', '34': '34', '35': '35', '36': '36', '37': '37', '38': '38', '39': '39', '40': '40', '41': '41', '42': '42', '43': '43', '44': '44', '45': '45', '46': '46', '47': '47', '48': '48', '49': '49', '50': '50', '51': '51', '52': '52', '53': '53', '54': '54', '55': '55', '56': '56', '57': '57', '58': '58', '59': '59', '60': '60', '61': '61', '62': '62', '63': '63', '64': '64', '65': '65', '66': '66', '67': '67', '68': '68', '69': '69', '70': '70', '71': '71', '72': '72', '73': '73', '74': '74', '75': '75', '76': '76', '77': '77', '78': '78', '79': '79', '80': '80', '81': '81', '82': '82', '83': '83', '84': '84', '85': '85', '86': '86', '87': '87', '88': '88', '89': '89', '90': '90', '91': '91', '92': '92', '93': '93', '94': '94', '95': '95', '96': '96', '97': '97', '98': '98', '99': '99', '100': '100', '101': '101', '102': '102', '103': '103', '104': '104', '105': '105', '106': '106', '107': '107'}\n",
      "Error for 1YCCA expected P at position 80 \n",
      "Sequence is TEFKAGSAKKGATLFKTRCLQCHTVEKGGPHKVGPNLHGIFGRHSGQAEGYSYTDANIKKNVLWDENNMSEYLTNPKKYIPGTKMAFGGLKKEKDRNDLITYLKKACE\n",
      "Mapping is {'0': '0', '1': '1', '2': '2', '3': '3', '4': '4', '5': '5', '6': '6', '7': '7', '8': '8', '9': '9', '10': '10', '11': '11', '12': '12', '13': '13', '14': '14', '15': '15', '16': '16', '17': '17', '18': '18', '19': '19', '20': '20', '21': '21', '22': '22', '23': '23', '24': '24', '25': '25', '26': '26', '27': '27', '28': '28', '29': '29', '30': '30', '31': '31', '32': '32', '33': '33', '34': '34', '35': '35', '36': '36', '37': '37', '38': '38', '39': '39', '40': '40', '41': '41', '42': '42', '43': '43', '44': '44', '45': '45', '46': '46', '47': '47', '48': '48', '49': '49', '50': '50', '51': '51', '52': '52', '53': '53', '54': '54', '55': '55', '56': '56', '57': '57', '58': '58', '59': '59', '60': '60', '61': '61', '62': '62', '63': '63', '64': '64', '65': '65', '66': '66', '67': '67', '68': '68', '69': '69', '70': '70', '71': '71', '72': '72', '73': '73', '74': '74', '75': '75', '76': '76', '77': '77', '78': '78', '79': '79', '80': '80', '81': '81', '82': '82', '83': '83', '84': '84', '85': '85', '86': '86', '87': '87', '88': '88', '89': '89', '90': '90', '91': '91', '92': '92', '93': '93', '94': '94', '95': '95', '96': '96', '97': '97', '98': '98', '99': '99', '100': '100', '101': '101', '102': '102', '103': '103', '104': '104', '105': '105', '106': '106', '107': '107'}\n",
      "Error for 1YCCA expected P at position 80 \n",
      "Sequence is TEFKAGSAKKGATLFKTRCLQCHTVEKGGPHKVGPNLHGIFGRHSGQAEGYSYTDANIKKNVLWDENNMSEYLTNPKKYIPGTKMAFGGLKKEKDRNDLITYLKKACE\n",
      "Mapping is {'0': '0', '1': '1', '2': '2', '3': '3', '4': '4', '5': '5', '6': '6', '7': '7', '8': '8', '9': '9', '10': '10', '11': '11', '12': '12', '13': '13', '14': '14', '15': '15', '16': '16', '17': '17', '18': '18', '19': '19', '20': '20', '21': '21', '22': '22', '23': '23', '24': '24', '25': '25', '26': '26', '27': '27', '28': '28', '29': '29', '30': '30', '31': '31', '32': '32', '33': '33', '34': '34', '35': '35', '36': '36', '37': '37', '38': '38', '39': '39', '40': '40', '41': '41', '42': '42', '43': '43', '44': '44', '45': '45', '46': '46', '47': '47', '48': '48', '49': '49', '50': '50', '51': '51', '52': '52', '53': '53', '54': '54', '55': '55', '56': '56', '57': '57', '58': '58', '59': '59', '60': '60', '61': '61', '62': '62', '63': '63', '64': '64', '65': '65', '66': '66', '67': '67', '68': '68', '69': '69', '70': '70', '71': '71', '72': '72', '73': '73', '74': '74', '75': '75', '76': '76', '77': '77', '78': '78', '79': '79', '80': '80', '81': '81', '82': '82', '83': '83', '84': '84', '85': '85', '86': '86', '87': '87', '88': '88', '89': '89', '90': '90', '91': '91', '92': '92', '93': '93', '94': '94', '95': '95', '96': '96', '97': '97', '98': '98', '99': '99', '100': '100', '101': '101', '102': '102', '103': '103', '104': '104', '105': '105', '106': '106', '107': '107'}\n",
      "Error for 1YCCA expected P at position 80 \n",
      "Sequence is TEFKAGSAKKGATLFKTRCLQCHTVEKGGPHKVGPNLHGIFGRHSGQAEGYSYTDANIKKNVLWDENNMSEYLTNPKKYIPGTKMAFGGLKKEKDRNDLITYLKKACE\n",
      "Mapping is {'0': '0', '1': '1', '2': '2', '3': '3', '4': '4', '5': '5', '6': '6', '7': '7', '8': '8', '9': '9', '10': '10', '11': '11', '12': '12', '13': '13', '14': '14', '15': '15', '16': '16', '17': '17', '18': '18', '19': '19', '20': '20', '21': '21', '22': '22', '23': '23', '24': '24', '25': '25', '26': '26', '27': '27', '28': '28', '29': '29', '30': '30', '31': '31', '32': '32', '33': '33', '34': '34', '35': '35', '36': '36', '37': '37', '38': '38', '39': '39', '40': '40', '41': '41', '42': '42', '43': '43', '44': '44', '45': '45', '46': '46', '47': '47', '48': '48', '49': '49', '50': '50', '51': '51', '52': '52', '53': '53', '54': '54', '55': '55', '56': '56', '57': '57', '58': '58', '59': '59', '60': '60', '61': '61', '62': '62', '63': '63', '64': '64', '65': '65', '66': '66', '67': '67', '68': '68', '69': '69', '70': '70', '71': '71', '72': '72', '73': '73', '74': '74', '75': '75', '76': '76', '77': '77', '78': '78', '79': '79', '80': '80', '81': '81', '82': '82', '83': '83', '84': '84', '85': '85', '86': '86', '87': '87', '88': '88', '89': '89', '90': '90', '91': '91', '92': '92', '93': '93', '94': '94', '95': '95', '96': '96', '97': '97', '98': '98', '99': '99', '100': '100', '101': '101', '102': '102', '103': '103', '104': '104', '105': '105', '106': '106', '107': '107'}\n"
     ]
    },
    {
     "name": "stderr",
     "output_type": "stream",
     "text": [
      " 65%|███████████████████████████████████████████████████████████████████████████████████████████████████████▋                                                       | 904/1387 [00:55<00:25, 18.72it/s]/ayb/vol2/home/dumerenkov/anaconda3/lib/python3.9/site-packages/Bio/PDB/Polypeptide.py:342: UserWarning: Assuming residue  CA is an unknown modified amino acid\n",
      "  warnings.warn(\n",
      "/ayb/vol2/home/dumerenkov/anaconda3/lib/python3.9/site-packages/Bio/PDB/Polypeptide.py:342: UserWarning: Assuming residue  CA is an unknown modified amino acid\n",
      "  warnings.warn(\n",
      " 65%|███████████████████████████████████████████████████████████████████████████████████████████████████████▉                                                       | 907/1387 [00:55<00:23, 20.73it/s]/ayb/vol2/home/dumerenkov/anaconda3/lib/python3.9/site-packages/Bio/PDB/Polypeptide.py:342: UserWarning: Assuming residue  CA is an unknown modified amino acid\n",
      "  warnings.warn(\n",
      "/ayb/vol2/home/dumerenkov/anaconda3/lib/python3.9/site-packages/Bio/PDB/Polypeptide.py:342: UserWarning: Assuming residue  CA is an unknown modified amino acid\n",
      "  warnings.warn(\n",
      "/ayb/vol2/home/dumerenkov/anaconda3/lib/python3.9/site-packages/Bio/PDB/Polypeptide.py:342: UserWarning: Assuming residue  CA is an unknown modified amino acid\n",
      "  warnings.warn(\n",
      " 66%|████████████████████████████████████████████████████████████████████████████████████████████████████████▎                                                      | 910/1387 [00:55<00:24, 19.22it/s]/ayb/vol2/home/dumerenkov/anaconda3/lib/python3.9/site-packages/Bio/PDB/Polypeptide.py:342: UserWarning: Assuming residue  CA is an unknown modified amino acid\n",
      "  warnings.warn(\n",
      " 78%|███████████████████████████████████████████████████████████████████████████████████████████████████████████████████████████▊                                  | 1087/1387 [01:02<00:15, 18.93it/s]"
     ]
    },
    {
     "name": "stdout",
     "output_type": "stream",
     "text": [
      "Indexing error for 1BNIA position 108 not present in mapping {'0': '0', '1': '1', '2': '2', '3': '3', '4': '4', '5': '5', '6': '6', '7': '7', '8': '8', '9': '9', '10': '10', '11': '11', '12': '12', '13': '13', '14': '14', '15': '15', '16': '16', '17': '17', '18': '18', '19': '19', '20': '20', '21': '21', '22': '22', '23': '23', '24': '24', '25': '25', '26': '26', '27': '27', '28': '28', '29': '29', '30': '30', '31': '31', '32': '32', '33': '33', '34': '34', '35': '35', '36': '36', '37': '37', '38': '38', '39': '39', '40': '40', '41': '41', '42': '42', '43': '43', '44': '44', '45': '45', '46': '46', '47': '47', '48': '48', '49': '49', '50': '50', '51': '51', '52': '52', '53': '53', '54': '54', '55': '55', '56': '56', '57': '57', '58': '58', '59': '59', '60': '60', '61': '61', '62': '62', '63': '63', '64': '64', '65': '65', '66': '66', '67': '67', '68': '68', '69': '69', '70': '70', '71': '71', '72': '72', '73': '73', '74': '74', '75': '75', '76': '76', '77': '77', '78': '78', '79': '79', '80': '80', '81': '81', '82': '82', '83': '83', '84': '84', '85': '85', '86': '86', '87': '87', '88': '88', '89': '89', '90': '90', '91': '91', '92': '92', '93': '93', '94': '94', '95': '95', '96': '96', '97': '97', '98': '98', '99': '99', '100': '100', '101': '101', '102': '102', '103': '103', '104': '104', '105': '105', '106': '106', '107': '107'}\n"
     ]
    },
    {
     "name": "stderr",
     "output_type": "stream",
     "text": [
      " 83%|███████████████████████████████████████████████████████████████████████████████████████████████████████████████████████████████████▎                          | 1153/1387 [01:05<00:08, 29.11it/s]/ayb/vol2/home/dumerenkov/anaconda3/lib/python3.9/site-packages/Bio/PDB/Polypeptide.py:342: UserWarning: Assuming residue  CA is an unknown modified amino acid\n",
      "  warnings.warn(\n",
      " 83%|███████████████████████████████████████████████████████████████████████████████████████████████████████████████████████████████████▊                          | 1157/1387 [01:05<00:08, 27.10it/s]/ayb/vol2/home/dumerenkov/anaconda3/lib/python3.9/site-packages/Bio/PDB/Polypeptide.py:342: UserWarning: Assuming residue  CA is an unknown modified amino acid\n",
      "  warnings.warn(\n",
      "/ayb/vol2/home/dumerenkov/anaconda3/lib/python3.9/site-packages/Bio/PDB/Polypeptide.py:342: UserWarning: Assuming residue  CA is an unknown modified amino acid\n",
      "  warnings.warn(\n",
      "/ayb/vol2/home/dumerenkov/anaconda3/lib/python3.9/site-packages/Bio/PDB/Polypeptide.py:342: UserWarning: Assuming residue  CA is an unknown modified amino acid\n",
      "  warnings.warn(\n",
      "/ayb/vol2/home/dumerenkov/anaconda3/lib/python3.9/site-packages/Bio/PDB/Polypeptide.py:342: UserWarning: Assuming residue  CA is an unknown modified amino acid\n",
      "  warnings.warn(\n",
      " 84%|████████████████████████████████████████████████████████████████████████████████████████████████████████████████████████████████████▎                         | 1161/1387 [01:05<00:07, 28.67it/s]/ayb/vol2/home/dumerenkov/anaconda3/lib/python3.9/site-packages/Bio/PDB/Polypeptide.py:342: UserWarning: Assuming residue DDF is an unknown modified amino acid\n",
      "  warnings.warn(\n",
      "/ayb/vol2/home/dumerenkov/anaconda3/lib/python3.9/site-packages/Bio/PDB/Polypeptide.py:342: UserWarning: Assuming residue DDF is an unknown modified amino acid\n",
      "  warnings.warn(\n",
      "/ayb/vol2/home/dumerenkov/anaconda3/lib/python3.9/site-packages/Bio/PDB/Polypeptide.py:342: UserWarning: Assuming residue DDF is an unknown modified amino acid\n",
      "  warnings.warn(\n",
      " 84%|████████████████████████████████████████████████████████████████████████████████████████████████████████████████████████████████████▌                         | 1164/1387 [01:05<00:08, 26.30it/s]/ayb/vol2/home/dumerenkov/anaconda3/lib/python3.9/site-packages/Bio/PDB/Polypeptide.py:342: UserWarning: Assuming residue DDF is an unknown modified amino acid\n",
      "  warnings.warn(\n",
      "/ayb/vol2/home/dumerenkov/anaconda3/lib/python3.9/site-packages/Bio/PDB/Polypeptide.py:342: UserWarning: Assuming residue DDF is an unknown modified amino acid\n",
      "  warnings.warn(\n",
      "/ayb/vol2/home/dumerenkov/anaconda3/lib/python3.9/site-packages/Bio/PDB/Polypeptide.py:342: UserWarning: Assuming residue DDF is an unknown modified amino acid\n",
      "  warnings.warn(\n",
      "/ayb/vol2/home/dumerenkov/anaconda3/lib/python3.9/site-packages/Bio/PDB/Polypeptide.py:342: UserWarning: Assuming residue DDF is an unknown modified amino acid\n",
      "  warnings.warn(\n",
      " 84%|█████████████████████████████████████████████████████████████████████████████████████████████████████████████████████████████████████                         | 1168/1387 [01:05<00:07, 29.08it/s]/ayb/vol2/home/dumerenkov/anaconda3/lib/python3.9/site-packages/Bio/PDB/Polypeptide.py:342: UserWarning: Assuming residue DDF is an unknown modified amino acid\n",
      "  warnings.warn(\n",
      "/ayb/vol2/home/dumerenkov/anaconda3/lib/python3.9/site-packages/Bio/PDB/Polypeptide.py:342: UserWarning: Assuming residue DDF is an unknown modified amino acid\n",
      "  warnings.warn(\n",
      "/ayb/vol2/home/dumerenkov/anaconda3/lib/python3.9/site-packages/Bio/PDB/Polypeptide.py:342: UserWarning: Assuming residue DDF is an unknown modified amino acid\n",
      "  warnings.warn(\n",
      "/ayb/vol2/home/dumerenkov/anaconda3/lib/python3.9/site-packages/Bio/PDB/Polypeptide.py:342: UserWarning: Assuming residue DDF is an unknown modified amino acid\n",
      "  warnings.warn(\n",
      " 84%|█████████████████████████████████████████████████████████████████████████████████████████████████████████████████████████████████████▌                        | 1172/1387 [01:05<00:08, 26.48it/s]/ayb/vol2/home/dumerenkov/anaconda3/lib/python3.9/site-packages/Bio/PDB/Polypeptide.py:342: UserWarning: Assuming residue DDF is an unknown modified amino acid\n",
      "  warnings.warn(\n",
      "100%|██████████████████████████████████████████████████████████████████████████████████████████████████████████████████████████████████████████████████████████████| 1387/1387 [01:17<00:00, 18.01it/s]\n"
     ]
    }
   ],
   "source": [
    "wt = []\n",
    "mut = []\n",
    "ddg = []\n",
    "pdb_ids = []\n",
    "mut_infos = []\n",
    "poss = []\n",
    "\n",
    "no_verbatim_pdb_ids = {'1C9OA', '1VQBA'}\n",
    "\n",
    "\n",
    "print('Processing ACDC-varibench')\n",
    "\n",
    "for idx in tqdm(range(len(df_acdc_varibench))):\n",
    "    pdb_id = df_acdc_varibench.iloc[idx]['PDB_CHAIN'].upper()\n",
    "    wild_aa = df_acdc_varibench.iloc[idx]['MUTATION'][0]\n",
    "    pos = df_acdc_varibench.iloc[idx]['MUTATION'][1:-1]\n",
    "    mutant_aa = df_acdc_varibench.iloc[idx]['MUTATION'][-1]\n",
    "    exp_ddg = df_acdc_varibench.iloc[idx]['EXP_DDG']\n",
    "    \n",
    "    #if pdb_id!= '1CLWA':\n",
    "    #    continue\n",
    "        \n",
    "    _, _, sequence, pdb2seq_pos, seq2pdb_pos = pdb2info(f'PDB/{pdb_id[:4]}.pdb', pdb_id[-1])\n",
    "    \n",
    "    if pdb_id not in no_verbatim_pdb_ids:\n",
    "        seq2pdb_pos = {str(i):str(i) for i in range(len(sequence))}\n",
    "    \n",
    "    if pos not in seq2pdb_pos:\n",
    "        print(f'Indexing error for {pdb_id} position {pos} not present in mapping {seq2pdb_pos}')\n",
    "        \n",
    "    else:\n",
    "        if sequence[int(seq2pdb_pos[pos])-1]!=wild_aa:\n",
    "            print(f'Error for {pdb_id} expected {wild_aa} at position {pos} ')\n",
    "            print(f'Sequence is {sequence}')\n",
    "            print(f'Mapping is {seq2pdb_pos}')\n",
    "        \n",
    "        else:\n",
    "            wt.append(sequence)\n",
    "            tt = list(sequence)\n",
    "            tt[int(seq2pdb_pos[pos])-1] = mutant_aa\n",
    "            poss.append(int(seq2pdb_pos[pos])-1)\n",
    "            mut.append(''.join(tt))\n",
    "            ddg.append(exp_ddg)\n",
    "            pdb_ids.append(pdb_id)\n",
    "            mut_infos.append(str(wild_aa) + pos + str(mutant_aa))"
   ]
  },
  {
   "cell_type": "code",
   "execution_count": 22,
   "id": "2fef3221",
   "metadata": {},
   "outputs": [],
   "source": [
    "pd.DataFrame({'wt_seq': wt, \n",
    "              'mut_seq': mut ,\n",
    "              'ddg': ddg, \n",
    "              'pdb_id': pdb_ids, \n",
    "              'mut_info': mut_infos,\n",
    "              'pos': poss}).to_csv('DATASETS/ACDC_varibench.csv')"
   ]
  },
  {
   "cell_type": "code",
   "execution_count": null,
   "id": "978bfb33",
   "metadata": {},
   "outputs": [],
   "source": []
  },
  {
   "cell_type": "markdown",
   "id": "be020955",
   "metadata": {},
   "source": [
    "# Ssym"
   ]
  },
  {
   "cell_type": "code",
   "execution_count": 23,
   "id": "d2441109",
   "metadata": {},
   "outputs": [],
   "source": [
    "df_ssym = pd.read_csv('DATA/s_sym.txt', sep= ' ', names = ['PDB_ID', '_', 'POSITION', 'WILD_RES', 'MUTANT_RES', 'EXP_DDG'])"
   ]
  },
  {
   "cell_type": "code",
   "execution_count": 24,
   "id": "b081f3cf",
   "metadata": {},
   "outputs": [
    {
     "name": "stdout",
     "output_type": "stream",
     "text": [
      "Total dataset length 342\n",
      "Total number of different chains in dataset 15\n"
     ]
    }
   ],
   "source": [
    "print('Total dataset length', len(df_ssym))\n",
    "pdb_ids = list(set([t.split()[0].upper() for t in df_ssym['PDB_ID'].to_list()]))\n",
    "print('Total number of different chains in dataset', len(pdb_ids))"
   ]
  },
  {
   "cell_type": "code",
   "execution_count": 25,
   "id": "3055a12b",
   "metadata": {},
   "outputs": [],
   "source": [
    "for pdb_id in pdb_ids:\n",
    "    if not os.path.isfile(f\"PDB/{pdb_id[:4]}.pdb\"):\n",
    "        with open(f\"PDB/{pdb_id[:4]}.pdb\", \"w\") as fh:\n",
    "            fh.write(pdb_client.get_pdb_file(f\"{pdb_id[:4]}\", compression=False))"
   ]
  },
  {
   "cell_type": "code",
   "execution_count": 26,
   "id": "ba064e61",
   "metadata": {},
   "outputs": [
    {
     "name": "stdout",
     "output_type": "stream",
     "text": [
      "Processing Ssym\n"
     ]
    },
    {
     "name": "stderr",
     "output_type": "stream",
     "text": [
      "100%|████████████████████████████████████████████████████████████████████████████████████████████████████████████████████████████████████████████████████████████████| 342/342 [00:15<00:00, 22.37it/s]\n"
     ]
    }
   ],
   "source": [
    "wt = []\n",
    "mut = []\n",
    "ddg = []\n",
    "pdb_ids = []\n",
    "mut_infos = []\n",
    "poss = []\n",
    "\n",
    "print('Processing Ssym')\n",
    "\n",
    "for idx in tqdm(range(len(df_ssym))):\n",
    "    pdb_id = df_ssym.iloc[idx]['PDB_ID'].upper()\n",
    "    wild_aa = df_ssym.iloc[idx]['WILD_RES']\n",
    "    pos = str(df_ssym.iloc[idx]['POSITION'])\n",
    "    mutant_aa = df_ssym.iloc[idx]['MUTANT_RES']\n",
    "    exp_ddg = df_ssym.iloc[idx]['EXP_DDG']\n",
    "    \n",
    "        \n",
    "    _, _, sequence, pdb2seq_pos, seq2pdb_pos = pdb2info(f'PDB/{pdb_id[:4]}.pdb', pdb_id[-1])\n",
    "    \n",
    "    #if pdb_id not in no_verbatim_pdb_ids:\n",
    "    #  seq2pdb_pos = {str(i):str(i) for i in range(len(sequence))}\n",
    "    \n",
    "    if pos not in seq2pdb_pos:\n",
    "        print(f'Indexing error for {pdb_id} position {pos} not present in mapping {seq2pdb_pos}')\n",
    "        \n",
    "    else:\n",
    "        if sequence[int(seq2pdb_pos[pos])-1]!=wild_aa:\n",
    "            print(f'Error for {pdb_id} expected {wild_aa} at position {pos} ')\n",
    "            print(f'Sequence is {sequence}')\n",
    "            print(f'Mapping is {seq2pdb_pos}')\n",
    "        \n",
    "        else:\n",
    "            wt.append(sequence)\n",
    "            tt = list(sequence)\n",
    "            tt[int(seq2pdb_pos[pos])-1] = mutant_aa\n",
    "            poss.append(int(seq2pdb_pos[pos])-1)\n",
    "            mut.append(''.join(tt))\n",
    "            ddg.append(exp_ddg)\n",
    "            pdb_ids.append(pdb_id)\n",
    "            mut_infos.append(str(wild_aa) + pos + str(mutant_aa))"
   ]
  },
  {
   "cell_type": "code",
   "execution_count": 27,
   "id": "7fc79923",
   "metadata": {},
   "outputs": [],
   "source": [
    "pd.DataFrame({'wt_seq': wt, \n",
    "              'mut_seq': mut ,\n",
    "              'ddg': [-t for t in ddg], \n",
    "              'pdb_id': pdb_ids, \n",
    "              'mut_info': mut_infos,\n",
    "              'pos': poss}).to_csv('DATASETS/ssym.csv')"
   ]
  },
  {
   "cell_type": "code",
   "execution_count": 28,
   "id": "e547246c",
   "metadata": {},
   "outputs": [],
   "source": [
    "pd.DataFrame({'wt_seq': mut, \n",
    "              'mut_seq': wt ,\n",
    "              'ddg': ddg, \n",
    "              'pdb_id': pdb_ids, \n",
    "              'mut_info': [t[-1] + t[1:-1] + t[0] for t in mut_infos],\n",
    "              'pos': poss}).to_csv('DATASETS/ssym_r.csv')"
   ]
  },
  {
   "cell_type": "code",
   "execution_count": null,
   "id": "61a3a7c7",
   "metadata": {},
   "outputs": [],
   "source": []
  },
  {
   "cell_type": "markdown",
   "id": "08d49af6",
   "metadata": {},
   "source": [
    "# Ssym+"
   ]
  },
  {
   "cell_type": "code",
   "execution_count": 29,
   "id": "4b6fe5a5",
   "metadata": {},
   "outputs": [],
   "source": [
    "df_ssym_plus = pd.read_csv('DATA/Ssym+_experimental.csv', sep= ',')[['Protein', 'DDG', 'Mut_pdb']]"
   ]
  },
  {
   "cell_type": "code",
   "execution_count": 30,
   "id": "ae8f94b2",
   "metadata": {},
   "outputs": [
    {
     "name": "stdout",
     "output_type": "stream",
     "text": [
      "Total dataset length 352\n",
      "Total number of different chains in dataset 19\n"
     ]
    }
   ],
   "source": [
    "print('Total dataset length', len(df_ssym_plus))\n",
    "pdb_ids = list(set([t.split()[0].upper() for t in df_ssym_plus['Protein'].to_list()]))\n",
    "print('Total number of different chains in dataset', len(pdb_ids))"
   ]
  },
  {
   "cell_type": "code",
   "execution_count": 31,
   "id": "63b911c0",
   "metadata": {},
   "outputs": [],
   "source": [
    "for pdb_id in pdb_ids:\n",
    "    if not os.path.isfile(f\"PDB/{pdb_id[:4]}.pdb\"):\n",
    "        with open(f\"PDB/{pdb_id[:4]}.pdb\", \"w\") as fh:\n",
    "            fh.write(pdb_client.get_pdb_file(f\"{pdb_id[:4]}\", compression=False))"
   ]
  },
  {
   "cell_type": "code",
   "execution_count": 32,
   "id": "25514c7d",
   "metadata": {},
   "outputs": [
    {
     "name": "stdout",
     "output_type": "stream",
     "text": [
      "Processing Ssym+\n"
     ]
    },
    {
     "name": "stderr",
     "output_type": "stream",
     "text": [
      " 93%|████████████████████████████████████████████████████████████████████████████████████████████████████████████████████████████████████████████████████▋           | 327/352 [00:15<00:00, 26.78it/s]/ayb/vol2/home/dumerenkov/anaconda3/lib/python3.9/site-packages/Bio/PDB/Polypeptide.py:342: UserWarning: Assuming residue PLM is an unknown modified amino acid\n",
      "  warnings.warn(\n",
      "/ayb/vol2/home/dumerenkov/anaconda3/lib/python3.9/site-packages/Bio/PDB/Polypeptide.py:342: UserWarning: Assuming residue PLM is an unknown modified amino acid\n",
      "  warnings.warn(\n",
      " 94%|██████████████████████████████████████████████████████████████████████████████████████████████████████████████████████████████████████████████████████          | 330/352 [00:15<00:01, 21.51it/s]/ayb/vol2/home/dumerenkov/anaconda3/lib/python3.9/site-packages/Bio/PDB/Polypeptide.py:342: UserWarning: Assuming residue PLM is an unknown modified amino acid\n",
      "  warnings.warn(\n",
      "/ayb/vol2/home/dumerenkov/anaconda3/lib/python3.9/site-packages/Bio/PDB/Polypeptide.py:342: UserWarning: Assuming residue PLM is an unknown modified amino acid\n",
      "  warnings.warn(\n",
      "/ayb/vol2/home/dumerenkov/anaconda3/lib/python3.9/site-packages/Bio/PDB/Polypeptide.py:342: UserWarning: Assuming residue PLM is an unknown modified amino acid\n",
      "  warnings.warn(\n",
      "100%|████████████████████████████████████████████████████████████████████████████████████████████████████████████████████████████████████████████████████████████████| 352/352 [00:16<00:00, 21.95it/s]\n"
     ]
    }
   ],
   "source": [
    "wt = []\n",
    "mut = []\n",
    "ddg = []\n",
    "pdb_ids = []\n",
    "mut_infos = []\n",
    "poss = []\n",
    "\n",
    "print('Processing Ssym+')\n",
    "\n",
    "for idx in tqdm(range(len(df_ssym_plus))):\n",
    "    pdb_id = df_ssym_plus.iloc[idx]['Protein'].upper()\n",
    "    wild_aa = df_ssym_plus.iloc[idx]['Mut_pdb'][0]\n",
    "    pos = df_ssym_plus.iloc[idx]['Mut_pdb'][1:-1]\n",
    "    mutant_aa = df_ssym_plus.iloc[idx]['Mut_pdb'][-1]\n",
    "    exp_ddg = df_ssym_plus.iloc[idx]['DDG']\n",
    "    \n",
    "        \n",
    "    _, _, sequence, pdb2seq_pos, seq2pdb_pos = pdb2info(f'PDB/{pdb_id[:4]}.pdb', pdb_id[-1])\n",
    "    \n",
    "    #if pdb_id not in no_verbatim_pdb_ids:\n",
    "    #  seq2pdb_pos = {str(i):str(i) for i in range(len(sequence))}\n",
    "    \n",
    "    if pos not in seq2pdb_pos:\n",
    "        print(f'Indexing error for {pdb_id} position {pos} not present in mapping {seq2pdb_pos}')\n",
    "        \n",
    "    else:\n",
    "        if sequence[int(seq2pdb_pos[pos])-1]!=wild_aa:\n",
    "            print(f'Error for {pdb_id} expected {wild_aa} at position {pos} ')\n",
    "            print(f'Sequence is {sequence}')\n",
    "            print(f'Mapping is {seq2pdb_pos}')\n",
    "        \n",
    "        else:\n",
    "            wt.append(sequence)\n",
    "            tt = list(sequence)\n",
    "            tt[int(seq2pdb_pos[pos])-1] = mutant_aa\n",
    "            poss.append(int(seq2pdb_pos[pos])-1)\n",
    "            mut.append(''.join(tt))\n",
    "            ddg.append(exp_ddg)\n",
    "            pdb_ids.append(pdb_id)\n",
    "            mut_infos.append(str(wild_aa) + pos + str(mutant_aa))"
   ]
  },
  {
   "cell_type": "code",
   "execution_count": 33,
   "id": "e3e8b042",
   "metadata": {},
   "outputs": [],
   "source": [
    "pd.DataFrame({'wt_seq': wt, \n",
    "              'mut_seq': mut ,\n",
    "              'ddg': ddg, \n",
    "              'pdb_id': pdb_ids, \n",
    "              'mut_info': mut_infos,\n",
    "              'pos': poss}).to_csv('DATASETS/ssym_plus.csv')"
   ]
  },
  {
   "cell_type": "code",
   "execution_count": 34,
   "id": "b4a526a2",
   "metadata": {},
   "outputs": [],
   "source": [
    "pd.DataFrame({'wt_seq': mut, \n",
    "              'mut_seq': wt ,\n",
    "              'ddg': [-t for t in ddg], \n",
    "              'pdb_id': pdb_ids, \n",
    "              'mut_info': [t[-1] + t[1:-1] + t[0] for t in mut_infos],\n",
    "              'pos': poss}).to_csv('DATASETS/ssym_plus_r.csv')"
   ]
  },
  {
   "cell_type": "code",
   "execution_count": null,
   "id": "cb4ca14a",
   "metadata": {},
   "outputs": [],
   "source": []
  },
  {
   "cell_type": "markdown",
   "id": "868c5000",
   "metadata": {},
   "source": [
    "# Myoglobin"
   ]
  },
  {
   "cell_type": "code",
   "execution_count": 35,
   "id": "e1c768fa",
   "metadata": {},
   "outputs": [],
   "source": [
    "df_myoglobin = pd.read_csv('DATA/myoglobin.txt', sep= ' ', names = ['PDB_ID', 'POSITION', 'WILD_RES', 'MUTANT_RES', 'EXP_DDG'])"
   ]
  },
  {
   "cell_type": "code",
   "execution_count": 36,
   "id": "c5cf2f3a",
   "metadata": {},
   "outputs": [
    {
     "name": "stdout",
     "output_type": "stream",
     "text": [
      "Total dataset length 134\n",
      "Total number of different chains in dataset 1\n"
     ]
    }
   ],
   "source": [
    "print('Total dataset length', len(df_myoglobin))\n",
    "pdb_ids = list(set([t.split()[0].upper() for t in df_myoglobin['PDB_ID'].to_list()]))\n",
    "print('Total number of different chains in dataset', len(pdb_ids))"
   ]
  },
  {
   "cell_type": "code",
   "execution_count": 37,
   "id": "9c95e116",
   "metadata": {},
   "outputs": [],
   "source": [
    "for pdb_id in pdb_ids:\n",
    "    if not os.path.isfile(f\"PDB/{pdb_id[:4]}.pdb\"):\n",
    "        with open(f\"PDB/{pdb_id[:4]}.pdb\", \"w\") as fh:\n",
    "            fh.write(pdb_client.get_pdb_file(f\"{pdb_id[:4]}\", compression=False))"
   ]
  },
  {
   "cell_type": "code",
   "execution_count": 38,
   "id": "b7d5f7cd",
   "metadata": {},
   "outputs": [
    {
     "name": "stdout",
     "output_type": "stream",
     "text": [
      "Processing myoglobin\n"
     ]
    },
    {
     "name": "stderr",
     "output_type": "stream",
     "text": [
      "100%|████████████████████████████████████████████████████████████████████████████████████████████████████████████████████████████████████████████████████████████████| 134/134 [00:13<00:00, 10.03it/s]\n"
     ]
    }
   ],
   "source": [
    "wt = []\n",
    "mut = []\n",
    "ddg = []\n",
    "pdb_ids = []\n",
    "mut_infos = []\n",
    "poss = []\n",
    "\n",
    "#no_verbatim_pdb_ids = {'1C9OA', '1VQBA'}\n",
    "\n",
    "\n",
    "print('Processing myoglobin')\n",
    "\n",
    "for idx in tqdm(range(len(df_myoglobin))):\n",
    "    pdb_id = df_myoglobin.iloc[idx]['PDB_ID'].upper()\n",
    "    wild_aa = df_myoglobin.iloc[idx]['WILD_RES']\n",
    "    pos = str(df_myoglobin.iloc[idx]['POSITION'])\n",
    "    mutant_aa = df_myoglobin.iloc[idx]['MUTANT_RES']\n",
    "    exp_ddg = df_myoglobin.iloc[idx]['EXP_DDG']\n",
    "    \n",
    "    #if pdb_id!= '1CLWA':\n",
    "    #    continue\n",
    "        \n",
    "    \n",
    "    pdb = PDBParser().get_structure(pdb_id[:4], f'PDB/{pdb_id[:4]}.pdb')\n",
    "    chain = next(pdb.get_chains()).get_id()\n",
    "        \n",
    "    _, _, sequence, pdb2seq_pos, seq2pdb_pos = pdb2info(f'PDB/{pdb_id[:4]}.pdb', pdb_id[-1])\n",
    "    \n",
    "    #if pdb_id not in no_verbatim_pdb_ids:\n",
    "    #  seq2pdb_pos = {str(i):str(i) for i in range(len(sequence))}\n",
    "    \n",
    "    if pos not in seq2pdb_pos:\n",
    "        print(f'Indexing error for {pdb_id} position {pos} not present in mapping {seq2pdb_pos}')\n",
    "        \n",
    "    else:\n",
    "        if sequence[int(seq2pdb_pos[pos])-1]!=wild_aa:\n",
    "            print(f'Error for {pdb_id} expected {wild_aa} at position {pos} ')\n",
    "            print(f'Sequence is {sequence}')\n",
    "            print(f'Mapping is {seq2pdb_pos}')\n",
    "        \n",
    "        else:\n",
    "            wt.append(sequence)\n",
    "            tt = list(sequence)\n",
    "            tt[int(seq2pdb_pos[pos])-1] = mutant_aa\n",
    "            poss.append(int(seq2pdb_pos[pos])-1)\n",
    "            mut.append(''.join(tt))\n",
    "            ddg.append(exp_ddg)\n",
    "            pdb_ids.append(pdb_id)\n",
    "            mut_infos.append(str(wild_aa) + pos + str(mutant_aa))"
   ]
  },
  {
   "cell_type": "code",
   "execution_count": 39,
   "id": "ff237702",
   "metadata": {},
   "outputs": [],
   "source": [
    "pd.DataFrame({'wt_seq': wt, \n",
    "              'mut_seq': mut ,\n",
    "              'ddg': [-t for t in ddg], \n",
    "              'pdb_id': pdb_ids, \n",
    "              'mut_info': mut_infos,\n",
    "              'pos': poss}).to_csv('DATASETS/myoglobin.csv')"
   ]
  },
  {
   "cell_type": "code",
   "execution_count": 40,
   "id": "68a5b215",
   "metadata": {},
   "outputs": [],
   "source": [
    "pd.DataFrame({'wt_seq': mut, \n",
    "              'mut_seq': wt ,\n",
    "              'ddg': ddg, \n",
    "              'pdb_id': pdb_ids, \n",
    "              'mut_info': [t[-1] + t[1:-1] + t[0] for t in mut_infos],\n",
    "              'pos': poss}).to_csv('DATASETS/myoglobin_r.csv')"
   ]
  },
  {
   "cell_type": "code",
   "execution_count": null,
   "id": "7e3c83ef",
   "metadata": {},
   "outputs": [],
   "source": []
  },
  {
   "cell_type": "markdown",
   "id": "376691a0",
   "metadata": {},
   "source": [
    "# P53"
   ]
  },
  {
   "cell_type": "code",
   "execution_count": 41,
   "id": "25d79625",
   "metadata": {},
   "outputs": [],
   "source": [
    "df_p53 = pd.read_csv('DATA/p53.txt', sep= ' ', names = ['PDB_ID', 'POSITION', 'WILD_RES', 'MUTANT_RES', 'EXP_DDG'])"
   ]
  },
  {
   "cell_type": "code",
   "execution_count": 42,
   "id": "4563a086",
   "metadata": {},
   "outputs": [
    {
     "name": "stdout",
     "output_type": "stream",
     "text": [
      "Total dataset length 42\n",
      "Total number of different chains in dataset 1\n"
     ]
    }
   ],
   "source": [
    "print('Total dataset length', len(df_p53))\n",
    "pdb_ids = list(set([t.split()[0].upper() for t in df_p53['PDB_ID'].to_list()]))\n",
    "print('Total number of different chains in dataset', len(pdb_ids))"
   ]
  },
  {
   "cell_type": "code",
   "execution_count": 43,
   "id": "15756c9d",
   "metadata": {},
   "outputs": [],
   "source": [
    "for pdb_id in pdb_ids:\n",
    "    if not os.path.isfile(f\"PDB/{pdb_id[:4]}.pdb\"):\n",
    "        with open(f\"PDB/{pdb_id[:4]}.pdb\", \"w\") as fh:\n",
    "            fh.write(pdb_client.get_pdb_file(f\"{pdb_id[:4]}\", compression=False))"
   ]
  },
  {
   "cell_type": "code",
   "execution_count": 44,
   "id": "8807d652",
   "metadata": {},
   "outputs": [
    {
     "name": "stdout",
     "output_type": "stream",
     "text": [
      "Processing p53\n"
     ]
    },
    {
     "name": "stderr",
     "output_type": "stream",
     "text": [
      "100%|██████████████████████████████████████████████████████████████████████████████████████████████████████████████████████████████████████████████████████████████████| 42/42 [00:08<00:00,  4.76it/s]\n"
     ]
    }
   ],
   "source": [
    "wt = []\n",
    "mut = []\n",
    "ddg = []\n",
    "pdb_ids = []\n",
    "mut_infos = []\n",
    "poss = []\n",
    "\n",
    "print('Processing p53')\n",
    "\n",
    "for idx in tqdm(range(len(df_p53))):\n",
    "    pdb_id = df_p53.iloc[idx]['PDB_ID'].upper()\n",
    "    wild_aa = df_p53.iloc[idx]['WILD_RES']\n",
    "    pos = str(df_p53.iloc[idx]['POSITION'])\n",
    "    mutant_aa = df_p53.iloc[idx]['MUTANT_RES']\n",
    "    exp_ddg = df_p53.iloc[idx]['EXP_DDG']\n",
    "    \n",
    "        \n",
    "    \n",
    "    pdb = PDBParser().get_structure(pdb_id[:4], f'PDB/{pdb_id[:4]}.pdb')\n",
    "    chain = next(pdb.get_chains()).get_id()\n",
    "        \n",
    "    _, _, sequence, pdb2seq_pos, seq2pdb_pos = pdb2info(f'PDB/{pdb_id[:4]}.pdb', pdb_id[-1])\n",
    "    \n",
    "    \n",
    "    if pos not in seq2pdb_pos:\n",
    "        print(f'Indexing error for {pdb_id} position {pos} not present in mapping {seq2pdb_pos}')\n",
    "        \n",
    "    else:\n",
    "        if sequence[int(seq2pdb_pos[pos])-1]!=wild_aa:\n",
    "            print(f'Error for {pdb_id} expected {wild_aa} at position {pos} ')\n",
    "            print(f'Sequence is {sequence}')\n",
    "            print(f'Mapping is {seq2pdb_pos}')\n",
    "        \n",
    "        else:\n",
    "            wt.append(sequence)\n",
    "            tt = list(sequence)\n",
    "            tt[int(seq2pdb_pos[pos])-1] = mutant_aa\n",
    "            poss.append(int(seq2pdb_pos[pos])-1)\n",
    "            mut.append(''.join(tt))\n",
    "            ddg.append(exp_ddg)\n",
    "            pdb_ids.append(pdb_id)\n",
    "            mut_infos.append(str(wild_aa) + pos + str(mutant_aa))"
   ]
  },
  {
   "cell_type": "code",
   "execution_count": 45,
   "id": "1d85e1a9",
   "metadata": {},
   "outputs": [],
   "source": [
    "pd.DataFrame({'wt_seq': wt, \n",
    "              'mut_seq': mut ,\n",
    "              'ddg': [-t for t in ddg], \n",
    "              'pdb_id': pdb_ids, \n",
    "              'mut_info': mut_infos,\n",
    "              'pos': poss}).to_csv('DATASETS/p53.csv')"
   ]
  },
  {
   "cell_type": "code",
   "execution_count": null,
   "id": "56bcae35",
   "metadata": {},
   "outputs": [],
   "source": []
  },
  {
   "cell_type": "markdown",
   "id": "9fc95946",
   "metadata": {},
   "source": [
    "# S669"
   ]
  },
  {
   "cell_type": "code",
   "execution_count": null,
   "id": "fec60d17",
   "metadata": {},
   "outputs": [],
   "source": []
  },
  {
   "cell_type": "code",
   "execution_count": 46,
   "id": "1fecd79f",
   "metadata": {},
   "outputs": [],
   "source": [
    "df_p53 = pd.read_csv('DATA/p53.txt', sep= ' ', names = ['PDB_ID', 'POSITION', 'WILD_RES', 'MUTANT_RES', 'EXP_DDG'])"
   ]
  },
  {
   "cell_type": "code",
   "execution_count": null,
   "id": "7b724db8",
   "metadata": {},
   "outputs": [],
   "source": []
  },
  {
   "cell_type": "code",
   "execution_count": 47,
   "id": "df1e324b",
   "metadata": {},
   "outputs": [],
   "source": [
    "df_S669 = pd.read_csv('DATA/Data_s669_with_predictions.csv')"
   ]
  },
  {
   "cell_type": "code",
   "execution_count": 48,
   "id": "60926055",
   "metadata": {},
   "outputs": [
    {
     "name": "stdout",
     "output_type": "stream",
     "text": [
      "Total dataset length 669\n",
      "Total number of different chains in dataset 94\n"
     ]
    }
   ],
   "source": [
    "print('Total dataset length', len(df_S669))\n",
    "pdb_ids = list(set([t.split()[0][:4].upper() for t in df_S669['Protein'].to_list()]))\n",
    "print('Total number of different chains in dataset', len(pdb_ids))"
   ]
  },
  {
   "cell_type": "code",
   "execution_count": 49,
   "id": "d2797baa",
   "metadata": {},
   "outputs": [],
   "source": [
    "for pdb_id in pdb_ids:\n",
    "    if not os.path.isfile(f\"PDB/{pdb_id[:4]}.pdb\"):\n",
    "        with open(f\"PDB/{pdb_id[:4]}.pdb\", \"w\") as fh:\n",
    "            fh.write(pdb_client.get_pdb_file(f\"{pdb_id[:4]}\", compression=False))"
   ]
  },
  {
   "cell_type": "code",
   "execution_count": 50,
   "id": "54283f07",
   "metadata": {},
   "outputs": [
    {
     "name": "stdout",
     "output_type": "stream",
     "text": [
      "Processing S669\n"
     ]
    },
    {
     "name": "stderr",
     "output_type": "stream",
     "text": [
      " 20%|███████████████████████████████▊                                                                                                                                | 133/669 [00:18<00:41, 12.88it/s]/ayb/vol2/home/dumerenkov/anaconda3/lib/python3.9/site-packages/Bio/PDB/Polypeptide.py:342: UserWarning: Assuming residue  CA is an unknown modified amino acid\n",
      "  warnings.warn(\n",
      "/ayb/vol2/home/dumerenkov/anaconda3/lib/python3.9/site-packages/Bio/PDB/Polypeptide.py:342: UserWarning: Assuming residue  CA is an unknown modified amino acid\n",
      "  warnings.warn(\n",
      " 20%|████████████████████████████████▎                                                                                                                               | 135/669 [00:18<00:44, 12.05it/s]/ayb/vol2/home/dumerenkov/anaconda3/lib/python3.9/site-packages/Bio/PDB/Polypeptide.py:342: UserWarning: Assuming residue  CA is an unknown modified amino acid\n",
      "  warnings.warn(\n",
      "/ayb/vol2/home/dumerenkov/anaconda3/lib/python3.9/site-packages/Bio/PDB/Polypeptide.py:342: UserWarning: Assuming residue  CA is an unknown modified amino acid\n",
      "  warnings.warn(\n",
      " 20%|████████████████████████████████▊                                                                                                                               | 137/669 [00:18<00:45, 11.75it/s]/ayb/vol2/home/dumerenkov/anaconda3/lib/python3.9/site-packages/Bio/PDB/Polypeptide.py:342: UserWarning: Assuming residue  CA is an unknown modified amino acid\n",
      "  warnings.warn(\n",
      "/ayb/vol2/home/dumerenkov/anaconda3/lib/python3.9/site-packages/Bio/PDB/Polypeptide.py:342: UserWarning: Assuming residue  CA is an unknown modified amino acid\n",
      "  warnings.warn(\n",
      " 21%|█████████████████████████████████▏                                                                                                                              | 139/669 [00:18<00:40, 13.20it/s]/ayb/vol2/home/dumerenkov/anaconda3/lib/python3.9/site-packages/Bio/PDB/Polypeptide.py:342: UserWarning: Assuming residue  CA is an unknown modified amino acid\n",
      "  warnings.warn(\n",
      "/ayb/vol2/home/dumerenkov/anaconda3/lib/python3.9/site-packages/Bio/PDB/Polypeptide.py:342: UserWarning: Assuming residue  CA is an unknown modified amino acid\n",
      "  warnings.warn(\n",
      " 21%|█████████████████████████████████▋                                                                                                                              | 141/669 [00:18<00:43, 12.05it/s]/ayb/vol2/home/dumerenkov/anaconda3/lib/python3.9/site-packages/Bio/PDB/Polypeptide.py:342: UserWarning: Assuming residue  CA is an unknown modified amino acid\n",
      "  warnings.warn(\n",
      "/ayb/vol2/home/dumerenkov/anaconda3/lib/python3.9/site-packages/Bio/PDB/Polypeptide.py:342: UserWarning: Assuming residue  CA is an unknown modified amino acid\n",
      "  warnings.warn(\n",
      " 21%|██████████████████████████████████▏                                                                                                                             | 143/669 [00:19<00:46, 11.43it/s]/ayb/vol2/home/dumerenkov/anaconda3/lib/python3.9/site-packages/Bio/PDB/Polypeptide.py:342: UserWarning: Assuming residue  CA is an unknown modified amino acid\n",
      "  warnings.warn(\n",
      "/ayb/vol2/home/dumerenkov/anaconda3/lib/python3.9/site-packages/Bio/PDB/Polypeptide.py:342: UserWarning: Assuming residue  CA is an unknown modified amino acid\n",
      "  warnings.warn(\n",
      " 22%|██████████████████████████████████▋                                                                                                                             | 145/669 [00:19<00:41, 12.52it/s]/ayb/vol2/home/dumerenkov/anaconda3/lib/python3.9/site-packages/Bio/PDB/Polypeptide.py:342: UserWarning: Assuming residue  CA is an unknown modified amino acid\n",
      "  warnings.warn(\n",
      "/ayb/vol2/home/dumerenkov/anaconda3/lib/python3.9/site-packages/Bio/PDB/Polypeptide.py:342: UserWarning: Assuming residue  CA is an unknown modified amino acid\n",
      "  warnings.warn(\n",
      " 22%|███████████████████████████████████▏                                                                                                                            | 147/669 [00:19<00:44, 11.78it/s]/ayb/vol2/home/dumerenkov/anaconda3/lib/python3.9/site-packages/Bio/PDB/Polypeptide.py:342: UserWarning: Assuming residue  CA is an unknown modified amino acid\n",
      "  warnings.warn(\n",
      "/ayb/vol2/home/dumerenkov/anaconda3/lib/python3.9/site-packages/Bio/PDB/Polypeptide.py:342: UserWarning: Assuming residue  CA is an unknown modified amino acid\n",
      "  warnings.warn(\n",
      " 22%|███████████████████████████████████▋                                                                                                                            | 149/669 [00:19<00:45, 11.32it/s]/ayb/vol2/home/dumerenkov/anaconda3/lib/python3.9/site-packages/Bio/PDB/Polypeptide.py:342: UserWarning: Assuming residue  CA is an unknown modified amino acid\n",
      "  warnings.warn(\n",
      "/ayb/vol2/home/dumerenkov/anaconda3/lib/python3.9/site-packages/Bio/PDB/Polypeptide.py:342: UserWarning: Assuming residue  CA is an unknown modified amino acid\n",
      "  warnings.warn(\n",
      " 23%|████████████████████████████████████                                                                                                                            | 151/669 [00:19<00:41, 12.52it/s]/ayb/vol2/home/dumerenkov/anaconda3/lib/python3.9/site-packages/Bio/PDB/Polypeptide.py:342: UserWarning: Assuming residue  CA is an unknown modified amino acid\n",
      "  warnings.warn(\n",
      "/ayb/vol2/home/dumerenkov/anaconda3/lib/python3.9/site-packages/Bio/PDB/Polypeptide.py:342: UserWarning: Assuming residue  CA is an unknown modified amino acid\n",
      "  warnings.warn(\n",
      " 23%|████████████████████████████████████▌                                                                                                                           | 153/669 [00:19<00:43, 11.99it/s]/ayb/vol2/home/dumerenkov/anaconda3/lib/python3.9/site-packages/Bio/PDB/Polypeptide.py:342: UserWarning: Assuming residue  CA is an unknown modified amino acid\n",
      "  warnings.warn(\n",
      "/ayb/vol2/home/dumerenkov/anaconda3/lib/python3.9/site-packages/Bio/PDB/Polypeptide.py:342: UserWarning: Assuming residue  CA is an unknown modified amino acid\n",
      "  warnings.warn(\n",
      " 23%|█████████████████████████████████████                                                                                                                           | 155/669 [00:20<00:38, 13.32it/s]/ayb/vol2/home/dumerenkov/anaconda3/lib/python3.9/site-packages/Bio/PDB/Polypeptide.py:342: UserWarning: Assuming residue  CA is an unknown modified amino acid\n",
      "  warnings.warn(\n",
      "/ayb/vol2/home/dumerenkov/anaconda3/lib/python3.9/site-packages/Bio/PDB/Polypeptide.py:342: UserWarning: Assuming residue  CA is an unknown modified amino acid\n",
      "  warnings.warn(\n",
      " 23%|█████████████████████████████████████▌                                                                                                                          | 157/669 [00:20<00:42, 12.14it/s]/ayb/vol2/home/dumerenkov/anaconda3/lib/python3.9/site-packages/Bio/PDB/Polypeptide.py:342: UserWarning: Assuming residue  CA is an unknown modified amino acid\n",
      "  warnings.warn(\n",
      "/ayb/vol2/home/dumerenkov/anaconda3/lib/python3.9/site-packages/Bio/PDB/Polypeptide.py:342: UserWarning: Assuming residue  CA is an unknown modified amino acid\n",
      "  warnings.warn(\n",
      " 24%|██████████████████████████████████████                                                                                                                          | 159/669 [00:20<00:44, 11.54it/s]/ayb/vol2/home/dumerenkov/anaconda3/lib/python3.9/site-packages/Bio/PDB/Polypeptide.py:342: UserWarning: Assuming residue  CA is an unknown modified amino acid\n",
      "  warnings.warn(\n",
      "/ayb/vol2/home/dumerenkov/anaconda3/lib/python3.9/site-packages/Bio/PDB/Polypeptide.py:342: UserWarning: Assuming residue  CA is an unknown modified amino acid\n",
      "  warnings.warn(\n",
      " 24%|██████████████████████████████████████▌                                                                                                                         | 161/669 [00:20<00:40, 12.66it/s]/ayb/vol2/home/dumerenkov/anaconda3/lib/python3.9/site-packages/Bio/PDB/Polypeptide.py:342: UserWarning: Assuming residue  CA is an unknown modified amino acid\n",
      "  warnings.warn(\n",
      "/ayb/vol2/home/dumerenkov/anaconda3/lib/python3.9/site-packages/Bio/PDB/Polypeptide.py:342: UserWarning: Assuming residue  CA is an unknown modified amino acid\n",
      "  warnings.warn(\n"
     ]
    },
    {
     "name": "stderr",
     "output_type": "stream",
     "text": [
      " 24%|██████████████████████████████████████▉                                                                                                                         | 163/669 [00:20<00:42, 11.92it/s]/ayb/vol2/home/dumerenkov/anaconda3/lib/python3.9/site-packages/Bio/PDB/Polypeptide.py:342: UserWarning: Assuming residue  CA is an unknown modified amino acid\n",
      "  warnings.warn(\n",
      "/ayb/vol2/home/dumerenkov/anaconda3/lib/python3.9/site-packages/Bio/PDB/Polypeptide.py:342: UserWarning: Assuming residue  CA is an unknown modified amino acid\n",
      "  warnings.warn(\n",
      " 25%|███████████████████████████████████████▍                                                                                                                        | 165/669 [00:20<00:44, 11.45it/s]/ayb/vol2/home/dumerenkov/anaconda3/lib/python3.9/site-packages/Bio/PDB/Polypeptide.py:342: UserWarning: Assuming residue  CA is an unknown modified amino acid\n",
      "  warnings.warn(\n",
      "/ayb/vol2/home/dumerenkov/anaconda3/lib/python3.9/site-packages/Bio/PDB/Polypeptide.py:342: UserWarning: Assuming residue  CA is an unknown modified amino acid\n",
      "  warnings.warn(\n",
      " 25%|███████████████████████████████████████▉                                                                                                                        | 167/669 [00:21<00:39, 12.61it/s]/ayb/vol2/home/dumerenkov/anaconda3/lib/python3.9/site-packages/Bio/PDB/Polypeptide.py:342: UserWarning: Assuming residue  CA is an unknown modified amino acid\n",
      "  warnings.warn(\n",
      "/ayb/vol2/home/dumerenkov/anaconda3/lib/python3.9/site-packages/Bio/PDB/Polypeptide.py:342: UserWarning: Assuming residue  CA is an unknown modified amino acid\n",
      "  warnings.warn(\n",
      " 25%|████████████████████████████████████████▍                                                                                                                       | 169/669 [00:21<00:41, 12.17it/s]/ayb/vol2/home/dumerenkov/anaconda3/lib/python3.9/site-packages/Bio/PDB/Polypeptide.py:342: UserWarning: Assuming residue  CA is an unknown modified amino acid\n",
      "  warnings.warn(\n",
      "/ayb/vol2/home/dumerenkov/anaconda3/lib/python3.9/site-packages/Bio/PDB/Polypeptide.py:342: UserWarning: Assuming residue  CA is an unknown modified amino acid\n",
      "  warnings.warn(\n",
      " 26%|████████████████████████████████████████▉                                                                                                                       | 171/669 [00:21<00:42, 11.75it/s]/ayb/vol2/home/dumerenkov/anaconda3/lib/python3.9/site-packages/Bio/PDB/Polypeptide.py:342: UserWarning: Assuming residue  CA is an unknown modified amino acid\n",
      "  warnings.warn(\n",
      "/ayb/vol2/home/dumerenkov/anaconda3/lib/python3.9/site-packages/Bio/PDB/Polypeptide.py:342: UserWarning: Assuming residue  CA is an unknown modified amino acid\n",
      "  warnings.warn(\n",
      " 26%|█████████████████████████████████████████▍                                                                                                                      | 173/669 [00:21<00:38, 13.05it/s]/ayb/vol2/home/dumerenkov/anaconda3/lib/python3.9/site-packages/Bio/PDB/Polypeptide.py:342: UserWarning: Assuming residue  CA is an unknown modified amino acid\n",
      "  warnings.warn(\n",
      "/ayb/vol2/home/dumerenkov/anaconda3/lib/python3.9/site-packages/Bio/PDB/Polypeptide.py:342: UserWarning: Assuming residue  CA is an unknown modified amino acid\n",
      "  warnings.warn(\n",
      " 26%|█████████████████████████████████████████▊                                                                                                                      | 175/669 [00:21<00:39, 12.35it/s]/ayb/vol2/home/dumerenkov/anaconda3/lib/python3.9/site-packages/Bio/PDB/Polypeptide.py:342: UserWarning: Assuming residue  CA is an unknown modified amino acid\n",
      "  warnings.warn(\n",
      "/ayb/vol2/home/dumerenkov/anaconda3/lib/python3.9/site-packages/Bio/PDB/Polypeptide.py:342: UserWarning: Assuming residue  CA is an unknown modified amino acid\n",
      "  warnings.warn(\n",
      " 26%|██████████████████████████████████████████▎                                                                                                                     | 177/669 [00:21<00:36, 13.46it/s]/ayb/vol2/home/dumerenkov/anaconda3/lib/python3.9/site-packages/Bio/PDB/Polypeptide.py:342: UserWarning: Assuming residue  CA is an unknown modified amino acid\n",
      "  warnings.warn(\n",
      "/ayb/vol2/home/dumerenkov/anaconda3/lib/python3.9/site-packages/Bio/PDB/Polypeptide.py:342: UserWarning: Assuming residue  CA is an unknown modified amino acid\n",
      "  warnings.warn(\n",
      " 27%|██████████████████████████████████████████▊                                                                                                                     | 179/669 [00:22<00:39, 12.34it/s]/ayb/vol2/home/dumerenkov/anaconda3/lib/python3.9/site-packages/Bio/PDB/Polypeptide.py:342: UserWarning: Assuming residue  CA is an unknown modified amino acid\n",
      "  warnings.warn(\n",
      "/ayb/vol2/home/dumerenkov/anaconda3/lib/python3.9/site-packages/Bio/PDB/Polypeptide.py:342: UserWarning: Assuming residue  CA is an unknown modified amino acid\n",
      "  warnings.warn(\n",
      " 27%|███████████████████████████████████████████▎                                                                                                                    | 181/669 [00:22<00:41, 11.73it/s]/ayb/vol2/home/dumerenkov/anaconda3/lib/python3.9/site-packages/Bio/PDB/Polypeptide.py:342: UserWarning: Assuming residue  CA is an unknown modified amino acid\n",
      "  warnings.warn(\n",
      " 45%|████████████████████████████████████████████████████████████████████████▍                                                                                       | 303/669 [01:29<00:39,  9.15it/s]/ayb/vol2/home/dumerenkov/anaconda3/lib/python3.9/site-packages/Bio/PDB/Polypeptide.py:342: UserWarning: Assuming residue  CA is an unknown modified amino acid\n",
      "  warnings.warn(\n",
      "/ayb/vol2/home/dumerenkov/anaconda3/lib/python3.9/site-packages/Bio/PDB/Polypeptide.py:342: UserWarning: Assuming residue  CA is an unknown modified amino acid\n",
      "  warnings.warn(\n",
      " 46%|████████████████████████████████████████████████████████████████████████▉                                                                                       | 305/669 [01:30<00:40,  9.01it/s]/ayb/vol2/home/dumerenkov/anaconda3/lib/python3.9/site-packages/Bio/PDB/Polypeptide.py:342: UserWarning: Assuming residue  CA is an unknown modified amino acid\n",
      "  warnings.warn(\n",
      "/ayb/vol2/home/dumerenkov/anaconda3/lib/python3.9/site-packages/Bio/PDB/Polypeptide.py:342: UserWarning: Assuming residue  CA is an unknown modified amino acid\n",
      "  warnings.warn(\n",
      " 80%|███████████████████████████████████████████████████████████████████████████████████████████████████████████████████████████████▍                                | 533/669 [03:03<01:29,  1.52it/s]/ayb/vol2/home/dumerenkov/anaconda3/lib/python3.9/site-packages/Bio/PDB/Polypeptide.py:342: UserWarning: Assuming residue  CA is an unknown modified amino acid\n",
      "  warnings.warn(\n",
      "/ayb/vol2/home/dumerenkov/anaconda3/lib/python3.9/site-packages/Bio/PDB/Polypeptide.py:342: UserWarning: Assuming residue  CA is an unknown modified amino acid\n",
      "  warnings.warn(\n",
      "100%|████████████████████████████████████████████████████████████████████████████████████████████████████████████████████████████████████████████████████████████████| 669/669 [03:49<00:00,  2.91it/s]\n"
     ]
    }
   ],
   "source": [
    "wt = []\n",
    "mut = []\n",
    "ddg = []\n",
    "pdb_ids = []\n",
    "mut_infos = []\n",
    "poss = []\n",
    "\n",
    "print('Processing S669')\n",
    "\n",
    "for idx in tqdm(range(len(df_S669))):\n",
    "    pdb_id = df_S669.iloc[idx]['Protein'].upper()\n",
    "    wild_aa = df_S669.iloc[idx]['PDB_Mut'][0]\n",
    "    pos = df_S669.iloc[idx]['PDB_Mut'][1:-1]\n",
    "    mutant_aa = df_S669.iloc[idx]['PDB_Mut'][-1]\n",
    "    exp_ddg = df_S669.iloc[idx]['DDG_checked_dir']\n",
    "    \n",
    "        \n",
    "    \n",
    "    pdb = PDBParser().get_structure(pdb_id[:4], f'PDB/{pdb_id[:4]}.pdb')\n",
    "    chain = next(pdb.get_chains()).get_id()\n",
    "        \n",
    "    _, _, sequence, pdb2seq_pos, seq2pdb_pos = pdb2info(f'PDB/{pdb_id[:4]}.pdb', pdb_id[-1])\n",
    "    \n",
    "    \n",
    "    if pos not in seq2pdb_pos:\n",
    "        print(f'Indexing error for {pdb_id} position {pos} not present in mapping {seq2pdb_pos}')\n",
    "        \n",
    "    else:\n",
    "        if sequence[int(seq2pdb_pos[pos])-1]!=wild_aa:\n",
    "            print(f'Error for {pdb_id} expected {wild_aa} at position {pos} ')\n",
    "            print(f'Sequence is {sequence}')\n",
    "            print(f'Mapping is {seq2pdb_pos}')\n",
    "        \n",
    "        else:\n",
    "            wt.append(sequence)\n",
    "            tt = list(sequence)\n",
    "            tt[int(seq2pdb_pos[pos])-1] = mutant_aa\n",
    "            poss.append(int(seq2pdb_pos[pos])-1)\n",
    "            mut.append(''.join(tt))\n",
    "            ddg.append(exp_ddg)\n",
    "            pdb_ids.append(pdb_id)\n",
    "            mut_infos.append(str(wild_aa) + pos + str(mutant_aa))"
   ]
  },
  {
   "cell_type": "code",
   "execution_count": 51,
   "id": "fde67ce7",
   "metadata": {},
   "outputs": [],
   "source": [
    "pd.DataFrame({'wt_seq': wt, \n",
    "              'mut_seq': mut ,\n",
    "              'ddg': ddg, \n",
    "              'pdb_id': pdb_ids, \n",
    "              'mut_info': mut_infos,\n",
    "              'pos': poss}).to_csv('DATASETS/s669.csv')"
   ]
  },
  {
   "cell_type": "code",
   "execution_count": 52,
   "id": "d5999886",
   "metadata": {},
   "outputs": [],
   "source": [
    "pd.DataFrame({'wt_seq': mut, \n",
    "              'mut_seq': wt ,\n",
    "              'ddg': [-t for t in ddg], \n",
    "              'pdb_id': pdb_ids, \n",
    "              'mut_info': [t[-1] + t[1:-1] + t[0] for t in mut_infos],\n",
    "              'pos': poss}).to_csv('DATASETS/s669_r.csv')"
   ]
  },
  {
   "cell_type": "code",
   "execution_count": null,
   "id": "b3dba998",
   "metadata": {},
   "outputs": [],
   "source": []
  },
  {
   "cell_type": "code",
   "execution_count": null,
   "id": "4f1bbf88",
   "metadata": {},
   "outputs": [],
   "source": []
  },
  {
   "cell_type": "markdown",
   "id": "4ea033b9",
   "metadata": {},
   "source": [
    "# PROSTATA dataset"
   ]
  },
  {
   "cell_type": "code",
   "execution_count": 53,
   "id": "50e83df0",
   "metadata": {},
   "outputs": [],
   "source": [
    "df_article_dataset = pd.read_pickle('DATA/dataset_our_w_clusters_v2.5.pkl')"
   ]
  },
  {
   "cell_type": "code",
   "execution_count": 54,
   "id": "fa68c29b",
   "metadata": {},
   "outputs": [
    {
     "name": "stdout",
     "output_type": "stream",
     "text": [
      "Total dataset length 6547\n",
      "Total number of different chains in dataset 663\n"
     ]
    }
   ],
   "source": [
    "print('Total dataset length', len(df_article_dataset))\n",
    "pdb_ids = list(set([t.split()[0].upper() for t in df_article_dataset['pdb_id'].to_list()]))\n",
    "print('Total number of different chains in dataset', len(pdb_ids))"
   ]
  },
  {
   "cell_type": "code",
   "execution_count": 55,
   "id": "418a70be",
   "metadata": {
    "scrolled": true
   },
   "outputs": [],
   "source": [
    "for pdb_id in pdb_ids:\n",
    "    if not os.path.isfile(f\"PDB/{pdb_id[:4]}.pdb\"):\n",
    "        with open(f\"PDB/{pdb_id[:4]}.pdb\", \"w\") as fh:\n",
    "            fh.write(pdb_client.get_pdb_file(f\"{pdb_id[:4]}\", compression=False))"
   ]
  },
  {
   "cell_type": "code",
   "execution_count": null,
   "id": "da4bdd0f",
   "metadata": {},
   "outputs": [],
   "source": []
  },
  {
   "cell_type": "code",
   "execution_count": 56,
   "id": "c2940d20",
   "metadata": {},
   "outputs": [
    {
     "name": "stdout",
     "output_type": "stream",
     "text": [
      "Processing article dataset\n"
     ]
    },
    {
     "name": "stderr",
     "output_type": "stream",
     "text": [
      "  4%|█████▉                                                                                                                                                         | 246/6547 [01:37<16:02,  6.55it/s]/ayb/vol2/home/dumerenkov/anaconda3/lib/python3.9/site-packages/Bio/PDB/Polypeptide.py:342: UserWarning: Assuming residue  CA is an unknown modified amino acid\n",
      "  warnings.warn(\n",
      "  5%|███████▌                                                                                                                                                       | 311/6547 [01:41<07:01, 14.79it/s]"
     ]
    },
    {
     "name": "stdout",
     "output_type": "stream",
     "text": [
      "Error for 1AYEA expected A at position 31 \n",
      "Sequence is LETFVGDQVLEIVPSNEEQIKNLLQLEAQEHLQLDFWKSPTTPGETAHVRVPFVNVQAVKVFLESQGIAYSIMIEDVQVLLDKENEEMLFNRRRERSGNFNFGAYHTLEEISQEMDNLVAEHPGLVSKVNIGSSFENRPMNVLKFSTGGDKPAIWLDAGIHAREWVTQATALWTANKIVSDYGKDPSITSILDALDIFLLPVTNPDGYVFSQTKNRMWRKTRSKVSGSLCVGVDPNRNWDAGFGGPGASSNPCSDSYHGPSANSEVEVKSIVDFIKSHGKVKAFIILHSYSQLLMFPYGYKCTKLDDFDELSEVAQKAAQSLRSLHGTKYKVGPICSVIYQASGGSIDWSYDYGIKYSFAFELRDTGRYGFLLPARQILPTAEETWLGLKAIMEHVRDHPY\n",
      "Mapping is {'4A': '1', '5A': '2', '6A': '3', '7A': '4', '8A': '5', '9A': '6', '10A': '7', '11A': '8', '12A': '9', '13A': '10', '14A': '11', '15A': '12', '16A': '13', '17A': '14', '18A': '15', '19A': '16', '20A': '17', '21A': '18', '22A': '19', '23A': '20', '24A': '21', '25A': '22', '26A': '23', '27A': '24', '28A': '25', '29A': '26', '30A': '27', '31A': '28', '32A': '29', '33A': '30', '34A': '31', '34B': '32', '34C': '33', '35A': '34', '36A': '35', '37A': '36', '38A': '37', '39A': '38', '40A': '39', '41A': '40', '42A': '41', '47A': '42', '48A': '43', '49A': '44', '50A': '45', '51A': '46', '52A': '47', '53A': '48', '54A': '49', '55A': '50', '56A': '51', '57A': '52', '58A': '53', '59A': '54', '60A': '55', '61A': '56', '62A': '57', '63A': '58', '64A': '59', '65A': '60', '66A': '61', '67A': '62', '68A': '63', '69A': '64', '70A': '65', '71A': '66', '72A': '67', '73A': '68', '74A': '69', '75A': '70', '76A': '71', '77A': '72', '78A': '73', '79A': '74', '80A': '75', '81A': '76', '82A': '77', '83A': '78', '84A': '79', '85A': '80', '86A': '81', '87A': '82', '88A': '83', '89A': '84', '90A': '85', '91A': '86', '92A': '87', '93A': '88', '94A': '89', '95A': '90', '96A': '91', '97A': '92', '98A': '93', '99A': '94', '1': '95', '2': '96', '3': '97', '4': '98', '5': '99', '7': '100', '8': '101', '9': '102', '10': '103', '11': '104', '12': '105', '13': '106', '14': '107', '15': '108', '16': '109', '17': '110', '18': '111', '19': '112', '20': '113', '21': '114', '22': '115', '23': '116', '24': '117', '25': '118', '26': '119', '27': '120', '28': '121', '29': '122', '30': '123', '31': '124', '32': '125', '33': '126', '34': '127', '35': '128', '36': '129', '37': '130', '38': '131', '39': '132', '40': '133', '41': '134', '42': '135', '43': '136', '44': '137', '45': '138', '46': '139', '47': '140', '48': '141', '49': '142', '50': '143', '51': '144', '52': '145', '53': '146', '54': '147', '55': '148', '56': '149', '58': '150', '59': '151', '60': '152', '61': '153', '62': '154', '63': '155', '64': '156', '65': '157', '66': '158', '67': '159', '68': '160', '69': '161', '70': '162', '71': '163', '72': '164', '73': '165', '74': '166', '75': '167', '76': '168', '77': '169', '78': '170', '79': '171', '80': '172', '81': '173', '82': '174', '83': '175', '84': '176', '85': '177', '86': '178', '87': '179', '88': '180', '89': '181', '90': '182', '91': '183', '92': '184', '93': '185', '94': '186', '95': '187', '96': '188', '97': '189', '98': '190', '99': '191', '100': '192', '101': '193', '102': '194', '103': '195', '104': '196', '105': '197', '106': '198', '107': '199', '108': '200', '109': '201', '110': '202', '111': '203', '112': '204', '113': '205', '114': '206', '115': '207', '116': '208', '117': '209', '118': '210', '119': '211', '120': '212', '121': '213', '122': '214', '123': '215', '124': '216', '125': '217', '126': '218', '127': '219', '128': '220', '129': '221', '130': '222', '131': '223', '132': '224', '133': '225', '134': '226', '135': '227', '136': '228', '137': '229', '138': '230', '139': '231', '140': '232', '141': '233', '142': '234', '143': '235', '144': '236', '145': '237', '146': '238', '147': '239', '148': '240', '149': '241', '150': '242', '151': '243', '152': '244', '153': '245', '154': '246', '155': '247', '156': '248', '157': '249', '158': '250', '159': '251', '160': '252', '161': '253', '162': '254', '163': '255', '164': '256', '165': '257', '166': '258', '167': '259', '168': '260', '169': '261', '170': '262', '171': '263', '172': '264', '173': '265', '174': '266', '175': '267', '176': '268', '177': '269', '178': '270', '179': '271', '180': '272', '181': '273', '182': '274', '183': '275', '184': '276', '185': '277', '186': '278', '187': '279', '188': '280', '189': '281', '190': '282', '191': '283', '192': '284', '193': '285', '194': '286', '195': '287', '196': '288', '197': '289', '198': '290', '199': '291', '200': '292', '201': '293', '202': '294', '203': '295', '204': '296', '205': '297', '206': '298', '207': '299', '208': '300', '209': '301', '210': '302', '211': '303', '212': '304', '213': '305', '214': '306', '215': '307', '216': '308', '217': '309', '218': '310', '219': '311', '220': '312', '221': '313', '222': '314', '223': '315', '224': '316', '225': '317', '226': '318', '227': '319', '228': '320', '229': '321', '230': '322', '231': '323', '232': '324', '233': '325', '234': '326', '235': '327', '236': '328', '237': '329', '238': '330', '239': '331', '240': '332', '241': '333', '242': '334', '243': '335', '244': '336', '245': '337', '246': '338', '247': '339', '248': '340', '249': '341', '250': '342', '251': '343', '252': '344', '253': '345', '254': '346', '255': '347', '256': '348', '257': '349', '258': '350', '259': '351', '260': '352', '261': '353', '262': '354', '263': '355', '264': '356', '265': '357', '266': '358', '267': '359', '268': '360', '269': '361', '270': '362', '271': '363', '272': '364', '273': '365', '274': '366', '275': '367', '276': '368', '277': '369', '278': '370', '279': '371', '280': '372', '281': '373', '282': '374', '283': '375', '284': '376', '285': '377', '286': '378', '287': '379', '288': '380', '289': '381', '290': '382', '291': '383', '292': '384', '293': '385', '294': '386', '295': '387', '296': '388', '297': '389', '298': '390', '299': '391', '300': '392', '301': '393', '302': '394', '303': '395', '304': '396', '305': '397', '306': '398', '307': '399', '308': '400', '309': '401'}\n",
      "Error for 1AYEA expected E at position 14 \n",
      "Sequence is LETFVGDQVLEIVPSNEEQIKNLLQLEAQEHLQLDFWKSPTTPGETAHVRVPFVNVQAVKVFLESQGIAYSIMIEDVQVLLDKENEEMLFNRRRERSGNFNFGAYHTLEEISQEMDNLVAEHPGLVSKVNIGSSFENRPMNVLKFSTGGDKPAIWLDAGIHAREWVTQATALWTANKIVSDYGKDPSITSILDALDIFLLPVTNPDGYVFSQTKNRMWRKTRSKVSGSLCVGVDPNRNWDAGFGGPGASSNPCSDSYHGPSANSEVEVKSIVDFIKSHGKVKAFIILHSYSQLLMFPYGYKCTKLDDFDELSEVAQKAAQSLRSLHGTKYKVGPICSVIYQASGGSIDWSYDYGIKYSFAFELRDTGRYGFLLPARQILPTAEETWLGLKAIMEHVRDHPY\n",
      "Mapping is {'4A': '1', '5A': '2', '6A': '3', '7A': '4', '8A': '5', '9A': '6', '10A': '7', '11A': '8', '12A': '9', '13A': '10', '14A': '11', '15A': '12', '16A': '13', '17A': '14', '18A': '15', '19A': '16', '20A': '17', '21A': '18', '22A': '19', '23A': '20', '24A': '21', '25A': '22', '26A': '23', '27A': '24', '28A': '25', '29A': '26', '30A': '27', '31A': '28', '32A': '29', '33A': '30', '34A': '31', '34B': '32', '34C': '33', '35A': '34', '36A': '35', '37A': '36', '38A': '37', '39A': '38', '40A': '39', '41A': '40', '42A': '41', '47A': '42', '48A': '43', '49A': '44', '50A': '45', '51A': '46', '52A': '47', '53A': '48', '54A': '49', '55A': '50', '56A': '51', '57A': '52', '58A': '53', '59A': '54', '60A': '55', '61A': '56', '62A': '57', '63A': '58', '64A': '59', '65A': '60', '66A': '61', '67A': '62', '68A': '63', '69A': '64', '70A': '65', '71A': '66', '72A': '67', '73A': '68', '74A': '69', '75A': '70', '76A': '71', '77A': '72', '78A': '73', '79A': '74', '80A': '75', '81A': '76', '82A': '77', '83A': '78', '84A': '79', '85A': '80', '86A': '81', '87A': '82', '88A': '83', '89A': '84', '90A': '85', '91A': '86', '92A': '87', '93A': '88', '94A': '89', '95A': '90', '96A': '91', '97A': '92', '98A': '93', '99A': '94', '1': '95', '2': '96', '3': '97', '4': '98', '5': '99', '7': '100', '8': '101', '9': '102', '10': '103', '11': '104', '12': '105', '13': '106', '14': '107', '15': '108', '16': '109', '17': '110', '18': '111', '19': '112', '20': '113', '21': '114', '22': '115', '23': '116', '24': '117', '25': '118', '26': '119', '27': '120', '28': '121', '29': '122', '30': '123', '31': '124', '32': '125', '33': '126', '34': '127', '35': '128', '36': '129', '37': '130', '38': '131', '39': '132', '40': '133', '41': '134', '42': '135', '43': '136', '44': '137', '45': '138', '46': '139', '47': '140', '48': '141', '49': '142', '50': '143', '51': '144', '52': '145', '53': '146', '54': '147', '55': '148', '56': '149', '58': '150', '59': '151', '60': '152', '61': '153', '62': '154', '63': '155', '64': '156', '65': '157', '66': '158', '67': '159', '68': '160', '69': '161', '70': '162', '71': '163', '72': '164', '73': '165', '74': '166', '75': '167', '76': '168', '77': '169', '78': '170', '79': '171', '80': '172', '81': '173', '82': '174', '83': '175', '84': '176', '85': '177', '86': '178', '87': '179', '88': '180', '89': '181', '90': '182', '91': '183', '92': '184', '93': '185', '94': '186', '95': '187', '96': '188', '97': '189', '98': '190', '99': '191', '100': '192', '101': '193', '102': '194', '103': '195', '104': '196', '105': '197', '106': '198', '107': '199', '108': '200', '109': '201', '110': '202', '111': '203', '112': '204', '113': '205', '114': '206', '115': '207', '116': '208', '117': '209', '118': '210', '119': '211', '120': '212', '121': '213', '122': '214', '123': '215', '124': '216', '125': '217', '126': '218', '127': '219', '128': '220', '129': '221', '130': '222', '131': '223', '132': '224', '133': '225', '134': '226', '135': '227', '136': '228', '137': '229', '138': '230', '139': '231', '140': '232', '141': '233', '142': '234', '143': '235', '144': '236', '145': '237', '146': '238', '147': '239', '148': '240', '149': '241', '150': '242', '151': '243', '152': '244', '153': '245', '154': '246', '155': '247', '156': '248', '157': '249', '158': '250', '159': '251', '160': '252', '161': '253', '162': '254', '163': '255', '164': '256', '165': '257', '166': '258', '167': '259', '168': '260', '169': '261', '170': '262', '171': '263', '172': '264', '173': '265', '174': '266', '175': '267', '176': '268', '177': '269', '178': '270', '179': '271', '180': '272', '181': '273', '182': '274', '183': '275', '184': '276', '185': '277', '186': '278', '187': '279', '188': '280', '189': '281', '190': '282', '191': '283', '192': '284', '193': '285', '194': '286', '195': '287', '196': '288', '197': '289', '198': '290', '199': '291', '200': '292', '201': '293', '202': '294', '203': '295', '204': '296', '205': '297', '206': '298', '207': '299', '208': '300', '209': '301', '210': '302', '211': '303', '212': '304', '213': '305', '214': '306', '215': '307', '216': '308', '217': '309', '218': '310', '219': '311', '220': '312', '221': '313', '222': '314', '223': '315', '224': '316', '225': '317', '226': '318', '227': '319', '228': '320', '229': '321', '230': '322', '231': '323', '232': '324', '233': '325', '234': '326', '235': '327', '236': '328', '237': '329', '238': '330', '239': '331', '240': '332', '241': '333', '242': '334', '243': '335', '244': '336', '245': '337', '246': '338', '247': '339', '248': '340', '249': '341', '250': '342', '251': '343', '252': '344', '253': '345', '254': '346', '255': '347', '256': '348', '257': '349', '258': '350', '259': '351', '260': '352', '261': '353', '262': '354', '263': '355', '264': '356', '265': '357', '266': '358', '267': '359', '268': '360', '269': '361', '270': '362', '271': '363', '272': '364', '273': '365', '274': '366', '275': '367', '276': '368', '277': '369', '278': '370', '279': '371', '280': '372', '281': '373', '282': '374', '283': '375', '284': '376', '285': '377', '286': '378', '287': '379', '288': '380', '289': '381', '290': '382', '291': '383', '292': '384', '293': '385', '294': '386', '295': '387', '296': '388', '297': '389', '298': '390', '299': '391', '300': '392', '301': '393', '302': '394', '303': '395', '304': '396', '305': '397', '306': '398', '307': '399', '308': '400', '309': '401'}\n"
     ]
    },
    {
     "name": "stderr",
     "output_type": "stream",
     "text": [
      "  5%|███████▋                                                                                                                                                       | 315/6547 [01:41<09:53, 10.50it/s]"
     ]
    },
    {
     "name": "stdout",
     "output_type": "stream",
     "text": [
      "Error for 1AYEA expected E at position 20 \n",
      "Sequence is LETFVGDQVLEIVPSNEEQIKNLLQLEAQEHLQLDFWKSPTTPGETAHVRVPFVNVQAVKVFLESQGIAYSIMIEDVQVLLDKENEEMLFNRRRERSGNFNFGAYHTLEEISQEMDNLVAEHPGLVSKVNIGSSFENRPMNVLKFSTGGDKPAIWLDAGIHAREWVTQATALWTANKIVSDYGKDPSITSILDALDIFLLPVTNPDGYVFSQTKNRMWRKTRSKVSGSLCVGVDPNRNWDAGFGGPGASSNPCSDSYHGPSANSEVEVKSIVDFIKSHGKVKAFIILHSYSQLLMFPYGYKCTKLDDFDELSEVAQKAAQSLRSLHGTKYKVGPICSVIYQASGGSIDWSYDYGIKYSFAFELRDTGRYGFLLPARQILPTAEETWLGLKAIMEHVRDHPY\n",
      "Mapping is {'4A': '1', '5A': '2', '6A': '3', '7A': '4', '8A': '5', '9A': '6', '10A': '7', '11A': '8', '12A': '9', '13A': '10', '14A': '11', '15A': '12', '16A': '13', '17A': '14', '18A': '15', '19A': '16', '20A': '17', '21A': '18', '22A': '19', '23A': '20', '24A': '21', '25A': '22', '26A': '23', '27A': '24', '28A': '25', '29A': '26', '30A': '27', '31A': '28', '32A': '29', '33A': '30', '34A': '31', '34B': '32', '34C': '33', '35A': '34', '36A': '35', '37A': '36', '38A': '37', '39A': '38', '40A': '39', '41A': '40', '42A': '41', '47A': '42', '48A': '43', '49A': '44', '50A': '45', '51A': '46', '52A': '47', '53A': '48', '54A': '49', '55A': '50', '56A': '51', '57A': '52', '58A': '53', '59A': '54', '60A': '55', '61A': '56', '62A': '57', '63A': '58', '64A': '59', '65A': '60', '66A': '61', '67A': '62', '68A': '63', '69A': '64', '70A': '65', '71A': '66', '72A': '67', '73A': '68', '74A': '69', '75A': '70', '76A': '71', '77A': '72', '78A': '73', '79A': '74', '80A': '75', '81A': '76', '82A': '77', '83A': '78', '84A': '79', '85A': '80', '86A': '81', '87A': '82', '88A': '83', '89A': '84', '90A': '85', '91A': '86', '92A': '87', '93A': '88', '94A': '89', '95A': '90', '96A': '91', '97A': '92', '98A': '93', '99A': '94', '1': '95', '2': '96', '3': '97', '4': '98', '5': '99', '7': '100', '8': '101', '9': '102', '10': '103', '11': '104', '12': '105', '13': '106', '14': '107', '15': '108', '16': '109', '17': '110', '18': '111', '19': '112', '20': '113', '21': '114', '22': '115', '23': '116', '24': '117', '25': '118', '26': '119', '27': '120', '28': '121', '29': '122', '30': '123', '31': '124', '32': '125', '33': '126', '34': '127', '35': '128', '36': '129', '37': '130', '38': '131', '39': '132', '40': '133', '41': '134', '42': '135', '43': '136', '44': '137', '45': '138', '46': '139', '47': '140', '48': '141', '49': '142', '50': '143', '51': '144', '52': '145', '53': '146', '54': '147', '55': '148', '56': '149', '58': '150', '59': '151', '60': '152', '61': '153', '62': '154', '63': '155', '64': '156', '65': '157', '66': '158', '67': '159', '68': '160', '69': '161', '70': '162', '71': '163', '72': '164', '73': '165', '74': '166', '75': '167', '76': '168', '77': '169', '78': '170', '79': '171', '80': '172', '81': '173', '82': '174', '83': '175', '84': '176', '85': '177', '86': '178', '87': '179', '88': '180', '89': '181', '90': '182', '91': '183', '92': '184', '93': '185', '94': '186', '95': '187', '96': '188', '97': '189', '98': '190', '99': '191', '100': '192', '101': '193', '102': '194', '103': '195', '104': '196', '105': '197', '106': '198', '107': '199', '108': '200', '109': '201', '110': '202', '111': '203', '112': '204', '113': '205', '114': '206', '115': '207', '116': '208', '117': '209', '118': '210', '119': '211', '120': '212', '121': '213', '122': '214', '123': '215', '124': '216', '125': '217', '126': '218', '127': '219', '128': '220', '129': '221', '130': '222', '131': '223', '132': '224', '133': '225', '134': '226', '135': '227', '136': '228', '137': '229', '138': '230', '139': '231', '140': '232', '141': '233', '142': '234', '143': '235', '144': '236', '145': '237', '146': '238', '147': '239', '148': '240', '149': '241', '150': '242', '151': '243', '152': '244', '153': '245', '154': '246', '155': '247', '156': '248', '157': '249', '158': '250', '159': '251', '160': '252', '161': '253', '162': '254', '163': '255', '164': '256', '165': '257', '166': '258', '167': '259', '168': '260', '169': '261', '170': '262', '171': '263', '172': '264', '173': '265', '174': '266', '175': '267', '176': '268', '177': '269', '178': '270', '179': '271', '180': '272', '181': '273', '182': '274', '183': '275', '184': '276', '185': '277', '186': '278', '187': '279', '188': '280', '189': '281', '190': '282', '191': '283', '192': '284', '193': '285', '194': '286', '195': '287', '196': '288', '197': '289', '198': '290', '199': '291', '200': '292', '201': '293', '202': '294', '203': '295', '204': '296', '205': '297', '206': '298', '207': '299', '208': '300', '209': '301', '210': '302', '211': '303', '212': '304', '213': '305', '214': '306', '215': '307', '216': '308', '217': '309', '218': '310', '219': '311', '220': '312', '221': '313', '222': '314', '223': '315', '224': '316', '225': '317', '226': '318', '227': '319', '228': '320', '229': '321', '230': '322', '231': '323', '232': '324', '233': '325', '234': '326', '235': '327', '236': '328', '237': '329', '238': '330', '239': '331', '240': '332', '241': '333', '242': '334', '243': '335', '244': '336', '245': '337', '246': '338', '247': '339', '248': '340', '249': '341', '250': '342', '251': '343', '252': '344', '253': '345', '254': '346', '255': '347', '256': '348', '257': '349', '258': '350', '259': '351', '260': '352', '261': '353', '262': '354', '263': '355', '264': '356', '265': '357', '266': '358', '267': '359', '268': '360', '269': '361', '270': '362', '271': '363', '272': '364', '273': '365', '274': '366', '275': '367', '276': '368', '277': '369', '278': '370', '279': '371', '280': '372', '281': '373', '282': '374', '283': '375', '284': '376', '285': '377', '286': '378', '287': '379', '288': '380', '289': '381', '290': '382', '291': '383', '292': '384', '293': '385', '294': '386', '295': '387', '296': '388', '297': '389', '298': '390', '299': '391', '300': '392', '301': '393', '302': '394', '303': '395', '304': '396', '305': '397', '306': '398', '307': '399', '308': '400', '309': '401'}\n",
      "Error for 1AYEA expected I at position 15 \n",
      "Sequence is LETFVGDQVLEIVPSNEEQIKNLLQLEAQEHLQLDFWKSPTTPGETAHVRVPFVNVQAVKVFLESQGIAYSIMIEDVQVLLDKENEEMLFNRRRERSGNFNFGAYHTLEEISQEMDNLVAEHPGLVSKVNIGSSFENRPMNVLKFSTGGDKPAIWLDAGIHAREWVTQATALWTANKIVSDYGKDPSITSILDALDIFLLPVTNPDGYVFSQTKNRMWRKTRSKVSGSLCVGVDPNRNWDAGFGGPGASSNPCSDSYHGPSANSEVEVKSIVDFIKSHGKVKAFIILHSYSQLLMFPYGYKCTKLDDFDELSEVAQKAAQSLRSLHGTKYKVGPICSVIYQASGGSIDWSYDYGIKYSFAFELRDTGRYGFLLPARQILPTAEETWLGLKAIMEHVRDHPY\n",
      "Mapping is {'4A': '1', '5A': '2', '6A': '3', '7A': '4', '8A': '5', '9A': '6', '10A': '7', '11A': '8', '12A': '9', '13A': '10', '14A': '11', '15A': '12', '16A': '13', '17A': '14', '18A': '15', '19A': '16', '20A': '17', '21A': '18', '22A': '19', '23A': '20', '24A': '21', '25A': '22', '26A': '23', '27A': '24', '28A': '25', '29A': '26', '30A': '27', '31A': '28', '32A': '29', '33A': '30', '34A': '31', '34B': '32', '34C': '33', '35A': '34', '36A': '35', '37A': '36', '38A': '37', '39A': '38', '40A': '39', '41A': '40', '42A': '41', '47A': '42', '48A': '43', '49A': '44', '50A': '45', '51A': '46', '52A': '47', '53A': '48', '54A': '49', '55A': '50', '56A': '51', '57A': '52', '58A': '53', '59A': '54', '60A': '55', '61A': '56', '62A': '57', '63A': '58', '64A': '59', '65A': '60', '66A': '61', '67A': '62', '68A': '63', '69A': '64', '70A': '65', '71A': '66', '72A': '67', '73A': '68', '74A': '69', '75A': '70', '76A': '71', '77A': '72', '78A': '73', '79A': '74', '80A': '75', '81A': '76', '82A': '77', '83A': '78', '84A': '79', '85A': '80', '86A': '81', '87A': '82', '88A': '83', '89A': '84', '90A': '85', '91A': '86', '92A': '87', '93A': '88', '94A': '89', '95A': '90', '96A': '91', '97A': '92', '98A': '93', '99A': '94', '1': '95', '2': '96', '3': '97', '4': '98', '5': '99', '7': '100', '8': '101', '9': '102', '10': '103', '11': '104', '12': '105', '13': '106', '14': '107', '15': '108', '16': '109', '17': '110', '18': '111', '19': '112', '20': '113', '21': '114', '22': '115', '23': '116', '24': '117', '25': '118', '26': '119', '27': '120', '28': '121', '29': '122', '30': '123', '31': '124', '32': '125', '33': '126', '34': '127', '35': '128', '36': '129', '37': '130', '38': '131', '39': '132', '40': '133', '41': '134', '42': '135', '43': '136', '44': '137', '45': '138', '46': '139', '47': '140', '48': '141', '49': '142', '50': '143', '51': '144', '52': '145', '53': '146', '54': '147', '55': '148', '56': '149', '58': '150', '59': '151', '60': '152', '61': '153', '62': '154', '63': '155', '64': '156', '65': '157', '66': '158', '67': '159', '68': '160', '69': '161', '70': '162', '71': '163', '72': '164', '73': '165', '74': '166', '75': '167', '76': '168', '77': '169', '78': '170', '79': '171', '80': '172', '81': '173', '82': '174', '83': '175', '84': '176', '85': '177', '86': '178', '87': '179', '88': '180', '89': '181', '90': '182', '91': '183', '92': '184', '93': '185', '94': '186', '95': '187', '96': '188', '97': '189', '98': '190', '99': '191', '100': '192', '101': '193', '102': '194', '103': '195', '104': '196', '105': '197', '106': '198', '107': '199', '108': '200', '109': '201', '110': '202', '111': '203', '112': '204', '113': '205', '114': '206', '115': '207', '116': '208', '117': '209', '118': '210', '119': '211', '120': '212', '121': '213', '122': '214', '123': '215', '124': '216', '125': '217', '126': '218', '127': '219', '128': '220', '129': '221', '130': '222', '131': '223', '132': '224', '133': '225', '134': '226', '135': '227', '136': '228', '137': '229', '138': '230', '139': '231', '140': '232', '141': '233', '142': '234', '143': '235', '144': '236', '145': '237', '146': '238', '147': '239', '148': '240', '149': '241', '150': '242', '151': '243', '152': '244', '153': '245', '154': '246', '155': '247', '156': '248', '157': '249', '158': '250', '159': '251', '160': '252', '161': '253', '162': '254', '163': '255', '164': '256', '165': '257', '166': '258', '167': '259', '168': '260', '169': '261', '170': '262', '171': '263', '172': '264', '173': '265', '174': '266', '175': '267', '176': '268', '177': '269', '178': '270', '179': '271', '180': '272', '181': '273', '182': '274', '183': '275', '184': '276', '185': '277', '186': '278', '187': '279', '188': '280', '189': '281', '190': '282', '191': '283', '192': '284', '193': '285', '194': '286', '195': '287', '196': '288', '197': '289', '198': '290', '199': '291', '200': '292', '201': '293', '202': '294', '203': '295', '204': '296', '205': '297', '206': '298', '207': '299', '208': '300', '209': '301', '210': '302', '211': '303', '212': '304', '213': '305', '214': '306', '215': '307', '216': '308', '217': '309', '218': '310', '219': '311', '220': '312', '221': '313', '222': '314', '223': '315', '224': '316', '225': '317', '226': '318', '227': '319', '228': '320', '229': '321', '230': '322', '231': '323', '232': '324', '233': '325', '234': '326', '235': '327', '236': '328', '237': '329', '238': '330', '239': '331', '240': '332', '241': '333', '242': '334', '243': '335', '244': '336', '245': '337', '246': '338', '247': '339', '248': '340', '249': '341', '250': '342', '251': '343', '252': '344', '253': '345', '254': '346', '255': '347', '256': '348', '257': '349', '258': '350', '259': '351', '260': '352', '261': '353', '262': '354', '263': '355', '264': '356', '265': '357', '266': '358', '267': '359', '268': '360', '269': '361', '270': '362', '271': '363', '272': '364', '273': '365', '274': '366', '275': '367', '276': '368', '277': '369', '278': '370', '279': '371', '280': '372', '281': '373', '282': '374', '283': '375', '284': '376', '285': '377', '286': '378', '287': '379', '288': '380', '289': '381', '290': '382', '291': '383', '292': '384', '293': '385', '294': '386', '295': '387', '296': '388', '297': '389', '298': '390', '299': '391', '300': '392', '301': '393', '302': '394', '303': '395', '304': '396', '305': '397', '306': '398', '307': '399', '308': '400', '309': '401'}\n"
     ]
    },
    {
     "name": "stdout",
     "output_type": "stream",
     "text": [
      "Error for 1AYEA expected I at position 23 \n",
      "Sequence is LETFVGDQVLEIVPSNEEQIKNLLQLEAQEHLQLDFWKSPTTPGETAHVRVPFVNVQAVKVFLESQGIAYSIMIEDVQVLLDKENEEMLFNRRRERSGNFNFGAYHTLEEISQEMDNLVAEHPGLVSKVNIGSSFENRPMNVLKFSTGGDKPAIWLDAGIHAREWVTQATALWTANKIVSDYGKDPSITSILDALDIFLLPVTNPDGYVFSQTKNRMWRKTRSKVSGSLCVGVDPNRNWDAGFGGPGASSNPCSDSYHGPSANSEVEVKSIVDFIKSHGKVKAFIILHSYSQLLMFPYGYKCTKLDDFDELSEVAQKAAQSLRSLHGTKYKVGPICSVIYQASGGSIDWSYDYGIKYSFAFELRDTGRYGFLLPARQILPTAEETWLGLKAIMEHVRDHPY\n",
      "Mapping is {'4A': '1', '5A': '2', '6A': '3', '7A': '4', '8A': '5', '9A': '6', '10A': '7', '11A': '8', '12A': '9', '13A': '10', '14A': '11', '15A': '12', '16A': '13', '17A': '14', '18A': '15', '19A': '16', '20A': '17', '21A': '18', '22A': '19', '23A': '20', '24A': '21', '25A': '22', '26A': '23', '27A': '24', '28A': '25', '29A': '26', '30A': '27', '31A': '28', '32A': '29', '33A': '30', '34A': '31', '34B': '32', '34C': '33', '35A': '34', '36A': '35', '37A': '36', '38A': '37', '39A': '38', '40A': '39', '41A': '40', '42A': '41', '47A': '42', '48A': '43', '49A': '44', '50A': '45', '51A': '46', '52A': '47', '53A': '48', '54A': '49', '55A': '50', '56A': '51', '57A': '52', '58A': '53', '59A': '54', '60A': '55', '61A': '56', '62A': '57', '63A': '58', '64A': '59', '65A': '60', '66A': '61', '67A': '62', '68A': '63', '69A': '64', '70A': '65', '71A': '66', '72A': '67', '73A': '68', '74A': '69', '75A': '70', '76A': '71', '77A': '72', '78A': '73', '79A': '74', '80A': '75', '81A': '76', '82A': '77', '83A': '78', '84A': '79', '85A': '80', '86A': '81', '87A': '82', '88A': '83', '89A': '84', '90A': '85', '91A': '86', '92A': '87', '93A': '88', '94A': '89', '95A': '90', '96A': '91', '97A': '92', '98A': '93', '99A': '94', '1': '95', '2': '96', '3': '97', '4': '98', '5': '99', '7': '100', '8': '101', '9': '102', '10': '103', '11': '104', '12': '105', '13': '106', '14': '107', '15': '108', '16': '109', '17': '110', '18': '111', '19': '112', '20': '113', '21': '114', '22': '115', '23': '116', '24': '117', '25': '118', '26': '119', '27': '120', '28': '121', '29': '122', '30': '123', '31': '124', '32': '125', '33': '126', '34': '127', '35': '128', '36': '129', '37': '130', '38': '131', '39': '132', '40': '133', '41': '134', '42': '135', '43': '136', '44': '137', '45': '138', '46': '139', '47': '140', '48': '141', '49': '142', '50': '143', '51': '144', '52': '145', '53': '146', '54': '147', '55': '148', '56': '149', '58': '150', '59': '151', '60': '152', '61': '153', '62': '154', '63': '155', '64': '156', '65': '157', '66': '158', '67': '159', '68': '160', '69': '161', '70': '162', '71': '163', '72': '164', '73': '165', '74': '166', '75': '167', '76': '168', '77': '169', '78': '170', '79': '171', '80': '172', '81': '173', '82': '174', '83': '175', '84': '176', '85': '177', '86': '178', '87': '179', '88': '180', '89': '181', '90': '182', '91': '183', '92': '184', '93': '185', '94': '186', '95': '187', '96': '188', '97': '189', '98': '190', '99': '191', '100': '192', '101': '193', '102': '194', '103': '195', '104': '196', '105': '197', '106': '198', '107': '199', '108': '200', '109': '201', '110': '202', '111': '203', '112': '204', '113': '205', '114': '206', '115': '207', '116': '208', '117': '209', '118': '210', '119': '211', '120': '212', '121': '213', '122': '214', '123': '215', '124': '216', '125': '217', '126': '218', '127': '219', '128': '220', '129': '221', '130': '222', '131': '223', '132': '224', '133': '225', '134': '226', '135': '227', '136': '228', '137': '229', '138': '230', '139': '231', '140': '232', '141': '233', '142': '234', '143': '235', '144': '236', '145': '237', '146': '238', '147': '239', '148': '240', '149': '241', '150': '242', '151': '243', '152': '244', '153': '245', '154': '246', '155': '247', '156': '248', '157': '249', '158': '250', '159': '251', '160': '252', '161': '253', '162': '254', '163': '255', '164': '256', '165': '257', '166': '258', '167': '259', '168': '260', '169': '261', '170': '262', '171': '263', '172': '264', '173': '265', '174': '266', '175': '267', '176': '268', '177': '269', '178': '270', '179': '271', '180': '272', '181': '273', '182': '274', '183': '275', '184': '276', '185': '277', '186': '278', '187': '279', '188': '280', '189': '281', '190': '282', '191': '283', '192': '284', '193': '285', '194': '286', '195': '287', '196': '288', '197': '289', '198': '290', '199': '291', '200': '292', '201': '293', '202': '294', '203': '295', '204': '296', '205': '297', '206': '298', '207': '299', '208': '300', '209': '301', '210': '302', '211': '303', '212': '304', '213': '305', '214': '306', '215': '307', '216': '308', '217': '309', '218': '310', '219': '311', '220': '312', '221': '313', '222': '314', '223': '315', '224': '316', '225': '317', '226': '318', '227': '319', '228': '320', '229': '321', '230': '322', '231': '323', '232': '324', '233': '325', '234': '326', '235': '327', '236': '328', '237': '329', '238': '330', '239': '331', '240': '332', '241': '333', '242': '334', '243': '335', '244': '336', '245': '337', '246': '338', '247': '339', '248': '340', '249': '341', '250': '342', '251': '343', '252': '344', '253': '345', '254': '346', '255': '347', '256': '348', '257': '349', '258': '350', '259': '351', '260': '352', '261': '353', '262': '354', '263': '355', '264': '356', '265': '357', '266': '358', '267': '359', '268': '360', '269': '361', '270': '362', '271': '363', '272': '364', '273': '365', '274': '366', '275': '367', '276': '368', '277': '369', '278': '370', '279': '371', '280': '372', '281': '373', '282': '374', '283': '375', '284': '376', '285': '377', '286': '378', '287': '379', '288': '380', '289': '381', '290': '382', '291': '383', '292': '384', '293': '385', '294': '386', '295': '387', '296': '388', '297': '389', '298': '390', '299': '391', '300': '392', '301': '393', '302': '394', '303': '395', '304': '396', '305': '397', '306': '398', '307': '399', '308': '400', '309': '401'}\n"
     ]
    },
    {
     "name": "stderr",
     "output_type": "stream",
     "text": [
      "  5%|███████▋                                                                                                                                                       | 319/6547 [01:41<10:07, 10.24it/s]"
     ]
    },
    {
     "name": "stdout",
     "output_type": "stream",
     "text": [
      "Error for 1AYEA expected V at position 12 \n",
      "Sequence is LETFVGDQVLEIVPSNEEQIKNLLQLEAQEHLQLDFWKSPTTPGETAHVRVPFVNVQAVKVFLESQGIAYSIMIEDVQVLLDKENEEMLFNRRRERSGNFNFGAYHTLEEISQEMDNLVAEHPGLVSKVNIGSSFENRPMNVLKFSTGGDKPAIWLDAGIHAREWVTQATALWTANKIVSDYGKDPSITSILDALDIFLLPVTNPDGYVFSQTKNRMWRKTRSKVSGSLCVGVDPNRNWDAGFGGPGASSNPCSDSYHGPSANSEVEVKSIVDFIKSHGKVKAFIILHSYSQLLMFPYGYKCTKLDDFDELSEVAQKAAQSLRSLHGTKYKVGPICSVIYQASGGSIDWSYDYGIKYSFAFELRDTGRYGFLLPARQILPTAEETWLGLKAIMEHVRDHPY\n",
      "Mapping is {'4A': '1', '5A': '2', '6A': '3', '7A': '4', '8A': '5', '9A': '6', '10A': '7', '11A': '8', '12A': '9', '13A': '10', '14A': '11', '15A': '12', '16A': '13', '17A': '14', '18A': '15', '19A': '16', '20A': '17', '21A': '18', '22A': '19', '23A': '20', '24A': '21', '25A': '22', '26A': '23', '27A': '24', '28A': '25', '29A': '26', '30A': '27', '31A': '28', '32A': '29', '33A': '30', '34A': '31', '34B': '32', '34C': '33', '35A': '34', '36A': '35', '37A': '36', '38A': '37', '39A': '38', '40A': '39', '41A': '40', '42A': '41', '47A': '42', '48A': '43', '49A': '44', '50A': '45', '51A': '46', '52A': '47', '53A': '48', '54A': '49', '55A': '50', '56A': '51', '57A': '52', '58A': '53', '59A': '54', '60A': '55', '61A': '56', '62A': '57', '63A': '58', '64A': '59', '65A': '60', '66A': '61', '67A': '62', '68A': '63', '69A': '64', '70A': '65', '71A': '66', '72A': '67', '73A': '68', '74A': '69', '75A': '70', '76A': '71', '77A': '72', '78A': '73', '79A': '74', '80A': '75', '81A': '76', '82A': '77', '83A': '78', '84A': '79', '85A': '80', '86A': '81', '87A': '82', '88A': '83', '89A': '84', '90A': '85', '91A': '86', '92A': '87', '93A': '88', '94A': '89', '95A': '90', '96A': '91', '97A': '92', '98A': '93', '99A': '94', '1': '95', '2': '96', '3': '97', '4': '98', '5': '99', '7': '100', '8': '101', '9': '102', '10': '103', '11': '104', '12': '105', '13': '106', '14': '107', '15': '108', '16': '109', '17': '110', '18': '111', '19': '112', '20': '113', '21': '114', '22': '115', '23': '116', '24': '117', '25': '118', '26': '119', '27': '120', '28': '121', '29': '122', '30': '123', '31': '124', '32': '125', '33': '126', '34': '127', '35': '128', '36': '129', '37': '130', '38': '131', '39': '132', '40': '133', '41': '134', '42': '135', '43': '136', '44': '137', '45': '138', '46': '139', '47': '140', '48': '141', '49': '142', '50': '143', '51': '144', '52': '145', '53': '146', '54': '147', '55': '148', '56': '149', '58': '150', '59': '151', '60': '152', '61': '153', '62': '154', '63': '155', '64': '156', '65': '157', '66': '158', '67': '159', '68': '160', '69': '161', '70': '162', '71': '163', '72': '164', '73': '165', '74': '166', '75': '167', '76': '168', '77': '169', '78': '170', '79': '171', '80': '172', '81': '173', '82': '174', '83': '175', '84': '176', '85': '177', '86': '178', '87': '179', '88': '180', '89': '181', '90': '182', '91': '183', '92': '184', '93': '185', '94': '186', '95': '187', '96': '188', '97': '189', '98': '190', '99': '191', '100': '192', '101': '193', '102': '194', '103': '195', '104': '196', '105': '197', '106': '198', '107': '199', '108': '200', '109': '201', '110': '202', '111': '203', '112': '204', '113': '205', '114': '206', '115': '207', '116': '208', '117': '209', '118': '210', '119': '211', '120': '212', '121': '213', '122': '214', '123': '215', '124': '216', '125': '217', '126': '218', '127': '219', '128': '220', '129': '221', '130': '222', '131': '223', '132': '224', '133': '225', '134': '226', '135': '227', '136': '228', '137': '229', '138': '230', '139': '231', '140': '232', '141': '233', '142': '234', '143': '235', '144': '236', '145': '237', '146': '238', '147': '239', '148': '240', '149': '241', '150': '242', '151': '243', '152': '244', '153': '245', '154': '246', '155': '247', '156': '248', '157': '249', '158': '250', '159': '251', '160': '252', '161': '253', '162': '254', '163': '255', '164': '256', '165': '257', '166': '258', '167': '259', '168': '260', '169': '261', '170': '262', '171': '263', '172': '264', '173': '265', '174': '266', '175': '267', '176': '268', '177': '269', '178': '270', '179': '271', '180': '272', '181': '273', '182': '274', '183': '275', '184': '276', '185': '277', '186': '278', '187': '279', '188': '280', '189': '281', '190': '282', '191': '283', '192': '284', '193': '285', '194': '286', '195': '287', '196': '288', '197': '289', '198': '290', '199': '291', '200': '292', '201': '293', '202': '294', '203': '295', '204': '296', '205': '297', '206': '298', '207': '299', '208': '300', '209': '301', '210': '302', '211': '303', '212': '304', '213': '305', '214': '306', '215': '307', '216': '308', '217': '309', '218': '310', '219': '311', '220': '312', '221': '313', '222': '314', '223': '315', '224': '316', '225': '317', '226': '318', '227': '319', '228': '320', '229': '321', '230': '322', '231': '323', '232': '324', '233': '325', '234': '326', '235': '327', '236': '328', '237': '329', '238': '330', '239': '331', '240': '332', '241': '333', '242': '334', '243': '335', '244': '336', '245': '337', '246': '338', '247': '339', '248': '340', '249': '341', '250': '342', '251': '343', '252': '344', '253': '345', '254': '346', '255': '347', '256': '348', '257': '349', '258': '350', '259': '351', '260': '352', '261': '353', '262': '354', '263': '355', '264': '356', '265': '357', '266': '358', '267': '359', '268': '360', '269': '361', '270': '362', '271': '363', '272': '364', '273': '365', '274': '366', '275': '367', '276': '368', '277': '369', '278': '370', '279': '371', '280': '372', '281': '373', '282': '374', '283': '375', '284': '376', '285': '377', '286': '378', '287': '379', '288': '380', '289': '381', '290': '382', '291': '383', '292': '384', '293': '385', '294': '386', '295': '387', '296': '388', '297': '389', '298': '390', '299': '391', '300': '392', '301': '393', '302': '394', '303': '395', '304': '396', '305': '397', '306': '398', '307': '399', '308': '400', '309': '401'}\n",
      "Error for 1AYEA expected V at position 64 \n",
      "Sequence is LETFVGDQVLEIVPSNEEQIKNLLQLEAQEHLQLDFWKSPTTPGETAHVRVPFVNVQAVKVFLESQGIAYSIMIEDVQVLLDKENEEMLFNRRRERSGNFNFGAYHTLEEISQEMDNLVAEHPGLVSKVNIGSSFENRPMNVLKFSTGGDKPAIWLDAGIHAREWVTQATALWTANKIVSDYGKDPSITSILDALDIFLLPVTNPDGYVFSQTKNRMWRKTRSKVSGSLCVGVDPNRNWDAGFGGPGASSNPCSDSYHGPSANSEVEVKSIVDFIKSHGKVKAFIILHSYSQLLMFPYGYKCTKLDDFDELSEVAQKAAQSLRSLHGTKYKVGPICSVIYQASGGSIDWSYDYGIKYSFAFELRDTGRYGFLLPARQILPTAEETWLGLKAIMEHVRDHPY\n",
      "Mapping is {'4A': '1', '5A': '2', '6A': '3', '7A': '4', '8A': '5', '9A': '6', '10A': '7', '11A': '8', '12A': '9', '13A': '10', '14A': '11', '15A': '12', '16A': '13', '17A': '14', '18A': '15', '19A': '16', '20A': '17', '21A': '18', '22A': '19', '23A': '20', '24A': '21', '25A': '22', '26A': '23', '27A': '24', '28A': '25', '29A': '26', '30A': '27', '31A': '28', '32A': '29', '33A': '30', '34A': '31', '34B': '32', '34C': '33', '35A': '34', '36A': '35', '37A': '36', '38A': '37', '39A': '38', '40A': '39', '41A': '40', '42A': '41', '47A': '42', '48A': '43', '49A': '44', '50A': '45', '51A': '46', '52A': '47', '53A': '48', '54A': '49', '55A': '50', '56A': '51', '57A': '52', '58A': '53', '59A': '54', '60A': '55', '61A': '56', '62A': '57', '63A': '58', '64A': '59', '65A': '60', '66A': '61', '67A': '62', '68A': '63', '69A': '64', '70A': '65', '71A': '66', '72A': '67', '73A': '68', '74A': '69', '75A': '70', '76A': '71', '77A': '72', '78A': '73', '79A': '74', '80A': '75', '81A': '76', '82A': '77', '83A': '78', '84A': '79', '85A': '80', '86A': '81', '87A': '82', '88A': '83', '89A': '84', '90A': '85', '91A': '86', '92A': '87', '93A': '88', '94A': '89', '95A': '90', '96A': '91', '97A': '92', '98A': '93', '99A': '94', '1': '95', '2': '96', '3': '97', '4': '98', '5': '99', '7': '100', '8': '101', '9': '102', '10': '103', '11': '104', '12': '105', '13': '106', '14': '107', '15': '108', '16': '109', '17': '110', '18': '111', '19': '112', '20': '113', '21': '114', '22': '115', '23': '116', '24': '117', '25': '118', '26': '119', '27': '120', '28': '121', '29': '122', '30': '123', '31': '124', '32': '125', '33': '126', '34': '127', '35': '128', '36': '129', '37': '130', '38': '131', '39': '132', '40': '133', '41': '134', '42': '135', '43': '136', '44': '137', '45': '138', '46': '139', '47': '140', '48': '141', '49': '142', '50': '143', '51': '144', '52': '145', '53': '146', '54': '147', '55': '148', '56': '149', '58': '150', '59': '151', '60': '152', '61': '153', '62': '154', '63': '155', '64': '156', '65': '157', '66': '158', '67': '159', '68': '160', '69': '161', '70': '162', '71': '163', '72': '164', '73': '165', '74': '166', '75': '167', '76': '168', '77': '169', '78': '170', '79': '171', '80': '172', '81': '173', '82': '174', '83': '175', '84': '176', '85': '177', '86': '178', '87': '179', '88': '180', '89': '181', '90': '182', '91': '183', '92': '184', '93': '185', '94': '186', '95': '187', '96': '188', '97': '189', '98': '190', '99': '191', '100': '192', '101': '193', '102': '194', '103': '195', '104': '196', '105': '197', '106': '198', '107': '199', '108': '200', '109': '201', '110': '202', '111': '203', '112': '204', '113': '205', '114': '206', '115': '207', '116': '208', '117': '209', '118': '210', '119': '211', '120': '212', '121': '213', '122': '214', '123': '215', '124': '216', '125': '217', '126': '218', '127': '219', '128': '220', '129': '221', '130': '222', '131': '223', '132': '224', '133': '225', '134': '226', '135': '227', '136': '228', '137': '229', '138': '230', '139': '231', '140': '232', '141': '233', '142': '234', '143': '235', '144': '236', '145': '237', '146': '238', '147': '239', '148': '240', '149': '241', '150': '242', '151': '243', '152': '244', '153': '245', '154': '246', '155': '247', '156': '248', '157': '249', '158': '250', '159': '251', '160': '252', '161': '253', '162': '254', '163': '255', '164': '256', '165': '257', '166': '258', '167': '259', '168': '260', '169': '261', '170': '262', '171': '263', '172': '264', '173': '265', '174': '266', '175': '267', '176': '268', '177': '269', '178': '270', '179': '271', '180': '272', '181': '273', '182': '274', '183': '275', '184': '276', '185': '277', '186': '278', '187': '279', '188': '280', '189': '281', '190': '282', '191': '283', '192': '284', '193': '285', '194': '286', '195': '287', '196': '288', '197': '289', '198': '290', '199': '291', '200': '292', '201': '293', '202': '294', '203': '295', '204': '296', '205': '297', '206': '298', '207': '299', '208': '300', '209': '301', '210': '302', '211': '303', '212': '304', '213': '305', '214': '306', '215': '307', '216': '308', '217': '309', '218': '310', '219': '311', '220': '312', '221': '313', '222': '314', '223': '315', '224': '316', '225': '317', '226': '318', '227': '319', '228': '320', '229': '321', '230': '322', '231': '323', '232': '324', '233': '325', '234': '326', '235': '327', '236': '328', '237': '329', '238': '330', '239': '331', '240': '332', '241': '333', '242': '334', '243': '335', '244': '336', '245': '337', '246': '338', '247': '339', '248': '340', '249': '341', '250': '342', '251': '343', '252': '344', '253': '345', '254': '346', '255': '347', '256': '348', '257': '349', '258': '350', '259': '351', '260': '352', '261': '353', '262': '354', '263': '355', '264': '356', '265': '357', '266': '358', '267': '359', '268': '360', '269': '361', '270': '362', '271': '363', '272': '364', '273': '365', '274': '366', '275': '367', '276': '368', '277': '369', '278': '370', '279': '371', '280': '372', '281': '373', '282': '374', '283': '375', '284': '376', '285': '377', '286': '378', '287': '379', '288': '380', '289': '381', '290': '382', '291': '383', '292': '384', '293': '385', '294': '386', '295': '387', '296': '388', '297': '389', '298': '390', '299': '391', '300': '392', '301': '393', '302': '394', '303': '395', '304': '396', '305': '397', '306': '398', '307': '399', '308': '400', '309': '401'}\n"
     ]
    },
    {
     "name": "stderr",
     "output_type": "stream",
     "text": [
      "  5%|████████                                                                                                                                                       | 332/6547 [01:43<09:22, 11.04it/s]/ayb/vol2/home/dumerenkov/anaconda3/lib/python3.9/site-packages/Bio/PDB/Polypeptide.py:342: UserWarning: Assuming residue PLM is an unknown modified amino acid\n",
      "  warnings.warn(\n",
      "  9%|██████████████▎                                                                                                                                                | 591/6547 [02:13<12:07,  8.19it/s]/ayb/vol2/home/dumerenkov/anaconda3/lib/python3.9/site-packages/Bio/PDB/Polypeptide.py:342: UserWarning: Assuming residue  CA is an unknown modified amino acid\n",
      "  warnings.warn(\n",
      "  9%|██████████████▍                                                                                                                                                | 593/6547 [02:14<11:50,  8.38it/s]/ayb/vol2/home/dumerenkov/anaconda3/lib/python3.9/site-packages/Bio/PDB/Polypeptide.py:342: UserWarning: Assuming residue  CA is an unknown modified amino acid\n",
      "  warnings.warn(\n",
      "/ayb/vol2/home/dumerenkov/anaconda3/lib/python3.9/site-packages/Bio/PDB/Polypeptide.py:342: UserWarning: Assuming residue  CA is an unknown modified amino acid\n",
      "  warnings.warn(\n",
      "/ayb/vol2/home/dumerenkov/anaconda3/lib/python3.9/site-packages/Bio/PDB/Polypeptide.py:342: UserWarning: Assuming residue  CA is an unknown modified amino acid\n",
      "  warnings.warn(\n",
      "  9%|██████████████▍                                                                                                                                                | 596/6547 [02:14<08:29, 11.68it/s]/ayb/vol2/home/dumerenkov/anaconda3/lib/python3.9/site-packages/Bio/PDB/Polypeptide.py:342: UserWarning: Assuming residue  CA is an unknown modified amino acid\n",
      "  warnings.warn(\n",
      "/ayb/vol2/home/dumerenkov/anaconda3/lib/python3.9/site-packages/Bio/PDB/Polypeptide.py:342: UserWarning: Assuming residue  CA is an unknown modified amino acid\n",
      "  warnings.warn(\n",
      "/ayb/vol2/home/dumerenkov/anaconda3/lib/python3.9/site-packages/Bio/PDB/Polypeptide.py:342: UserWarning: Assuming residue  CA is an unknown modified amino acid\n",
      "  warnings.warn(\n",
      "  9%|██████████████▌                                                                                                                                                | 599/6547 [02:14<08:19, 11.91it/s]/ayb/vol2/home/dumerenkov/anaconda3/lib/python3.9/site-packages/Bio/PDB/Polypeptide.py:342: UserWarning: Assuming residue  CA is an unknown modified amino acid\n",
      "  warnings.warn(\n",
      "/ayb/vol2/home/dumerenkov/anaconda3/lib/python3.9/site-packages/Bio/PDB/Polypeptide.py:342: UserWarning: Assuming residue  CA is an unknown modified amino acid\n",
      "  warnings.warn(\n",
      " 15%|███████████████████████▌                                                                                                                                       | 969/6547 [03:33<06:21, 14.62it/s]/ayb/vol2/home/dumerenkov/anaconda3/lib/python3.9/site-packages/Bio/PDB/Polypeptide.py:342: UserWarning: Assuming residue MTX is an unknown modified amino acid\n",
      "  warnings.warn(\n",
      " 15%|███████████████████████▌                                                                                                                                       | 971/6547 [03:33<06:03, 15.36it/s]/ayb/vol2/home/dumerenkov/anaconda3/lib/python3.9/site-packages/Bio/PDB/Polypeptide.py:342: UserWarning: Assuming residue MTX is an unknown modified amino acid\n",
      "  warnings.warn(\n",
      "/ayb/vol2/home/dumerenkov/anaconda3/lib/python3.9/site-packages/Bio/PDB/Polypeptide.py:342: UserWarning: Assuming residue MTX is an unknown modified amino acid\n",
      "  warnings.warn(\n",
      " 15%|███████████████████████▋                                                                                                                                       | 973/6547 [03:33<07:37, 12.18it/s]/ayb/vol2/home/dumerenkov/anaconda3/lib/python3.9/site-packages/Bio/PDB/Polypeptide.py:342: UserWarning: Assuming residue MTX is an unknown modified amino acid\n",
      "  warnings.warn(\n",
      "/ayb/vol2/home/dumerenkov/anaconda3/lib/python3.9/site-packages/Bio/PDB/Polypeptide.py:342: UserWarning: Assuming residue MTX is an unknown modified amino acid\n",
      "  warnings.warn(\n",
      " 15%|███████████████████████▋                                                                                                                                       | 975/6547 [03:33<08:59, 10.33it/s]/ayb/vol2/home/dumerenkov/anaconda3/lib/python3.9/site-packages/Bio/PDB/Polypeptide.py:342: UserWarning: Assuming residue MTX is an unknown modified amino acid\n",
      "  warnings.warn(\n",
      "/ayb/vol2/home/dumerenkov/anaconda3/lib/python3.9/site-packages/Bio/PDB/Polypeptide.py:342: UserWarning: Assuming residue MTX is an unknown modified amino acid\n",
      "  warnings.warn(\n",
      " 15%|███████████████████████▋                                                                                                                                       | 977/6547 [03:34<08:24, 11.04it/s]/ayb/vol2/home/dumerenkov/anaconda3/lib/python3.9/site-packages/Bio/PDB/Polypeptide.py:342: UserWarning: Assuming residue MTX is an unknown modified amino acid\n",
      "  warnings.warn(\n",
      "/ayb/vol2/home/dumerenkov/anaconda3/lib/python3.9/site-packages/Bio/PDB/Polypeptide.py:342: UserWarning: Assuming residue MTX is an unknown modified amino acid\n",
      "  warnings.warn(\n",
      " 15%|███████████████████████▊                                                                                                                                       | 979/6547 [03:34<09:34,  9.69it/s]/ayb/vol2/home/dumerenkov/anaconda3/lib/python3.9/site-packages/Bio/PDB/Polypeptide.py:342: UserWarning: Assuming residue MTX is an unknown modified amino acid\n",
      "  warnings.warn(\n",
      "/ayb/vol2/home/dumerenkov/anaconda3/lib/python3.9/site-packages/Bio/PDB/Polypeptide.py:342: UserWarning: Assuming residue MTX is an unknown modified amino acid\n",
      "  warnings.warn(\n",
      " 15%|███████████████████████▊                                                                                                                                       | 981/6547 [03:34<10:20,  8.97it/s]/ayb/vol2/home/dumerenkov/anaconda3/lib/python3.9/site-packages/Bio/PDB/Polypeptide.py:342: UserWarning: Assuming residue MTX is an unknown modified amino acid\n",
      "  warnings.warn(\n",
      " 17%|██████████████████████████▎                                                                                                                                   | 1089/6547 [03:42<06:49, 13.31it/s]/ayb/vol2/home/dumerenkov/anaconda3/lib/python3.9/site-packages/Bio/PDB/Polypeptide.py:342: UserWarning: Assuming residue DDF is an unknown modified amino acid\n",
      "  warnings.warn(\n",
      "/ayb/vol2/home/dumerenkov/anaconda3/lib/python3.9/site-packages/Bio/PDB/Polypeptide.py:342: UserWarning: Assuming residue DDF is an unknown modified amino acid\n",
      "  warnings.warn(\n",
      " 17%|██████████████████████████▎                                                                                                                                   | 1091/6547 [03:42<08:08, 11.16it/s]/ayb/vol2/home/dumerenkov/anaconda3/lib/python3.9/site-packages/Bio/PDB/Polypeptide.py:342: UserWarning: Assuming residue DDF is an unknown modified amino acid\n",
      "  warnings.warn(\n",
      "/ayb/vol2/home/dumerenkov/anaconda3/lib/python3.9/site-packages/Bio/PDB/Polypeptide.py:342: UserWarning: Assuming residue DDF is an unknown modified amino acid\n",
      "  warnings.warn(\n",
      " 17%|██████████████████████████▍                                                                                                                                   | 1093/6547 [03:42<09:27,  9.61it/s]/ayb/vol2/home/dumerenkov/anaconda3/lib/python3.9/site-packages/Bio/PDB/Polypeptide.py:342: UserWarning: Assuming residue DDF is an unknown modified amino acid\n",
      "  warnings.warn(\n",
      "/ayb/vol2/home/dumerenkov/anaconda3/lib/python3.9/site-packages/Bio/PDB/Polypeptide.py:342: UserWarning: Assuming residue DDF is an unknown modified amino acid\n",
      "  warnings.warn(\n",
      " 17%|███████████████████████████                                                                                                                                   | 1120/6547 [03:46<08:23, 10.77it/s]/ayb/vol2/home/dumerenkov/anaconda3/lib/python3.9/site-packages/Bio/PDB/Polypeptide.py:342: UserWarning: Assuming residue  CA is an unknown modified amino acid\n",
      "  warnings.warn(\n"
     ]
    },
    {
     "name": "stderr",
     "output_type": "stream",
     "text": [
      " 17%|███████████████████████████                                                                                                                                   | 1122/6547 [03:46<08:35, 10.51it/s]/ayb/vol2/home/dumerenkov/anaconda3/lib/python3.9/site-packages/Bio/PDB/Polypeptide.py:342: UserWarning: Assuming residue  CA is an unknown modified amino acid\n",
      "  warnings.warn(\n",
      "/ayb/vol2/home/dumerenkov/anaconda3/lib/python3.9/site-packages/Bio/PDB/Polypeptide.py:342: UserWarning: Assuming residue  CA is an unknown modified amino acid\n",
      "  warnings.warn(\n",
      " 17%|███████████████████████████▏                                                                                                                                  | 1124/6547 [03:46<07:37, 11.84it/s]/ayb/vol2/home/dumerenkov/anaconda3/lib/python3.9/site-packages/Bio/PDB/Polypeptide.py:342: UserWarning: Assuming residue  CA is an unknown modified amino acid\n",
      "  warnings.warn(\n",
      " 29%|██████████████████████████████████████████████                                                                                                                | 1909/6547 [04:44<07:16, 10.62it/s]/ayb/vol2/home/dumerenkov/anaconda3/lib/python3.9/site-packages/Bio/PDB/Polypeptide.py:342: UserWarning: Assuming residue  CA is an unknown modified amino acid\n",
      "  warnings.warn(\n",
      " 29%|██████████████████████████████████████████████                                                                                                                | 1911/6547 [04:44<06:33, 11.78it/s]/ayb/vol2/home/dumerenkov/anaconda3/lib/python3.9/site-packages/Bio/PDB/Polypeptide.py:342: UserWarning: Assuming residue  CA is an unknown modified amino acid\n",
      "  warnings.warn(\n",
      "/ayb/vol2/home/dumerenkov/anaconda3/lib/python3.9/site-packages/Bio/PDB/Polypeptide.py:342: UserWarning: Assuming residue  CA is an unknown modified amino acid\n",
      "  warnings.warn(\n",
      " 29%|██████████████████████████████████████████████▏                                                                                                               | 1913/6547 [04:44<07:27, 10.36it/s]/ayb/vol2/home/dumerenkov/anaconda3/lib/python3.9/site-packages/Bio/PDB/Polypeptide.py:342: UserWarning: Assuming residue  CA is an unknown modified amino acid\n",
      "  warnings.warn(\n",
      "/ayb/vol2/home/dumerenkov/anaconda3/lib/python3.9/site-packages/Bio/PDB/Polypeptide.py:342: UserWarning: Assuming residue  CA is an unknown modified amino acid\n",
      "  warnings.warn(\n",
      " 29%|██████████████████████████████████████████████▏                                                                                                               | 1915/6547 [04:44<07:00, 11.01it/s]/ayb/vol2/home/dumerenkov/anaconda3/lib/python3.9/site-packages/Bio/PDB/Polypeptide.py:342: UserWarning: Assuming residue  CA is an unknown modified amino acid\n",
      "  warnings.warn(\n",
      "/ayb/vol2/home/dumerenkov/anaconda3/lib/python3.9/site-packages/Bio/PDB/Polypeptide.py:342: UserWarning: Assuming residue  CA is an unknown modified amino acid\n",
      "  warnings.warn(\n",
      " 29%|██████████████████████████████████████████████▎                                                                                                               | 1917/6547 [04:45<07:57,  9.69it/s]/ayb/vol2/home/dumerenkov/anaconda3/lib/python3.9/site-packages/Bio/PDB/Polypeptide.py:342: UserWarning: Assuming residue  CA is an unknown modified amino acid\n",
      "  warnings.warn(\n",
      "/ayb/vol2/home/dumerenkov/anaconda3/lib/python3.9/site-packages/Bio/PDB/Polypeptide.py:342: UserWarning: Assuming residue  CA is an unknown modified amino acid\n",
      "  warnings.warn(\n",
      " 30%|███████████████████████████████████████████████                                                                                                               | 1952/6547 [04:47<03:50, 19.97it/s]/ayb/vol2/home/dumerenkov/anaconda3/lib/python3.9/site-packages/Bio/PDB/Polypeptide.py:342: UserWarning: Assuming residue  CA is an unknown modified amino acid\n",
      "  warnings.warn(\n",
      "/ayb/vol2/home/dumerenkov/anaconda3/lib/python3.9/site-packages/Bio/PDB/Polypeptide.py:342: UserWarning: Assuming residue  CA is an unknown modified amino acid\n",
      "  warnings.warn(\n",
      "/ayb/vol2/home/dumerenkov/anaconda3/lib/python3.9/site-packages/Bio/PDB/Polypeptide.py:342: UserWarning: Assuming residue  CA is an unknown modified amino acid\n",
      "  warnings.warn(\n",
      " 30%|███████████████████████████████████████████████▏                                                                                                              | 1955/6547 [04:47<04:51, 15.76it/s]/ayb/vol2/home/dumerenkov/anaconda3/lib/python3.9/site-packages/Bio/PDB/Polypeptide.py:342: UserWarning: Assuming residue  CA is an unknown modified amino acid\n",
      "  warnings.warn(\n",
      "/ayb/vol2/home/dumerenkov/anaconda3/lib/python3.9/site-packages/Bio/PDB/Polypeptide.py:342: UserWarning: Assuming residue  CA is an unknown modified amino acid\n",
      "  warnings.warn(\n",
      " 30%|███████████████████████████████████████████████▏                                                                                                              | 1957/6547 [04:47<05:39, 13.52it/s]/ayb/vol2/home/dumerenkov/anaconda3/lib/python3.9/site-packages/Bio/PDB/Polypeptide.py:342: UserWarning: Assuming residue  CA is an unknown modified amino acid\n",
      "  warnings.warn(\n",
      "/ayb/vol2/home/dumerenkov/anaconda3/lib/python3.9/site-packages/Bio/PDB/Polypeptide.py:342: UserWarning: Assuming residue  CA is an unknown modified amino acid\n",
      "  warnings.warn(\n",
      " 30%|███████████████████████████████████████████████▎                                                                                                              | 1959/6547 [04:48<05:27, 14.00it/s]/ayb/vol2/home/dumerenkov/anaconda3/lib/python3.9/site-packages/Bio/PDB/Polypeptide.py:342: UserWarning: Assuming residue  CA is an unknown modified amino acid\n",
      "  warnings.warn(\n",
      "/ayb/vol2/home/dumerenkov/anaconda3/lib/python3.9/site-packages/Bio/PDB/Polypeptide.py:342: UserWarning: Assuming residue  CA is an unknown modified amino acid\n",
      "  warnings.warn(\n",
      " 30%|███████████████████████████████████████████████▎                                                                                                              | 1961/6547 [04:48<06:21, 12.03it/s]/ayb/vol2/home/dumerenkov/anaconda3/lib/python3.9/site-packages/Bio/PDB/Polypeptide.py:342: UserWarning: Assuming residue  CA is an unknown modified amino acid\n",
      "  warnings.warn(\n",
      "/ayb/vol2/home/dumerenkov/anaconda3/lib/python3.9/site-packages/Bio/PDB/Polypeptide.py:342: UserWarning: Assuming residue  CA is an unknown modified amino acid\n",
      "  warnings.warn(\n",
      " 30%|███████████████████████████████████████████████▎                                                                                                              | 1963/6547 [04:48<07:17, 10.47it/s]/ayb/vol2/home/dumerenkov/anaconda3/lib/python3.9/site-packages/Bio/PDB/Polypeptide.py:342: UserWarning: Assuming residue  CA is an unknown modified amino acid\n",
      "  warnings.warn(\n",
      "/ayb/vol2/home/dumerenkov/anaconda3/lib/python3.9/site-packages/Bio/PDB/Polypeptide.py:342: UserWarning: Assuming residue  CA is an unknown modified amino acid\n",
      "  warnings.warn(\n",
      " 30%|███████████████████████████████████████████████▍                                                                                                              | 1965/6547 [04:48<08:28,  9.00it/s]/ayb/vol2/home/dumerenkov/anaconda3/lib/python3.9/site-packages/Bio/PDB/Polypeptide.py:342: UserWarning: Assuming residue  CA is an unknown modified amino acid\n",
      "  warnings.warn(\n",
      "/ayb/vol2/home/dumerenkov/anaconda3/lib/python3.9/site-packages/Bio/PDB/Polypeptide.py:342: UserWarning: Assuming residue  CA is an unknown modified amino acid\n",
      "  warnings.warn(\n",
      " 30%|███████████████████████████████████████████████▍                                                                                                              | 1967/6547 [04:49<09:27,  8.08it/s]/ayb/vol2/home/dumerenkov/anaconda3/lib/python3.9/site-packages/Bio/PDB/Polypeptide.py:342: UserWarning: Assuming residue  CA is an unknown modified amino acid\n",
      "  warnings.warn(\n",
      "/ayb/vol2/home/dumerenkov/anaconda3/lib/python3.9/site-packages/Bio/PDB/Polypeptide.py:342: UserWarning: Assuming residue  CA is an unknown modified amino acid\n",
      "  warnings.warn(\n"
     ]
    },
    {
     "name": "stderr",
     "output_type": "stream",
     "text": [
      " 30%|███████████████████████████████████████████████▌                                                                                                              | 1969/6547 [04:49<08:50,  8.63it/s]/ayb/vol2/home/dumerenkov/anaconda3/lib/python3.9/site-packages/Bio/PDB/Polypeptide.py:342: UserWarning: Assuming residue  CA is an unknown modified amino acid\n",
      "  warnings.warn(\n",
      " 30%|███████████████████████████████████████████████▌                                                                                                              | 1970/6547 [04:49<10:07,  7.53it/s]/ayb/vol2/home/dumerenkov/anaconda3/lib/python3.9/site-packages/Bio/PDB/Polypeptide.py:342: UserWarning: Assuming residue  CA is an unknown modified amino acid\n",
      "  warnings.warn(\n",
      " 30%|███████████████████████████████████████████████▌                                                                                                              | 1971/6547 [04:49<09:39,  7.89it/s]/ayb/vol2/home/dumerenkov/anaconda3/lib/python3.9/site-packages/Bio/PDB/Polypeptide.py:342: UserWarning: Assuming residue  CA is an unknown modified amino acid\n",
      "  warnings.warn(\n",
      " 30%|███████████████████████████████████████████████▌                                                                                                              | 1972/6547 [04:49<11:21,  6.72it/s]/ayb/vol2/home/dumerenkov/anaconda3/lib/python3.9/site-packages/Bio/PDB/Polypeptide.py:342: UserWarning: Assuming residue  CA is an unknown modified amino acid\n",
      "  warnings.warn(\n",
      "/ayb/vol2/home/dumerenkov/anaconda3/lib/python3.9/site-packages/Bio/PDB/Polypeptide.py:342: UserWarning: Assuming residue  CA is an unknown modified amino acid\n",
      "  warnings.warn(\n",
      " 30%|███████████████████████████████████████████████▋                                                                                                              | 1974/6547 [04:50<11:20,  6.72it/s]/ayb/vol2/home/dumerenkov/anaconda3/lib/python3.9/site-packages/Bio/PDB/Polypeptide.py:342: UserWarning: Assuming residue  CA is an unknown modified amino acid\n",
      "  warnings.warn(\n",
      "/ayb/vol2/home/dumerenkov/anaconda3/lib/python3.9/site-packages/Bio/PDB/Polypeptide.py:342: UserWarning: Assuming residue  CA is an unknown modified amino acid\n",
      "  warnings.warn(\n",
      " 30%|███████████████████████████████████████████████▋                                                                                                              | 1976/6547 [04:50<11:36,  6.56it/s]/ayb/vol2/home/dumerenkov/anaconda3/lib/python3.9/site-packages/Bio/PDB/Polypeptide.py:342: UserWarning: Assuming residue  CA is an unknown modified amino acid\n",
      "  warnings.warn(\n",
      "/ayb/vol2/home/dumerenkov/anaconda3/lib/python3.9/site-packages/Bio/PDB/Polypeptide.py:342: UserWarning: Assuming residue  CA is an unknown modified amino acid\n",
      "  warnings.warn(\n",
      " 30%|███████████████████████████████████████████████▋                                                                                                              | 1978/6547 [04:50<11:38,  6.54it/s]/ayb/vol2/home/dumerenkov/anaconda3/lib/python3.9/site-packages/Bio/PDB/Polypeptide.py:342: UserWarning: Assuming residue  CA is an unknown modified amino acid\n",
      "  warnings.warn(\n",
      "/ayb/vol2/home/dumerenkov/anaconda3/lib/python3.9/site-packages/Bio/PDB/Polypeptide.py:342: UserWarning: Assuming residue  CA is an unknown modified amino acid\n",
      "  warnings.warn(\n",
      " 30%|███████████████████████████████████████████████▊                                                                                                              | 1980/6547 [04:51<11:47,  6.46it/s]/ayb/vol2/home/dumerenkov/anaconda3/lib/python3.9/site-packages/Bio/PDB/Polypeptide.py:342: UserWarning: Assuming residue  CA is an unknown modified amino acid\n",
      "  warnings.warn(\n",
      "/ayb/vol2/home/dumerenkov/anaconda3/lib/python3.9/site-packages/Bio/PDB/Polypeptide.py:342: UserWarning: Assuming residue  CA is an unknown modified amino acid\n",
      "  warnings.warn(\n",
      " 30%|███████████████████████████████████████████████▊                                                                                                              | 1982/6547 [04:51<11:40,  6.52it/s]/ayb/vol2/home/dumerenkov/anaconda3/lib/python3.9/site-packages/Bio/PDB/Polypeptide.py:342: UserWarning: Assuming residue  CA is an unknown modified amino acid\n",
      "  warnings.warn(\n",
      "/ayb/vol2/home/dumerenkov/anaconda3/lib/python3.9/site-packages/Bio/PDB/Polypeptide.py:342: UserWarning: Assuming residue  CA is an unknown modified amino acid\n",
      "  warnings.warn(\n",
      " 30%|███████████████████████████████████████████████▉                                                                                                              | 1984/6547 [04:51<11:44,  6.48it/s]/ayb/vol2/home/dumerenkov/anaconda3/lib/python3.9/site-packages/Bio/PDB/Polypeptide.py:342: UserWarning: Assuming residue  CA is an unknown modified amino acid\n",
      "  warnings.warn(\n",
      " 31%|████████████████████████████████████████████████▏                                                                                                             | 1999/6547 [04:53<08:40,  8.74it/s]/ayb/vol2/home/dumerenkov/anaconda3/lib/python3.9/site-packages/Bio/PDB/Polypeptide.py:342: UserWarning: Assuming residue  CA is an unknown modified amino acid\n",
      "  warnings.warn(\n",
      " 31%|████████████████████████████████████████████████▎                                                                                                             | 2002/6547 [04:53<06:18, 12.01it/s]/ayb/vol2/home/dumerenkov/anaconda3/lib/python3.9/site-packages/Bio/PDB/Polypeptide.py:342: UserWarning: Assuming residue  CA is an unknown modified amino acid\n",
      "  warnings.warn(\n",
      "/ayb/vol2/home/dumerenkov/anaconda3/lib/python3.9/site-packages/Bio/PDB/Polypeptide.py:342: UserWarning: Assuming residue  CA is an unknown modified amino acid\n",
      "  warnings.warn(\n",
      "/ayb/vol2/home/dumerenkov/anaconda3/lib/python3.9/site-packages/Bio/PDB/Polypeptide.py:342: UserWarning: Assuming residue  CA is an unknown modified amino acid\n",
      "  warnings.warn(\n",
      " 31%|████████████████████████████████████████████████▍                                                                                                             | 2005/6547 [04:53<04:57, 15.24it/s]/ayb/vol2/home/dumerenkov/anaconda3/lib/python3.9/site-packages/Bio/PDB/Polypeptide.py:342: UserWarning: Assuming residue  CA is an unknown modified amino acid\n",
      "  warnings.warn(\n",
      "/ayb/vol2/home/dumerenkov/anaconda3/lib/python3.9/site-packages/Bio/PDB/Polypeptide.py:342: UserWarning: Assuming residue  CA is an unknown modified amino acid\n",
      "  warnings.warn(\n",
      " 31%|████████████████████████████████████████████████▍                                                                                                             | 2007/6547 [04:53<05:32, 13.64it/s]/ayb/vol2/home/dumerenkov/anaconda3/lib/python3.9/site-packages/Bio/PDB/Polypeptide.py:342: UserWarning: Assuming residue  CA is an unknown modified amino acid\n",
      "  warnings.warn(\n",
      "/ayb/vol2/home/dumerenkov/anaconda3/lib/python3.9/site-packages/Bio/PDB/Polypeptide.py:342: UserWarning: Assuming residue  CA is an unknown modified amino acid\n",
      "  warnings.warn(\n",
      "/ayb/vol2/home/dumerenkov/anaconda3/lib/python3.9/site-packages/Bio/PDB/Polypeptide.py:342: UserWarning: Assuming residue  CA is an unknown modified amino acid\n",
      "  warnings.warn(\n",
      " 31%|████████████████████████████████████████████████▌                                                                                                             | 2010/6547 [04:53<04:47, 15.78it/s]/ayb/vol2/home/dumerenkov/anaconda3/lib/python3.9/site-packages/Bio/PDB/Polypeptide.py:342: UserWarning: Assuming residue  CA is an unknown modified amino acid\n",
      "  warnings.warn(\n",
      "/ayb/vol2/home/dumerenkov/anaconda3/lib/python3.9/site-packages/Bio/PDB/Polypeptide.py:342: UserWarning: Assuming residue  CA is an unknown modified amino acid\n",
      "  warnings.warn(\n",
      "/ayb/vol2/home/dumerenkov/anaconda3/lib/python3.9/site-packages/Bio/PDB/Polypeptide.py:342: UserWarning: Assuming residue  CA is an unknown modified amino acid\n",
      "  warnings.warn(\n",
      " 31%|████████████████████████████████████████████████▌                                                                                                             | 2013/6547 [04:54<05:15, 14.37it/s]/ayb/vol2/home/dumerenkov/anaconda3/lib/python3.9/site-packages/Bio/PDB/Polypeptide.py:342: UserWarning: Assuming residue  CA is an unknown modified amino acid\n",
      "  warnings.warn(\n",
      "/ayb/vol2/home/dumerenkov/anaconda3/lib/python3.9/site-packages/Bio/PDB/Polypeptide.py:342: UserWarning: Assuming residue  CA is an unknown modified amino acid\n",
      "  warnings.warn(\n",
      "/ayb/vol2/home/dumerenkov/anaconda3/lib/python3.9/site-packages/Bio/PDB/Polypeptide.py:342: UserWarning: Assuming residue  CA is an unknown modified amino acid\n",
      "  warnings.warn(\n"
     ]
    },
    {
     "name": "stderr",
     "output_type": "stream",
     "text": [
      " 31%|████████████████████████████████████████████████▋                                                                                                             | 2016/6547 [04:54<04:39, 16.19it/s]/ayb/vol2/home/dumerenkov/anaconda3/lib/python3.9/site-packages/Bio/PDB/Polypeptide.py:342: UserWarning: Assuming residue  CA is an unknown modified amino acid\n",
      "  warnings.warn(\n",
      "/ayb/vol2/home/dumerenkov/anaconda3/lib/python3.9/site-packages/Bio/PDB/Polypeptide.py:342: UserWarning: Assuming residue  CA is an unknown modified amino acid\n",
      "  warnings.warn(\n",
      "/ayb/vol2/home/dumerenkov/anaconda3/lib/python3.9/site-packages/Bio/PDB/Polypeptide.py:342: UserWarning: Assuming residue  CA is an unknown modified amino acid\n",
      "  warnings.warn(\n",
      " 31%|████████████████████████████████████████████████▋                                                                                                             | 2019/6547 [04:54<05:08, 14.67it/s]/ayb/vol2/home/dumerenkov/anaconda3/lib/python3.9/site-packages/Bio/PDB/Polypeptide.py:342: UserWarning: Assuming residue  CA is an unknown modified amino acid\n",
      "  warnings.warn(\n",
      "/ayb/vol2/home/dumerenkov/anaconda3/lib/python3.9/site-packages/Bio/PDB/Polypeptide.py:342: UserWarning: Assuming residue  CA is an unknown modified amino acid\n",
      "  warnings.warn(\n",
      "/ayb/vol2/home/dumerenkov/anaconda3/lib/python3.9/site-packages/Bio/PDB/Polypeptide.py:342: UserWarning: Assuming residue  CA is an unknown modified amino acid\n",
      "  warnings.warn(\n",
      " 31%|████████████████████████████████████████████████▊                                                                                                             | 2022/6547 [04:54<04:38, 16.27it/s]/ayb/vol2/home/dumerenkov/anaconda3/lib/python3.9/site-packages/Bio/PDB/Polypeptide.py:342: UserWarning: Assuming residue  CA is an unknown modified amino acid\n",
      "  warnings.warn(\n",
      "/ayb/vol2/home/dumerenkov/anaconda3/lib/python3.9/site-packages/Bio/PDB/Polypeptide.py:342: UserWarning: Assuming residue  CA is an unknown modified amino acid\n",
      "  warnings.warn(\n",
      "/ayb/vol2/home/dumerenkov/anaconda3/lib/python3.9/site-packages/Bio/PDB/Polypeptide.py:342: UserWarning: Assuming residue  CA is an unknown modified amino acid\n",
      "  warnings.warn(\n",
      " 31%|████████████████████████████████████████████████▊                                                                                                             | 2025/6547 [04:54<04:07, 18.25it/s]/ayb/vol2/home/dumerenkov/anaconda3/lib/python3.9/site-packages/Bio/PDB/Polypeptide.py:342: UserWarning: Assuming residue  CA is an unknown modified amino acid\n",
      "  warnings.warn(\n",
      "/ayb/vol2/home/dumerenkov/anaconda3/lib/python3.9/site-packages/Bio/PDB/Polypeptide.py:342: UserWarning: Assuming residue  CA is an unknown modified amino acid\n",
      "  warnings.warn(\n",
      " 31%|████████████████████████████████████████████████▉                                                                                                             | 2027/6547 [04:54<04:50, 15.58it/s]/ayb/vol2/home/dumerenkov/anaconda3/lib/python3.9/site-packages/Bio/PDB/Polypeptide.py:342: UserWarning: Assuming residue  CA is an unknown modified amino acid\n",
      "  warnings.warn(\n",
      " 37%|██████████████████████████████████████████████████████████▉                                                                                                   | 2443/6547 [05:41<05:00, 13.64it/s]"
     ]
    },
    {
     "name": "stdout",
     "output_type": "stream",
     "text": [
      "Indexing error for 1LRPA position 15 not present in mapping {}\n",
      "Indexing error for 1LRPA position 20 not present in mapping {}\n",
      "Indexing error for 1LRPA position 37 not present in mapping {}\n",
      "Indexing error for 1LRPA position 49 not present in mapping {}\n",
      "Indexing error for 1LRPA position 49 not present in mapping {}\n",
      "Indexing error for 1LRPA position 63 not present in mapping {}\n"
     ]
    },
    {
     "name": "stderr",
     "output_type": "stream",
     "text": [
      " 37%|███████████████████████████████████████████████████████████▏                                                                                                  | 2450/6547 [05:41<03:30, 19.43it/s]"
     ]
    },
    {
     "name": "stdout",
     "output_type": "stream",
     "text": [
      "Indexing error for 1LRPA position 66 not present in mapping {}\n",
      "Indexing error for 1LRPA position 66 not present in mapping {}\n",
      "Indexing error for 1LRPA position 81 not present in mapping {}\n",
      "Indexing error for 1LRPA position 46 not present in mapping {}\n",
      "Indexing error for 1LRPA position 48 not present in mapping {}\n",
      "Indexing error for 1LRPA position 48 not present in mapping {}\n",
      "Indexing error for 1LRPA position 48 not present in mapping {}\n"
     ]
    },
    {
     "name": "stderr",
     "output_type": "stream",
     "text": [
      " 38%|███████████████████████████████████████████████████████████▎                                                                                                  | 2458/6547 [05:41<02:32, 26.85it/s]"
     ]
    },
    {
     "name": "stdout",
     "output_type": "stream",
     "text": [
      "Indexing error for 1LRPA position 84 not present in mapping {}\n",
      "Indexing error for 1LRPA position 4 not present in mapping {}\n",
      "Indexing error for 1LRPA position 40 not present in mapping {}\n",
      "Indexing error for 1LRPA position 78 not present in mapping {}\n",
      "Indexing error for 1LRPA position 33 not present in mapping {}\n",
      "Indexing error for 1LRPA position 44 not present in mapping {}\n",
      "Indexing error for 1LRPA position 36 not present in mapping {}\n"
     ]
    },
    {
     "name": "stderr",
     "output_type": "stream",
     "text": [
      "\r\n",
      " 38%|███████████████████████████████████████████████████████████▍                                                                                                  | 2461/6547 [05:41<02:56, 23.17it/s]"
     ]
    },
    {
     "name": "stdout",
     "output_type": "stream",
     "text": [
      "Indexing error for 1LRPA position 22 not present in mapping {}\n",
      "Indexing error for 1LRPA position 88 not present in mapping {}\n"
     ]
    },
    {
     "name": "stderr",
     "output_type": "stream",
     "text": [
      " 41%|████████████████████████████████████████████████████████████████▋                                                                                           | 2716/6547 [06:58<1:14:49,  1.17s/it]/ayb/vol2/home/dumerenkov/anaconda3/lib/python3.9/site-packages/Bio/PDB/Polypeptide.py:342: UserWarning: Assuming residue  CA is an unknown modified amino acid\n",
      "  warnings.warn(\n",
      "/ayb/vol2/home/dumerenkov/anaconda3/lib/python3.9/site-packages/Bio/PDB/Polypeptide.py:342: UserWarning: Assuming residue  CA is an unknown modified amino acid\n",
      "  warnings.warn(\n",
      "/ayb/vol2/home/dumerenkov/anaconda3/lib/python3.9/site-packages/Bio/PDB/Polypeptide.py:342: UserWarning: Assuming residue  CA is an unknown modified amino acid\n",
      "  warnings.warn(\n",
      " 45%|██████████████████████████████████████████████████████████████████████▋                                                                                       | 2931/6547 [07:13<07:35,  7.93it/s]/ayb/vol2/home/dumerenkov/anaconda3/lib/python3.9/site-packages/Bio/PDB/Polypeptide.py:342: UserWarning: Assuming residue AMB is an unknown modified amino acid\n",
      "  warnings.warn(\n",
      " 48%|███████████████████████████████████████████████████████████████████████████▉                                                                                  | 3147/6547 [07:37<02:33, 22.17it/s]/ayb/vol2/home/dumerenkov/anaconda3/lib/python3.9/site-packages/Bio/PDB/Polypeptide.py:342: UserWarning: Assuming residue  CA is an unknown modified amino acid\n",
      "  warnings.warn(\n",
      "/ayb/vol2/home/dumerenkov/anaconda3/lib/python3.9/site-packages/Bio/PDB/Polypeptide.py:342: UserWarning: Assuming residue  CA is an unknown modified amino acid\n",
      "  warnings.warn(\n",
      " 49%|█████████████████████████████████████████████████████████████████████████████▏                                                                                | 3199/6547 [07:40<03:41, 15.13it/s]/ayb/vol2/home/dumerenkov/anaconda3/lib/python3.9/site-packages/Bio/PDB/Polypeptide.py:342: UserWarning: Assuming residue  CA is an unknown modified amino acid\n",
      "  warnings.warn(\n",
      "/ayb/vol2/home/dumerenkov/anaconda3/lib/python3.9/site-packages/Bio/PDB/Polypeptide.py:342: UserWarning: Assuming residue  CA is an unknown modified amino acid\n",
      "  warnings.warn(\n",
      " 49%|█████████████████████████████████████████████████████████████████████████████▎                                                                                | 3202/6547 [07:40<03:30, 15.87it/s]/ayb/vol2/home/dumerenkov/anaconda3/lib/python3.9/site-packages/Bio/PDB/Polypeptide.py:342: UserWarning: Assuming residue  CA is an unknown modified amino acid\n",
      "  warnings.warn(\n",
      "/ayb/vol2/home/dumerenkov/anaconda3/lib/python3.9/site-packages/Bio/PDB/Polypeptide.py:342: UserWarning: Assuming residue DDF is an unknown modified amino acid\n",
      "  warnings.warn(\n",
      " 49%|█████████████████████████████████████████████████████████████████████████████▎                                                                                | 3204/6547 [07:41<04:05, 13.63it/s]/ayb/vol2/home/dumerenkov/anaconda3/lib/python3.9/site-packages/Bio/PDB/Polypeptide.py:342: UserWarning: Assuming residue DDF is an unknown modified amino acid\n",
      "  warnings.warn(\n",
      "/ayb/vol2/home/dumerenkov/anaconda3/lib/python3.9/site-packages/Bio/PDB/Polypeptide.py:342: UserWarning: Assuming residue DDF is an unknown modified amino acid\n",
      "  warnings.warn(\n",
      " 49%|█████████████████████████████████████████████████████████████████████████████▎                                                                                | 3206/6547 [07:41<03:48, 14.63it/s]/ayb/vol2/home/dumerenkov/anaconda3/lib/python3.9/site-packages/Bio/PDB/Polypeptide.py:342: UserWarning: Assuming residue DDF is an unknown modified amino acid\n",
      "  warnings.warn(\n",
      "/ayb/vol2/home/dumerenkov/anaconda3/lib/python3.9/site-packages/Bio/PDB/Polypeptide.py:342: UserWarning: Assuming residue DDF is an unknown modified amino acid\n",
      "  warnings.warn(\n",
      " 49%|█████████████████████████████████████████████████████████████████████████████▍                                                                                | 3208/6547 [07:41<04:21, 12.77it/s]/ayb/vol2/home/dumerenkov/anaconda3/lib/python3.9/site-packages/Bio/PDB/Polypeptide.py:342: UserWarning: Assuming residue DDF is an unknown modified amino acid\n",
      "  warnings.warn(\n",
      "/ayb/vol2/home/dumerenkov/anaconda3/lib/python3.9/site-packages/Bio/PDB/Polypeptide.py:342: UserWarning: Assuming residue DDF is an unknown modified amino acid\n",
      "  warnings.warn(\n",
      " 49%|█████████████████████████████████████████████████████████████████████████████▍                                                                                | 3210/6547 [07:41<03:58, 13.97it/s]/ayb/vol2/home/dumerenkov/anaconda3/lib/python3.9/site-packages/Bio/PDB/Polypeptide.py:342: UserWarning: Assuming residue DDF is an unknown modified amino acid\n",
      "  warnings.warn(\n",
      "/ayb/vol2/home/dumerenkov/anaconda3/lib/python3.9/site-packages/Bio/PDB/Polypeptide.py:342: UserWarning: Assuming residue DDF is an unknown modified amino acid\n",
      "  warnings.warn(\n",
      " 49%|█████████████████████████████████████████████████████████████████████████████▌                                                                                | 3212/6547 [07:41<03:40, 15.10it/s]/ayb/vol2/home/dumerenkov/anaconda3/lib/python3.9/site-packages/Bio/PDB/Polypeptide.py:342: UserWarning: Assuming residue DDF is an unknown modified amino acid\n",
      "  warnings.warn(\n",
      "/ayb/vol2/home/dumerenkov/anaconda3/lib/python3.9/site-packages/Bio/PDB/Polypeptide.py:342: UserWarning: Assuming residue DDF is an unknown modified amino acid\n",
      "  warnings.warn(\n",
      " 49%|█████████████████████████████████████████████████████████████████████████████▌                                                                                | 3214/6547 [07:41<04:16, 13.00it/s]/ayb/vol2/home/dumerenkov/anaconda3/lib/python3.9/site-packages/Bio/PDB/Polypeptide.py:342: UserWarning: Assuming residue DDF is an unknown modified amino acid\n",
      "  warnings.warn(\n",
      "/ayb/vol2/home/dumerenkov/anaconda3/lib/python3.9/site-packages/Bio/PDB/Polypeptide.py:342: UserWarning: Assuming residue DDF is an unknown modified amino acid\n",
      "  warnings.warn(\n",
      "/ayb/vol2/home/dumerenkov/anaconda3/lib/python3.9/site-packages/Bio/PDB/Polypeptide.py:342: UserWarning: Assuming residue DDF is an unknown modified amino acid\n",
      "  warnings.warn(\n",
      " 49%|█████████████████████████████████████████████████████████████████████████████▋                                                                                | 3217/6547 [07:41<03:31, 15.73it/s]/ayb/vol2/home/dumerenkov/anaconda3/lib/python3.9/site-packages/Bio/PDB/Polypeptide.py:342: UserWarning: Assuming residue DDF is an unknown modified amino acid\n",
      "  warnings.warn(\n",
      "/ayb/vol2/home/dumerenkov/anaconda3/lib/python3.9/site-packages/Bio/PDB/Polypeptide.py:342: UserWarning: Assuming residue DDF is an unknown modified amino acid\n",
      "  warnings.warn(\n",
      " 49%|█████████████████████████████████████████████████████████████████████████████▋                                                                                | 3219/6547 [07:42<04:03, 13.65it/s]/ayb/vol2/home/dumerenkov/anaconda3/lib/python3.9/site-packages/Bio/PDB/Polypeptide.py:342: UserWarning: Assuming residue DDF is an unknown modified amino acid\n",
      "  warnings.warn(\n",
      "/ayb/vol2/home/dumerenkov/anaconda3/lib/python3.9/site-packages/Bio/PDB/Polypeptide.py:342: UserWarning: Assuming residue DDF is an unknown modified amino acid\n",
      "  warnings.warn(\n",
      "/ayb/vol2/home/dumerenkov/anaconda3/lib/python3.9/site-packages/Bio/PDB/Polypeptide.py:342: UserWarning: Assuming residue DDF is an unknown modified amino acid\n",
      "  warnings.warn(\n",
      " 49%|█████████████████████████████████████████████████████████████████████████████▊                                                                                | 3222/6547 [07:42<03:30, 15.83it/s]/ayb/vol2/home/dumerenkov/anaconda3/lib/python3.9/site-packages/Bio/PDB/Polypeptide.py:342: UserWarning: Assuming residue DDF is an unknown modified amino acid\n",
      "  warnings.warn(\n",
      "/ayb/vol2/home/dumerenkov/anaconda3/lib/python3.9/site-packages/Bio/PDB/Polypeptide.py:342: UserWarning: Assuming residue DDF is an unknown modified amino acid\n",
      "  warnings.warn(\n"
     ]
    },
    {
     "name": "stderr",
     "output_type": "stream",
     "text": [
      " 49%|█████████████████████████████████████████████████████████████████████████████▊                                                                                | 3224/6547 [07:42<04:07, 13.43it/s]/ayb/vol2/home/dumerenkov/anaconda3/lib/python3.9/site-packages/Bio/PDB/Polypeptide.py:342: UserWarning: Assuming residue DDF is an unknown modified amino acid\n",
      "  warnings.warn(\n",
      "/ayb/vol2/home/dumerenkov/anaconda3/lib/python3.9/site-packages/Bio/PDB/Polypeptide.py:342: UserWarning: Assuming residue DDF is an unknown modified amino acid\n",
      "  warnings.warn(\n",
      "/ayb/vol2/home/dumerenkov/anaconda3/lib/python3.9/site-packages/Bio/PDB/Polypeptide.py:342: UserWarning: Assuming residue DDF is an unknown modified amino acid\n",
      "  warnings.warn(\n",
      " 49%|█████████████████████████████████████████████████████████████████████████████▉                                                                                | 3227/6547 [07:42<03:39, 15.16it/s]/ayb/vol2/home/dumerenkov/anaconda3/lib/python3.9/site-packages/Bio/PDB/Polypeptide.py:342: UserWarning: Assuming residue DDF is an unknown modified amino acid\n",
      "  warnings.warn(\n",
      "/ayb/vol2/home/dumerenkov/anaconda3/lib/python3.9/site-packages/Bio/PDB/Polypeptide.py:342: UserWarning: Assuming residue DDF is an unknown modified amino acid\n",
      "  warnings.warn(\n",
      " 49%|█████████████████████████████████████████████████████████████████████████████▉                                                                                | 3229/6547 [07:42<04:12, 13.15it/s]/ayb/vol2/home/dumerenkov/anaconda3/lib/python3.9/site-packages/Bio/PDB/Polypeptide.py:342: UserWarning: Assuming residue DDF is an unknown modified amino acid\n",
      "  warnings.warn(\n",
      "/ayb/vol2/home/dumerenkov/anaconda3/lib/python3.9/site-packages/Bio/PDB/Polypeptide.py:342: UserWarning: Assuming residue DDF is an unknown modified amino acid\n",
      "  warnings.warn(\n",
      "/ayb/vol2/home/dumerenkov/anaconda3/lib/python3.9/site-packages/Bio/PDB/Polypeptide.py:342: UserWarning: Assuming residue DDF is an unknown modified amino acid\n",
      "  warnings.warn(\n",
      " 49%|█████████████████████████████████████████████████████████████████████████████▉                                                                                | 3232/6547 [07:43<03:42, 14.90it/s]/ayb/vol2/home/dumerenkov/anaconda3/lib/python3.9/site-packages/Bio/PDB/Polypeptide.py:342: UserWarning: Assuming residue DDF is an unknown modified amino acid\n",
      "  warnings.warn(\n",
      "/ayb/vol2/home/dumerenkov/anaconda3/lib/python3.9/site-packages/Bio/PDB/Polypeptide.py:342: UserWarning: Assuming residue DDF is an unknown modified amino acid\n",
      "  warnings.warn(\n",
      " 49%|██████████████████████████████████████████████████████████████████████████████                                                                                | 3234/6547 [07:43<03:30, 15.71it/s]/ayb/vol2/home/dumerenkov/anaconda3/lib/python3.9/site-packages/Bio/PDB/Polypeptide.py:342: UserWarning: Assuming residue DDF is an unknown modified amino acid\n",
      "  warnings.warn(\n",
      "/ayb/vol2/home/dumerenkov/anaconda3/lib/python3.9/site-packages/Bio/PDB/Polypeptide.py:342: UserWarning: Assuming residue DDF is an unknown modified amino acid\n",
      "  warnings.warn(\n",
      " 49%|██████████████████████████████████████████████████████████████████████████████                                                                                | 3236/6547 [07:43<04:16, 12.91it/s]/ayb/vol2/home/dumerenkov/anaconda3/lib/python3.9/site-packages/Bio/PDB/Polypeptide.py:342: UserWarning: Assuming residue DDF is an unknown modified amino acid\n",
      "  warnings.warn(\n",
      "/ayb/vol2/home/dumerenkov/anaconda3/lib/python3.9/site-packages/Bio/PDB/Polypeptide.py:342: UserWarning: Assuming residue DDF is an unknown modified amino acid\n",
      "  warnings.warn(\n",
      "/ayb/vol2/home/dumerenkov/anaconda3/lib/python3.9/site-packages/Bio/PDB/Polypeptide.py:342: UserWarning: Assuming residue DDF is an unknown modified amino acid\n",
      "  warnings.warn(\n",
      " 49%|██████████████████████████████████████████████████████████████████████████████▏                                                                               | 3239/6547 [07:43<03:40, 15.03it/s]/ayb/vol2/home/dumerenkov/anaconda3/lib/python3.9/site-packages/Bio/PDB/Polypeptide.py:342: UserWarning: Assuming residue DDF is an unknown modified amino acid\n",
      "  warnings.warn(\n",
      "/ayb/vol2/home/dumerenkov/anaconda3/lib/python3.9/site-packages/Bio/PDB/Polypeptide.py:342: UserWarning: Assuming residue DDF is an unknown modified amino acid\n",
      "  warnings.warn(\n",
      " 50%|██████████████████████████████████████████████████████████████████████████████▏                                                                               | 3241/6547 [07:43<04:10, 13.19it/s]/ayb/vol2/home/dumerenkov/anaconda3/lib/python3.9/site-packages/Bio/PDB/Polypeptide.py:342: UserWarning: Assuming residue DDF is an unknown modified amino acid\n",
      "  warnings.warn(\n",
      "/ayb/vol2/home/dumerenkov/anaconda3/lib/python3.9/site-packages/Bio/PDB/Polypeptide.py:342: UserWarning: Assuming residue DDF is an unknown modified amino acid\n",
      "  warnings.warn(\n",
      "/ayb/vol2/home/dumerenkov/anaconda3/lib/python3.9/site-packages/Bio/PDB/Polypeptide.py:342: UserWarning: Assuming residue DDF is an unknown modified amino acid\n",
      "  warnings.warn(\n",
      " 50%|██████████████████████████████████████████████████████████████████████████████▎                                                                               | 3244/6547 [07:43<03:32, 15.51it/s]/ayb/vol2/home/dumerenkov/anaconda3/lib/python3.9/site-packages/Bio/PDB/Polypeptide.py:342: UserWarning: Assuming residue DDF is an unknown modified amino acid\n",
      "  warnings.warn(\n",
      "/ayb/vol2/home/dumerenkov/anaconda3/lib/python3.9/site-packages/Bio/PDB/Polypeptide.py:342: UserWarning: Assuming residue DDF is an unknown modified amino acid\n",
      "  warnings.warn(\n",
      " 50%|██████████████████████████████████████████████████████████████████████████████▎                                                                               | 3246/6547 [07:44<04:01, 13.69it/s]/ayb/vol2/home/dumerenkov/anaconda3/lib/python3.9/site-packages/Bio/PDB/Polypeptide.py:342: UserWarning: Assuming residue DDF is an unknown modified amino acid\n",
      "  warnings.warn(\n",
      "/ayb/vol2/home/dumerenkov/anaconda3/lib/python3.9/site-packages/Bio/PDB/Polypeptide.py:342: UserWarning: Assuming residue DDF is an unknown modified amino acid\n",
      "  warnings.warn(\n",
      " 50%|██████████████████████████████████████████████████████████████████████████████▍                                                                               | 3248/6547 [07:44<03:43, 14.76it/s]/ayb/vol2/home/dumerenkov/anaconda3/lib/python3.9/site-packages/Bio/PDB/Polypeptide.py:342: UserWarning: Assuming residue DDF is an unknown modified amino acid\n",
      "  warnings.warn(\n",
      "/ayb/vol2/home/dumerenkov/anaconda3/lib/python3.9/site-packages/Bio/PDB/Polypeptide.py:342: UserWarning: Assuming residue DDF is an unknown modified amino acid\n",
      "  warnings.warn(\n",
      " 50%|██████████████████████████████████████████████████████████████████████████████▍                                                                               | 3250/6547 [07:44<03:27, 15.89it/s]/ayb/vol2/home/dumerenkov/anaconda3/lib/python3.9/site-packages/Bio/PDB/Polypeptide.py:342: UserWarning: Assuming residue DDF is an unknown modified amino acid\n",
      "  warnings.warn(\n",
      "/ayb/vol2/home/dumerenkov/anaconda3/lib/python3.9/site-packages/Bio/PDB/Polypeptide.py:342: UserWarning: Assuming residue DDF is an unknown modified amino acid\n",
      "  warnings.warn(\n",
      " 50%|██████████████████████████████████████████████████████████████████████████████▍                                                                               | 3252/6547 [07:44<04:05, 13.41it/s]/ayb/vol2/home/dumerenkov/anaconda3/lib/python3.9/site-packages/Bio/PDB/Polypeptide.py:342: UserWarning: Assuming residue DDF is an unknown modified amino acid\n",
      "  warnings.warn(\n",
      "/ayb/vol2/home/dumerenkov/anaconda3/lib/python3.9/site-packages/Bio/PDB/Polypeptide.py:342: UserWarning: Assuming residue DDF is an unknown modified amino acid\n",
      "  warnings.warn(\n",
      "/ayb/vol2/home/dumerenkov/anaconda3/lib/python3.9/site-packages/Bio/PDB/Polypeptide.py:342: UserWarning: Assuming residue DDF is an unknown modified amino acid\n",
      "  warnings.warn(\n"
     ]
    },
    {
     "name": "stderr",
     "output_type": "stream",
     "text": [
      " 50%|██████████████████████████████████████████████████████████████████████████████▌                                                                               | 3255/6547 [07:44<03:33, 15.40it/s]/ayb/vol2/home/dumerenkov/anaconda3/lib/python3.9/site-packages/Bio/PDB/Polypeptide.py:342: UserWarning: Assuming residue DDF is an unknown modified amino acid\n",
      "  warnings.warn(\n",
      "/ayb/vol2/home/dumerenkov/anaconda3/lib/python3.9/site-packages/Bio/PDB/Polypeptide.py:342: UserWarning: Assuming residue DDF is an unknown modified amino acid\n",
      "  warnings.warn(\n",
      " 50%|██████████████████████████████████████████████████████████████████████████████▌                                                                               | 3257/6547 [07:44<04:04, 13.46it/s]/ayb/vol2/home/dumerenkov/anaconda3/lib/python3.9/site-packages/Bio/PDB/Polypeptide.py:342: UserWarning: Assuming residue DDF is an unknown modified amino acid\n",
      "  warnings.warn(\n",
      "/ayb/vol2/home/dumerenkov/anaconda3/lib/python3.9/site-packages/Bio/PDB/Polypeptide.py:342: UserWarning: Assuming residue DDF is an unknown modified amino acid\n",
      "  warnings.warn(\n",
      "/ayb/vol2/home/dumerenkov/anaconda3/lib/python3.9/site-packages/Bio/PDB/Polypeptide.py:342: UserWarning: Assuming residue DDF is an unknown modified amino acid\n",
      "  warnings.warn(\n",
      " 50%|██████████████████████████████████████████████████████████████████████████████▋                                                                               | 3260/6547 [07:44<03:35, 15.23it/s]/ayb/vol2/home/dumerenkov/anaconda3/lib/python3.9/site-packages/Bio/PDB/Polypeptide.py:342: UserWarning: Assuming residue DDF is an unknown modified amino acid\n",
      "  warnings.warn(\n",
      "/ayb/vol2/home/dumerenkov/anaconda3/lib/python3.9/site-packages/Bio/PDB/Polypeptide.py:342: UserWarning: Assuming residue DDF is an unknown modified amino acid\n",
      "  warnings.warn(\n",
      " 50%|██████████████████████████████████████████████████████████████████████████████▋                                                                               | 3262/6547 [07:45<04:06, 13.32it/s]/ayb/vol2/home/dumerenkov/anaconda3/lib/python3.9/site-packages/Bio/PDB/Polypeptide.py:342: UserWarning: Assuming residue DDF is an unknown modified amino acid\n",
      "  warnings.warn(\n",
      "/ayb/vol2/home/dumerenkov/anaconda3/lib/python3.9/site-packages/Bio/PDB/Polypeptide.py:342: UserWarning: Assuming residue DDF is an unknown modified amino acid\n",
      "  warnings.warn(\n",
      "/ayb/vol2/home/dumerenkov/anaconda3/lib/python3.9/site-packages/Bio/PDB/Polypeptide.py:342: UserWarning: Assuming residue DDF is an unknown modified amino acid\n",
      "  warnings.warn(\n",
      " 50%|██████████████████████████████████████████████████████████████████████████████▊                                                                               | 3265/6547 [07:45<03:31, 15.48it/s]/ayb/vol2/home/dumerenkov/anaconda3/lib/python3.9/site-packages/Bio/PDB/Polypeptide.py:342: UserWarning: Assuming residue DDF is an unknown modified amino acid\n",
      "  warnings.warn(\n",
      "/ayb/vol2/home/dumerenkov/anaconda3/lib/python3.9/site-packages/Bio/PDB/Polypeptide.py:342: UserWarning: Assuming residue DDF is an unknown modified amino acid\n",
      "  warnings.warn(\n",
      " 50%|██████████████████████████████████████████████████████████████████████████████▊                                                                               | 3267/6547 [07:45<04:05, 13.34it/s]/ayb/vol2/home/dumerenkov/anaconda3/lib/python3.9/site-packages/Bio/PDB/Polypeptide.py:342: UserWarning: Assuming residue DDF is an unknown modified amino acid\n",
      "  warnings.warn(\n",
      "/ayb/vol2/home/dumerenkov/anaconda3/lib/python3.9/site-packages/Bio/PDB/Polypeptide.py:342: UserWarning: Assuming residue DDF is an unknown modified amino acid\n",
      "  warnings.warn(\n",
      "/ayb/vol2/home/dumerenkov/anaconda3/lib/python3.9/site-packages/Bio/PDB/Polypeptide.py:342: UserWarning: Assuming residue DDF is an unknown modified amino acid\n",
      "  warnings.warn(\n",
      " 50%|██████████████████████████████████████████████████████████████████████████████▉                                                                               | 3270/6547 [07:45<03:35, 15.21it/s]/ayb/vol2/home/dumerenkov/anaconda3/lib/python3.9/site-packages/Bio/PDB/Polypeptide.py:342: UserWarning: Assuming residue DDF is an unknown modified amino acid\n",
      "  warnings.warn(\n",
      "/ayb/vol2/home/dumerenkov/anaconda3/lib/python3.9/site-packages/Bio/PDB/Polypeptide.py:342: UserWarning: Assuming residue DDF is an unknown modified amino acid\n",
      "  warnings.warn(\n",
      "/ayb/vol2/home/dumerenkov/anaconda3/lib/python3.9/site-packages/Bio/PDB/Polypeptide.py:342: UserWarning: Assuming residue DDF is an unknown modified amino acid\n",
      "  warnings.warn(\n",
      " 50%|██████████████████████████████████████████████████████████████████████████████▉                                                                               | 3273/6547 [07:45<03:55, 13.93it/s]/ayb/vol2/home/dumerenkov/anaconda3/lib/python3.9/site-packages/Bio/PDB/Polypeptide.py:342: UserWarning: Assuming residue DDF is an unknown modified amino acid\n",
      "  warnings.warn(\n",
      "/ayb/vol2/home/dumerenkov/anaconda3/lib/python3.9/site-packages/Bio/PDB/Polypeptide.py:342: UserWarning: Assuming residue DDF is an unknown modified amino acid\n",
      "  warnings.warn(\n",
      "/ayb/vol2/home/dumerenkov/anaconda3/lib/python3.9/site-packages/Bio/PDB/Polypeptide.py:342: UserWarning: Assuming residue DDF is an unknown modified amino acid\n",
      "  warnings.warn(\n",
      " 50%|███████████████████████████████████████████████████████████████████████████████                                                                               | 3276/6547 [07:46<03:30, 15.55it/s]/ayb/vol2/home/dumerenkov/anaconda3/lib/python3.9/site-packages/Bio/PDB/Polypeptide.py:342: UserWarning: Assuming residue DDF is an unknown modified amino acid\n",
      "  warnings.warn(\n",
      "/ayb/vol2/home/dumerenkov/anaconda3/lib/python3.9/site-packages/Bio/PDB/Polypeptide.py:342: UserWarning: Assuming residue DDF is an unknown modified amino acid\n",
      "  warnings.warn(\n",
      " 50%|███████████████████████████████████████████████████████████████████████████████                                                                               | 3278/6547 [07:46<04:03, 13.45it/s]/ayb/vol2/home/dumerenkov/anaconda3/lib/python3.9/site-packages/Bio/PDB/Polypeptide.py:342: UserWarning: Assuming residue DDF is an unknown modified amino acid\n",
      "  warnings.warn(\n",
      "/ayb/vol2/home/dumerenkov/anaconda3/lib/python3.9/site-packages/Bio/PDB/Polypeptide.py:342: UserWarning: Assuming residue DDF is an unknown modified amino acid\n",
      "  warnings.warn(\n",
      " 50%|███████████████████████████████████████████████████████████████████████████████▏                                                                              | 3280/6547 [07:46<03:45, 14.46it/s]/ayb/vol2/home/dumerenkov/anaconda3/lib/python3.9/site-packages/Bio/PDB/Polypeptide.py:342: UserWarning: Assuming residue DDF is an unknown modified amino acid\n",
      "  warnings.warn(\n",
      "/ayb/vol2/home/dumerenkov/anaconda3/lib/python3.9/site-packages/Bio/PDB/Polypeptide.py:342: UserWarning: Assuming residue DDF is an unknown modified amino acid\n",
      "  warnings.warn(\n",
      " 50%|███████████████████████████████████████████████████████████████████████████████▏                                                                              | 3282/6547 [07:46<03:31, 15.44it/s]/ayb/vol2/home/dumerenkov/anaconda3/lib/python3.9/site-packages/Bio/PDB/Polypeptide.py:342: UserWarning: Assuming residue DDF is an unknown modified amino acid\n",
      "  warnings.warn(\n",
      "/ayb/vol2/home/dumerenkov/anaconda3/lib/python3.9/site-packages/Bio/PDB/Polypeptide.py:342: UserWarning: Assuming residue DDF is an unknown modified amino acid\n",
      "  warnings.warn(\n",
      " 50%|███████████████████████████████████████████████████████████████████████████████▎                                                                              | 3284/6547 [07:46<04:07, 13.20it/s]/ayb/vol2/home/dumerenkov/anaconda3/lib/python3.9/site-packages/Bio/PDB/Polypeptide.py:342: UserWarning: Assuming residue DDF is an unknown modified amino acid\n",
      "  warnings.warn(\n",
      "/ayb/vol2/home/dumerenkov/anaconda3/lib/python3.9/site-packages/Bio/PDB/Polypeptide.py:342: UserWarning: Assuming residue DDF is an unknown modified amino acid\n",
      "  warnings.warn(\n",
      "/ayb/vol2/home/dumerenkov/anaconda3/lib/python3.9/site-packages/Bio/PDB/Polypeptide.py:342: UserWarning: Assuming residue DDF is an unknown modified amino acid\n",
      "  warnings.warn(\n"
     ]
    },
    {
     "name": "stderr",
     "output_type": "stream",
     "text": [
      " 50%|███████████████████████████████████████████████████████████████████████████████▎                                                                              | 3287/6547 [07:46<03:28, 15.63it/s]/ayb/vol2/home/dumerenkov/anaconda3/lib/python3.9/site-packages/Bio/PDB/Polypeptide.py:342: UserWarning: Assuming residue DDF is an unknown modified amino acid\n",
      "  warnings.warn(\n",
      "/ayb/vol2/home/dumerenkov/anaconda3/lib/python3.9/site-packages/Bio/PDB/Polypeptide.py:342: UserWarning: Assuming residue DDF is an unknown modified amino acid\n",
      "  warnings.warn(\n",
      " 50%|███████████████████████████████████████████████████████████████████████████████▎                                                                              | 3289/6547 [07:47<03:59, 13.62it/s]/ayb/vol2/home/dumerenkov/anaconda3/lib/python3.9/site-packages/Bio/PDB/Polypeptide.py:342: UserWarning: Assuming residue DDF is an unknown modified amino acid\n",
      "  warnings.warn(\n",
      "/ayb/vol2/home/dumerenkov/anaconda3/lib/python3.9/site-packages/Bio/PDB/Polypeptide.py:342: UserWarning: Assuming residue DDF is an unknown modified amino acid\n",
      "  warnings.warn(\n",
      "/ayb/vol2/home/dumerenkov/anaconda3/lib/python3.9/site-packages/Bio/PDB/Polypeptide.py:342: UserWarning: Assuming residue DDF is an unknown modified amino acid\n",
      "  warnings.warn(\n",
      " 50%|███████████████████████████████████████████████████████████████████████████████▍                                                                              | 3292/6547 [07:47<03:28, 15.64it/s]/ayb/vol2/home/dumerenkov/anaconda3/lib/python3.9/site-packages/Bio/PDB/Polypeptide.py:342: UserWarning: Assuming residue DDF is an unknown modified amino acid\n",
      "  warnings.warn(\n",
      "/ayb/vol2/home/dumerenkov/anaconda3/lib/python3.9/site-packages/Bio/PDB/Polypeptide.py:342: UserWarning: Assuming residue DDF is an unknown modified amino acid\n",
      "  warnings.warn(\n",
      " 50%|███████████████████████████████████████████████████████████████████████████████▍                                                                              | 3294/6547 [07:47<03:19, 16.30it/s]/ayb/vol2/home/dumerenkov/anaconda3/lib/python3.9/site-packages/Bio/PDB/Polypeptide.py:342: UserWarning: Assuming residue DDF is an unknown modified amino acid\n",
      "  warnings.warn(\n",
      "/ayb/vol2/home/dumerenkov/anaconda3/lib/python3.9/site-packages/Bio/PDB/Polypeptide.py:342: UserWarning: Assuming residue DDF is an unknown modified amino acid\n",
      "  warnings.warn(\n",
      " 50%|███████████████████████████████████████████████████████████████████████████████▌                                                                              | 3296/6547 [07:47<03:54, 13.88it/s]/ayb/vol2/home/dumerenkov/anaconda3/lib/python3.9/site-packages/Bio/PDB/Polypeptide.py:342: UserWarning: Assuming residue DDF is an unknown modified amino acid\n",
      "  warnings.warn(\n",
      "/ayb/vol2/home/dumerenkov/anaconda3/lib/python3.9/site-packages/Bio/PDB/Polypeptide.py:342: UserWarning: Assuming residue DDF is an unknown modified amino acid\n",
      "  warnings.warn(\n",
      " 61%|███████████████████████████████████████████████████████████████████████████████████████████████▊                                                              | 3970/6547 [08:29<02:29, 17.29it/s]/ayb/vol2/home/dumerenkov/anaconda3/lib/python3.9/site-packages/Bio/PDB/Polypeptide.py:342: UserWarning: Assuming residue  CA is an unknown modified amino acid\n",
      "  warnings.warn(\n",
      "/ayb/vol2/home/dumerenkov/anaconda3/lib/python3.9/site-packages/Bio/PDB/Polypeptide.py:342: UserWarning: Assuming residue  CA is an unknown modified amino acid\n",
      "  warnings.warn(\n",
      " 61%|███████████████████████████████████████████████████████████████████████████████████████████████▊                                                              | 3972/6547 [08:29<02:57, 14.51it/s]/ayb/vol2/home/dumerenkov/anaconda3/lib/python3.9/site-packages/Bio/PDB/Polypeptide.py:342: UserWarning: Assuming residue  CA is an unknown modified amino acid\n",
      "  warnings.warn(\n",
      "/ayb/vol2/home/dumerenkov/anaconda3/lib/python3.9/site-packages/Bio/PDB/Polypeptide.py:342: UserWarning: Assuming residue  CA is an unknown modified amino acid\n",
      "  warnings.warn(\n",
      " 61%|███████████████████████████████████████████████████████████████████████████████████████████████▉                                                              | 3974/6547 [08:29<02:57, 14.52it/s]/ayb/vol2/home/dumerenkov/anaconda3/lib/python3.9/site-packages/Bio/PDB/Polypeptide.py:342: UserWarning: Assuming residue  CA is an unknown modified amino acid\n",
      "  warnings.warn(\n",
      "/ayb/vol2/home/dumerenkov/anaconda3/lib/python3.9/site-packages/Bio/PDB/Polypeptide.py:342: UserWarning: Assuming residue  CA is an unknown modified amino acid\n",
      "  warnings.warn(\n",
      " 73%|███████████████████████████████████████████████████████████████████████████████████████████████████████████████████▊                                          | 4801/6547 [11:12<01:43, 16.90it/s]/ayb/vol2/home/dumerenkov/anaconda3/lib/python3.9/site-packages/Bio/PDB/Polypeptide.py:342: UserWarning: Assuming residue  CA is an unknown modified amino acid\n",
      "  warnings.warn(\n",
      " 73%|███████████████████████████████████████████████████████████████████████████████████████████████████████████████████▉                                          | 4804/6547 [11:12<02:05, 13.88it/s]/ayb/vol2/home/dumerenkov/anaconda3/lib/python3.9/site-packages/Bio/PDB/Polypeptide.py:342: UserWarning: Assuming residue  CA is an unknown modified amino acid\n",
      "  warnings.warn(\n",
      "/ayb/vol2/home/dumerenkov/anaconda3/lib/python3.9/site-packages/Bio/PDB/Polypeptide.py:342: UserWarning: Assuming residue  CA is an unknown modified amino acid\n",
      "  warnings.warn(\n",
      " 73%|███████████████████████████████████████████████████████████████████████████████████████████████████████████████████▉                                          | 4806/6547 [11:13<03:12,  9.06it/s]/ayb/vol2/home/dumerenkov/anaconda3/lib/python3.9/site-packages/Bio/PDB/Polypeptide.py:342: UserWarning: Assuming residue  CA is an unknown modified amino acid\n",
      "  warnings.warn(\n",
      "/ayb/vol2/home/dumerenkov/anaconda3/lib/python3.9/site-packages/Bio/PDB/Polypeptide.py:342: UserWarning: Assuming residue  CA is an unknown modified amino acid\n",
      "  warnings.warn(\n",
      " 74%|█████████████████████████████████████████████████████████████████████████████████████████████████████████████████████▏                                        | 4857/6547 [11:15<01:10, 23.92it/s]/ayb/vol2/home/dumerenkov/anaconda3/lib/python3.9/site-packages/Bio/PDB/Polypeptide.py:342: UserWarning: Assuming residue PLM is an unknown modified amino acid\n",
      "  warnings.warn(\n",
      "/ayb/vol2/home/dumerenkov/anaconda3/lib/python3.9/site-packages/Bio/PDB/Polypeptide.py:342: UserWarning: Assuming residue PLM is an unknown modified amino acid\n",
      "  warnings.warn(\n",
      " 74%|█████████████████████████████████████████████████████████████████████████████████████████████████████████████████████▎                                        | 4860/6547 [11:15<01:09, 24.21it/s]/ayb/vol2/home/dumerenkov/anaconda3/lib/python3.9/site-packages/Bio/PDB/Polypeptide.py:342: UserWarning: Assuming residue PLM is an unknown modified amino acid\n",
      "  warnings.warn(\n",
      "/ayb/vol2/home/dumerenkov/anaconda3/lib/python3.9/site-packages/Bio/PDB/Polypeptide.py:342: UserWarning: Assuming residue PLM is an unknown modified amino acid\n",
      "  warnings.warn(\n",
      "/ayb/vol2/home/dumerenkov/anaconda3/lib/python3.9/site-packages/Bio/PDB/Polypeptide.py:342: UserWarning: Assuming residue PLM is an unknown modified amino acid\n",
      "  warnings.warn(\n",
      " 74%|█████████████████████████████████████████████████████████████████████████████████████████████████████████████████████▎                                        | 4863/6547 [11:15<01:11, 23.65it/s]/ayb/vol2/home/dumerenkov/anaconda3/lib/python3.9/site-packages/Bio/PDB/Polypeptide.py:342: UserWarning: Assuming residue PLM is an unknown modified amino acid\n",
      "  warnings.warn(\n",
      "/ayb/vol2/home/dumerenkov/anaconda3/lib/python3.9/site-packages/Bio/PDB/Polypeptide.py:342: UserWarning: Assuming residue PLM is an unknown modified amino acid\n",
      "  warnings.warn(\n",
      "/ayb/vol2/home/dumerenkov/anaconda3/lib/python3.9/site-packages/Bio/PDB/Polypeptide.py:342: UserWarning: Assuming residue PLM is an unknown modified amino acid\n",
      "  warnings.warn(\n"
     ]
    },
    {
     "name": "stderr",
     "output_type": "stream",
     "text": [
      " 74%|█████████████████████████████████████████████████████████████████████████████████████████████████████████████████████▍                                        | 4866/6547 [11:16<01:25, 19.56it/s]/ayb/vol2/home/dumerenkov/anaconda3/lib/python3.9/site-packages/Bio/PDB/Polypeptide.py:342: UserWarning: Assuming residue PLM is an unknown modified amino acid\n",
      "  warnings.warn(\n",
      " 74%|█████████████████████████████████████████████████████████████████████████████████████████████████████████████████████▌                                        | 4869/6547 [11:16<01:19, 21.02it/s]/ayb/vol2/home/dumerenkov/anaconda3/lib/python3.9/site-packages/Bio/PDB/Polypeptide.py:342: UserWarning: Assuming residue PLM is an unknown modified amino acid\n",
      "  warnings.warn(\n",
      " 74%|█████████████████████████████████████████████████████████████████████████████████████████████████████████████████████▌                                        | 4872/6547 [11:16<01:30, 18.50it/s]/ayb/vol2/home/dumerenkov/anaconda3/lib/python3.9/site-packages/Bio/PDB/Polypeptide.py:342: UserWarning: Assuming residue PLM is an unknown modified amino acid\n",
      "  warnings.warn(\n",
      "/ayb/vol2/home/dumerenkov/anaconda3/lib/python3.9/site-packages/Bio/PDB/Polypeptide.py:342: UserWarning: Assuming residue PLM is an unknown modified amino acid\n",
      "  warnings.warn(\n",
      "/ayb/vol2/home/dumerenkov/anaconda3/lib/python3.9/site-packages/Bio/PDB/Polypeptide.py:342: UserWarning: Assuming residue PLM is an unknown modified amino acid\n",
      "  warnings.warn(\n",
      " 74%|█████████████████████████████████████████████████████████████████████████████████████████████████████████████████████▋                                        | 4875/6547 [11:16<01:22, 20.39it/s]/ayb/vol2/home/dumerenkov/anaconda3/lib/python3.9/site-packages/Bio/PDB/Polypeptide.py:342: UserWarning: Assuming residue PLM is an unknown modified amino acid\n",
      "  warnings.warn(\n",
      "/ayb/vol2/home/dumerenkov/anaconda3/lib/python3.9/site-packages/Bio/PDB/Polypeptide.py:342: UserWarning: Assuming residue PLM is an unknown modified amino acid\n",
      "  warnings.warn(\n",
      "/ayb/vol2/home/dumerenkov/anaconda3/lib/python3.9/site-packages/Bio/PDB/Polypeptide.py:342: UserWarning: Assuming residue PLM is an unknown modified amino acid\n",
      "  warnings.warn(\n",
      " 75%|█████████████████████████████████████████████████████████████████████████████████████████████████████████████████████▋                                        | 4878/6547 [11:16<01:33, 17.87it/s]/ayb/vol2/home/dumerenkov/anaconda3/lib/python3.9/site-packages/Bio/PDB/Polypeptide.py:342: UserWarning: Assuming residue PLM is an unknown modified amino acid\n",
      "  warnings.warn(\n",
      "/ayb/vol2/home/dumerenkov/anaconda3/lib/python3.9/site-packages/Bio/PDB/Polypeptide.py:342: UserWarning: Assuming residue PLM is an unknown modified amino acid\n",
      "  warnings.warn(\n",
      "/ayb/vol2/home/dumerenkov/anaconda3/lib/python3.9/site-packages/Bio/PDB/Polypeptide.py:342: UserWarning: Assuming residue PLM is an unknown modified amino acid\n",
      "  warnings.warn(\n",
      " 81%|███████████████████████████████████████████████████████████████████████████████████████████████████████████████████████████████▌                              | 5285/6547 [11:45<01:35, 13.26it/s]/ayb/vol2/home/dumerenkov/anaconda3/lib/python3.9/site-packages/Bio/PDB/Polypeptide.py:342: UserWarning: Assuming residue  CA is an unknown modified amino acid\n",
      "  warnings.warn(\n",
      "/ayb/vol2/home/dumerenkov/anaconda3/lib/python3.9/site-packages/Bio/PDB/Polypeptide.py:342: UserWarning: Assuming residue  CA is an unknown modified amino acid\n",
      "  warnings.warn(\n",
      " 90%|██████████████████████████████████████████████████████████████████████████████████████████████████████████████████████████████████████████████▏               | 5892/6547 [12:33<00:41, 15.75it/s]/ayb/vol2/home/dumerenkov/anaconda3/lib/python3.9/site-packages/Bio/PDB/Polypeptide.py:342: UserWarning: Assuming residue  CA is an unknown modified amino acid\n",
      "  warnings.warn(\n",
      " 93%|██████████████████████████████████████████████████████████████████████████████████████████████████████████████████████████████████████████████████▍           | 6069/6547 [12:54<00:44, 10.86it/s]/ayb/vol2/home/dumerenkov/anaconda3/lib/python3.9/site-packages/Bio/PDB/Polypeptide.py:342: UserWarning: Assuming residue  CA is an unknown modified amino acid\n",
      "  warnings.warn(\n",
      "/ayb/vol2/home/dumerenkov/anaconda3/lib/python3.9/site-packages/Bio/PDB/Polypeptide.py:342: UserWarning: Assuming residue  CA is an unknown modified amino acid\n",
      "  warnings.warn(\n",
      " 93%|██████████████████████████████████████████████████████████████████████████████████████████████████████████████████████████████████████████████████▌           | 6071/6547 [12:54<00:38, 12.29it/s]/ayb/vol2/home/dumerenkov/anaconda3/lib/python3.9/site-packages/Bio/PDB/Polypeptide.py:342: UserWarning: Assuming residue  CA is an unknown modified amino acid\n",
      "  warnings.warn(\n",
      "/ayb/vol2/home/dumerenkov/anaconda3/lib/python3.9/site-packages/Bio/PDB/Polypeptide.py:342: UserWarning: Assuming residue  CA is an unknown modified amino acid\n",
      "  warnings.warn(\n",
      " 93%|██████████████████████████████████████████████████████████████████████████████████████████████████████████████████████████████████████████████████▌           | 6073/6547 [12:54<00:42, 11.26it/s]/ayb/vol2/home/dumerenkov/anaconda3/lib/python3.9/site-packages/Bio/PDB/Polypeptide.py:342: UserWarning: Assuming residue  CA is an unknown modified amino acid\n",
      "  warnings.warn(\n",
      "/ayb/vol2/home/dumerenkov/anaconda3/lib/python3.9/site-packages/Bio/PDB/Polypeptide.py:342: UserWarning: Assuming residue  CA is an unknown modified amino acid\n",
      "  warnings.warn(\n",
      " 93%|██████████████████████████████████████████████████████████████████████████████████████████████████████████████████████████████████████████████████▌           | 6075/6547 [12:55<00:37, 12.69it/s]/ayb/vol2/home/dumerenkov/anaconda3/lib/python3.9/site-packages/Bio/PDB/Polypeptide.py:342: UserWarning: Assuming residue  CA is an unknown modified amino acid\n",
      "  warnings.warn(\n",
      "/ayb/vol2/home/dumerenkov/anaconda3/lib/python3.9/site-packages/Bio/PDB/Polypeptide.py:342: UserWarning: Assuming residue  CA is an unknown modified amino acid\n",
      "  warnings.warn(\n",
      " 93%|██████████████████████████████████████████████████████████████████████████████████████████████████████████████████████████████████████████████████▋           | 6077/6547 [12:55<00:40, 11.49it/s]/ayb/vol2/home/dumerenkov/anaconda3/lib/python3.9/site-packages/Bio/PDB/Polypeptide.py:342: UserWarning: Assuming residue  CA is an unknown modified amino acid\n",
      "  warnings.warn(\n",
      "/ayb/vol2/home/dumerenkov/anaconda3/lib/python3.9/site-packages/Bio/PDB/Polypeptide.py:342: UserWarning: Assuming residue  CA is an unknown modified amino acid\n",
      "  warnings.warn(\n",
      " 93%|██████████████████████████████████████████████████████████████████████████████████████████████████████████████████████████████████████████████████▋           | 6079/6547 [12:55<00:36, 12.68it/s]/ayb/vol2/home/dumerenkov/anaconda3/lib/python3.9/site-packages/Bio/PDB/Polypeptide.py:342: UserWarning: Assuming residue  CA is an unknown modified amino acid\n",
      "  warnings.warn(\n",
      "/ayb/vol2/home/dumerenkov/anaconda3/lib/python3.9/site-packages/Bio/PDB/Polypeptide.py:342: UserWarning: Assuming residue  CA is an unknown modified amino acid\n",
      "  warnings.warn(\n",
      " 93%|██████████████████████████████████████████████████████████████████████████████████████████████████████████████████████████████████████████████████▊           | 6081/6547 [12:55<00:40, 11.46it/s]/ayb/vol2/home/dumerenkov/anaconda3/lib/python3.9/site-packages/Bio/PDB/Polypeptide.py:342: UserWarning: Assuming residue  CA is an unknown modified amino acid\n",
      "  warnings.warn(\n",
      "/ayb/vol2/home/dumerenkov/anaconda3/lib/python3.9/site-packages/Bio/PDB/Polypeptide.py:342: UserWarning: Assuming residue  CA is an unknown modified amino acid\n",
      "  warnings.warn(\n",
      " 93%|██████████████████████████████████████████████████████████████████████████████████████████████████████████████████████████████████████████████████▊           | 6083/6547 [12:55<00:36, 12.61it/s]/ayb/vol2/home/dumerenkov/anaconda3/lib/python3.9/site-packages/Bio/PDB/Polypeptide.py:342: UserWarning: Assuming residue  CA is an unknown modified amino acid\n",
      "  warnings.warn(\n",
      "/ayb/vol2/home/dumerenkov/anaconda3/lib/python3.9/site-packages/Bio/PDB/Polypeptide.py:342: UserWarning: Assuming residue  CA is an unknown modified amino acid\n",
      "  warnings.warn(\n"
     ]
    },
    {
     "name": "stderr",
     "output_type": "stream",
     "text": [
      " 93%|██████████████████████████████████████████████████████████████████████████████████████████████████████████████████████████████████████████████████▊           | 6085/6547 [12:55<00:40, 11.47it/s]/ayb/vol2/home/dumerenkov/anaconda3/lib/python3.9/site-packages/Bio/PDB/Polypeptide.py:342: UserWarning: Assuming residue  CA is an unknown modified amino acid\n",
      "  warnings.warn(\n",
      "/ayb/vol2/home/dumerenkov/anaconda3/lib/python3.9/site-packages/Bio/PDB/Polypeptide.py:342: UserWarning: Assuming residue  CA is an unknown modified amino acid\n",
      "  warnings.warn(\n",
      "/ayb/vol2/home/dumerenkov/anaconda3/lib/python3.9/site-packages/Bio/PDB/Polypeptide.py:342: UserWarning: Assuming residue  CA is an unknown modified amino acid\n",
      "  warnings.warn(\n",
      " 93%|██████████████████████████████████████████████████████████████████████████████████████████████████████████████████████████████████████████████████▉           | 6088/6547 [12:56<00:39, 11.73it/s]/ayb/vol2/home/dumerenkov/anaconda3/lib/python3.9/site-packages/Bio/PDB/Polypeptide.py:342: UserWarning: Assuming residue  CA is an unknown modified amino acid\n",
      "  warnings.warn(\n",
      "/ayb/vol2/home/dumerenkov/anaconda3/lib/python3.9/site-packages/Bio/PDB/Polypeptide.py:342: UserWarning: Assuming residue  CA is an unknown modified amino acid\n",
      "  warnings.warn(\n",
      " 93%|██████████████████████████████████████████████████████████████████████████████████████████████████████████████████████████████████████████████████▉           | 6090/6547 [12:56<00:35, 12.92it/s]/ayb/vol2/home/dumerenkov/anaconda3/lib/python3.9/site-packages/Bio/PDB/Polypeptide.py:342: UserWarning: Assuming residue  CA is an unknown modified amino acid\n",
      "  warnings.warn(\n",
      "/ayb/vol2/home/dumerenkov/anaconda3/lib/python3.9/site-packages/Bio/PDB/Polypeptide.py:342: UserWarning: Assuming residue  CA is an unknown modified amino acid\n",
      "  warnings.warn(\n",
      " 93%|███████████████████████████████████████████████████████████████████████████████████████████████████████████████████████████████████████████████████           | 6092/6547 [12:56<00:38, 11.82it/s]/ayb/vol2/home/dumerenkov/anaconda3/lib/python3.9/site-packages/Bio/PDB/Polypeptide.py:342: UserWarning: Assuming residue  CA is an unknown modified amino acid\n",
      "  warnings.warn(\n",
      "/ayb/vol2/home/dumerenkov/anaconda3/lib/python3.9/site-packages/Bio/PDB/Polypeptide.py:342: UserWarning: Assuming residue  CA is an unknown modified amino acid\n",
      "  warnings.warn(\n",
      " 93%|███████████████████████████████████████████████████████████████████████████████████████████████████████████████████████████████████████████████████           | 6094/6547 [12:56<00:35, 12.87it/s]/ayb/vol2/home/dumerenkov/anaconda3/lib/python3.9/site-packages/Bio/PDB/Polypeptide.py:342: UserWarning: Assuming residue  CA is an unknown modified amino acid\n",
      "  warnings.warn(\n",
      "/ayb/vol2/home/dumerenkov/anaconda3/lib/python3.9/site-packages/Bio/PDB/Polypeptide.py:342: UserWarning: Assuming residue  CA is an unknown modified amino acid\n",
      "  warnings.warn(\n",
      " 93%|███████████████████████████████████████████████████████████████████████████████████████████████████████████████████████████████████████████████████           | 6096/6547 [12:56<00:38, 11.61it/s]/ayb/vol2/home/dumerenkov/anaconda3/lib/python3.9/site-packages/Bio/PDB/Polypeptide.py:342: UserWarning: Assuming residue  CA is an unknown modified amino acid\n",
      "  warnings.warn(\n",
      "/ayb/vol2/home/dumerenkov/anaconda3/lib/python3.9/site-packages/Bio/PDB/Polypeptide.py:342: UserWarning: Assuming residue  CA is an unknown modified amino acid\n",
      "  warnings.warn(\n",
      " 93%|███████████████████████████████████████████████████████████████████████████████████████████████████████████████████████████████████████████████████▏          | 6098/6547 [12:56<00:35, 12.57it/s]/ayb/vol2/home/dumerenkov/anaconda3/lib/python3.9/site-packages/Bio/PDB/Polypeptide.py:342: UserWarning: Assuming residue  CA is an unknown modified amino acid\n",
      "  warnings.warn(\n",
      "/ayb/vol2/home/dumerenkov/anaconda3/lib/python3.9/site-packages/Bio/PDB/Polypeptide.py:342: UserWarning: Assuming residue  CA is an unknown modified amino acid\n",
      "  warnings.warn(\n",
      " 93%|███████████████████████████████████████████████████████████████████████████████████████████████████████████████████████████████████████████████████▏          | 6100/6547 [12:57<00:39, 11.46it/s]/ayb/vol2/home/dumerenkov/anaconda3/lib/python3.9/site-packages/Bio/PDB/Polypeptide.py:342: UserWarning: Assuming residue  CA is an unknown modified amino acid\n",
      "  warnings.warn(\n",
      "/ayb/vol2/home/dumerenkov/anaconda3/lib/python3.9/site-packages/Bio/PDB/Polypeptide.py:342: UserWarning: Assuming residue  CA is an unknown modified amino acid\n",
      "  warnings.warn(\n",
      " 93%|███████████████████████████████████████████████████████████████████████████████████████████████████████████████████████████████████████████████████▎          | 6102/6547 [12:57<00:35, 12.57it/s]/ayb/vol2/home/dumerenkov/anaconda3/lib/python3.9/site-packages/Bio/PDB/Polypeptide.py:342: UserWarning: Assuming residue  CA is an unknown modified amino acid\n",
      "  warnings.warn(\n",
      "/ayb/vol2/home/dumerenkov/anaconda3/lib/python3.9/site-packages/Bio/PDB/Polypeptide.py:342: UserWarning: Assuming residue  CA is an unknown modified amino acid\n",
      "  warnings.warn(\n",
      " 93%|███████████████████████████████████████████████████████████████████████████████████████████████████████████████████████████████████████████████████▎          | 6104/6547 [12:57<00:37, 11.73it/s]/ayb/vol2/home/dumerenkov/anaconda3/lib/python3.9/site-packages/Bio/PDB/Polypeptide.py:342: UserWarning: Assuming residue  CA is an unknown modified amino acid\n",
      "  warnings.warn(\n",
      "/ayb/vol2/home/dumerenkov/anaconda3/lib/python3.9/site-packages/Bio/PDB/Polypeptide.py:342: UserWarning: Assuming residue  CA is an unknown modified amino acid\n",
      "  warnings.warn(\n",
      " 93%|███████████████████████████████████████████████████████████████████████████████████████████████████████████████████████████████████████████████████▎          | 6106/6547 [12:57<00:39, 11.15it/s]/ayb/vol2/home/dumerenkov/anaconda3/lib/python3.9/site-packages/Bio/PDB/Polypeptide.py:342: UserWarning: Assuming residue  CA is an unknown modified amino acid\n",
      "  warnings.warn(\n",
      "/ayb/vol2/home/dumerenkov/anaconda3/lib/python3.9/site-packages/Bio/PDB/Polypeptide.py:342: UserWarning: Assuming residue  CA is an unknown modified amino acid\n",
      "  warnings.warn(\n",
      " 93%|███████████████████████████████████████████████████████████████████████████████████████████████████████████████████████████████████████████████████▍          | 6108/6547 [12:57<00:35, 12.38it/s]/ayb/vol2/home/dumerenkov/anaconda3/lib/python3.9/site-packages/Bio/PDB/Polypeptide.py:342: UserWarning: Assuming residue  CA is an unknown modified amino acid\n",
      "  warnings.warn(\n",
      "/ayb/vol2/home/dumerenkov/anaconda3/lib/python3.9/site-packages/Bio/PDB/Polypeptide.py:342: UserWarning: Assuming residue  CA is an unknown modified amino acid\n",
      "  warnings.warn(\n",
      " 93%|███████████████████████████████████████████████████████████████████████████████████████████████████████████████████████████████████████████████████▍          | 6110/6547 [12:58<00:38, 11.37it/s]/ayb/vol2/home/dumerenkov/anaconda3/lib/python3.9/site-packages/Bio/PDB/Polypeptide.py:342: UserWarning: Assuming residue  CA is an unknown modified amino acid\n",
      "  warnings.warn(\n",
      "/ayb/vol2/home/dumerenkov/anaconda3/lib/python3.9/site-packages/Bio/PDB/Polypeptide.py:342: UserWarning: Assuming residue  CA is an unknown modified amino acid\n",
      "  warnings.warn(\n",
      " 93%|███████████████████████████████████████████████████████████████████████████████████████████████████████████████████████████████████████████████████▌          | 6112/6547 [12:58<00:34, 12.53it/s]/ayb/vol2/home/dumerenkov/anaconda3/lib/python3.9/site-packages/Bio/PDB/Polypeptide.py:342: UserWarning: Assuming residue  CA is an unknown modified amino acid\n",
      "  warnings.warn(\n",
      "/ayb/vol2/home/dumerenkov/anaconda3/lib/python3.9/site-packages/Bio/PDB/Polypeptide.py:342: UserWarning: Assuming residue  CA is an unknown modified amino acid\n",
      "  warnings.warn(\n",
      " 93%|███████████████████████████████████████████████████████████████████████████████████████████████████████████████████████████████████████████████████▌          | 6114/6547 [12:58<00:37, 11.44it/s]/ayb/vol2/home/dumerenkov/anaconda3/lib/python3.9/site-packages/Bio/PDB/Polypeptide.py:342: UserWarning: Assuming residue  CA is an unknown modified amino acid\n",
      "  warnings.warn(\n",
      "/ayb/vol2/home/dumerenkov/anaconda3/lib/python3.9/site-packages/Bio/PDB/Polypeptide.py:342: UserWarning: Assuming residue  CA is an unknown modified amino acid\n",
      "  warnings.warn(\n"
     ]
    },
    {
     "name": "stderr",
     "output_type": "stream",
     "text": [
      " 93%|███████████████████████████████████████████████████████████████████████████████████████████████████████████████████████████████████████████████████▌          | 6116/6547 [12:58<00:34, 12.58it/s]/ayb/vol2/home/dumerenkov/anaconda3/lib/python3.9/site-packages/Bio/PDB/Polypeptide.py:342: UserWarning: Assuming residue  CA is an unknown modified amino acid\n",
      "  warnings.warn(\n",
      "/ayb/vol2/home/dumerenkov/anaconda3/lib/python3.9/site-packages/Bio/PDB/Polypeptide.py:342: UserWarning: Assuming residue  CA is an unknown modified amino acid\n",
      "  warnings.warn(\n",
      " 95%|██████████████████████████████████████████████████████████████████████████████████████████████████████████████████████████████████████████████████████▌       | 6238/6547 [14:07<00:37,  8.34it/s]/ayb/vol2/home/dumerenkov/anaconda3/lib/python3.9/site-packages/Bio/PDB/Polypeptide.py:342: UserWarning: Assuming residue  CA is an unknown modified amino acid\n",
      "  warnings.warn(\n",
      "/ayb/vol2/home/dumerenkov/anaconda3/lib/python3.9/site-packages/Bio/PDB/Polypeptide.py:342: UserWarning: Assuming residue  CA is an unknown modified amino acid\n",
      "  warnings.warn(\n",
      " 95%|██████████████████████████████████████████████████████████████████████████████████████████████████████████████████████████████████████████████████████▌       | 6240/6547 [14:07<00:33,  9.05it/s]/ayb/vol2/home/dumerenkov/anaconda3/lib/python3.9/site-packages/Bio/PDB/Polypeptide.py:342: UserWarning: Assuming residue  CA is an unknown modified amino acid\n",
      "  warnings.warn(\n",
      "/ayb/vol2/home/dumerenkov/anaconda3/lib/python3.9/site-packages/Bio/PDB/Polypeptide.py:342: UserWarning: Assuming residue  CA is an unknown modified amino acid\n",
      "  warnings.warn(\n",
      " 98%|██████████████████████████████████████████████████████████████████████████████████████████████████████████████████████████████████████████████████████████▉   | 6422/6547 [15:42<01:26,  1.45it/s]/ayb/vol2/home/dumerenkov/anaconda3/lib/python3.9/site-packages/Bio/PDB/Polypeptide.py:342: UserWarning: Assuming residue  CA is an unknown modified amino acid\n",
      "  warnings.warn(\n",
      " 98%|███████████████████████████████████████████████████████████████████████████████████████████████████████████████████████████████████████████████████████████   | 6423/6547 [15:43<01:04,  1.91it/s]/ayb/vol2/home/dumerenkov/anaconda3/lib/python3.9/site-packages/Bio/PDB/Polypeptide.py:342: UserWarning: Assuming residue  CA is an unknown modified amino acid\n",
      "  warnings.warn(\n",
      "100%|██████████████████████████████████████████████████████████████████████████████████████████████████████████████████████████████████████████████████████████████| 6547/6547 [16:31<00:00,  6.60it/s]\n"
     ]
    }
   ],
   "source": [
    "wt = []\n",
    "mut = []\n",
    "ddg = []\n",
    "pdb_ids = []\n",
    "mut_infos = []\n",
    "poss = []\n",
    "ssym_splits = []\n",
    "s669_splits = []\n",
    "clusters = []\n",
    "\n",
    "print('Processing article dataset')\n",
    "\n",
    "for idx in tqdm(range(len(df_article_dataset))):\n",
    "    pdb_id = df_article_dataset.iloc[idx]['pdb_id'].upper() + df_article_dataset.iloc[idx]['pdb_chain'].upper()\n",
    "    wild_aa = df_article_dataset.iloc[idx]['Mut_code'][0]\n",
    "    pos = df_article_dataset.iloc[idx]['Mut_code'][1:-1]\n",
    "    mutant_aa = df_article_dataset.iloc[idx]['Mut_code'][-1]\n",
    "    exp_ddg = df_article_dataset.iloc[idx]['mean_ddG']\n",
    "    \n",
    "    ssym_split = df_article_dataset.iloc[idx]['ssym_split']\n",
    "    s669_split = df_article_dataset.iloc[idx]['s669_split']\n",
    "    cluster = df_article_dataset.iloc[idx]['cluster_id'] \n",
    "    \n",
    "        \n",
    "    \n",
    "    pdb = PDBParser().get_structure(pdb_id[:4], f'PDB/{pdb_id[:4]}.pdb')\n",
    "    chain = next(pdb.get_chains()).get_id()\n",
    "        \n",
    "    _, _, sequence, pdb2seq_pos, seq2pdb_pos = pdb2info(f'PDB/{pdb_id[:4]}.pdb', pdb_id[-1])\n",
    "    \n",
    "    \n",
    "    if pos not in seq2pdb_pos:\n",
    "        print(f'Indexing error for {pdb_id} position {pos} not present in mapping {seq2pdb_pos}')\n",
    "        \n",
    "    else:\n",
    "        if sequence[int(seq2pdb_pos[pos])-1]!=wild_aa:\n",
    "            print(f'Error for {pdb_id} expected {wild_aa} at position {pos} ')\n",
    "            print(f'Sequence is {sequence}')\n",
    "            print(f'Mapping is {seq2pdb_pos}')\n",
    "        \n",
    "        else:\n",
    "            wt.append(sequence)\n",
    "            tt = list(sequence)\n",
    "            tt[int(seq2pdb_pos[pos])-1] = mutant_aa\n",
    "            poss.append(int(seq2pdb_pos[pos])-1)\n",
    "            mut.append(''.join(tt))\n",
    "            ddg.append(exp_ddg)\n",
    "            pdb_ids.append(pdb_id)\n",
    "            mut_infos.append(str(wild_aa) + pos + str(mutant_aa))\n",
    "            ssym_splits.append(ssym_split)\n",
    "            s669_splits.append(s669_split)\n",
    "            clusters.append(cluster)"
   ]
  },
  {
   "cell_type": "code",
   "execution_count": null,
   "id": "e9b8d540",
   "metadata": {},
   "outputs": [],
   "source": []
  },
  {
   "cell_type": "code",
   "execution_count": 57,
   "id": "e63c5760",
   "metadata": {},
   "outputs": [],
   "source": [
    "article_dataset = pd.DataFrame({'wt_seq': wt, \n",
    "              'mut_seq': mut ,\n",
    "              'ddg': [t for t in ddg], \n",
    "              'pdb_id': pdb_ids, \n",
    "              'mut_info': mut_infos,\n",
    "              'pos': poss,\n",
    "              'ssym_split': ssym_splits,\n",
    "              's669_split': s669_splits,\n",
    "              'cluster': clusters})"
   ]
  },
  {
   "cell_type": "code",
   "execution_count": 58,
   "id": "99283846",
   "metadata": {},
   "outputs": [],
   "source": [
    "article_dataset_rev = pd.DataFrame({'wt_seq': mut, \n",
    "              'mut_seq': wt ,\n",
    "              'ddg': [-t for t in ddg], \n",
    "              'pdb_id': pdb_ids, \n",
    "              'mut_info': [t[-1] + t[1:-1] + t[0] for t in mut_infos],\n",
    "              'pos': poss,\n",
    "              'ssym_split': ssym_splits,\n",
    "              's669_split': s669_splits,\n",
    "              'cluster': clusters})"
   ]
  },
  {
   "cell_type": "code",
   "execution_count": 59,
   "id": "47fca711",
   "metadata": {},
   "outputs": [
    {
     "name": "stdout",
     "output_type": "stream",
     "text": [
      "10542\n"
     ]
    }
   ],
   "source": [
    "article_dataset_with_rev = pd.concat([article_dataset, article_dataset_rev]).drop_duplicates(['wt_seq', 'mut_seq'])\n",
    "print(len(article_dataset_with_rev))\n",
    "#10542"
   ]
  },
  {
   "cell_type": "code",
   "execution_count": null,
   "id": "49f6750e",
   "metadata": {},
   "outputs": [],
   "source": []
  },
  {
   "cell_type": "code",
   "execution_count": 60,
   "id": "1ad7ad7b",
   "metadata": {},
   "outputs": [],
   "source": [
    "article_dataset_with_rev[article_dataset_with_rev.ssym_split == 'train'][['wt_seq', 'mut_seq', 'ddg', 'pdb_id', 'mut_info', 'pos']].to_csv('DATASETS/new_ds_for_ssym.csv')\n",
    "article_dataset_with_rev[article_dataset_with_rev.s669_split == 'train'][['wt_seq', 'mut_seq', 'ddg', 'pdb_id', 'mut_info', 'pos']].to_csv('DATASETS/new_ds_for_s669.csv')\n",
    "article_dataset_with_rev[(article_dataset_with_rev.ssym_split == 'train') & ~(article_dataset_with_rev.pdb_id.str.startswith('1ARR') | article_dataset_with_rev.pdb_id.str.startswith('1N0J'))][['wt_seq', 'mut_seq', 'ddg', 'pdb_id', 'mut_info', 'pos']].to_csv('DATASETS/new_ds_for_ssym_plus.csv')"
   ]
  },
  {
   "cell_type": "code",
   "execution_count": null,
   "id": "a2c10bf3",
   "metadata": {},
   "outputs": [],
   "source": []
  },
  {
   "cell_type": "code",
   "execution_count": 61,
   "id": "4ac58052",
   "metadata": {
    "scrolled": true
   },
   "outputs": [],
   "source": [
    "from sklearn.model_selection import GroupKFold\n",
    "group_kfold = GroupKFold(n_splits=5)\n",
    "article_dataset_with_rev = article_dataset_with_rev.reset_index(drop = True)\n",
    "article_dataset_with_rev['fold'] = None\n",
    "for fold, (train_index, test_index) in enumerate(group_kfold.split(article_dataset_with_rev.cluster, \n",
    "                                                                   article_dataset_with_rev.cluster, \n",
    "                                                                   article_dataset_with_rev.cluster)):\n",
    "    article_dataset_with_rev.loc[test_index, 'fold'] = fold"
   ]
  },
  {
   "cell_type": "code",
   "execution_count": 62,
   "id": "8f0ef7a3",
   "metadata": {},
   "outputs": [],
   "source": [
    "article_dataset_with_rev[['wt_seq', 'mut_seq', 'ddg', 'pdb_id', 'mut_info', 'pos', 'fold']].to_csv('DATASETS/new_ds_with_folds.csv')"
   ]
  },
  {
   "cell_type": "code",
   "execution_count": null,
   "id": "4b06037e",
   "metadata": {},
   "outputs": [],
   "source": []
  },
  {
   "cell_type": "markdown",
   "id": "56e80bea",
   "metadata": {},
   "source": [
    "# Case studies datasets"
   ]
  },
  {
   "cell_type": "code",
   "execution_count": 63,
   "id": "f14fc010",
   "metadata": {},
   "outputs": [],
   "source": [
    "dimer_clusters = {'cluster_162_ref_1AV1_A', 'cluster_4_ref_1BFM_A', 'cluster_161_ref_1ARR_A', 'cluster_34_ref_1R6R_A', 'cluster_139_ref_1SAK_A', 'cluster_222_ref_1ZNJ_B', 'cluster_223_ref_1ZNJ_A', 'cluster_210_ref_1UWO_A', 'cluster_69_ref_3MON_B', 'cluster_47_ref_2KJ3_A', 'cluster_183_ref_1CDC_B', 'cluster_140_ref_1SCE_A'}\n",
    "gem_clusters = {'cluster_2_ref_1A7V_A', 'cluster_189_ref_1CYC_A', 'cluster_217_ref_1YCC_A', 'cluster_92_ref_1I5T_A', 'cluster_257_ref_451C_A', 'cluster_168_ref_1B5M_A', 'cluster_190_ref_1CYO_A', 'cluster_179_ref_1C52_A', 'cluster_178_ref_1C2R_A', 'cluster_218_ref_1YEA_A', 'cluster_177_ref_1BVC_A'}\n",
    "transmembrane_clusters = {'cluster_145_ref_1THQ_A', 'cluster_200_ref_1FEP_A', 'cluster_230_ref_2BRD_A', 'cluster_129_ref_1QJP_A'}\n",
    "        "
   ]
  },
  {
   "cell_type": "code",
   "execution_count": 64,
   "id": "7be8fc2a",
   "metadata": {},
   "outputs": [],
   "source": [
    "article_dataset_full = article_dataset_with_rev[['wt_seq', 'mut_seq', 'ddg', 'pdb_id', 'mut_info', 'pos', 'cluster']]"
   ]
  },
  {
   "cell_type": "code",
   "execution_count": 65,
   "id": "bc8004ae",
   "metadata": {},
   "outputs": [],
   "source": [
    "article_dataset_full[~article_dataset_full.cluster.isin(dimer_clusters)].to_csv('DATASETS/case_study_dimer_train.csv')\n",
    "article_dataset_full[article_dataset_full.cluster.isin(dimer_clusters)].to_csv('DATASETS/case_study_dimer_test.csv')"
   ]
  },
  {
   "cell_type": "code",
   "execution_count": 66,
   "id": "bb72cdc7",
   "metadata": {},
   "outputs": [],
   "source": [
    "article_dataset_full[~article_dataset_full.cluster.isin(gem_clusters)].to_csv('DATASETS/case_study_gem_train.csv')\n",
    "article_dataset_full[article_dataset_full.cluster.isin(gem_clusters)].to_csv('DATASETS/case_study_gem_test.csv')"
   ]
  },
  {
   "cell_type": "code",
   "execution_count": 67,
   "id": "68b895e7",
   "metadata": {},
   "outputs": [],
   "source": [
    "article_dataset_full[~article_dataset_full.cluster.isin(transmembrane_clusters)].to_csv('DATASETS/case_study_transmembrane_train.csv')\n",
    "article_dataset_full[article_dataset_full.cluster.isin(transmembrane_clusters)].to_csv('DATASETS/case_study_transmembrane_test.csv')"
   ]
  },
  {
   "cell_type": "code",
   "execution_count": null,
   "id": "65de3f2f",
   "metadata": {},
   "outputs": [],
   "source": []
  },
  {
   "cell_type": "markdown",
   "id": "6215e35e",
   "metadata": {},
   "source": [
    "# Ssym less strict train set filtering"
   ]
  },
  {
   "cell_type": "code",
   "execution_count": 68,
   "id": "c4ee9d63",
   "metadata": {},
   "outputs": [],
   "source": [
    "df_ssym_plus = pd.concat([pd.read_csv('DATASETS/ssym_plus.csv'), pd.read_csv('DATASETS/ssym_plus_r.csv')])\n",
    "df_ssym_plus['exact'] = True"
   ]
  },
  {
   "cell_type": "code",
   "execution_count": 69,
   "id": "ec7e666c",
   "metadata": {},
   "outputs": [],
   "source": [
    "article_dataset_full = article_dataset_full.merge(df_ssym_plus[['wt_seq', 'mut_seq', 'mut_info', 'exact']], left_on = ['wt_seq', 'mut_seq', 'mut_info'], \n",
    "                           right_on = ['wt_seq', 'mut_seq', 'mut_info'], \n",
    "                           how = 'left')"
   ]
  },
  {
   "cell_type": "code",
   "execution_count": 70,
   "id": "6f189639",
   "metadata": {},
   "outputs": [],
   "source": [
    "article_dataset_full[article_dataset_full.exact.isna()][['wt_seq', 'mut_seq', 'ddg', 'pdb_id', 'mut_info', 'pos']].to_csv('DATASETS/new_ds_for_ssym_plus_less_strict.csv')"
   ]
  }
 ],
 "metadata": {
  "kernelspec": {
   "display_name": "Python 3 (ipykernel)",
   "language": "python",
   "name": "python3"
  },
  "language_info": {
   "codemirror_mode": {
    "name": "ipython",
    "version": 3
   },
   "file_extension": ".py",
   "mimetype": "text/x-python",
   "name": "python",
   "nbconvert_exporter": "python",
   "pygments_lexer": "ipython3",
   "version": "3.9.13"
  }
 },
 "nbformat": 4,
 "nbformat_minor": 5
}
